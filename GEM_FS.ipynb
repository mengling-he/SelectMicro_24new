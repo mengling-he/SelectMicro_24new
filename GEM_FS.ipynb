{
 "cells": [
  {
   "cell_type": "markdown",
   "metadata": {},
   "source": [
    "First, load the data,in this notebook we are using the GEM data from Ashley's github"
   ]
  },
  {
   "cell_type": "code",
   "execution_count": 1,
   "metadata": {
    "metadata": {}
   },
   "outputs": [],
   "source": [
    "import sys\n",
    "sys.path.append('./Code')\n",
    "import loadData \n",
    "import RunML\n",
    "import RunML_continue\n",
    "import FS\n",
    "\n",
    "import pandas as pd\n",
    "import numpy as np\n",
    "import random\n",
    "import time\n",
    "#from sklearn.ensemble import RandomForestClassifier\n",
    "#from sklearn.linear_model import LogisticRegression\n",
    "#from sklearn import svm\n"
   ]
  },
  {
   "cell_type": "code",
   "execution_count": 2,
   "metadata": {},
   "outputs": [],
   "source": [
    "import tarfile\n",
    "from io import StringIO\n",
    "import chardet"
   ]
  },
  {
   "cell_type": "code",
   "execution_count": null,
   "metadata": {},
   "outputs": [],
   "source": []
  },
  {
   "cell_type": "code",
   "execution_count": null,
   "metadata": {},
   "outputs": [],
   "source": []
  },
  {
   "cell_type": "markdown",
   "metadata": {},
   "source": [
    "### read the 3 files"
   ]
  },
  {
   "cell_type": "code",
   "execution_count": 3,
   "metadata": {},
   "outputs": [
    {
     "name": "stdout",
     "output_type": "stream",
     "text": [
      "annotation_features_counts_wide.tsv\n",
      "pathway_features_counts_wide.tsv\n",
      "GEM_metadata.tsv\n",
      "ReadMe.txt\n"
     ]
    }
   ],
   "source": [
    "# Path to the .tar.gz file\n",
    "GEM_path = './Data/GEM_files.tar.gz'\n",
    "\n",
    "# Open the tar.gz file\n",
    "with tarfile.open(GEM_path, 'r:gz') as tar:\n",
    "    # List all files in the tar archive\n",
    "    for member in tar.getmembers():\n",
    "        print(member.name)"
   ]
  },
  {
   "cell_type": "code",
   "execution_count": null,
   "metadata": {},
   "outputs": [],
   "source": []
  },
  {
   "cell_type": "code",
   "execution_count": 4,
   "metadata": {},
   "outputs": [],
   "source": [
    "metadata = pd.read_csv('../Bigdatafolder/GEM_files/GEM_metadata.tsv',delimiter='\\t')"
   ]
  },
  {
   "cell_type": "code",
   "execution_count": 5,
   "metadata": {},
   "outputs": [
    {
     "name": "stdout",
     "output_type": "stream",
     "text": [
      "            genome_id  genome_length  completeness    domain          phylum  \\\n",
      "0       3300007803_15        1278095         65.83  Bacteria    Firmicutes_C   \n",
      "1       3300007803_10        1557142         54.52  Bacteria    Bacteroidota   \n",
      "2        3300007803_5        1979162         94.54  Bacteria      Firmicutes   \n",
      "3        3300007803_3        2482248         89.71  Bacteria    Bacteroidota   \n",
      "4        3300026873_1        3255966         82.05  Bacteria  Proteobacteria   \n",
      "...               ...            ...           ...       ...             ...   \n",
      "52510    3300027714_8        2962332         97.46       NaN             NaN   \n",
      "52511   3300020373_65         769333         71.36       NaN             NaN   \n",
      "52512  3300009095_122        2049267         95.15       NaN             NaN   \n",
      "52513   3300025681_61         453020         65.42       NaN             NaN   \n",
      "52514   3300026256_22        1548234         62.13       NaN             NaN   \n",
      "\n",
      "                     class             order           family          genus  \\\n",
      "0            Negativicutes    Veillonellales  Veillonellaceae    Veillonella   \n",
      "1              Bacteroidia     Bacteroidales   Bacteroidaceae     Prevotella   \n",
      "2                  Bacilli  Staphylococcales      Gemellaceae        Gemella   \n",
      "3              Bacteroidia     Bacteroidales   Bacteroidaceae     Prevotella   \n",
      "4      Gammaproteobacteria   Pseudomonadales    Moraxellaceae  Acinetobacter   \n",
      "...                    ...               ...              ...            ...   \n",
      "52510                  NaN               NaN              NaN            NaN   \n",
      "52511                  NaN               NaN              NaN            NaN   \n",
      "52512                  NaN               NaN              NaN            NaN   \n",
      "52513                  NaN               NaN              NaN            NaN   \n",
      "52514                  NaN               NaN              NaN            NaN   \n",
      "\n",
      "                        species  taxonomic.dist culture.level cultured.status  \n",
      "0           Veillonella rogosae               0       species        cultured  \n",
      "1        Prevotella nanceiensis               0       species        cultured  \n",
      "2             Gemella sanguinis               0       species        cultured  \n",
      "3            Prevotella pallens               0       species        cultured  \n",
      "4      Acinetobacter guillouiae               0       species        cultured  \n",
      "...                         ...             ...           ...             ...  \n",
      "52510                       NaN               7          life      uncultured  \n",
      "52511                       NaN               7          life      uncultured  \n",
      "52512                       NaN               7          life      uncultured  \n",
      "52513                       NaN               7          life      uncultured  \n",
      "52514                       NaN               7          life      uncultured  \n",
      "\n",
      "[52515 rows x 13 columns]\n"
     ]
    }
   ],
   "source": [
    "print(metadata)"
   ]
  },
  {
   "cell_type": "code",
   "execution_count": 6,
   "metadata": {},
   "outputs": [
    {
     "data": {
      "text/plain": [
       "(52515, 13)"
      ]
     },
     "execution_count": 6,
     "metadata": {},
     "output_type": "execute_result"
    }
   ],
   "source": [
    "metadata.shape"
   ]
  },
  {
   "cell_type": "code",
   "execution_count": 7,
   "metadata": {},
   "outputs": [
    {
     "data": {
      "text/plain": [
       "cultured.status\n",
       "uncultured    10\n",
       "Name: count, dtype: int64"
      ]
     },
     "execution_count": 7,
     "metadata": {},
     "output_type": "execute_result"
    }
   ],
   "source": [
    "metadata[metadata['domain'].isna()]['cultured.status'].value_counts()"
   ]
  },
  {
   "cell_type": "code",
   "execution_count": 8,
   "metadata": {},
   "outputs": [
    {
     "data": {
      "text/plain": [
       "cultured.status\n",
       "uncultured    42700\n",
       "cultured       9805\n",
       "Name: count, dtype: int64"
      ]
     },
     "execution_count": 8,
     "metadata": {},
     "output_type": "execute_result"
    }
   ],
   "source": [
    "metadata[metadata['domain'].notna()]['cultured.status'].value_counts()"
   ]
  },
  {
   "cell_type": "code",
   "execution_count": 9,
   "metadata": {},
   "outputs": [],
   "source": [
    "pathwaydata = pd.read_csv('../Bigdatafolder/GEM_files/pathway_features_counts_wide.tsv',delimiter='\\t')"
   ]
  },
  {
   "cell_type": "code",
   "execution_count": 10,
   "metadata": {},
   "outputs": [
    {
     "data": {
      "text/plain": [
       "(52515, 71)"
      ]
     },
     "execution_count": 10,
     "metadata": {},
     "output_type": "execute_result"
    }
   ],
   "source": [
    "pathwaydata.shape"
   ]
  },
  {
   "cell_type": "code",
   "execution_count": 11,
   "metadata": {},
   "outputs": [
    {
     "name": "stdout",
     "output_type": "stream",
     "text": [
      "          genome_id  16S rRNA modification  23S rRNA modification  \\\n",
      "0      2004178001_1                      9                      6   \n",
      "1      2009439000_2                      4                      2   \n",
      "2      2010170002_1                     10                      3   \n",
      "3      2012990006_1                      5                      1   \n",
      "4      2013515001_1                      3                      1   \n",
      "...             ...                    ...                    ...   \n",
      "52510  3300029947_6                      8                      9   \n",
      "52511  3300029947_7                      9                     10   \n",
      "52512  3300029947_9                     10                      8   \n",
      "52513  3300029948_2                     12                      6   \n",
      "52514  3300029948_3                      8                      5   \n",
      "\n",
      "       Aminoacyl-tRNA synthetases  Arginine biosynthesis  \\\n",
      "0                              34                     46   \n",
      "1                              20                     10   \n",
      "2                              24                     11   \n",
      "3                              25                     15   \n",
      "4                              22                     14   \n",
      "...                           ...                    ...   \n",
      "52510                          18                     10   \n",
      "52511                          18                     11   \n",
      "52512                          19                      4   \n",
      "52513                          20                      5   \n",
      "52514                          22                      6   \n",
      "\n",
      "       Aromatic amino acid biosynthesis  Asparagine biosynthesis  \\\n",
      "0                                    13                        4   \n",
      "1                                    12                        0   \n",
      "2                                    19                        0   \n",
      "3                                    15                        1   \n",
      "4                                    18                        1   \n",
      "...                                 ...                      ...   \n",
      "52510                                15                        2   \n",
      "52511                                18                        2   \n",
      "52512                                 7                        0   \n",
      "52513                                16                        1   \n",
      "52514                                 9                        0   \n",
      "\n",
      "       Biotin biosynthesis  Cobalamine/B12 biosynthesis  CRISPR-Cas system  \\\n",
      "0                       27                           31                  6   \n",
      "1                        3                           15                  3   \n",
      "2                       16                           16                 10   \n",
      "3                        2                           21                  5   \n",
      "4                        3                           12                 16   \n",
      "...                    ...                          ...                ...   \n",
      "52510                    2                            2                  5   \n",
      "52511                    3                            4                  0   \n",
      "52512                    2                            2                  8   \n",
      "52513                    6                            4                  0   \n",
      "52514                    9                            3                  1   \n",
      "\n",
      "       ...  Ubiquinone biosynthesis  Unknown  Urea cycle  \\\n",
      "0      ...                       11     3905          22   \n",
      "1      ...                        2      556           2   \n",
      "2      ...                       18     1243           5   \n",
      "3      ...                        5      720           4   \n",
      "4      ...                        3      757           2   \n",
      "...    ...                      ...      ...         ...   \n",
      "52510  ...                        1      816           3   \n",
      "52511  ...                        1      918           5   \n",
      "52512  ...                        1      744           1   \n",
      "52513  ...                        8     1085           9   \n",
      "52514  ...                        2      882          10   \n",
      "\n",
      "       A/V-type ATP synthase  Archaeal ribosomal proteins  2Fe2S  3D  \\\n",
      "0                          0                            0      0   0   \n",
      "1                          2                           21      0   0   \n",
      "2                          0                            0      1   1   \n",
      "3                          6                           27      0   0   \n",
      "4                          7                           23      0   0   \n",
      "...                      ...                          ...    ...  ..   \n",
      "52510                      0                            0      0   0   \n",
      "52511                      0                            0      0   0   \n",
      "52512                      4                            0      0   0   \n",
      "52513                      0                            0      0   0   \n",
      "52514                      0                            0      0   0   \n",
      "\n",
      "       Entner-Doudoroff pathway  Na+-translocating NADH dehydrogenase  \\\n",
      "0                             0                                     0   \n",
      "1                             0                                     0   \n",
      "2                             1                                     0   \n",
      "3                             0                                     0   \n",
      "4                             0                                     0   \n",
      "...                         ...                                   ...   \n",
      "52510                         1                                     6   \n",
      "52511                         1                                     7   \n",
      "52512                         1                                     6   \n",
      "52513                         0                                     6   \n",
      "52514                         0                                     6   \n",
      "\n",
      "       Unannotated  \n",
      "0             4802  \n",
      "1              976  \n",
      "2              972  \n",
      "3              960  \n",
      "4              837  \n",
      "...            ...  \n",
      "52510          920  \n",
      "52511         1062  \n",
      "52512         1039  \n",
      "52513         1130  \n",
      "52514         1072  \n",
      "\n",
      "[52515 rows x 71 columns]\n"
     ]
    }
   ],
   "source": [
    "print(pathwaydata)"
   ]
  },
  {
   "cell_type": "code",
   "execution_count": null,
   "metadata": {},
   "outputs": [],
   "source": []
  },
  {
   "cell_type": "code",
   "execution_count": 12,
   "metadata": {},
   "outputs": [],
   "source": [
    "#annotationdata = pd.read_csv('../Bigdatafolder/GEM_files/annotation_features_counts_wide.tsv',delimiter='\\t')"
   ]
  },
  {
   "cell_type": "code",
   "execution_count": null,
   "metadata": {},
   "outputs": [],
   "source": []
  },
  {
   "cell_type": "code",
   "execution_count": 13,
   "metadata": {},
   "outputs": [
    {
     "data": {
      "text/plain": [
       "'\\n# Read the file in binary mode\\nwith open(\\'../Bigdatafolder/GEM_files/annotation_features_counts_wide.tsv\\', \\'rb\\') as file:\\n    raw_data = file.read()\\n    result = chardet.detect(raw_data)\\n    encoding = result[\\'encoding\\']\\n\\nprint(f\"Detected encoding: {encoding}\")\\n'"
      ]
     },
     "execution_count": 13,
     "metadata": {},
     "output_type": "execute_result"
    }
   ],
   "source": [
    "\"\"\"\n",
    "# Read the file in binary mode\n",
    "with open('../Bigdatafolder/GEM_files/annotation_features_counts_wide.tsv', 'rb') as file:\n",
    "    raw_data = file.read()\n",
    "    result = chardet.detect(raw_data)\n",
    "    encoding = result['encoding']\n",
    "\n",
    "print(f\"Detected encoding: {encoding}\")\n",
    "\"\"\""
   ]
  },
  {
   "cell_type": "code",
   "execution_count": 14,
   "metadata": {},
   "outputs": [
    {
     "name": "stdout",
     "output_type": "stream",
     "text": [
      "True\n"
     ]
    }
   ],
   "source": [
    "is_same = set(metadata['genome_id']) == set(pathwaydata['genome_id'])\n",
    "print(is_same)"
   ]
  },
  {
   "cell_type": "code",
   "execution_count": 15,
   "metadata": {},
   "outputs": [],
   "source": [
    "mergeds_df = pd.merge(metadata, pathwaydata, on='genome_id')\n",
    "mergeds_df.set_index('genome_id', inplace=True)"
   ]
  },
  {
   "cell_type": "code",
   "execution_count": 16,
   "metadata": {},
   "outputs": [],
   "source": [
    "mergeds_df.shape\n",
    "ASV = list(mergeds_df.columns)"
   ]
  },
  {
   "cell_type": "code",
   "execution_count": null,
   "metadata": {},
   "outputs": [],
   "source": []
  },
  {
   "cell_type": "code",
   "execution_count": null,
   "metadata": {},
   "outputs": [],
   "source": []
  },
  {
   "cell_type": "code",
   "execution_count": null,
   "metadata": {},
   "outputs": [],
   "source": []
  },
  {
   "cell_type": "code",
   "execution_count": 17,
   "metadata": {},
   "outputs": [],
   "source": [
    "label1 = metadata['cultured.status']"
   ]
  },
  {
   "cell_type": "code",
   "execution_count": 18,
   "metadata": {},
   "outputs": [
    {
     "data": {
      "text/plain": [
       "0          cultured\n",
       "1          cultured\n",
       "2          cultured\n",
       "3          cultured\n",
       "4          cultured\n",
       "            ...    \n",
       "52510    uncultured\n",
       "52511    uncultured\n",
       "52512    uncultured\n",
       "52513    uncultured\n",
       "52514    uncultured\n",
       "Name: cultured.status, Length: 52515, dtype: object"
      ]
     },
     "execution_count": 18,
     "metadata": {},
     "output_type": "execute_result"
    }
   ],
   "source": [
    "label1"
   ]
  },
  {
   "cell_type": "code",
   "execution_count": 19,
   "metadata": {},
   "outputs": [],
   "source": [
    "data = pathwaydata.copy()# use pathway as data since metadata is  not numeric"
   ]
  },
  {
   "cell_type": "code",
   "execution_count": 20,
   "metadata": {},
   "outputs": [],
   "source": [
    "data.set_index('genome_id', inplace=True)\n",
    "ASV= list(data.columns)"
   ]
  },
  {
   "cell_type": "code",
   "execution_count": 21,
   "metadata": {
    "metadata": {}
   },
   "outputs": [
    {
     "name": "stdout",
     "output_type": "stream",
     "text": [
      "(52515, 70)\n"
     ]
    }
   ],
   "source": [
    "data=RunML.normalizingMatrixToRanks(data,cutOff=0.01)\n",
    "print(np.shape(data))"
   ]
  },
  {
   "cell_type": "markdown",
   "metadata": {},
   "source": [
    "Perform multiLabel feature selection, this is done by calculating Kruskal-Wallis H-test on each OTU for each environmental factor, each OTU/ASV is given a weighted h score."
   ]
  },
  {
   "cell_type": "code",
   "execution_count": 22,
   "metadata": {
    "metadata": {}
   },
   "outputs": [],
   "source": [
    "yList=[list(label1)]"
   ]
  },
  {
   "cell_type": "code",
   "execution_count": 23,
   "metadata": {
    "metadata": {}
   },
   "outputs": [],
   "source": [
    "weights=FS.multiLabelFeatureWeighting(data,yList)"
   ]
  },
  {
   "cell_type": "code",
   "execution_count": 24,
   "metadata": {
    "metadata": {}
   },
   "outputs": [
    {
     "data": {
      "text/plain": [
       "70"
      ]
     },
     "execution_count": 24,
     "metadata": {},
     "output_type": "execute_result"
    }
   ],
   "source": [
    "len(weights)"
   ]
  },
  {
   "cell_type": "code",
   "execution_count": 25,
   "metadata": {
    "metadata": {},
    "scrolled": true
   },
   "outputs": [
    {
     "data": {
      "image/png": "[encoded data removed]",
      "text/plain": [
       "<Figure size 600x600 with 1 Axes>"
      ]
     },
     "metadata": {},
     "output_type": "display_data"
    },
    {
     "data": {
      "image/png": "[encoded data removed]",
      "text/plain": [
       "<Figure size 600x600 with 1 Axes>"
      ]
     },
     "metadata": {},
     "output_type": "display_data"
    },
    {
     "data": {
      "image/png": "[encoded data removed]",
      "text/plain": [
       "<Figure size 1920x1440 with 1 Axes>"
      ]
     },
     "metadata": {},
     "output_type": "display_data"
    }
   ],
   "source": [
    "scores=(sorted(weights,reverse=True))\n",
    "eps=FS.elbowPoint(scores)\n",
    "FS.plotWeightedIndex(weights,xKnee=eps)\n"
   ]
  },
  {
   "cell_type": "markdown",
   "metadata": {},
   "source": [
    "This plot shows that the gain in information decreases as we include more OTUs along the ranks. "
   ]
  },
  {
   "cell_type": "code",
   "execution_count": 26,
   "metadata": {
    "metadata": {}
   },
   "outputs": [
    {
     "name": "stdout",
     "output_type": "stream",
     "text": [
      "23\n",
      "(52515, 23)\n"
     ]
    }
   ],
   "source": [
    "topFeature_selected=eps\n",
    "print(eps)\n",
    "\n",
    "X_FS,selectedOTU_index=FS.feature_select(data,yList,topFeature=topFeature_selected)\n",
    "print (np.shape(X_FS))\n"
   ]
  },
  {
   "cell_type": "code",
   "execution_count": 27,
   "metadata": {},
   "outputs": [
    {
     "name": "stdout",
     "output_type": "stream",
     "text": [
      "70\n"
     ]
    }
   ],
   "source": [
    "print(len(weights))"
   ]
  },
  {
   "cell_type": "code",
   "execution_count": 28,
   "metadata": {},
   "outputs": [],
   "source": [
    "targetLabel=label1 \n",
    "X_lasso = RunML.LassoFeatureSelection(data,targetLabel)\n",
    "iter =5"
   ]
  },
  {
   "cell_type": "code",
   "execution_count": 29,
   "metadata": {},
   "outputs": [],
   "source": [
    "data_subset = {\"AllFeatures\":data, \n",
    "               \"SelectMicro\": X_FS,\n",
    "               \"Lasso\":X_lasso,\n",
    "               \"Random\":data\n",
    "              }\n",
    "cls = [\"RF\",\"SVM\"]"
   ]
  },
  {
   "cell_type": "code",
   "execution_count": null,
   "metadata": {},
   "outputs": [],
   "source": [
    "start_time = time.time()\n",
    "dict_cm = RunML_continue.runClassifier_FScompare(data_subsets= data_subset,y= targetLabel,N=iter,classifiers=cls)\n",
    "end_time = time.time()\n",
    "print(f\"It took {end_time - start_time:.2f} seconds\")"
   ]
  },
  {
   "cell_type": "code",
   "execution_count": null,
   "metadata": {},
   "outputs": [],
   "source": [
    "import pickle\n",
    "\n",
    "# Save dictionary to a pickle file\n",
    "with open('results/dict_cm_GEM.pkl', 'wb') as pickle_file:\n",
    "    pickle.dump(dict_cm, pickle_file)"
   ]
  },
  {
   "cell_type": "code",
   "execution_count": null,
   "metadata": {},
   "outputs": [],
   "source": [
    "import pickle\n",
    "# Load dictionary from the pickle file\n",
    "with open('results/dict_cm_GEM.pkl.pkl', 'rb') as pickle_file:\n",
    "    data_loaded = pickle.load(pickle_file)"
   ]
  },
  {
   "cell_type": "code",
   "execution_count": null,
   "metadata": {},
   "outputs": [],
   "source": [
    "for dataset_name, classifiers in data_loaded.items():\n",
    "        for classifier_name, labels in classifiers.items():\n",
    "            actual_labels = labels[0]\n",
    "            predicted_labels = labels[1]\n",
    "            RunML_continue.plotmacro_confusion_matrices(actual_labels, predicted_labels,f\"{dataset_name} - {classifier_name}\")"
   ]
  },
  {
   "cell_type": "code",
   "execution_count": null,
   "metadata": {},
   "outputs": [],
   "source": []
  },
  {
   "cell_type": "code",
   "execution_count": null,
   "metadata": {},
   "outputs": [],
   "source": []
  },
  {
   "cell_type": "code",
   "execution_count": null,
   "metadata": {},
   "outputs": [],
   "source": []
  },
  {
   "cell_type": "markdown",
   "metadata": {},
   "source": [
    "### on urban and Natural factor"
   ]
  },
  {
   "cell_type": "code",
   "execution_count": null,
   "metadata": {
    "metadata": {}
   },
   "outputs": [],
   "source": [
    "clf=RandomForestClassifier(random_state=0)\n",
    "targetLabel=label1                             "
   ]
  },
  {
   "cell_type": "code",
   "execution_count": null,
   "metadata": {},
   "outputs": [],
   "source": [
    "# plot for random forest for all features and SelectMicro\n",
    "RunML.CrossFoldValidation_AUC(data,targetLabel,title=\"AUC (No Feature Selection)\",classifier=clf)\n",
    "RunML.CrossFoldValidation_AUC(X_FS,targetLabel,title=f'AUC (Top {eps} Features)',classifier=clf)\n",
    "  "
   ]
  },
  {
   "cell_type": "code",
   "execution_count": null,
   "metadata": {},
   "outputs": [],
   "source": []
  },
  {
   "cell_type": "code",
   "execution_count": null,
   "metadata": {},
   "outputs": [],
   "source": []
  },
  {
   "cell_type": "code",
   "execution_count": null,
   "metadata": {},
   "outputs": [],
   "source": [
    "## plot for SVM for all features and SelectMicro\n",
    "RunML.CrossFoldValidation_AUC(data,targetLabel,title=\"AUC (No Feature Selection)\")\n",
    "RunML.CrossFoldValidation_AUC(X_FS,targetLabel,title=f'AUC (Top {eps} Features)')"
   ]
  },
  {
   "cell_type": "code",
   "execution_count": null,
   "metadata": {
    "metadata": {}
   },
   "outputs": [],
   "source": [
    "randomFeatures=random.sample(list(range(np.shape(data)[1])), topFeature_selected)\n",
    "X_randomFeatures=np.array(data)[:,randomFeatures]\n",
    "RunML.CrossFoldValidation_AUC(X_randomFeatures,targetLabel,title=\"AUC (318 Random Features)\",classifier=clf)\n",
    "RunML.CrossFoldValidation_AUC(X_randomFeatures,targetLabel,title=\"AUC (318 Random Features)\")"
   ]
  },
  {
   "cell_type": "code",
   "execution_count": null,
   "metadata": {},
   "outputs": [],
   "source": []
  },
  {
   "cell_type": "code",
   "execution_count": null,
   "metadata": {
    "metadata": {}
   },
   "outputs": [],
   "source": [
    "# random forest and SVM result for lasso selection: \n",
    "#for now, only the random forest AUC value is same with the value in table 1 which I calculated  using functions.\n",
    "X_Lasso=RunML.LassoFeatureSelection(data,targetLabel)\n",
    "RunML.CrossFoldValidation_AUC(X_Lasso,targetLabel,title=\"AUC (LASSO)\",classifier=clf)"
   ]
  },
  {
   "cell_type": "code",
   "execution_count": null,
   "metadata": {},
   "outputs": [],
   "source": [
    "RunML.CrossFoldValidation_AUC(X_Lasso,targetLabel,title=\"AUC (LASSO)\")"
   ]
  },
  {
   "cell_type": "code",
   "execution_count": null,
   "metadata": {},
   "outputs": [],
   "source": []
  },
  {
   "cell_type": "code",
   "execution_count": null,
   "metadata": {},
   "outputs": [],
   "source": []
  },
  {
   "cell_type": "code",
   "execution_count": null,
   "metadata": {},
   "outputs": [],
   "source": []
  },
  {
   "cell_type": "code",
   "execution_count": null,
   "metadata": {},
   "outputs": [],
   "source": []
  },
  {
   "cell_type": "code",
   "execution_count": null,
   "metadata": {},
   "outputs": [],
   "source": []
  },
  {
   "cell_type": "code",
   "execution_count": null,
   "metadata": {},
   "outputs": [],
   "source": []
  },
  {
   "cell_type": "code",
   "execution_count": null,
   "metadata": {},
   "outputs": [],
   "source": []
  },
  {
   "cell_type": "markdown",
   "metadata": {},
   "source": [
    "## Confusion matrix using RF"
   ]
  },
  {
   "cell_type": "code",
   "execution_count": null,
   "metadata": {},
   "outputs": [],
   "source": [
    "clf=RandomForestClassifier(random_state=0)"
   ]
  },
  {
   "cell_type": "code",
   "execution_count": null,
   "metadata": {
    "metadata": {}
   },
   "outputs": [],
   "source": [
    "cat=[\"Low\",\"High\"] \n",
    "RunML.classificationHeatMap(data,targetLabel,cat,classifier=clf,title=\"\")\n",
    "RunML.classificationHeatMap(X_FS,targetLabel,cat,classifier=clf,title=\"\")"
   ]
  },
  {
   "cell_type": "markdown",
   "metadata": {},
   "source": [
    "## compare the first 15 index"
   ]
  },
  {
   "cell_type": "code",
   "execution_count": null,
   "metadata": {},
   "outputs": [],
   "source": []
  },
  {
   "cell_type": "code",
   "execution_count": null,
   "metadata": {},
   "outputs": [],
   "source": []
  },
  {
   "cell_type": "code",
   "execution_count": null,
   "metadata": {},
   "outputs": [],
   "source": []
  },
  {
   "cell_type": "code",
   "execution_count": null,
   "metadata": {
    "metadata": {}
   },
   "outputs": [],
   "source": [
    "\n",
    "import seaborn as sns\n",
    "import numpy as np\n",
    "import matplotlib.pyplot as plt\n",
    "import matplotlib as mpl\n",
    "\n",
    "entries=15\n",
    "selectedOTU_index_15=selectedOTU_index[:entries]\n",
    "X_FS_15=data[:,selectedOTU_index_15]\n",
    "\n",
    "df=pd.DataFrame(data=X_FS_15)\n",
    "selectedASVs=[ASV[i] for i in selectedOTU_index_15]\n",
    "\n",
    "print(set(targetLabel))\n"
   ]
  },
  {
   "cell_type": "code",
   "execution_count": null,
   "metadata": {},
   "outputs": [],
   "source": [
    "RunML.plotPresenseRatio(X_FS_15,targetLabel,selectedASVs,posLabel=\"LO30\",posText=\"Low\",negText=\"High\",entries=entries)\n"
   ]
  }
 ],
 "metadata": {
  "kernelspec": {
   "display_name": "Python 3 (ipykernel)",
   "language": "python",
   "name": "python3"
  },
  "language_info": {
   "codemirror_mode": {
    "name": "ipython",
    "version": 3
   },
   "file_extension": ".py",
   "mimetype": "text/x-python",
   "name": "python",
   "nbconvert_exporter": "python",
   "pygments_lexer": "ipython3",
   "version": "3.12.7"
  }
 },
 "nbformat": 4,
 "nbformat_minor": 4
}
