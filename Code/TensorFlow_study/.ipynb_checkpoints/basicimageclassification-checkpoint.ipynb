{
 "cells": [
  {
   "cell_type": "code",
   "execution_count": 4,
   "id": "32e9ae7d-faa1-4b56-8be5-ef93a7950b24",
   "metadata": {},
   "outputs": [
    {
     "ename": "ModuleNotFoundError",
     "evalue": "No module named 'tf_fun'",
     "output_type": "error",
     "traceback": [
      "\u001b[0;31m---------------------------------------------------------------------------\u001b[0m",
      "\u001b[0;31mModuleNotFoundError\u001b[0m                       Traceback (most recent call last)",
      "Cell \u001b[0;32mIn[4], line 11\u001b[0m\n\u001b[1;32m      9\u001b[0m \u001b[38;5;28;01mimport\u001b[39;00m \u001b[38;5;21;01msys\u001b[39;00m\n\u001b[1;32m     10\u001b[0m sys\u001b[38;5;241m.\u001b[39mpath\u001b[38;5;241m.\u001b[39mappend(\u001b[38;5;124m'\u001b[39m\u001b[38;5;124m./\u001b[39m\u001b[38;5;124m'\u001b[39m)\n\u001b[0;32m---> 11\u001b[0m \u001b[38;5;28;01mimport\u001b[39;00m \u001b[38;5;21;01mtf_fun\u001b[39;00m\n\u001b[1;32m     13\u001b[0m \u001b[38;5;28mprint\u001b[39m(tf\u001b[38;5;241m.\u001b[39m__version__)\n",
      "\u001b[0;31mModuleNotFoundError\u001b[0m: No module named 'tf_fun'"
     ]
    }
   ],
   "source": [
    "# TensorFlow and tf.keras\n",
    "import tensorflow as tf\n",
    "\n",
    "# Helper libraries\n",
    "import numpy as np\n",
    "import matplotlib.pyplot as plt\n",
    "\n",
    "# import\n",
    "import sys\n",
    "sys.path.append('./')\n",
    "import tf_fun\n",
    "\n",
    "print(tf.__version__)"
   ]
  },
  {
   "cell_type": "markdown",
   "id": "9f8153fd-34c2-4c16-976a-280bf480642f",
   "metadata": {},
   "source": [
    "Here, 60,000 images are used in Fashion MNIST to train the network and 10,000 images to evaluate how accurately the network learned to classify images."
   ]
  },
  {
   "cell_type": "code",
   "execution_count": null,
   "id": "9939f438-1e7b-40af-8fb4-941e6d98414c",
   "metadata": {},
   "outputs": [],
   "source": [
    "fashion_mnist = tf.keras.datasets.fashion_mnist\n",
    "\n",
    "(train_images, train_labels), (test_images, test_labels) = fashion_mnist.load_data()"
   ]
  },
  {
   "cell_type": "code",
   "execution_count": null,
   "id": "7e544cbf-6c6c-48e4-b111-466d9f72f828",
   "metadata": {},
   "outputs": [],
   "source": [
    "print(len(train_images),len(test_images))\n",
    "train_images[0].shape"
   ]
  },
  {
   "cell_type": "code",
   "execution_count": null,
   "id": "3bf44fb0-a678-4ce7-af7e-82d0a56ff684",
   "metadata": {},
   "outputs": [],
   "source": [
    "class_names = ['T-shirt/top', 'Trouser', 'Pullover', 'Dress', 'Coat',\n",
    "               'Sandal', 'Shirt', 'Sneaker', 'Bag', 'Ankle boot']"
   ]
  },
  {
   "cell_type": "code",
   "execution_count": null,
   "id": "eba19f10-a47e-40f5-ac59-271019af8844",
   "metadata": {},
   "outputs": [],
   "source": [
    "set(train_labels)"
   ]
  },
  {
   "cell_type": "code",
   "execution_count": null,
   "id": "fa4727cb-0d51-4b28-8392-e966f82cd9fa",
   "metadata": {},
   "outputs": [],
   "source": [
    "train_images.shape"
   ]
  },
  {
   "cell_type": "markdown",
   "id": "f23debe5-dc85-4b36-8948-427c65ef1b6d",
   "metadata": {},
   "source": [
    "### Preprocess the data"
   ]
  },
  {
   "cell_type": "code",
   "execution_count": null,
   "id": "01ba0181-266d-4877-871d-4dde4566c8c0",
   "metadata": {},
   "outputs": [],
   "source": [
    "plt.figure()\n",
    "plt.imshow(train_images[0])\n",
    "plt.colorbar()\n",
    "plt.grid(False)\n",
    "plt.show()"
   ]
  },
  {
   "cell_type": "code",
   "execution_count": null,
   "id": "31125f47-4323-4271-bd03-8848baf825b2",
   "metadata": {},
   "outputs": [],
   "source": [
    "train_images = train_images / 255.0\n",
    "\n",
    "test_images = test_images / 255.0"
   ]
  },
  {
   "cell_type": "code",
   "execution_count": null,
   "id": "aa9c2932-fb1b-4948-b9de-c804720b9bfe",
   "metadata": {},
   "outputs": [],
   "source": [
    "plt.figure(figsize=(10,10))\n",
    "for i in range(25):\n",
    "    plt.subplot(5,5,i+1)\n",
    "    plt.xticks([])\n",
    "    plt.yticks([])\n",
    "    plt.grid(False)\n",
    "    plt.imshow(train_images[i])\n",
    "    plt.xlabel(class_names[train_labels[i]])\n",
    "plt.show()"
   ]
  },
  {
   "cell_type": "code",
   "execution_count": null,
   "id": "a4473833-259c-4e33-98f6-5c036e7ae804",
   "metadata": {},
   "outputs": [],
   "source": [
    "plt.figure(figsize=(10,10))\n",
    "for i in range(25):\n",
    "    plt.subplot(5,5,i+1)\n",
    "    plt.xticks([])\n",
    "    plt.yticks([])\n",
    "    plt.grid(False)\n",
    "    plt.imshow(train_images[i], cmap=plt.cm.binary)\n",
    "    plt.xlabel(class_names[train_labels[i]])\n",
    "plt.show()"
   ]
  },
  {
   "cell_type": "code",
   "execution_count": null,
   "id": "8c467d4b-1d7a-42df-9acf-abfc7ba8b693",
   "metadata": {},
   "outputs": [],
   "source": []
  },
  {
   "cell_type": "markdown",
   "id": "bfeb679a-830a-4cf3-8235-eaeaede8ac4c",
   "metadata": {},
   "source": [
    "### Build the model\n",
    "\n",
    "\n",
    "#### Set up the layers\n",
    "\n",
    "The basic building block of a neural network is the layer. Layers extract representations from the data fed into them. Hopefully, these representations are meaningful for the problem at hand.\n",
    "\n",
    "Most of deep learning consists of chaining together simple layers. Most layers, such as tf.keras.layers.Dense, have parameters that are learned during training.\n",
    "\n",
    "The first layer in this network, ```tf.keras.layers.Flatten```, transforms the format of the images from a two-dimensional array (of 28 by 28 pixels) to a one-dimensional array (of 28 * 28 = 784 pixels).\n",
    "\n",
    "After the pixels are flattened, the network consists of a sequence of two ```tf.keras.layers.Dense``` layers. These are densely connected, or fully connected, neural layers. The first Dense layer has 128 nodes (or neurons). The second (and last) layer returns a logits array with length of 10. Each node contains a score that indicates the current image belongs to one of the 10 classes.\n",
    "\n",
    "\n",
    "#### Compile the model\n",
    "\n",
    "Before the model is ready for training, it needs a few more settings. These are added during the model's compile step:\n",
    "\n",
    "Optimizer —This is how the model is updated based on the data it sees and its loss function.\n",
    "Loss function —This measures how accurate the model is during training. You want to minimize this function to \"steer\" the model in the right direction.\n",
    "Metrics —Used to monitor the training and testing steps. The following example uses accuracy, the fraction of the images that are correctly classified."
   ]
  },
  {
   "cell_type": "code",
   "execution_count": null,
   "id": "2d4708fa-8c6e-4f29-911d-f6e4c169e0e0",
   "metadata": {},
   "outputs": [],
   "source": [
    "### Set up the layers\n",
    "model = tf.keras.Sequential([\n",
    "    tf.keras.layers.Flatten(input_shape=(28, 28)),\n",
    "    tf.keras.layers.Dense(128, activation='relu'),\n",
    "    tf.keras.layers.Dense(10)\n",
    "])"
   ]
  },
  {
   "cell_type": "code",
   "execution_count": null,
   "id": "f1d21426-fcf0-4b6e-969e-88db4a474034",
   "metadata": {},
   "outputs": [],
   "source": [
    "### Compile the model\n",
    "model.compile(optimizer='adam',\n",
    "              loss=tf.keras.losses.SparseCategoricalCrossentropy(from_logits=True),\n",
    "              metrics=['accuracy'])"
   ]
  },
  {
   "cell_type": "markdown",
   "id": "ac2d4391-6fd7-4309-9d1f-e6a3311cad87",
   "metadata": {},
   "source": [
    "### Train the model\n",
    "\n",
    "#### Feed the model\n",
    "To start training, call the ```model.fit``` method—so called because it \"fits\" the model to the training data:\n",
    "\n",
    "#### Evaluate accuracy\n",
    "test dataset\n",
    "\n",
    "\n",
    "#### Make predictions\n",
    "\n",
    "\n",
    "#### Verify predictions"
   ]
  },
  {
   "cell_type": "code",
   "execution_count": null,
   "id": "e1ab0f7f-6883-4301-af9b-922a8b3c361b",
   "metadata": {},
   "outputs": [],
   "source": [
    "### Train the model\n",
    "\n",
    "#### Feed the model\n",
    "model.fit(train_images, train_labels, epochs=10)"
   ]
  },
  {
   "cell_type": "code",
   "execution_count": null,
   "id": "dc869fe7-5f2b-4588-a22e-7588b73174c4",
   "metadata": {},
   "outputs": [],
   "source": [
    "#### Evaluate accuracy\n",
    "test_loss, test_acc = model.evaluate(test_images,  test_labels, verbose=2)\n",
    "\n",
    "print('\\nTest accuracy:', test_acc)"
   ]
  },
  {
   "cell_type": "code",
   "execution_count": null,
   "id": "70a621be-6339-4010-8a7b-c09f369a240d",
   "metadata": {},
   "outputs": [],
   "source": [
    "#### Make predictions\n",
    "predictions = model.predict(test_images)"
   ]
  },
  {
   "cell_type": "code",
   "execution_count": null,
   "id": "01f95a67-2ca1-429c-9f0a-3a6013175eb4",
   "metadata": {},
   "outputs": [],
   "source": [
    "print(predictions.shape)\n",
    "print(predictions[0])# Each node contains a score that indicates the current image belongs to one of the 10 classes.\n"
   ]
  },
  {
   "cell_type": "code",
   "execution_count": null,
   "id": "bdf3c060-d81c-4ae8-bace-cf9fd3305efe",
   "metadata": {},
   "outputs": [],
   "source": [
    "probability_model = tf.keras.Sequential([model, \n",
    "                                         tf.keras.layers.Softmax()])\n",
    "#The softmax function is commonly used in the output layer of a classification model \n",
    "#to normalize raw model predictions (logits) into probabilities."
   ]
  },
  {
   "cell_type": "code",
   "execution_count": null,
   "id": "4bc7bcaa-be4a-469a-9adf-f8b73eac2862",
   "metadata": {},
   "outputs": [],
   "source": [
    "predictions = probability_model.predict(test_images)"
   ]
  },
  {
   "cell_type": "code",
   "execution_count": null,
   "id": "86cbaadf-4854-4883-9953-4a80c7fef55c",
   "metadata": {},
   "outputs": [],
   "source": [
    "predictions[0]"
   ]
  },
  {
   "cell_type": "code",
   "execution_count": null,
   "id": "87947516-9aef-4e23-836e-bfded4c21073",
   "metadata": {},
   "outputs": [],
   "source": [
    "print(np.argmax(predictions[0]))\n",
    "print(test_labels[0])"
   ]
  },
  {
   "cell_type": "code",
   "execution_count": null,
   "id": "673cf878-cabb-44f8-a8df-753a171b501c",
   "metadata": {},
   "outputs": [],
   "source": [
    "#### verify predictions"
   ]
  },
  {
   "cell_type": "code",
   "execution_count": null,
   "id": "a1da5731-cf26-4691-bdc9-0fe2568e774b",
   "metadata": {},
   "outputs": [],
   "source": [
    "i = 0\n",
    "plt.figure(figsize=(6,3))\n",
    "plt.subplot(1,2,1)\n",
    "tf_fun.plot_image(i, predictions[i], test_labels, test_images)\n",
    "plt.subplot(1,2,2)\n",
    "tf_fun.plot_value_array(i, predictions[i],  test_labels)\n",
    "plt.show()"
   ]
  },
  {
   "cell_type": "code",
   "execution_count": null,
   "id": "e3c2d409-daab-4e5f-8229-6d3000d5efd3",
   "metadata": {},
   "outputs": [],
   "source": []
  },
  {
   "cell_type": "code",
   "execution_count": null,
   "id": "16a3a2b6-20d5-4e57-84c2-d84750aec4d8",
   "metadata": {},
   "outputs": [],
   "source": []
  },
  {
   "cell_type": "code",
   "execution_count": null,
   "id": "a9bd20d9-faef-41dd-a851-119d7b6fef4b",
   "metadata": {},
   "outputs": [],
   "source": []
  }
 ],
 "metadata": {
  "kernelspec": {
   "display_name": "Python 3 (ipykernel)",
   "language": "python",
   "name": "python3"
  },
  "language_info": {
   "codemirror_mode": {
    "name": "ipython",
    "version": 3
   },
   "file_extension": ".py",
   "mimetype": "text/x-python",
   "name": "python",
   "nbconvert_exporter": "python",
   "pygments_lexer": "ipython3",
   "version": "3.9.10"
  }
 },
 "nbformat": 4,
 "nbformat_minor": 5
}
