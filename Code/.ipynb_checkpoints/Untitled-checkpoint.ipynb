{
 "cells": [
  {
   "cell_type": "code",
   "execution_count": 1,
   "id": "edf7a56b-da63-43df-a966-f5542e65947b",
   "metadata": {},
   "outputs": [],
   "source": [
    "import numpy as np\n",
    "import pandas as pd\n",
    "from sklearn.ensemble import RandomForestClassifier\n",
    "from sklearn.svm import SVC\n",
    "from sklearn.model_selection import StratifiedKFold\n",
    "from sklearn.metrics import accuracy_score, roc_auc_score\n"
   ]
  },
  {
   "cell_type": "code",
   "execution_count": 2,
   "id": "dcc154fe-7010-4cc0-892e-1dc5f3550071",
   "metadata": {},
   "outputs": [],
   "source": [
    "\n",
    "def evaluate_classifiers(datasets, classifiers):\n",
    "    results = {}\n",
    "\n",
    "    for dataset_name, (X, y) in datasets.items():\n",
    "        results[dataset_name] = {}\n",
    "        for classifier_name, clf in classifiers.items():\n",
    "            print(f\"Evaluating {classifier_name} on {dataset_name}...\")\n",
    "\n",
    "            kf = StratifiedKFold(n_splits=5, shuffle=True, random_state=42)\n",
    "\n",
    "            accuracies = []\n",
    "            roc_aucs = []\n",
    "\n",
    "            for train_index, test_index in kf.split(X, y):\n",
    "                X_train, X_test = X[train_index], X[test_index]\n",
    "                y_train, y_test = y[train_index], y[test_index]\n",
    "\n",
    "                clf.fit(X_train, y_train)\n",
    "                y_pred = clf.predict(X_test)\n",
    "                y_prob = clf.predict_proba(X_test)[:, 1]\n",
    "\n",
    "                accuracy = accuracy_score(y_test, y_pred)\n",
    "                roc_auc = roc_auc_score(y_test, y_prob)\n",
    "\n",
    "                accuracies.append(accuracy)\n",
    "                roc_aucs.append(roc_auc)\n",
    "\n",
    "            mean_accuracy = np.mean(accuracies)\n",
    "            mean_roc_auc = np.mean(roc_aucs)\n",
    "\n",
    "            results[dataset_name][f\"{classifier_name}_Accuracy\"] = mean_accuracy\n",
    "            results[dataset_name][f\"{classifier_name}_AUC\"] = mean_roc_auc\n",
    "\n",
    "    results_df = pd.DataFrame(results).T\n",
    "    return results_df\n"
   ]
  },
  {
   "cell_type": "code",
   "execution_count": 3,
   "id": "7b016fa9-79ce-46a0-be4d-4a0238457600",
   "metadata": {},
   "outputs": [],
   "source": [
    "\n",
    "# Example datasets\n",
    "datasets = {\n",
    "    \"Dataset1\": (\n",
    "        np.array([[1, 2], [2, 3], [3, 4], [4, 5], [5, 6], [6, 7], [7, 8], [8, 9], [9, 10], [10, 11]]),\n",
    "        np.array([0, 1, 0, 1, 0, 1, 0, 1, 0, 1])\n",
    "    ),\n",
    "    \"Dataset2\": (\n",
    "        np.array([[2, 3], [3, 4], [4, 5], [5, 6], [6, 7], [7, 8], [8, 9], [9, 10], [10, 11], [11, 12]]),\n",
    "        np.array([1, 0, 1, 0, 1, 0, 1, 0, 1, 0])\n",
    "    )\n",
    "}\n",
    "\n"
   ]
  },
  {
   "cell_type": "code",
   "execution_count": 4,
   "id": "49159a87-dd49-4918-9e8d-d478dc931fb3",
   "metadata": {},
   "outputs": [
    {
     "name": "stdout",
     "output_type": "stream",
     "text": [
      "Evaluating RF on Dataset1...\n",
      "Evaluating SVM on Dataset1...\n",
      "Evaluating RF on Dataset2...\n",
      "Evaluating SVM on Dataset2...\n",
      "          RF_Accuracy  RF_AUC  SVM_Accuracy  SVM_AUC\n",
      "Dataset1          0.0     0.0           0.4      0.4\n",
      "Dataset2          0.0     0.0           0.4      0.4\n"
     ]
    }
   ],
   "source": [
    "# Classifiers to evaluate\n",
    "classifiers = {\n",
    "    \"RF\": RandomForestClassifier(random_state=42),\n",
    "    \"SVM\": SVC(kernel='linear', probability=True, random_state=42)\n",
    "}\n",
    "\n",
    "# Run the evaluation\n",
    "results_df = evaluate_classifiers(datasets, classifiers)\n",
    "\n",
    "# Print the results\n",
    "print(results_df)"
   ]
  },
  {
   "cell_type": "code",
   "execution_count": null,
   "id": "f2fb5b3c-444b-4bcb-8133-c8730bee3c65",
   "metadata": {},
   "outputs": [],
   "source": [
    "for dataset_name, (X, y) in datasets.items():\n",
    "    print(dataset_name)"
   ]
  }
 ],
 "metadata": {
  "kernelspec": {
   "display_name": "Python 3 (ipykernel)",
   "language": "python",
   "name": "python3"
  },
  "language_info": {
   "codemirror_mode": {
    "name": "ipython",
    "version": 3
   },
   "file_extension": ".py",
   "mimetype": "text/x-python",
   "name": "python",
   "nbconvert_exporter": "python",
   "pygments_lexer": "ipython3",
   "version": "3.9.10"
  }
 },
 "nbformat": 4,
 "nbformat_minor": 5
}
