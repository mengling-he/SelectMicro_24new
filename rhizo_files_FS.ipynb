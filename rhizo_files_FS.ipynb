{
 "cells": [
  {
   "cell_type": "markdown",
   "metadata": {},
   "source": [
    "First, load the data,in this notebook we are using the rhizo data from Ashley's github"
   ]
  },
  {
   "cell_type": "code",
   "execution_count": 1,
   "metadata": {
    "metadata": {}
   },
   "outputs": [],
   "source": [
    "import sys\n",
    "sys.path.append('./Code')\n",
    "import loadData \n",
    "import RunML\n",
    "import RunML_continue\n",
    "import FS\n",
    "\n",
    "import pandas as pd\n",
    "import numpy as np\n",
    "import random"
   ]
  },
  {
   "cell_type": "code",
   "execution_count": null,
   "metadata": {},
   "outputs": [],
   "source": []
  },
  {
   "cell_type": "code",
   "execution_count": null,
   "metadata": {},
   "outputs": [],
   "source": []
  },
  {
   "cell_type": "code",
   "execution_count": null,
   "metadata": {},
   "outputs": [],
   "source": []
  },
  {
   "cell_type": "markdown",
   "metadata": {},
   "source": [
    "### read the 3 files"
   ]
  },
  {
   "cell_type": "code",
   "execution_count": 2,
   "metadata": {},
   "outputs": [],
   "source": [
    "metadata = pd.read_csv('../Bigdatafolder/rhizo_files/ITS_rhizosphere_metadata.csv')"
   ]
  },
  {
   "cell_type": "code",
   "execution_count": 3,
   "metadata": {},
   "outputs": [
    {
     "name": "stdout",
     "output_type": "stream",
     "text": [
      "        Unnamed: 0      habitat irrigation drought_tolerance marker_gene\n",
      "0      1016-1-14-3  rhizosphere       full              HI30         ITS\n",
      "1     1016-2-16-75  rhizosphere       full              HI30         ITS\n",
      "2      1016-3-6-42  rhizosphere    reduced              HI30         ITS\n",
      "3     1016-4-21-30  rhizosphere    reduced              HI30         ITS\n",
      "4     1024-1-12-41  rhizosphere       full              LO30         ITS\n",
      "..             ...          ...        ...               ...         ...\n",
      "57  GW9953-4-27-30  rhizosphere    reduced              LO30         ITS\n",
      "58    GW9964-1-4-3  rhizosphere       full              LO30         ITS\n",
      "59   GW9964-2-6-50  rhizosphere       full              LO30         ITS\n",
      "60  GW9964-3-10-16  rhizosphere    reduced              LO30         ITS\n",
      "61  GW9964-4-25-10  rhizosphere    reduced              LO30         ITS\n",
      "\n",
      "[62 rows x 5 columns]\n"
     ]
    }
   ],
   "source": [
    "print(metadata)"
   ]
  },
  {
   "cell_type": "code",
   "execution_count": 4,
   "metadata": {},
   "outputs": [
    {
     "data": {
      "text/plain": [
       "(62, 5)"
      ]
     },
     "execution_count": 4,
     "metadata": {},
     "output_type": "execute_result"
    }
   ],
   "source": [
    "metadata.shape"
   ]
  },
  {
   "cell_type": "code",
   "execution_count": 5,
   "metadata": {},
   "outputs": [
    {
     "data": {
      "text/plain": [
       "drought_tolerance\n",
       "LO30    32\n",
       "HI30    30\n",
       "Name: count, dtype: int64"
      ]
     },
     "execution_count": 5,
     "metadata": {},
     "output_type": "execute_result"
    }
   ],
   "source": [
    "metadata['drought_tolerance'].value_counts()"
   ]
  },
  {
   "cell_type": "code",
   "execution_count": 6,
   "metadata": {},
   "outputs": [
    {
     "data": {
      "text/plain": [
       "marker_gene\n",
       "ITS    62\n",
       "Name: count, dtype: int64"
      ]
     },
     "execution_count": 6,
     "metadata": {},
     "output_type": "execute_result"
    }
   ],
   "source": [
    "metadata['marker_gene'].value_counts()"
   ]
  },
  {
   "cell_type": "code",
   "execution_count": 7,
   "metadata": {},
   "outputs": [],
   "source": [
    "label1 = metadata['drought_tolerance']"
   ]
  },
  {
   "cell_type": "code",
   "execution_count": 8,
   "metadata": {},
   "outputs": [],
   "source": [
    "#label2 = metadata['marker_gene']"
   ]
  },
  {
   "cell_type": "code",
   "execution_count": null,
   "metadata": {},
   "outputs": [],
   "source": []
  },
  {
   "cell_type": "code",
   "execution_count": null,
   "metadata": {},
   "outputs": [],
   "source": []
  },
  {
   "cell_type": "code",
   "execution_count": null,
   "metadata": {},
   "outputs": [],
   "source": []
  },
  {
   "cell_type": "code",
   "execution_count": 9,
   "metadata": {},
   "outputs": [],
   "source": [
    "rhizosphere_otu0 = pd.read_csv('../Bigdatafolder/rhizo_files/ITS_rhizosphere_otu.csv',index_col=0)"
   ]
  },
  {
   "cell_type": "code",
   "execution_count": 10,
   "metadata": {},
   "outputs": [
    {
     "data": {
      "text/plain": [
       "(13819, 62)"
      ]
     },
     "execution_count": 10,
     "metadata": {},
     "output_type": "execute_result"
    }
   ],
   "source": [
    "rhizosphere_otu0.shape"
   ]
  },
  {
   "cell_type": "code",
   "execution_count": 11,
   "metadata": {},
   "outputs": [],
   "source": [
    "rhizosphere_otu = rhizosphere_otu0.T"
   ]
  },
  {
   "cell_type": "code",
   "execution_count": 12,
   "metadata": {},
   "outputs": [],
   "source": [
    "ASV = list(rhizosphere_otu.columns)"
   ]
  },
  {
   "cell_type": "code",
   "execution_count": 13,
   "metadata": {},
   "outputs": [
    {
     "data": {
      "text/plain": [
       "13819"
      ]
     },
     "execution_count": 13,
     "metadata": {},
     "output_type": "execute_result"
    }
   ],
   "source": [
    "len(ASV)"
   ]
  },
  {
   "cell_type": "code",
   "execution_count": 14,
   "metadata": {},
   "outputs": [],
   "source": [
    "data = rhizosphere_otu"
   ]
  },
  {
   "cell_type": "code",
   "execution_count": 15,
   "metadata": {},
   "outputs": [
    {
     "data": {
      "text/html": [
       "<div>\n",
       "<style scoped>\n",
       "    .dataframe tbody tr th:only-of-type {\n",
       "        vertical-align: middle;\n",
       "    }\n",
       "\n",
       "    .dataframe tbody tr th {\n",
       "        vertical-align: top;\n",
       "    }\n",
       "\n",
       "    .dataframe thead th {\n",
       "        text-align: right;\n",
       "    }\n",
       "</style>\n",
       "<table border=\"1\" class=\"dataframe\">\n",
       "  <thead>\n",
       "    <tr style=\"text-align: right;\">\n",
       "      <th></th>\n",
       "      <th>0008d8b083042ca29ace558fe3840fed</th>\n",
       "      <th>00133e612bfa794a439e34b9a0f99988</th>\n",
       "      <th>0016380ec7ace7724205c9fc70fb30df</th>\n",
       "      <th>00198b9ed63c841bf4130f614b4e044a</th>\n",
       "      <th>0019ce0de0bbd3440437e1071cd9d544</th>\n",
       "      <th>001a89a493296be0654aa917509df3ba</th>\n",
       "      <th>001f18c0622ce51cf92493625ad39367</th>\n",
       "      <th>0020feffc2bf42443932f9a4a0d47f0e</th>\n",
       "      <th>0026469361e47a05a740352addf8a88f</th>\n",
       "      <th>0026ec499d1c31acbd890c491702a5f4</th>\n",
       "      <th>...</th>\n",
       "      <th>ffda3d36107a9f801596168986eb370f</th>\n",
       "      <th>ffde533ac801381a7e869f58f5937131</th>\n",
       "      <th>ffe529f646d4d1a7b6fca0cb0c18d7c9</th>\n",
       "      <th>ffe60ef2c7d147036972d61c31a37b05</th>\n",
       "      <th>ffec72a1d4dc42cdcb5f56e7d30b772f</th>\n",
       "      <th>ffecb85b19087104f570b3412d180618</th>\n",
       "      <th>fff56abcade2e6ca7307e0800f650f3d</th>\n",
       "      <th>fff74169503bab880be5f31c8439eafd</th>\n",
       "      <th>fffa8a90cf4567803b2d3a4fcb2881a1</th>\n",
       "      <th>fffb5f9b6f3273aa47f0e90fb70778ce</th>\n",
       "    </tr>\n",
       "  </thead>\n",
       "  <tbody>\n",
       "    <tr>\n",
       "      <th>1016-1-14-3</th>\n",
       "      <td>0</td>\n",
       "      <td>0</td>\n",
       "      <td>0</td>\n",
       "      <td>0</td>\n",
       "      <td>0</td>\n",
       "      <td>0</td>\n",
       "      <td>0</td>\n",
       "      <td>0</td>\n",
       "      <td>0</td>\n",
       "      <td>0</td>\n",
       "      <td>...</td>\n",
       "      <td>0</td>\n",
       "      <td>0</td>\n",
       "      <td>0</td>\n",
       "      <td>0</td>\n",
       "      <td>0</td>\n",
       "      <td>0</td>\n",
       "      <td>0</td>\n",
       "      <td>0</td>\n",
       "      <td>0</td>\n",
       "      <td>0</td>\n",
       "    </tr>\n",
       "    <tr>\n",
       "      <th>1016-2-16-75</th>\n",
       "      <td>0</td>\n",
       "      <td>0</td>\n",
       "      <td>0</td>\n",
       "      <td>0</td>\n",
       "      <td>0</td>\n",
       "      <td>0</td>\n",
       "      <td>0</td>\n",
       "      <td>0</td>\n",
       "      <td>0</td>\n",
       "      <td>0</td>\n",
       "      <td>...</td>\n",
       "      <td>0</td>\n",
       "      <td>0</td>\n",
       "      <td>0</td>\n",
       "      <td>0</td>\n",
       "      <td>0</td>\n",
       "      <td>0</td>\n",
       "      <td>0</td>\n",
       "      <td>0</td>\n",
       "      <td>0</td>\n",
       "      <td>0</td>\n",
       "    </tr>\n",
       "    <tr>\n",
       "      <th>1016-3-6-42</th>\n",
       "      <td>0</td>\n",
       "      <td>0</td>\n",
       "      <td>0</td>\n",
       "      <td>0</td>\n",
       "      <td>0</td>\n",
       "      <td>0</td>\n",
       "      <td>0</td>\n",
       "      <td>0</td>\n",
       "      <td>0</td>\n",
       "      <td>0</td>\n",
       "      <td>...</td>\n",
       "      <td>0</td>\n",
       "      <td>0</td>\n",
       "      <td>0</td>\n",
       "      <td>0</td>\n",
       "      <td>0</td>\n",
       "      <td>0</td>\n",
       "      <td>0</td>\n",
       "      <td>0</td>\n",
       "      <td>0</td>\n",
       "      <td>0</td>\n",
       "    </tr>\n",
       "    <tr>\n",
       "      <th>1016-4-21-30</th>\n",
       "      <td>0</td>\n",
       "      <td>0</td>\n",
       "      <td>0</td>\n",
       "      <td>0</td>\n",
       "      <td>0</td>\n",
       "      <td>0</td>\n",
       "      <td>0</td>\n",
       "      <td>0</td>\n",
       "      <td>0</td>\n",
       "      <td>0</td>\n",
       "      <td>...</td>\n",
       "      <td>0</td>\n",
       "      <td>0</td>\n",
       "      <td>0</td>\n",
       "      <td>0</td>\n",
       "      <td>0</td>\n",
       "      <td>0</td>\n",
       "      <td>0</td>\n",
       "      <td>0</td>\n",
       "      <td>0</td>\n",
       "      <td>0</td>\n",
       "    </tr>\n",
       "    <tr>\n",
       "      <th>1024-1-12-41</th>\n",
       "      <td>0</td>\n",
       "      <td>0</td>\n",
       "      <td>0</td>\n",
       "      <td>0</td>\n",
       "      <td>0</td>\n",
       "      <td>0</td>\n",
       "      <td>0</td>\n",
       "      <td>0</td>\n",
       "      <td>0</td>\n",
       "      <td>0</td>\n",
       "      <td>...</td>\n",
       "      <td>0</td>\n",
       "      <td>0</td>\n",
       "      <td>0</td>\n",
       "      <td>0</td>\n",
       "      <td>0</td>\n",
       "      <td>0</td>\n",
       "      <td>0</td>\n",
       "      <td>0</td>\n",
       "      <td>0</td>\n",
       "      <td>0</td>\n",
       "    </tr>\n",
       "    <tr>\n",
       "      <th>...</th>\n",
       "      <td>...</td>\n",
       "      <td>...</td>\n",
       "      <td>...</td>\n",
       "      <td>...</td>\n",
       "      <td>...</td>\n",
       "      <td>...</td>\n",
       "      <td>...</td>\n",
       "      <td>...</td>\n",
       "      <td>...</td>\n",
       "      <td>...</td>\n",
       "      <td>...</td>\n",
       "      <td>...</td>\n",
       "      <td>...</td>\n",
       "      <td>...</td>\n",
       "      <td>...</td>\n",
       "      <td>...</td>\n",
       "      <td>...</td>\n",
       "      <td>...</td>\n",
       "      <td>...</td>\n",
       "      <td>...</td>\n",
       "      <td>...</td>\n",
       "    </tr>\n",
       "    <tr>\n",
       "      <th>GW9953-4-27-30</th>\n",
       "      <td>0</td>\n",
       "      <td>0</td>\n",
       "      <td>0</td>\n",
       "      <td>0</td>\n",
       "      <td>0</td>\n",
       "      <td>0</td>\n",
       "      <td>0</td>\n",
       "      <td>0</td>\n",
       "      <td>0</td>\n",
       "      <td>0</td>\n",
       "      <td>...</td>\n",
       "      <td>0</td>\n",
       "      <td>0</td>\n",
       "      <td>0</td>\n",
       "      <td>0</td>\n",
       "      <td>0</td>\n",
       "      <td>0</td>\n",
       "      <td>0</td>\n",
       "      <td>0</td>\n",
       "      <td>0</td>\n",
       "      <td>0</td>\n",
       "    </tr>\n",
       "    <tr>\n",
       "      <th>GW9964-1-4-3</th>\n",
       "      <td>0</td>\n",
       "      <td>0</td>\n",
       "      <td>0</td>\n",
       "      <td>0</td>\n",
       "      <td>0</td>\n",
       "      <td>0</td>\n",
       "      <td>0</td>\n",
       "      <td>0</td>\n",
       "      <td>0</td>\n",
       "      <td>0</td>\n",
       "      <td>...</td>\n",
       "      <td>0</td>\n",
       "      <td>0</td>\n",
       "      <td>0</td>\n",
       "      <td>0</td>\n",
       "      <td>0</td>\n",
       "      <td>0</td>\n",
       "      <td>0</td>\n",
       "      <td>0</td>\n",
       "      <td>0</td>\n",
       "      <td>0</td>\n",
       "    </tr>\n",
       "    <tr>\n",
       "      <th>GW9964-2-6-50</th>\n",
       "      <td>0</td>\n",
       "      <td>0</td>\n",
       "      <td>0</td>\n",
       "      <td>0</td>\n",
       "      <td>0</td>\n",
       "      <td>0</td>\n",
       "      <td>0</td>\n",
       "      <td>0</td>\n",
       "      <td>0</td>\n",
       "      <td>0</td>\n",
       "      <td>...</td>\n",
       "      <td>0</td>\n",
       "      <td>0</td>\n",
       "      <td>0</td>\n",
       "      <td>0</td>\n",
       "      <td>0</td>\n",
       "      <td>0</td>\n",
       "      <td>0</td>\n",
       "      <td>0</td>\n",
       "      <td>0</td>\n",
       "      <td>0</td>\n",
       "    </tr>\n",
       "    <tr>\n",
       "      <th>GW9964-3-10-16</th>\n",
       "      <td>0</td>\n",
       "      <td>0</td>\n",
       "      <td>0</td>\n",
       "      <td>0</td>\n",
       "      <td>0</td>\n",
       "      <td>0</td>\n",
       "      <td>0</td>\n",
       "      <td>0</td>\n",
       "      <td>0</td>\n",
       "      <td>0</td>\n",
       "      <td>...</td>\n",
       "      <td>0</td>\n",
       "      <td>0</td>\n",
       "      <td>0</td>\n",
       "      <td>0</td>\n",
       "      <td>0</td>\n",
       "      <td>0</td>\n",
       "      <td>0</td>\n",
       "      <td>0</td>\n",
       "      <td>0</td>\n",
       "      <td>0</td>\n",
       "    </tr>\n",
       "    <tr>\n",
       "      <th>GW9964-4-25-10</th>\n",
       "      <td>0</td>\n",
       "      <td>0</td>\n",
       "      <td>0</td>\n",
       "      <td>0</td>\n",
       "      <td>0</td>\n",
       "      <td>0</td>\n",
       "      <td>0</td>\n",
       "      <td>0</td>\n",
       "      <td>0</td>\n",
       "      <td>0</td>\n",
       "      <td>...</td>\n",
       "      <td>0</td>\n",
       "      <td>0</td>\n",
       "      <td>0</td>\n",
       "      <td>0</td>\n",
       "      <td>0</td>\n",
       "      <td>0</td>\n",
       "      <td>0</td>\n",
       "      <td>0</td>\n",
       "      <td>0</td>\n",
       "      <td>0</td>\n",
       "    </tr>\n",
       "  </tbody>\n",
       "</table>\n",
       "<p>62 rows × 13819 columns</p>\n",
       "</div>"
      ],
      "text/plain": [
       "                0008d8b083042ca29ace558fe3840fed  \\\n",
       "1016-1-14-3                                    0   \n",
       "1016-2-16-75                                   0   \n",
       "1016-3-6-42                                    0   \n",
       "1016-4-21-30                                   0   \n",
       "1024-1-12-41                                   0   \n",
       "...                                          ...   \n",
       "GW9953-4-27-30                                 0   \n",
       "GW9964-1-4-3                                   0   \n",
       "GW9964-2-6-50                                  0   \n",
       "GW9964-3-10-16                                 0   \n",
       "GW9964-4-25-10                                 0   \n",
       "\n",
       "                00133e612bfa794a439e34b9a0f99988  \\\n",
       "1016-1-14-3                                    0   \n",
       "1016-2-16-75                                   0   \n",
       "1016-3-6-42                                    0   \n",
       "1016-4-21-30                                   0   \n",
       "1024-1-12-41                                   0   \n",
       "...                                          ...   \n",
       "GW9953-4-27-30                                 0   \n",
       "GW9964-1-4-3                                   0   \n",
       "GW9964-2-6-50                                  0   \n",
       "GW9964-3-10-16                                 0   \n",
       "GW9964-4-25-10                                 0   \n",
       "\n",
       "                0016380ec7ace7724205c9fc70fb30df  \\\n",
       "1016-1-14-3                                    0   \n",
       "1016-2-16-75                                   0   \n",
       "1016-3-6-42                                    0   \n",
       "1016-4-21-30                                   0   \n",
       "1024-1-12-41                                   0   \n",
       "...                                          ...   \n",
       "GW9953-4-27-30                                 0   \n",
       "GW9964-1-4-3                                   0   \n",
       "GW9964-2-6-50                                  0   \n",
       "GW9964-3-10-16                                 0   \n",
       "GW9964-4-25-10                                 0   \n",
       "\n",
       "                00198b9ed63c841bf4130f614b4e044a  \\\n",
       "1016-1-14-3                                    0   \n",
       "1016-2-16-75                                   0   \n",
       "1016-3-6-42                                    0   \n",
       "1016-4-21-30                                   0   \n",
       "1024-1-12-41                                   0   \n",
       "...                                          ...   \n",
       "GW9953-4-27-30                                 0   \n",
       "GW9964-1-4-3                                   0   \n",
       "GW9964-2-6-50                                  0   \n",
       "GW9964-3-10-16                                 0   \n",
       "GW9964-4-25-10                                 0   \n",
       "\n",
       "                0019ce0de0bbd3440437e1071cd9d544  \\\n",
       "1016-1-14-3                                    0   \n",
       "1016-2-16-75                                   0   \n",
       "1016-3-6-42                                    0   \n",
       "1016-4-21-30                                   0   \n",
       "1024-1-12-41                                   0   \n",
       "...                                          ...   \n",
       "GW9953-4-27-30                                 0   \n",
       "GW9964-1-4-3                                   0   \n",
       "GW9964-2-6-50                                  0   \n",
       "GW9964-3-10-16                                 0   \n",
       "GW9964-4-25-10                                 0   \n",
       "\n",
       "                001a89a493296be0654aa917509df3ba  \\\n",
       "1016-1-14-3                                    0   \n",
       "1016-2-16-75                                   0   \n",
       "1016-3-6-42                                    0   \n",
       "1016-4-21-30                                   0   \n",
       "1024-1-12-41                                   0   \n",
       "...                                          ...   \n",
       "GW9953-4-27-30                                 0   \n",
       "GW9964-1-4-3                                   0   \n",
       "GW9964-2-6-50                                  0   \n",
       "GW9964-3-10-16                                 0   \n",
       "GW9964-4-25-10                                 0   \n",
       "\n",
       "                001f18c0622ce51cf92493625ad39367  \\\n",
       "1016-1-14-3                                    0   \n",
       "1016-2-16-75                                   0   \n",
       "1016-3-6-42                                    0   \n",
       "1016-4-21-30                                   0   \n",
       "1024-1-12-41                                   0   \n",
       "...                                          ...   \n",
       "GW9953-4-27-30                                 0   \n",
       "GW9964-1-4-3                                   0   \n",
       "GW9964-2-6-50                                  0   \n",
       "GW9964-3-10-16                                 0   \n",
       "GW9964-4-25-10                                 0   \n",
       "\n",
       "                0020feffc2bf42443932f9a4a0d47f0e  \\\n",
       "1016-1-14-3                                    0   \n",
       "1016-2-16-75                                   0   \n",
       "1016-3-6-42                                    0   \n",
       "1016-4-21-30                                   0   \n",
       "1024-1-12-41                                   0   \n",
       "...                                          ...   \n",
       "GW9953-4-27-30                                 0   \n",
       "GW9964-1-4-3                                   0   \n",
       "GW9964-2-6-50                                  0   \n",
       "GW9964-3-10-16                                 0   \n",
       "GW9964-4-25-10                                 0   \n",
       "\n",
       "                0026469361e47a05a740352addf8a88f  \\\n",
       "1016-1-14-3                                    0   \n",
       "1016-2-16-75                                   0   \n",
       "1016-3-6-42                                    0   \n",
       "1016-4-21-30                                   0   \n",
       "1024-1-12-41                                   0   \n",
       "...                                          ...   \n",
       "GW9953-4-27-30                                 0   \n",
       "GW9964-1-4-3                                   0   \n",
       "GW9964-2-6-50                                  0   \n",
       "GW9964-3-10-16                                 0   \n",
       "GW9964-4-25-10                                 0   \n",
       "\n",
       "                0026ec499d1c31acbd890c491702a5f4  ...  \\\n",
       "1016-1-14-3                                    0  ...   \n",
       "1016-2-16-75                                   0  ...   \n",
       "1016-3-6-42                                    0  ...   \n",
       "1016-4-21-30                                   0  ...   \n",
       "1024-1-12-41                                   0  ...   \n",
       "...                                          ...  ...   \n",
       "GW9953-4-27-30                                 0  ...   \n",
       "GW9964-1-4-3                                   0  ...   \n",
       "GW9964-2-6-50                                  0  ...   \n",
       "GW9964-3-10-16                                 0  ...   \n",
       "GW9964-4-25-10                                 0  ...   \n",
       "\n",
       "                ffda3d36107a9f801596168986eb370f  \\\n",
       "1016-1-14-3                                    0   \n",
       "1016-2-16-75                                   0   \n",
       "1016-3-6-42                                    0   \n",
       "1016-4-21-30                                   0   \n",
       "1024-1-12-41                                   0   \n",
       "...                                          ...   \n",
       "GW9953-4-27-30                                 0   \n",
       "GW9964-1-4-3                                   0   \n",
       "GW9964-2-6-50                                  0   \n",
       "GW9964-3-10-16                                 0   \n",
       "GW9964-4-25-10                                 0   \n",
       "\n",
       "                ffde533ac801381a7e869f58f5937131  \\\n",
       "1016-1-14-3                                    0   \n",
       "1016-2-16-75                                   0   \n",
       "1016-3-6-42                                    0   \n",
       "1016-4-21-30                                   0   \n",
       "1024-1-12-41                                   0   \n",
       "...                                          ...   \n",
       "GW9953-4-27-30                                 0   \n",
       "GW9964-1-4-3                                   0   \n",
       "GW9964-2-6-50                                  0   \n",
       "GW9964-3-10-16                                 0   \n",
       "GW9964-4-25-10                                 0   \n",
       "\n",
       "                ffe529f646d4d1a7b6fca0cb0c18d7c9  \\\n",
       "1016-1-14-3                                    0   \n",
       "1016-2-16-75                                   0   \n",
       "1016-3-6-42                                    0   \n",
       "1016-4-21-30                                   0   \n",
       "1024-1-12-41                                   0   \n",
       "...                                          ...   \n",
       "GW9953-4-27-30                                 0   \n",
       "GW9964-1-4-3                                   0   \n",
       "GW9964-2-6-50                                  0   \n",
       "GW9964-3-10-16                                 0   \n",
       "GW9964-4-25-10                                 0   \n",
       "\n",
       "                ffe60ef2c7d147036972d61c31a37b05  \\\n",
       "1016-1-14-3                                    0   \n",
       "1016-2-16-75                                   0   \n",
       "1016-3-6-42                                    0   \n",
       "1016-4-21-30                                   0   \n",
       "1024-1-12-41                                   0   \n",
       "...                                          ...   \n",
       "GW9953-4-27-30                                 0   \n",
       "GW9964-1-4-3                                   0   \n",
       "GW9964-2-6-50                                  0   \n",
       "GW9964-3-10-16                                 0   \n",
       "GW9964-4-25-10                                 0   \n",
       "\n",
       "                ffec72a1d4dc42cdcb5f56e7d30b772f  \\\n",
       "1016-1-14-3                                    0   \n",
       "1016-2-16-75                                   0   \n",
       "1016-3-6-42                                    0   \n",
       "1016-4-21-30                                   0   \n",
       "1024-1-12-41                                   0   \n",
       "...                                          ...   \n",
       "GW9953-4-27-30                                 0   \n",
       "GW9964-1-4-3                                   0   \n",
       "GW9964-2-6-50                                  0   \n",
       "GW9964-3-10-16                                 0   \n",
       "GW9964-4-25-10                                 0   \n",
       "\n",
       "                ffecb85b19087104f570b3412d180618  \\\n",
       "1016-1-14-3                                    0   \n",
       "1016-2-16-75                                   0   \n",
       "1016-3-6-42                                    0   \n",
       "1016-4-21-30                                   0   \n",
       "1024-1-12-41                                   0   \n",
       "...                                          ...   \n",
       "GW9953-4-27-30                                 0   \n",
       "GW9964-1-4-3                                   0   \n",
       "GW9964-2-6-50                                  0   \n",
       "GW9964-3-10-16                                 0   \n",
       "GW9964-4-25-10                                 0   \n",
       "\n",
       "                fff56abcade2e6ca7307e0800f650f3d  \\\n",
       "1016-1-14-3                                    0   \n",
       "1016-2-16-75                                   0   \n",
       "1016-3-6-42                                    0   \n",
       "1016-4-21-30                                   0   \n",
       "1024-1-12-41                                   0   \n",
       "...                                          ...   \n",
       "GW9953-4-27-30                                 0   \n",
       "GW9964-1-4-3                                   0   \n",
       "GW9964-2-6-50                                  0   \n",
       "GW9964-3-10-16                                 0   \n",
       "GW9964-4-25-10                                 0   \n",
       "\n",
       "                fff74169503bab880be5f31c8439eafd  \\\n",
       "1016-1-14-3                                    0   \n",
       "1016-2-16-75                                   0   \n",
       "1016-3-6-42                                    0   \n",
       "1016-4-21-30                                   0   \n",
       "1024-1-12-41                                   0   \n",
       "...                                          ...   \n",
       "GW9953-4-27-30                                 0   \n",
       "GW9964-1-4-3                                   0   \n",
       "GW9964-2-6-50                                  0   \n",
       "GW9964-3-10-16                                 0   \n",
       "GW9964-4-25-10                                 0   \n",
       "\n",
       "                fffa8a90cf4567803b2d3a4fcb2881a1  \\\n",
       "1016-1-14-3                                    0   \n",
       "1016-2-16-75                                   0   \n",
       "1016-3-6-42                                    0   \n",
       "1016-4-21-30                                   0   \n",
       "1024-1-12-41                                   0   \n",
       "...                                          ...   \n",
       "GW9953-4-27-30                                 0   \n",
       "GW9964-1-4-3                                   0   \n",
       "GW9964-2-6-50                                  0   \n",
       "GW9964-3-10-16                                 0   \n",
       "GW9964-4-25-10                                 0   \n",
       "\n",
       "                fffb5f9b6f3273aa47f0e90fb70778ce  \n",
       "1016-1-14-3                                    0  \n",
       "1016-2-16-75                                   0  \n",
       "1016-3-6-42                                    0  \n",
       "1016-4-21-30                                   0  \n",
       "1024-1-12-41                                   0  \n",
       "...                                          ...  \n",
       "GW9953-4-27-30                                 0  \n",
       "GW9964-1-4-3                                   0  \n",
       "GW9964-2-6-50                                  0  \n",
       "GW9964-3-10-16                                 0  \n",
       "GW9964-4-25-10                                 0  \n",
       "\n",
       "[62 rows x 13819 columns]"
      ]
     },
     "execution_count": 15,
     "metadata": {},
     "output_type": "execute_result"
    }
   ],
   "source": [
    "data"
   ]
  },
  {
   "cell_type": "code",
   "execution_count": null,
   "metadata": {},
   "outputs": [],
   "source": []
  },
  {
   "cell_type": "code",
   "execution_count": null,
   "metadata": {
    "metadata": {}
   },
   "outputs": [],
   "source": [
    "data=RunML.normalizingMatrixToRanks(data,cutOff=0.01)\n",
    "print(np.shape(data))"
   ]
  },
  {
   "cell_type": "markdown",
   "metadata": {},
   "source": [
    "Perform multiLabel feature selection, this is done by calculating Kruskal-Wallis H-test on each OTU for each environmental factor, each OTU/ASV is given a weighted h score."
   ]
  },
  {
   "cell_type": "code",
   "execution_count": null,
   "metadata": {
    "metadata": {}
   },
   "outputs": [],
   "source": [
    "yList=[list(label1)]"
   ]
  },
  {
   "cell_type": "code",
   "execution_count": null,
   "metadata": {
    "metadata": {}
   },
   "outputs": [],
   "source": [
    "weights=FS.multiLabelFeatureWeighting(data,yList)"
   ]
  },
  {
   "cell_type": "code",
   "execution_count": null,
   "metadata": {
    "metadata": {}
   },
   "outputs": [],
   "source": [
    "len(weights)"
   ]
  },
  {
   "cell_type": "code",
   "execution_count": null,
   "metadata": {
    "metadata": {},
    "scrolled": true
   },
   "outputs": [],
   "source": [
    "scores=(sorted(weights,reverse=True))\n",
    "eps=FS.elbowPoint(scores)\n",
    "FS.plotWeightedIndex(weights,xKnee=eps)"
   ]
  },
  {
   "cell_type": "markdown",
   "metadata": {},
   "source": [
    "This plot shows that the gain in information decreases as we include more OTUs along the ranks. "
   ]
  },
  {
   "cell_type": "code",
   "execution_count": null,
   "metadata": {
    "metadata": {}
   },
   "outputs": [],
   "source": [
    "topFeature_selected=eps\n",
    "print(eps)\n",
    "\n",
    "X_FS,selectedOTU_index=FS.feature_select(data,yList,topFeature=topFeature_selected)\n",
    "print (np.shape(X_FS))\n"
   ]
  },
  {
   "cell_type": "code",
   "execution_count": null,
   "metadata": {},
   "outputs": [],
   "source": [
    "print(len(weights))"
   ]
  },
  {
   "cell_type": "code",
   "execution_count": null,
   "metadata": {},
   "outputs": [],
   "source": [
    "targetLabel=label1 "
   ]
  },
  {
   "cell_type": "code",
   "execution_count": null,
   "metadata": {},
   "outputs": [],
   "source": [
    "X_lasso = RunML.LassoFeatureSelection(data,targetLabel)# this is depend on the target variable(do not update here)\n",
    "iter =5\n",
    "data_subset = {\"AllFeatures\":data, \n",
    "               \"SelectMicro\": X_FS,\n",
    "               \"Lasso\":X_lasso,\n",
    "               \"Random\":data\n",
    "              }\n",
    "cls = [\"RF\",\"SVM\"]"
   ]
  },
  {
   "cell_type": "code",
   "execution_count": null,
   "metadata": {},
   "outputs": [],
   "source": [
    "start_time = time.time()\n",
    "dict_cm = RunML_continue.runClassifier_FScompare(data_subsets= data_subset,y= targetLabel,N=iter,classifiers=cls)\n",
    "end_time = time.time()\n",
    "print(f\"It took {end_time - start_time:.2f} seconds\")"
   ]
  },
  {
   "cell_type": "code",
   "execution_count": null,
   "metadata": {},
   "outputs": [],
   "source": [
    "for dataset_name, classifiers in dict_cm.items():\n",
    "        for classifier_name, labels in classifiers.items():\n",
    "            actual_labels = labels[0]\n",
    "            predicted_labels = labels[1]\n",
    "            RunML_continue.plotmacro_confusion_matrices(actual_labels, predicted_labels,f\"{dataset_name} - {classifier_name}\")"
   ]
  },
  {
   "cell_type": "code",
   "execution_count": null,
   "metadata": {},
   "outputs": [],
   "source": []
  },
  {
   "cell_type": "code",
   "execution_count": null,
   "metadata": {},
   "outputs": [],
   "source": [
    "# Initialize a dictionary to hold AUC scores\n",
    "auc_scores = {}\n",
    "for name, clf in clfs.items():\n",
    "    auc = RunML.CFValidation_AUCstatistic(data,targetLabel,classifier= clf)\n",
    "    auc_scores[name] = auc\n",
    "print(\"AllFeatures\",auc_scores)"
   ]
  },
  {
   "cell_type": "code",
   "execution_count": null,
   "metadata": {},
   "outputs": [],
   "source": [
    "auc_scores = {}\n",
    "for name, clf in clfs.items():\n",
    "    auc = RunML.CFValidation_AUCstatistic(X_FS,targetLabel,classifier= clf )\n",
    "    auc_scores[name] = auc\n",
    "print(\"SelectMicro\",auc_scores)"
   ]
  },
  {
   "cell_type": "code",
   "execution_count": null,
   "metadata": {},
   "outputs": [],
   "source": [
    "auc_list  = []\n",
    "for ii in range(3):\n",
    "    auc_scores = {}\n",
    "    randomFeatures=random.sample(list(range(np.shape(data)[1])), topFeature_selected)\n",
    "    X_randomFeatures=np.array(data)[:,randomFeatures]\n",
    "    for name, clf in clfs.items():\n",
    "        auc = RunML.CFValidation_AUCstatistic(X_randomFeatures,targetLabel,classifier= clf )\n",
    "        auc_scores[name] = auc\n",
    "    auc_list.append(auc_scores)\n",
    "auc_pd = pd.DataFrame(auc_list)\n"
   ]
  },
  {
   "cell_type": "code",
   "execution_count": null,
   "metadata": {},
   "outputs": [],
   "source": [
    "print(\"Random Selection\",auc_pd.mean())"
   ]
  },
  {
   "cell_type": "code",
   "execution_count": null,
   "metadata": {},
   "outputs": [],
   "source": [
    "X_Lasso=RunML.LassoFeatureSelection(data,targetLabel)"
   ]
  },
  {
   "cell_type": "code",
   "execution_count": null,
   "metadata": {},
   "outputs": [],
   "source": [
    "len(X_Lasso)"
   ]
  },
  {
   "cell_type": "code",
   "execution_count": null,
   "metadata": {},
   "outputs": [],
   "source": [
    "print(X_Lasso)"
   ]
  },
  {
   "cell_type": "code",
   "execution_count": null,
   "metadata": {},
   "outputs": [],
   "source": [
    "auc_scores = {}\n",
    "for name, clf in clfs.items():\n",
    "    auc = RunML.CFValidation_AUCstatistic(X_Lasso,targetLabel,classifier= clf )\n",
    "    auc_scores[name] = auc\n",
    "print(\"SelectMicro\",auc_scores)# this should be Lasso"
   ]
  },
  {
   "cell_type": "code",
   "execution_count": null,
   "metadata": {},
   "outputs": [],
   "source": [
    "auc_list  = []\n",
    "for ii in range(3):\n",
    "    auc_scores = {}\n",
    "    X_Lasso=RunML.LassoFeatureSelection(data,targetLabel)\n",
    "    for name, clf in clfs.items():\n",
    "        auc = RunML.CFValidation_AUCstatistic(X_Lasso,targetLabel,classifier= clf )\n",
    "        auc_scores[name] = auc\n",
    "    auc_list.append(auc_scores)\n",
    "auc_pd = pd.DataFrame(auc_list)\n",
    "\n"
   ]
  },
  {
   "cell_type": "code",
   "execution_count": null,
   "metadata": {},
   "outputs": [],
   "source": [
    "print(\"LASSO Selection\",auc_pd.mean())\n"
   ]
  },
  {
   "cell_type": "code",
   "execution_count": null,
   "metadata": {},
   "outputs": [],
   "source": []
  },
  {
   "cell_type": "code",
   "execution_count": null,
   "metadata": {},
   "outputs": [],
   "source": []
  },
  {
   "cell_type": "code",
   "execution_count": null,
   "metadata": {},
   "outputs": [],
   "source": []
  },
  {
   "cell_type": "code",
   "execution_count": null,
   "metadata": {},
   "outputs": [],
   "source": []
  },
  {
   "cell_type": "code",
   "execution_count": null,
   "metadata": {},
   "outputs": [],
   "source": []
  },
  {
   "cell_type": "code",
   "execution_count": null,
   "metadata": {},
   "outputs": [],
   "source": []
  },
  {
   "cell_type": "code",
   "execution_count": null,
   "metadata": {},
   "outputs": [],
   "source": []
  },
  {
   "cell_type": "markdown",
   "metadata": {},
   "source": [
    "## compare the first 15 index"
   ]
  },
  {
   "cell_type": "code",
   "execution_count": null,
   "metadata": {},
   "outputs": [],
   "source": []
  },
  {
   "cell_type": "code",
   "execution_count": null,
   "metadata": {},
   "outputs": [],
   "source": []
  },
  {
   "cell_type": "code",
   "execution_count": null,
   "metadata": {},
   "outputs": [],
   "source": []
  },
  {
   "cell_type": "code",
   "execution_count": null,
   "metadata": {
    "metadata": {}
   },
   "outputs": [],
   "source": [
    "\n",
    "import seaborn as sns\n",
    "import numpy as np\n",
    "import matplotlib.pyplot as plt\n",
    "import matplotlib as mpl\n",
    "\n",
    "entries=15\n",
    "selectedOTU_index_15=selectedOTU_index[:entries]\n",
    "X_FS_15=data[:,selectedOTU_index_15]\n",
    "\n",
    "df=pd.DataFrame(data=X_FS_15)\n",
    "selectedASVs=[ASV[i] for i in selectedOTU_index_15]\n",
    "\n",
    "print(set(targetLabel))\n"
   ]
  },
  {
   "cell_type": "code",
   "execution_count": null,
   "metadata": {},
   "outputs": [],
   "source": [
    "RunML.plotPresenseRatio(X_FS_15,targetLabel,selectedASVs,posLabel=\"LO30\",posText=\"Low\",negText=\"High\",entries=entries)\n"
   ]
  }
 ],
 "metadata": {
  "kernelspec": {
   "display_name": "Python 3 (ipykernel)",
   "language": "python",
   "name": "python3"
  },
  "language_info": {
   "codemirror_mode": {
    "name": "ipython",
    "version": 3
   },
   "file_extension": ".py",
   "mimetype": "text/x-python",
   "name": "python",
   "nbconvert_exporter": "python",
   "pygments_lexer": "ipython3",
   "version": "3.9.10"
  }
 },
 "nbformat": 4,
 "nbformat_minor": 4
}
