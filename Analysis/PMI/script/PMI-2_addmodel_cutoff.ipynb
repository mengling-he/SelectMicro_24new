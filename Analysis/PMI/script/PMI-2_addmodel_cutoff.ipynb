{
 "cells": [
  {
   "attachments": {},
   "cell_type": "markdown",
   "metadata": {},
   "source": [
    "Please see the copy1 for Bacteria and Copy2 for ITS"
   ]
  },
  {
   "cell_type": "code",
   "execution_count": 1,
   "metadata": {
    "metadata": {}
   },
   "outputs": [
    {
     "name": "stderr",
     "output_type": "stream",
     "text": [
      "2025-01-17 12:12:18.819066: I tensorflow/core/util/port.cc:153] oneDNN custom operations are on. You may see slightly different numerical results due to floating-point round-off errors from different computation orders. To turn them off, set the environment variable `TF_ENABLE_ONEDNN_OPTS=0`.\n",
      "2025-01-17 12:12:18.821631: I external/local_xla/xla/tsl/cuda/cudart_stub.cc:32] Could not find cuda drivers on your machine, GPU will not be used.\n",
      "2025-01-17 12:12:18.868627: I external/local_xla/xla/tsl/cuda/cudart_stub.cc:32] Could not find cuda drivers on your machine, GPU will not be used.\n",
      "2025-01-17 12:12:18.889226: E external/local_xla/xla/stream_executor/cuda/cuda_fft.cc:477] Unable to register cuFFT factory: Attempting to register factory for plugin cuFFT when one has already been registered\n",
      "WARNING: All log messages before absl::InitializeLog() is called are written to STDERR\n",
      "E0000 00:00:1737133938.926346 2799349 cuda_dnn.cc:8310] Unable to register cuDNN factory: Attempting to register factory for plugin cuDNN when one has already been registered\n",
      "E0000 00:00:1737133938.931738 2799349 cuda_blas.cc:1418] Unable to register cuBLAS factory: Attempting to register factory for plugin cuBLAS when one has already been registered\n",
      "2025-01-17 12:12:19.024679: I tensorflow/core/platform/cpu_feature_guard.cc:210] This TensorFlow binary is optimized to use available CPU instructions in performance-critical operations.\n",
      "To enable the following instructions: AVX2 AVX512F AVX512_VNNI FMA, in other operations, rebuild TensorFlow with the appropriate compiler flags.\n"
     ]
    }
   ],
   "source": [
    "import sys\n",
    "sys.path.append('../../../Code')\n",
    "import loadData \n",
    "import RunML\n",
    "import RunML_continue\n",
    "import FS\n",
    "import metric\n",
    "\n"
   ]
  },
  {
   "cell_type": "code",
   "execution_count": 2,
   "metadata": {},
   "outputs": [],
   "source": [
    "import pandas as pd\n",
    "import numpy as np\n",
    "import random\n",
    "from sklearn.ensemble import RandomForestClassifier\n",
    "from sklearn.linear_model import LogisticRegression\n",
    "from sklearn import svm\n",
    "import pickle\n",
    "import matplotlib.pyplot as plt\n",
    "import glob\n",
    "import os"
   ]
  },
  {
   "cell_type": "code",
   "execution_count": 3,
   "metadata": {},
   "outputs": [],
   "source": [
    "PMIdata_path = '../data/count_table/'"
   ]
  },
  {
   "cell_type": "code",
   "execution_count": null,
   "metadata": {},
   "outputs": [],
   "source": []
  },
  {
   "cell_type": "markdown",
   "metadata": {},
   "source": [
    "## No env model\n",
    "16s (OTU/phylum/class/order) - no env\n",
    "\n",
    "ITS (OTU/phylum/class/order) - no env\n",
    "\n",
    "16s+ITS (OTU/phylum/class/order) - no env (only use this data when calculating H)\n",
    "bact.ITS.n.class.env"
   ]
  },
  {
   "cell_type": "markdown",
   "metadata": {},
   "source": [
    "### Data preprocess\n"
   ]
  },
  {
   "cell_type": "code",
   "execution_count": 4,
   "metadata": {},
   "outputs": [],
   "source": [
    "bact_ITS_noenv_files = glob.glob(PMIdata_path + 'bact.ITS.n.*.noenv.csv')\n"
   ]
  },
  {
   "cell_type": "code",
   "execution_count": 5,
   "metadata": {},
   "outputs": [
    {
     "data": {
      "text/plain": [
       "['../data/count_table/bact.ITS.n.otu.noenv.csv',\n",
       " '../data/count_table/bact.ITS.n.class.noenv.csv',\n",
       " '../data/count_table/bact.ITS.n.order.noenv.csv',\n",
       " '../data/count_table/bact.ITS.n.phylum.noenv.csv']"
      ]
     },
     "execution_count": 5,
     "metadata": {},
     "output_type": "execute_result"
    }
   ],
   "source": [
    "bact_ITS_noenv_files"
   ]
  },
  {
   "cell_type": "code",
   "execution_count": 6,
   "metadata": {
    "metadata": {}
   },
   "outputs": [],
   "source": [
    "# Read each CSV file into a list of dataframes\n",
    "bact_ITS_noenv_df_list = [pd.read_csv(file) for file in bact_ITS_noenv_files]\n",
    "taxlabels = ['OTU', 'class', 'order', 'phylum']"
   ]
  },
  {
   "cell_type": "code",
   "execution_count": 7,
   "metadata": {},
   "outputs": [
    {
     "name": "stdout",
     "output_type": "stream",
     "text": [
      "(78, 7415)\n",
      "(78, 178)\n",
      "(78, 412)\n",
      "(78, 52)\n"
     ]
    }
   ],
   "source": [
    "for df in bact_ITS_noenv_df_list:\n",
    "    print(df.shape)\n",
    "    \n"
   ]
  },
  {
   "cell_type": "code",
   "execution_count": 8,
   "metadata": {},
   "outputs": [
    {
     "name": "stdout",
     "output_type": "stream",
     "text": [
      "['SHORT' 'SHORT' 'SHORT' 'LONG' 'LONG' 'SHORT' 'SHORT' 'SHORT' 'SHORT'\n",
      " 'SHORT' 'SHORT' 'SHORT' 'LONG' 'LONG' 'SHORT' 'SHORT' 'LONG' 'LONG'\n",
      " 'LONG' 'SHORT' 'LONG' 'LONG' 'SHORT' 'SHORT' 'LONG' 'LONG' 'SHORT'\n",
      " 'SHORT' 'LONG' 'LONG' 'SHORT' 'SHORT' 'LONG' 'LONG' 'SHORT' 'SHORT'\n",
      " 'LONG' 'LONG' 'SHORT' 'SHORT' 'LONG' 'LONG' 'SHORT' 'SHORT' 'LONG' 'LONG'\n",
      " 'SHORT' 'SHORT' 'LONG' 'LONG' 'SHORT' 'SHORT' 'LONG' 'LONG' 'SHORT'\n",
      " 'SHORT' 'LONG' 'LONG' 'SHORT' 'SHORT' 'LONG' 'LONG' 'SHORT' 'SHORT'\n",
      " 'LONG' 'LONG' 'SHORT' 'SHORT' 'SHORT' 'SHORT' 'SHORT' 'SHORT' 'LONG'\n",
      " 'LONG' 'SHORT' 'SHORT' 'LONG' 'LONG']\n",
      "35\n",
      "43\n"
     ]
    }
   ],
   "source": [
    "# target variable\n",
    "y = bact_ITS_noenv_df_list[3].iloc[:, 0].values \n",
    "\n",
    "# Define the threshold\n",
    "y_threshold = 2500\n",
    "\n",
    "# Categorize the series based on the threshold\n",
    "y = np.where(y > y_threshold, 'LONG', 'SHORT')\n",
    "\n",
    "print(y)\n",
    "\n",
    "print(list(y).count('LONG'))\n",
    "print(list(y).count('SHORT'))"
   ]
  },
  {
   "cell_type": "code",
   "execution_count": 9,
   "metadata": {},
   "outputs": [
    {
     "data": {
      "text/html": [
       "<div>\n",
       "<style scoped>\n",
       "    .dataframe tbody tr th:only-of-type {\n",
       "        vertical-align: middle;\n",
       "    }\n",
       "\n",
       "    .dataframe tbody tr th {\n",
       "        vertical-align: top;\n",
       "    }\n",
       "\n",
       "    .dataframe thead th {\n",
       "        text-align: right;\n",
       "    }\n",
       "</style>\n",
       "<table border=\"1\" class=\"dataframe\">\n",
       "  <thead>\n",
       "    <tr style=\"text-align: right;\">\n",
       "      <th></th>\n",
       "      <th>ADH_10_actual</th>\n",
       "      <th>Proteobacteria</th>\n",
       "      <th>Verrucomicrobia</th>\n",
       "      <th>Acidobacteria</th>\n",
       "      <th>Actinobacteria</th>\n",
       "      <th>Firmicutes</th>\n",
       "      <th>Bacteroidetes</th>\n",
       "      <th>Chloroflexi</th>\n",
       "      <th>Rokubacteria</th>\n",
       "      <th>Entotheonellaeota</th>\n",
       "      <th>...</th>\n",
       "      <th>p__Mucoromycota</th>\n",
       "      <th>p__Glomeromycota</th>\n",
       "      <th>p__Monoblepharomycota</th>\n",
       "      <th>p__unclassified_Fungi</th>\n",
       "      <th>p__Zoopagomycota</th>\n",
       "      <th>p__Kickxellomycota</th>\n",
       "      <th>p__Olpidiomycota</th>\n",
       "      <th>p__Aphelidiomycota</th>\n",
       "      <th>p__Blastocladiomycota</th>\n",
       "      <th>p__Basidiobolomycota</th>\n",
       "    </tr>\n",
       "  </thead>\n",
       "  <tbody>\n",
       "    <tr>\n",
       "      <th>0</th>\n",
       "      <td>0.00000</td>\n",
       "      <td>2405.899397</td>\n",
       "      <td>957.553453</td>\n",
       "      <td>1988.986693</td>\n",
       "      <td>2524.409168</td>\n",
       "      <td>92.418396</td>\n",
       "      <td>311.448621</td>\n",
       "      <td>526.359155</td>\n",
       "      <td>123.316076</td>\n",
       "      <td>99.009901</td>\n",
       "      <td>...</td>\n",
       "      <td>86.785175</td>\n",
       "      <td>35.007547</td>\n",
       "      <td>0.209626</td>\n",
       "      <td>127.662251</td>\n",
       "      <td>0.000000</td>\n",
       "      <td>11.739058</td>\n",
       "      <td>0.0</td>\n",
       "      <td>1.886634</td>\n",
       "      <td>4.611773</td>\n",
       "      <td>0.000000</td>\n",
       "    </tr>\n",
       "    <tr>\n",
       "      <th>1</th>\n",
       "      <td>1484.14700</td>\n",
       "      <td>3209.276660</td>\n",
       "      <td>757.215776</td>\n",
       "      <td>1727.647573</td>\n",
       "      <td>1840.003679</td>\n",
       "      <td>226.398320</td>\n",
       "      <td>680.881068</td>\n",
       "      <td>465.059244</td>\n",
       "      <td>117.874278</td>\n",
       "      <td>67.904168</td>\n",
       "      <td>...</td>\n",
       "      <td>73.063061</td>\n",
       "      <td>27.939985</td>\n",
       "      <td>0.977899</td>\n",
       "      <td>144.030622</td>\n",
       "      <td>0.000000</td>\n",
       "      <td>7.264396</td>\n",
       "      <td>0.0</td>\n",
       "      <td>4.610098</td>\n",
       "      <td>15.366992</td>\n",
       "      <td>0.000000</td>\n",
       "    </tr>\n",
       "    <tr>\n",
       "      <th>2</th>\n",
       "      <td>1989.56009</td>\n",
       "      <td>3829.070365</td>\n",
       "      <td>412.942989</td>\n",
       "      <td>821.982537</td>\n",
       "      <td>1300.667694</td>\n",
       "      <td>389.111454</td>\n",
       "      <td>2416.230098</td>\n",
       "      <td>276.938880</td>\n",
       "      <td>48.073960</td>\n",
       "      <td>41.088855</td>\n",
       "      <td>...</td>\n",
       "      <td>47.127278</td>\n",
       "      <td>1.701346</td>\n",
       "      <td>1.701346</td>\n",
       "      <td>71.966926</td>\n",
       "      <td>0.000000</td>\n",
       "      <td>4.593634</td>\n",
       "      <td>0.0</td>\n",
       "      <td>4.933903</td>\n",
       "      <td>0.510404</td>\n",
       "      <td>0.000000</td>\n",
       "    </tr>\n",
       "    <tr>\n",
       "      <th>3</th>\n",
       "      <td>2973.68000</td>\n",
       "      <td>3194.403374</td>\n",
       "      <td>419.280034</td>\n",
       "      <td>848.987596</td>\n",
       "      <td>1688.948376</td>\n",
       "      <td>1069.522046</td>\n",
       "      <td>1868.083981</td>\n",
       "      <td>287.613030</td>\n",
       "      <td>65.055328</td>\n",
       "      <td>42.488288</td>\n",
       "      <td>...</td>\n",
       "      <td>101.508764</td>\n",
       "      <td>6.989128</td>\n",
       "      <td>0.000000</td>\n",
       "      <td>64.122476</td>\n",
       "      <td>0.000000</td>\n",
       "      <td>18.193921</td>\n",
       "      <td>0.0</td>\n",
       "      <td>1.996894</td>\n",
       "      <td>0.000000</td>\n",
       "      <td>3.106279</td>\n",
       "    </tr>\n",
       "    <tr>\n",
       "      <th>4</th>\n",
       "      <td>4027.69203</td>\n",
       "      <td>3694.823154</td>\n",
       "      <td>475.772750</td>\n",
       "      <td>833.851140</td>\n",
       "      <td>1209.230357</td>\n",
       "      <td>465.538458</td>\n",
       "      <td>2514.224448</td>\n",
       "      <td>230.271574</td>\n",
       "      <td>60.065548</td>\n",
       "      <td>51.049624</td>\n",
       "      <td>...</td>\n",
       "      <td>493.950429</td>\n",
       "      <td>9.984729</td>\n",
       "      <td>0.587337</td>\n",
       "      <td>96.323270</td>\n",
       "      <td>0.000000</td>\n",
       "      <td>14.096088</td>\n",
       "      <td>0.0</td>\n",
       "      <td>1.468343</td>\n",
       "      <td>1.468343</td>\n",
       "      <td>0.000000</td>\n",
       "    </tr>\n",
       "    <tr>\n",
       "      <th>...</th>\n",
       "      <td>...</td>\n",
       "      <td>...</td>\n",
       "      <td>...</td>\n",
       "      <td>...</td>\n",
       "      <td>...</td>\n",
       "      <td>...</td>\n",
       "      <td>...</td>\n",
       "      <td>...</td>\n",
       "      <td>...</td>\n",
       "      <td>...</td>\n",
       "      <td>...</td>\n",
       "      <td>...</td>\n",
       "      <td>...</td>\n",
       "      <td>...</td>\n",
       "      <td>...</td>\n",
       "      <td>...</td>\n",
       "      <td>...</td>\n",
       "      <td>...</td>\n",
       "      <td>...</td>\n",
       "      <td>...</td>\n",
       "      <td>...</td>\n",
       "    </tr>\n",
       "    <tr>\n",
       "      <th>73</th>\n",
       "      <td>4447.32241</td>\n",
       "      <td>2456.386357</td>\n",
       "      <td>702.629879</td>\n",
       "      <td>1096.355563</td>\n",
       "      <td>2612.831828</td>\n",
       "      <td>1416.120207</td>\n",
       "      <td>209.098033</td>\n",
       "      <td>519.102019</td>\n",
       "      <td>161.669485</td>\n",
       "      <td>29.144499</td>\n",
       "      <td>...</td>\n",
       "      <td>354.041916</td>\n",
       "      <td>2.352438</td>\n",
       "      <td>0.106929</td>\n",
       "      <td>18.712575</td>\n",
       "      <td>0.855432</td>\n",
       "      <td>10.585971</td>\n",
       "      <td>0.0</td>\n",
       "      <td>0.534645</td>\n",
       "      <td>0.000000</td>\n",
       "      <td>0.000000</td>\n",
       "    </tr>\n",
       "    <tr>\n",
       "      <th>74</th>\n",
       "      <td>0.00000</td>\n",
       "      <td>2919.908680</td>\n",
       "      <td>1004.519405</td>\n",
       "      <td>1906.070913</td>\n",
       "      <td>954.200252</td>\n",
       "      <td>28.421004</td>\n",
       "      <td>1003.432263</td>\n",
       "      <td>630.853096</td>\n",
       "      <td>87.437295</td>\n",
       "      <td>19.413254</td>\n",
       "      <td>...</td>\n",
       "      <td>34.921758</td>\n",
       "      <td>286.446822</td>\n",
       "      <td>7.956856</td>\n",
       "      <td>438.069136</td>\n",
       "      <td>0.442048</td>\n",
       "      <td>0.884095</td>\n",
       "      <td>0.0</td>\n",
       "      <td>0.000000</td>\n",
       "      <td>0.000000</td>\n",
       "      <td>0.000000</td>\n",
       "    </tr>\n",
       "    <tr>\n",
       "      <th>75</th>\n",
       "      <td>1477.74800</td>\n",
       "      <td>4411.744255</td>\n",
       "      <td>735.145847</td>\n",
       "      <td>1127.142509</td>\n",
       "      <td>1262.559538</td>\n",
       "      <td>178.006467</td>\n",
       "      <td>886.381810</td>\n",
       "      <td>434.238431</td>\n",
       "      <td>128.985155</td>\n",
       "      <td>45.718458</td>\n",
       "      <td>...</td>\n",
       "      <td>45.856084</td>\n",
       "      <td>11.620207</td>\n",
       "      <td>0.624742</td>\n",
       "      <td>11.620207</td>\n",
       "      <td>2.623918</td>\n",
       "      <td>0.749691</td>\n",
       "      <td>0.0</td>\n",
       "      <td>0.249897</td>\n",
       "      <td>0.124948</td>\n",
       "      <td>0.000000</td>\n",
       "    </tr>\n",
       "    <tr>\n",
       "      <th>76</th>\n",
       "      <td>2554.43400</td>\n",
       "      <td>2821.384741</td>\n",
       "      <td>962.492330</td>\n",
       "      <td>1377.965842</td>\n",
       "      <td>1773.368787</td>\n",
       "      <td>586.137247</td>\n",
       "      <td>543.055840</td>\n",
       "      <td>570.541010</td>\n",
       "      <td>179.740233</td>\n",
       "      <td>65.964410</td>\n",
       "      <td>...</td>\n",
       "      <td>28.655093</td>\n",
       "      <td>12.131353</td>\n",
       "      <td>2.509935</td>\n",
       "      <td>24.262707</td>\n",
       "      <td>1.464129</td>\n",
       "      <td>1.464129</td>\n",
       "      <td>0.0</td>\n",
       "      <td>0.209161</td>\n",
       "      <td>0.000000</td>\n",
       "      <td>0.000000</td>\n",
       "    </tr>\n",
       "    <tr>\n",
       "      <th>77</th>\n",
       "      <td>4536.41300</td>\n",
       "      <td>2756.755257</td>\n",
       "      <td>598.263330</td>\n",
       "      <td>755.701049</td>\n",
       "      <td>2031.293347</td>\n",
       "      <td>2164.733951</td>\n",
       "      <td>366.892304</td>\n",
       "      <td>511.845975</td>\n",
       "      <td>93.907784</td>\n",
       "      <td>12.622760</td>\n",
       "      <td>...</td>\n",
       "      <td>3.980188</td>\n",
       "      <td>0.442243</td>\n",
       "      <td>0.663365</td>\n",
       "      <td>3.980188</td>\n",
       "      <td>0.000000</td>\n",
       "      <td>1.326729</td>\n",
       "      <td>0.0</td>\n",
       "      <td>0.000000</td>\n",
       "      <td>0.000000</td>\n",
       "      <td>0.000000</td>\n",
       "    </tr>\n",
       "  </tbody>\n",
       "</table>\n",
       "<p>78 rows × 52 columns</p>\n",
       "</div>"
      ],
      "text/plain": [
       "    ADH_10_actual  Proteobacteria  Verrucomicrobia  Acidobacteria  \\\n",
       "0         0.00000     2405.899397       957.553453    1988.986693   \n",
       "1      1484.14700     3209.276660       757.215776    1727.647573   \n",
       "2      1989.56009     3829.070365       412.942989     821.982537   \n",
       "3      2973.68000     3194.403374       419.280034     848.987596   \n",
       "4      4027.69203     3694.823154       475.772750     833.851140   \n",
       "..            ...             ...              ...            ...   \n",
       "73     4447.32241     2456.386357       702.629879    1096.355563   \n",
       "74        0.00000     2919.908680      1004.519405    1906.070913   \n",
       "75     1477.74800     4411.744255       735.145847    1127.142509   \n",
       "76     2554.43400     2821.384741       962.492330    1377.965842   \n",
       "77     4536.41300     2756.755257       598.263330     755.701049   \n",
       "\n",
       "    Actinobacteria   Firmicutes  Bacteroidetes  Chloroflexi  Rokubacteria  \\\n",
       "0      2524.409168    92.418396     311.448621   526.359155    123.316076   \n",
       "1      1840.003679   226.398320     680.881068   465.059244    117.874278   \n",
       "2      1300.667694   389.111454    2416.230098   276.938880     48.073960   \n",
       "3      1688.948376  1069.522046    1868.083981   287.613030     65.055328   \n",
       "4      1209.230357   465.538458    2514.224448   230.271574     60.065548   \n",
       "..             ...          ...            ...          ...           ...   \n",
       "73     2612.831828  1416.120207     209.098033   519.102019    161.669485   \n",
       "74      954.200252    28.421004    1003.432263   630.853096     87.437295   \n",
       "75     1262.559538   178.006467     886.381810   434.238431    128.985155   \n",
       "76     1773.368787   586.137247     543.055840   570.541010    179.740233   \n",
       "77     2031.293347  2164.733951     366.892304   511.845975     93.907784   \n",
       "\n",
       "    Entotheonellaeota  ...  p__Mucoromycota  p__Glomeromycota  \\\n",
       "0           99.009901  ...        86.785175         35.007547   \n",
       "1           67.904168  ...        73.063061         27.939985   \n",
       "2           41.088855  ...        47.127278          1.701346   \n",
       "3           42.488288  ...       101.508764          6.989128   \n",
       "4           51.049624  ...       493.950429          9.984729   \n",
       "..                ...  ...              ...               ...   \n",
       "73          29.144499  ...       354.041916          2.352438   \n",
       "74          19.413254  ...        34.921758        286.446822   \n",
       "75          45.718458  ...        45.856084         11.620207   \n",
       "76          65.964410  ...        28.655093         12.131353   \n",
       "77          12.622760  ...         3.980188          0.442243   \n",
       "\n",
       "    p__Monoblepharomycota  p__unclassified_Fungi  p__Zoopagomycota  \\\n",
       "0                0.209626             127.662251          0.000000   \n",
       "1                0.977899             144.030622          0.000000   \n",
       "2                1.701346              71.966926          0.000000   \n",
       "3                0.000000              64.122476          0.000000   \n",
       "4                0.587337              96.323270          0.000000   \n",
       "..                    ...                    ...               ...   \n",
       "73               0.106929              18.712575          0.855432   \n",
       "74               7.956856             438.069136          0.442048   \n",
       "75               0.624742              11.620207          2.623918   \n",
       "76               2.509935              24.262707          1.464129   \n",
       "77               0.663365               3.980188          0.000000   \n",
       "\n",
       "    p__Kickxellomycota  p__Olpidiomycota  p__Aphelidiomycota  \\\n",
       "0            11.739058               0.0            1.886634   \n",
       "1             7.264396               0.0            4.610098   \n",
       "2             4.593634               0.0            4.933903   \n",
       "3            18.193921               0.0            1.996894   \n",
       "4            14.096088               0.0            1.468343   \n",
       "..                 ...               ...                 ...   \n",
       "73           10.585971               0.0            0.534645   \n",
       "74            0.884095               0.0            0.000000   \n",
       "75            0.749691               0.0            0.249897   \n",
       "76            1.464129               0.0            0.209161   \n",
       "77            1.326729               0.0            0.000000   \n",
       "\n",
       "    p__Blastocladiomycota  p__Basidiobolomycota  \n",
       "0                4.611773              0.000000  \n",
       "1               15.366992              0.000000  \n",
       "2                0.510404              0.000000  \n",
       "3                0.000000              3.106279  \n",
       "4                1.468343              0.000000  \n",
       "..                    ...                   ...  \n",
       "73               0.000000              0.000000  \n",
       "74               0.000000              0.000000  \n",
       "75               0.124948              0.000000  \n",
       "76               0.000000              0.000000  \n",
       "77               0.000000              0.000000  \n",
       "\n",
       "[78 rows x 52 columns]"
      ]
     },
     "execution_count": 9,
     "metadata": {},
     "output_type": "execute_result"
    }
   ],
   "source": [
    "bact_ITS_noenv_df_list[3]"
   ]
  },
  {
   "cell_type": "code",
   "execution_count": 10,
   "metadata": {},
   "outputs": [],
   "source": [
    "df_list = []\n",
    "col_names_4taxa=[]\n",
    "for df in bact_ITS_noenv_df_list:\n",
    "    data = df.drop(df.columns[0], axis=1)# delete the response column\n",
    "    df_list.append(data)\n",
    "    cols_name = df.columns\n",
    "    col_names_4taxa.append(cols_name)"
   ]
  },
  {
   "cell_type": "code",
   "execution_count": null,
   "metadata": {},
   "outputs": [],
   "source": []
  },
  {
   "cell_type": "code",
   "execution_count": null,
   "metadata": {},
   "outputs": [],
   "source": []
  },
  {
   "cell_type": "code",
   "execution_count": null,
   "metadata": {},
   "outputs": [],
   "source": []
  },
  {
   "cell_type": "code",
   "execution_count": null,
   "metadata": {},
   "outputs": [],
   "source": []
  },
  {
   "cell_type": "markdown",
   "metadata": {},
   "source": [
    "#### OTU"
   ]
  },
  {
   "cell_type": "code",
   "execution_count": null,
   "metadata": {},
   "outputs": [],
   "source": []
  },
  {
   "cell_type": "markdown",
   "metadata": {},
   "source": [
    "##### 1. calculate H statistics for OTU/phylum/class/order (both 16s and ITS)"
   ]
  },
  {
   "cell_type": "code",
   "execution_count": null,
   "metadata": {},
   "outputs": [],
   "source": []
  },
  {
   "cell_type": "code",
   "execution_count": 11,
   "metadata": {},
   "outputs": [
    {
     "data": {
      "image/png": "[encoded data removed]",
      "text/plain": [
       "<Figure size 800x500 with 1 Axes>"
      ]
     },
     "metadata": {},
     "output_type": "display_data"
    },
    {
     "data": {
      "image/png": "[encoded data removed]",
      "text/plain": [
       "<Figure size 800x500 with 1 Axes>"
      ]
     },
     "metadata": {},
     "output_type": "display_data"
    },
    {
     "data": {
      "image/png": "[encoded data removed]",
      "text/plain": [
       "<Figure size 800x500 with 1 Axes>"
      ]
     },
     "metadata": {},
     "output_type": "display_data"
    },
    {
     "data": {
      "image/png": "[encoded data removed]",
      "text/plain": [
       "<Figure size 800x500 with 1 Axes>"
      ]
     },
     "metadata": {},
     "output_type": "display_data"
    }
   ],
   "source": [
    "data_4taxa = []\n",
    "weights_4taxa = []\n",
    "selectedOTU_index_4tax = []\n",
    "X_FS_4taxa = []\n",
    "selectedASVs_4taxa = []\n",
    "eps_4tax = []\n",
    "for df in df_list:\n",
    "    select_result = FS.SelectMicro_fun(df,y,threshold=0.001)\n",
    "    data_4taxa.append(select_result['relative_abundance_data'])\n",
    "    weights_4taxa.append(select_result['H_score'])\n",
    "    selectedOTU_index_4tax.append(select_result['selected_indices'])\n",
    "    X_FS_4taxa.append(select_result['selected_data'])\n",
    "    selectedASVs_4taxa.append(select_result['selected_columnames'])\n",
    "    eps = len(select_result['selected_indices'])\n",
    "    eps_4tax.append(eps)"
   ]
  },
  {
   "cell_type": "code",
   "execution_count": 12,
   "metadata": {
    "metadata": {}
   },
   "outputs": [
    {
     "name": "stdout",
     "output_type": "stream",
     "text": [
      "[241, 63, 110, 23]\n"
     ]
    }
   ],
   "source": [
    "print(eps_4tax)"
   ]
  },
  {
   "cell_type": "code",
   "execution_count": 13,
   "metadata": {},
   "outputs": [
    {
     "name": "stdout",
     "output_type": "stream",
     "text": [
      "7414\n",
      "177\n",
      "411\n",
      "51\n"
     ]
    }
   ],
   "source": [
    "for weight in weights_4taxa:\n",
    "    print(len(weight))"
   ]
  },
  {
   "cell_type": "code",
   "execution_count": 14,
   "metadata": {},
   "outputs": [
    {
     "data": {
      "text/plain": [
       "35.19353979026891"
      ]
     },
     "execution_count": 14,
     "metadata": {},
     "output_type": "execute_result"
    }
   ],
   "source": [
    "max(weights_4taxa[3])"
   ]
  },
  {
   "cell_type": "code",
   "execution_count": 15,
   "metadata": {},
   "outputs": [
    {
     "data": {
      "text/plain": [
       "4"
      ]
     },
     "execution_count": 15,
     "metadata": {},
     "output_type": "execute_result"
    }
   ],
   "source": [
    "len(selectedOTU_index_4tax)"
   ]
  },
  {
   "cell_type": "code",
   "execution_count": 16,
   "metadata": {},
   "outputs": [
    {
     "name": "stdout",
     "output_type": "stream",
     "text": [
      "Selected features in OTU : Index(['Otu00009', 'ITS00002', 'ITS00001', 'Otu00008', 'ITS00006', 'ITS00050',\n",
      "       'Otu00003', 'Otu00174', 'Otu00150', 'Otu00007',\n",
      "       ...\n",
      "       'Otu00116', 'Otu00359', 'ITS00115', 'ITS00159', 'ITS00213', 'Otu00067',\n",
      "       'Otu00146', 'ITS00025', 'Otu00165', 'Otu00070'],\n",
      "      dtype='object', length=241)\n",
      "Selected features in class : Index(['Clostridia', 'c__Dothideomycetes', 'c__Saccharomycetes',\n",
      "       'c__unclassified_Fungi', 'Bacilli', 'c__Agaricomycetes',\n",
      "       'c__Rhizophydiomycetes', 'k__Fungi_unclassified', 'Negativicutes',\n",
      "       'p__Ascomycota_unclassified', 'c__Glomeromycetes',\n",
      "       'c__unclassified_Rozellomycota', 'Subgroup_6',\n",
      "       'p__Chytridiomycota_unclassified', 'Deltaproteobacteria',\n",
      "       'Thermoanaerobaculia', 'Bacteria_unclassified', 'Nitrospira',\n",
      "       'c__Rozellomycotina_cls_Incertae_sedis', 'Subgroup_22',\n",
      "       'c__Orbiliomycetes', 'Subgroup_5', 'Blastocatellia_(Subgroup_4)',\n",
      "       'p__Basidiomycota_unclassified', 'Holophagae', 'Latescibacteria_cl',\n",
      "       'c__Laboulbeniomycetes', 'c__unclassified_Glomeromycota',\n",
      "       'Verrucomicrobiae', 'TK10', 'OM190', 'Phycisphaerae',\n",
      "       'Gemmatimonadetes', 'Fusobacteriia', 'Actinobacteria', 'Anaerolineae',\n",
      "       'c__Atractiellomycetes', 'Dehalococcoidia',\n",
      "       'c__unclassified_Chytridiomycota', 'Proteobacteria_unclassified',\n",
      "       'p__Glomeromycota_unclassified', 'c__Eurotiomycetes', 'JG30-KF-CM66',\n",
      "       'c__Tremellomycetes', 'Bacteroidia', 'Melainabacteria',\n",
      "       'c__Lobulomycetes', 'p__Mortierellomycota_unclassified',\n",
      "       'Acidobacteriia', 'Campylobacteria', 'c__Sanchytriomycetes',\n",
      "       'Subgroup_17', 'Parcubacteria', 'p__Rozellomycota_unclassified',\n",
      "       'Subgroup_11', 'Pla4_lineage', 'c__Cystobasidiomycetes',\n",
      "       'c__Paraglomeromycetes', 'c__Sordariomycetes', 'c__Pezizomycetes',\n",
      "       'c__Leotiomycetes', 'c__Mortierellomycetes', 'Ktedonobacteria'],\n",
      "      dtype='object')\n",
      "Selected features in order : Index(['Clostridiales', 'Lactobacillales', 'o__Pleosporales',\n",
      "       'o__Saccharomycetales', 'o__unclassified_Fungi', 'Bacteroidales',\n",
      "       'o__Rhizophydiales', 'k__Fungi_unclassified', 'Selenomonadales',\n",
      "       'p__Ascomycota_unclassified',\n",
      "       ...\n",
      "       'SBR1031', 'Pirellulales', 'o__Pezizales', 'Dongiales',\n",
      "       'o__Mortierellales', 'Gammaproteobacteria_Incertae_Sedis',\n",
      "       'Betaproteobacteriales', 'Parcubacteria_unclassified',\n",
      "       'o__Ophiostomatales', 'c__Microbotryomycetes_unclassified'],\n",
      "      dtype='object', length=110)\n",
      "Selected features in phylum : Index(['Firmicutes', 'p__unclassified_Fungi', 'p__Chytridiomycota',\n",
      "       'p__Glomeromycota', 'k__Fungi_unclassified', 'Acidobacteria',\n",
      "       'p__Rozellomycota', 'Bacteria_unclassified', 'Nitrospirae',\n",
      "       'Latescibacteria', 'p__Ascomycota', 'Verrucomicrobia',\n",
      "       'Gemmatimonadetes', 'Fusobacteria', 'Armatimonadetes', 'Cyanobacteria',\n",
      "       'Planctomycetes', 'Bacteroidetes', 'Patescibacteria',\n",
      "       'Epsilonbacteraeota', 'Elusimicrobia', 'p__Monoblepharomycota',\n",
      "       'p__Mortierellomycota'],\n",
      "      dtype='object')\n"
     ]
    }
   ],
   "source": [
    "for i in range(4):\n",
    "    print(f\"Selected features in {taxlabels[i]} : {selectedASVs_4taxa[i]}\")"
   ]
  },
  {
   "cell_type": "code",
   "execution_count": null,
   "metadata": {},
   "outputs": [],
   "source": []
  },
  {
   "cell_type": "markdown",
   "metadata": {},
   "source": [
    "##### 2. Select indices of the features based on H statistics and form the subset based on the selected features.\n",
    "The default p value of the function is 10%, the resulted index is ranked by its H statistics descendingly.\n",
    "\n",
    "Use \"indice_H_unisig\" if there is only one response, use \"indice_H_multisig\" for multiple responses."
   ]
  },
  {
   "cell_type": "markdown",
   "metadata": {},
   "source": [
    "weights_4taxa,selectedOTU_index_4tax,col_names_4taxa,eps_4tax"
   ]
  },
  {
   "cell_type": "code",
   "execution_count": null,
   "metadata": {},
   "outputs": [],
   "source": []
  },
  {
   "cell_type": "code",
   "execution_count": null,
   "metadata": {},
   "outputs": [],
   "source": []
  },
  {
   "cell_type": "code",
   "execution_count": null,
   "metadata": {},
   "outputs": [],
   "source": []
  },
  {
   "cell_type": "code",
   "execution_count": 17,
   "metadata": {},
   "outputs": [],
   "source": [
    "#plot the h statistics and cutoff descendingly\n",
    "#for i in range(len(weights_4taxa)):\n",
    "    #FS.plotWeightedIndex(weights_4taxa[i],threshold=eps_4tax[i])"
   ]
  },
  {
   "cell_type": "code",
   "execution_count": null,
   "metadata": {},
   "outputs": [],
   "source": []
  },
  {
   "cell_type": "markdown",
   "metadata": {},
   "source": [
    "#### 4. Model\n",
    "Prepare 4 datasets: full dataset, our selected dataset, Lasso selected  dataset(based on the target variable), randomly selected data (selected the same numer of variables as in our method)\n",
    "\n",
    "Use random forest and SVM as classifier, and will build both models for each response variable.\n",
    "\n",
    "For Lasso, the dataset will be determined by the response variable, so the lasso subset is different for the models for different response variables.\n",
    "\n",
    "For random selection, the  process will repeat iter=30 times to  find the mean accuracy and AUC\n",
    "\n",
    "SMOTE  is used (the data is not balanced, as we can see the performance is really bad especially for SVM model when not using SMOTE)"
   ]
  },
  {
   "cell_type": "code",
   "execution_count": 18,
   "metadata": {},
   "outputs": [],
   "source": [
    "iter =30\n",
    "cls = [\"RF\",\"SVM\", \"CatBoost\",\"NB\"]"
   ]
  },
  {
   "cell_type": "code",
   "execution_count": 19,
   "metadata": {},
   "outputs": [],
   "source": [
    "targetLabel=y"
   ]
  },
  {
   "cell_type": "code",
   "execution_count": 20,
   "metadata": {},
   "outputs": [
    {
     "name": "stdout",
     "output_type": "stream",
     "text": [
      "Best alpha: 0.1\n",
      "Best alpha: 0.05\n",
      "Best alpha: 0.05\n",
      "Best alpha: 0.05\n"
     ]
    }
   ],
   "source": [
    "data_subset_4taxa = []\n",
    "X_lasso_4taxa = []\n",
    "X_lasso_ft_4taxa = []\n",
    "xind_lasso_4taxa = []\n",
    "xind_lasso_ft_4taxa = []\n",
    "for i, data  in enumerate(data_4taxa):\n",
    "    X_lasso,xind_lasso = RunML_continue.LassoFeatureSelection(data,targetLabel)\n",
    "    X_lasso_ft,xind_lasso_ft = RunML_continue.LassoFS_CV(data,targetLabel)\n",
    "    X_lasso_4taxa.append(X_lasso)\n",
    "    X_lasso_ft_4taxa.append(X_lasso_ft)\n",
    "    xind_lasso_4taxa.append(xind_lasso)\n",
    "    xind_lasso_ft_4taxa.append(xind_lasso_ft)\n",
    "    data_subset = {\"AllFeatures\":data, \n",
    "                \"SelectMicro\": X_FS_4taxa[i],\n",
    "                \"Lasso\":X_lasso,\n",
    "                \"Lasso_finetune\":X_lasso_ft\n",
    "              }\n",
    "    data_subset_4taxa.append(data_subset)"
   ]
  },
  {
   "cell_type": "code",
   "execution_count": 21,
   "metadata": {},
   "outputs": [
    {
     "name": "stdout",
     "output_type": "stream",
     "text": [
      "OTU\n",
      "(78, 7414)\n",
      "(78, 241)\n",
      "(78, 37)\n",
      "(78, 9)\n",
      "class\n",
      "(78, 177)\n",
      "(78, 63)\n",
      "(78, 19)\n",
      "(78, 19)\n",
      "order\n",
      "(78, 411)\n",
      "(78, 110)\n",
      "(78, 23)\n",
      "(78, 23)\n",
      "phylum\n",
      "(78, 51)\n",
      "(78, 23)\n",
      "(78, 8)\n",
      "(78, 8)\n"
     ]
    }
   ],
   "source": [
    "for i, dataset  in enumerate(data_subset_4taxa):\n",
    "    data_subset = dataset\n",
    "    print(taxlabels[i])\n",
    "    for datatype, subset in data_subset.items():\n",
    "        print(np.shape(subset))"
   ]
  },
  {
   "cell_type": "code",
   "execution_count": 22,
   "metadata": {},
   "outputs": [],
   "source": [
    "with open('../data/data_subset_4taxa_paperthreshold.pkl', 'wb') as file:\n",
    "    pickle.dump(data_subset_4taxa, file)"
   ]
  },
  {
   "cell_type": "code",
   "execution_count": 23,
   "metadata": {},
   "outputs": [
    {
     "name": "stdout",
     "output_type": "stream",
     "text": [
      "OTU\n",
      "Best alpha: 0.1\n",
      "The shape of the FS_Lasso selected dataset is  (78, 27)\n",
      "The shape of the FS_Lasso_finetune selected dataset is  (78, 9)\n",
      "class\n",
      "Best alpha: 0.05\n",
      "The shape of the FS_Lasso selected dataset is  (78, 18)\n",
      "The shape of the FS_Lasso_finetune selected dataset is  (78, 18)\n",
      "order\n",
      "Best alpha: 0.05\n",
      "The shape of the FS_Lasso selected dataset is  (78, 20)\n",
      "The shape of the FS_Lasso_finetune selected dataset is  (78, 20)\n",
      "phylum\n",
      "Best alpha: 0.05\n",
      "The shape of the FS_Lasso selected dataset is  (78, 8)\n",
      "The shape of the FS_Lasso_finetune selected dataset is  (78, 8)\n"
     ]
    }
   ],
   "source": [
    "X_FS_lasso_4taxa = []\n",
    "selectedOTU_index_FS_lasso_4taxa = []\n",
    "X_FS_lassoft_4taxa = []\n",
    "selectedOTU_index_FS_lassoft_4taxa = []\n",
    "\n",
    "data_FS_lasso_4taxa = []\n",
    "\n",
    "for i, data  in enumerate(data_4taxa):\n",
    "    print(taxlabels[i])\n",
    "        \n",
    "    X_FS = X_FS_4taxa[i]\n",
    "    \n",
    "    X_FS_lasso,xlabel_FS_lasso = RunML_continue.LassoFeatureSelection(X_FS,targetLabel)# this is depend on the target variable(do not update here)\n",
    "    X_FS_lasso_4taxa.append(X_FS_lasso)\n",
    "    selectedOTU_index_FS_lasso_4taxa.append(np.array(selectedOTU_index_4tax[i])[xlabel_FS_lasso])\n",
    "\n",
    "    X_FS_lasso_ft,xlabel_FS_lasso_ft  = RunML_continue.LassoFS_CV(X_FS,targetLabel)\n",
    "    X_FS_lassoft_4taxa.append(X_FS_lasso_ft)\n",
    "    selectedOTU_index_FS_lassoft_4taxa.append(np.array(selectedOTU_index_4tax[i])[xlabel_FS_lasso_ft])\n",
    "    \n",
    "    \n",
    "    data_subset = {\"FS_Lasso\":X_FS_lasso,\n",
    "                \"FS_Lassofinetune\":X_FS_lasso_ft}\n",
    "\n",
    "    data_FS_lasso_4taxa.append(data_subset)\n",
    "    \n",
    "    print(f'The shape of the FS_Lasso selected dataset is ',np.shape(X_FS_lasso))\n",
    "    print(f'The shape of the FS_Lasso_finetune selected dataset is ',np.shape(X_FS_lasso_ft))\n"
   ]
  },
  {
   "cell_type": "code",
   "execution_count": 24,
   "metadata": {},
   "outputs": [],
   "source": [
    "with open('../data/data_FS_lasso_4taxa_paperthreshold.pkl', 'wb') as file:\n",
    "    pickle.dump(data_FS_lasso_4taxa, file)"
   ]
  },
  {
   "cell_type": "code",
   "execution_count": null,
   "metadata": {},
   "outputs": [],
   "source": []
  },
  {
   "cell_type": "code",
   "execution_count": 25,
   "metadata": {},
   "outputs": [],
   "source": [
    "#with open('../data/data_AE_4taxa.pkl', 'wb') as file:\n",
    "#    pickle.dump(data_AE_4taxa, file)"
   ]
  },
  {
   "cell_type": "markdown",
   "metadata": {},
   "source": [
    "### Fisher_discriminant_ratio\n",
    "\n",
    "The Fisher Discriminant Ratio is a measure used in statistics and machine learning to evaluate the separability between two or more classes. It is commonly used in Linear Discriminant Analysis (LDA) to reduce dimensionality while preserving as much of the class discriminatory information as possible.\n",
    "\n",
    "Fisher's Criterion / Fisher's Discriminant Ratio\n",
    "Fisher's discriminant ratio evaluates how well the classes can be separated based on the ratio of the between-class scatter matrix to the within-class scatter matrix."
   ]
  },
  {
   "cell_type": "code",
   "execution_count": null,
   "metadata": {},
   "outputs": [
    {
     "name": "stdout",
     "output_type": "stream",
     "text": [
      "Analysis of OTU\n"
     ]
    }
   ],
   "source": [
    "for i in range(len(taxlabels)):\n",
    "    print(f\"Analysis of {taxlabels[i]}\")\n",
    "    for datatype, subset in data_subset_4taxa[i].items():\n",
    "        print(f\"f1 of {datatype} = {metric.fisher_discriminant_ratio(subset,targetLabel)}\")\n",
    "    for datatype, subset in data_FS_lasso_4taxa[i].items():\n",
    "        print(f\"f1 of {datatype} = {metric.fisher_discriminant_ratio(subset,targetLabel)}\")\n"
   ]
  },
  {
   "cell_type": "code",
   "execution_count": null,
   "metadata": {},
   "outputs": [],
   "source": []
  },
  {
   "cell_type": "markdown",
   "metadata": {},
   "source": [
    "### compare the first 15 index by their present ratio"
   ]
  },
  {
   "cell_type": "code",
   "execution_count": null,
   "metadata": {
    "metadata": {},
    "scrolled": true
   },
   "outputs": [],
   "source": [
    "import seaborn as sns\n",
    "import numpy as np\n",
    "import matplotlib.pyplot as plt\n",
    "import matplotlib as mpl\n",
    "\n",
    "entries=15\n",
    "\n",
    "for i, data_FS in enumerate(X_FS_4taxa):\n",
    "    selectedASVs_15=selectedASVs_4taxa[i][:entries]\n",
    "    print(selectedASVs_15)\n",
    "    X_FS_15=data_FS[:,:entries]\n",
    "    print(X_FS_15.shape)\n",
    "    #df=pd.DataFrame(data=X_FS_15)\n",
    "    FS.plotPresenseRatio(X_FS_15,targetLabel,selectedASVs_15,posLabel=\"LONG\",posText=\"Long\",negText=\"short\")\n",
    "    FS.OTUviolin(X_FS_15,targetLabel,selectedASVs_15,y_max=0.5)"
   ]
  },
  {
   "cell_type": "code",
   "execution_count": null,
   "metadata": {
    "scrolled": true
   },
   "outputs": [],
   "source": [
    "for i, data_FS in enumerate(X_lasso_ft_4taxa):\n",
    "    selectedASVs_15=col_names_4taxa[i][xind_lasso_ft_4taxa[i]]\n",
    "    print(f\"Fine tuned Lasso selected {selectedASVs_15}\")\n",
    "    X_FS_15=data_4taxa[i][:,xind_lasso_ft_4taxa[i]]\n",
    "    #df=pd.DataFrame(data=X_FS_15)\n",
    "    FS.plotPresenseRatio(X_FS_15,targetLabel,selectedASVs_15,posLabel=\"LONG\",posText=\"Long\",negText=\"short\")\n",
    "    FS.OTUviolin(X_FS_15,targetLabel,selectedASVs_15,y_max=0.5) \n",
    "    "
   ]
  },
  {
   "cell_type": "code",
   "execution_count": null,
   "metadata": {},
   "outputs": [],
   "source": [
    "for i, data_FS in enumerate(X_FS_lassoft_4taxa):\n",
    "    selectedASVs_15=col_names_4taxa[i][selectedOTU_index_FS_lassoft_4taxa[i]]\n",
    "    print(f\"FS_Fine tuned Lasso selected {selectedASVs_15}\")\n",
    "    X_FS_15=data_4taxa[i][:,selectedOTU_index_FS_lassoft_4taxa[i]]\n",
    "    #df=pd.DataFrame(data=X_FS_15)\n",
    "    FS.plotPresenseRatio(X_FS_15,targetLabel,selectedASVs_15,posLabel=\"LONG\",posText=\"Long\",negText=\"short\")\n",
    "  "
   ]
  },
  {
   "cell_type": "code",
   "execution_count": null,
   "metadata": {},
   "outputs": [],
   "source": []
  },
  {
   "cell_type": "code",
   "execution_count": null,
   "metadata": {},
   "outputs": [],
   "source": []
  },
  {
   "cell_type": "code",
   "execution_count": null,
   "metadata": {},
   "outputs": [],
   "source": []
  },
  {
   "cell_type": "code",
   "execution_count": null,
   "metadata": {},
   "outputs": [],
   "source": []
  },
  {
   "cell_type": "code",
   "execution_count": null,
   "metadata": {},
   "outputs": [],
   "source": []
  },
  {
   "cell_type": "code",
   "execution_count": null,
   "metadata": {},
   "outputs": [],
   "source": []
  },
  {
   "cell_type": "code",
   "execution_count": null,
   "metadata": {},
   "outputs": [],
   "source": []
  },
  {
   "cell_type": "code",
   "execution_count": null,
   "metadata": {},
   "outputs": [],
   "source": []
  },
  {
   "cell_type": "code",
   "execution_count": null,
   "metadata": {},
   "outputs": [],
   "source": []
  },
  {
   "cell_type": "code",
   "execution_count": null,
   "metadata": {},
   "outputs": [],
   "source": []
  }
 ],
 "metadata": {
  "kernelspec": {
   "display_name": "Python 3 (ipykernel)",
   "language": "python",
   "name": "python3"
  },
  "language_info": {
   "codemirror_mode": {
    "name": "ipython",
    "version": 3
   },
   "file_extension": ".py",
   "mimetype": "text/x-python",
   "name": "python",
   "nbconvert_exporter": "python",
   "pygments_lexer": "ipython3",
   "version": "3.9.10"
  }
 },
 "nbformat": 4,
 "nbformat_minor": 4
}
