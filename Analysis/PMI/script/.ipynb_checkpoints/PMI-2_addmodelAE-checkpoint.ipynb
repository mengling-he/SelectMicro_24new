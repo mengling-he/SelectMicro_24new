{
 "cells": [
  {
   "attachments": {},
   "cell_type": "markdown",
   "metadata": {},
   "source": [
    "First, load the data,in this notebook we are using the PMI data from the paper:\"Environmental predictors impact microbialbased postmortem interval (PMI) estimation models within human decomposition soils\". The preprocessed data includes OTU/phylum/class/order abundance matrices (includes or not include environmental factors)"
   ]
  },
  {
   "cell_type": "code",
   "execution_count": 1,
   "metadata": {
    "metadata": {}
   },
   "outputs": [],
   "source": [
    "import sys\n",
    "sys.path.append('../../../Code')\n",
    "import loadData \n",
    "import RunML\n",
    "import RunML_continue\n",
    "import FS\n",
    "import metric\n",
    "\n"
   ]
  },
  {
   "cell_type": "code",
   "execution_count": 2,
   "metadata": {},
   "outputs": [],
   "source": [
    "import pandas as pd\n",
    "import numpy as np\n",
    "import random\n",
    "from sklearn.ensemble import RandomForestClassifier\n",
    "from sklearn.linear_model import LogisticRegression\n",
    "from sklearn import svm\n",
    "import pickle\n",
    "import matplotlib.pyplot as plt\n",
    "import glob\n",
    "import os"
   ]
  },
  {
   "cell_type": "code",
   "execution_count": 3,
   "metadata": {},
   "outputs": [],
   "source": [
    "PMIdata_path = '../data/count_table/'"
   ]
  },
  {
   "cell_type": "code",
   "execution_count": null,
   "metadata": {},
   "outputs": [],
   "source": []
  },
  {
   "cell_type": "markdown",
   "metadata": {},
   "source": [
    "## No env model\n",
    "16s (OTU/phylum/class/order) - no env\n",
    "\n",
    "ITS (OTU/phylum/class/order) - no env\n",
    "\n",
    "16s+ITS (OTU/phylum/class/order) - no env (only use this data when calculating H)\n",
    "bact.ITS.n.class.env"
   ]
  },
  {
   "cell_type": "markdown",
   "metadata": {},
   "source": [
    "### Data preprocess\n"
   ]
  },
  {
   "cell_type": "code",
   "execution_count": 4,
   "metadata": {},
   "outputs": [],
   "source": [
    "bact_ITS_noenv_files = glob.glob(PMIdata_path + 'bact.ITS.n.*.noenv.csv')\n"
   ]
  },
  {
   "cell_type": "code",
   "execution_count": 5,
   "metadata": {},
   "outputs": [
    {
     "data": {
      "text/plain": [
       "['../data/count_table/bact.ITS.n.otu.noenv.csv',\n",
       " '../data/count_table/bact.ITS.n.class.noenv.csv',\n",
       " '../data/count_table/bact.ITS.n.order.noenv.csv',\n",
       " '../data/count_table/bact.ITS.n.phylum.noenv.csv']"
      ]
     },
     "execution_count": 5,
     "metadata": {},
     "output_type": "execute_result"
    }
   ],
   "source": [
    "bact_ITS_noenv_files"
   ]
  },
  {
   "cell_type": "code",
   "execution_count": 6,
   "metadata": {
    "metadata": {}
   },
   "outputs": [],
   "source": [
    "# Read each CSV file into a list of dataframes\n",
    "bact_ITS_noenv_df_list = [pd.read_csv(file) for file in bact_ITS_noenv_files]"
   ]
  },
  {
   "cell_type": "code",
   "execution_count": 7,
   "metadata": {},
   "outputs": [
    {
     "name": "stdout",
     "output_type": "stream",
     "text": [
      "(78, 7415)\n",
      "(78, 178)\n",
      "(78, 412)\n",
      "(78, 52)\n"
     ]
    }
   ],
   "source": [
    "for df in bact_ITS_noenv_df_list:\n",
    "    print(df.shape)\n",
    "    \n"
   ]
  },
  {
   "cell_type": "code",
   "execution_count": 25,
   "metadata": {},
   "outputs": [
    {
     "name": "stdout",
     "output_type": "stream",
     "text": [
      "['SHORT' 'SHORT' 'SHORT' 'LONG' 'LONG' 'SHORT' 'SHORT' 'SHORT' 'SHORT'\n",
      " 'SHORT' 'SHORT' 'SHORT' 'LONG' 'LONG' 'SHORT' 'SHORT' 'LONG' 'LONG'\n",
      " 'LONG' 'SHORT' 'LONG' 'LONG' 'SHORT' 'SHORT' 'LONG' 'LONG' 'SHORT'\n",
      " 'SHORT' 'LONG' 'LONG' 'SHORT' 'SHORT' 'LONG' 'LONG' 'SHORT' 'SHORT'\n",
      " 'LONG' 'LONG' 'SHORT' 'SHORT' 'LONG' 'LONG' 'SHORT' 'SHORT' 'LONG' 'LONG'\n",
      " 'SHORT' 'SHORT' 'LONG' 'LONG' 'SHORT' 'SHORT' 'LONG' 'LONG' 'SHORT'\n",
      " 'SHORT' 'LONG' 'LONG' 'SHORT' 'SHORT' 'LONG' 'LONG' 'SHORT' 'SHORT'\n",
      " 'LONG' 'LONG' 'SHORT' 'SHORT' 'SHORT' 'SHORT' 'SHORT' 'SHORT' 'LONG'\n",
      " 'LONG' 'SHORT' 'SHORT' 'LONG' 'LONG']\n",
      "35\n",
      "43\n"
     ]
    }
   ],
   "source": [
    "# target variable\n",
    "y = bact_ITS_noenv_df_list[3].iloc[:, 0].values \n",
    "\n",
    "# Define the threshold\n",
    "y_threshold = 2500\n",
    "\n",
    "# Categorize the series based on the threshold\n",
    "y = np.where(y > y_threshold, 'LONG', 'SHORT')\n",
    "\n",
    "print(y)\n",
    "\n",
    "print(list(y).count('LONG'))\n",
    "print(list(y).count('SHORT'))"
   ]
  },
  {
   "cell_type": "code",
   "execution_count": 9,
   "metadata": {},
   "outputs": [
    {
     "data": {
      "text/html": [
       "<div>\n",
       "<style scoped>\n",
       "    .dataframe tbody tr th:only-of-type {\n",
       "        vertical-align: middle;\n",
       "    }\n",
       "\n",
       "    .dataframe tbody tr th {\n",
       "        vertical-align: top;\n",
       "    }\n",
       "\n",
       "    .dataframe thead th {\n",
       "        text-align: right;\n",
       "    }\n",
       "</style>\n",
       "<table border=\"1\" class=\"dataframe\">\n",
       "  <thead>\n",
       "    <tr style=\"text-align: right;\">\n",
       "      <th></th>\n",
       "      <th>ADH_10_actual</th>\n",
       "      <th>Proteobacteria</th>\n",
       "      <th>Verrucomicrobia</th>\n",
       "      <th>Acidobacteria</th>\n",
       "      <th>Actinobacteria</th>\n",
       "      <th>Firmicutes</th>\n",
       "      <th>Bacteroidetes</th>\n",
       "      <th>Chloroflexi</th>\n",
       "      <th>Rokubacteria</th>\n",
       "      <th>Entotheonellaeota</th>\n",
       "      <th>...</th>\n",
       "      <th>p__Mucoromycota</th>\n",
       "      <th>p__Glomeromycota</th>\n",
       "      <th>p__Monoblepharomycota</th>\n",
       "      <th>p__unclassified_Fungi</th>\n",
       "      <th>p__Zoopagomycota</th>\n",
       "      <th>p__Kickxellomycota</th>\n",
       "      <th>p__Olpidiomycota</th>\n",
       "      <th>p__Aphelidiomycota</th>\n",
       "      <th>p__Blastocladiomycota</th>\n",
       "      <th>p__Basidiobolomycota</th>\n",
       "    </tr>\n",
       "  </thead>\n",
       "  <tbody>\n",
       "    <tr>\n",
       "      <th>0</th>\n",
       "      <td>0.00000</td>\n",
       "      <td>2405.899397</td>\n",
       "      <td>957.553453</td>\n",
       "      <td>1988.986693</td>\n",
       "      <td>2524.409168</td>\n",
       "      <td>92.418396</td>\n",
       "      <td>311.448621</td>\n",
       "      <td>526.359155</td>\n",
       "      <td>123.316076</td>\n",
       "      <td>99.009901</td>\n",
       "      <td>...</td>\n",
       "      <td>86.785175</td>\n",
       "      <td>35.007547</td>\n",
       "      <td>0.209626</td>\n",
       "      <td>127.662251</td>\n",
       "      <td>0.000000</td>\n",
       "      <td>11.739058</td>\n",
       "      <td>0.0</td>\n",
       "      <td>1.886634</td>\n",
       "      <td>4.611773</td>\n",
       "      <td>0.000000</td>\n",
       "    </tr>\n",
       "    <tr>\n",
       "      <th>1</th>\n",
       "      <td>1484.14700</td>\n",
       "      <td>3209.276660</td>\n",
       "      <td>757.215776</td>\n",
       "      <td>1727.647573</td>\n",
       "      <td>1840.003679</td>\n",
       "      <td>226.398320</td>\n",
       "      <td>680.881068</td>\n",
       "      <td>465.059244</td>\n",
       "      <td>117.874278</td>\n",
       "      <td>67.904168</td>\n",
       "      <td>...</td>\n",
       "      <td>73.063061</td>\n",
       "      <td>27.939985</td>\n",
       "      <td>0.977899</td>\n",
       "      <td>144.030622</td>\n",
       "      <td>0.000000</td>\n",
       "      <td>7.264396</td>\n",
       "      <td>0.0</td>\n",
       "      <td>4.610098</td>\n",
       "      <td>15.366992</td>\n",
       "      <td>0.000000</td>\n",
       "    </tr>\n",
       "    <tr>\n",
       "      <th>2</th>\n",
       "      <td>1989.56009</td>\n",
       "      <td>3829.070365</td>\n",
       "      <td>412.942989</td>\n",
       "      <td>821.982537</td>\n",
       "      <td>1300.667694</td>\n",
       "      <td>389.111454</td>\n",
       "      <td>2416.230098</td>\n",
       "      <td>276.938880</td>\n",
       "      <td>48.073960</td>\n",
       "      <td>41.088855</td>\n",
       "      <td>...</td>\n",
       "      <td>47.127278</td>\n",
       "      <td>1.701346</td>\n",
       "      <td>1.701346</td>\n",
       "      <td>71.966926</td>\n",
       "      <td>0.000000</td>\n",
       "      <td>4.593634</td>\n",
       "      <td>0.0</td>\n",
       "      <td>4.933903</td>\n",
       "      <td>0.510404</td>\n",
       "      <td>0.000000</td>\n",
       "    </tr>\n",
       "    <tr>\n",
       "      <th>3</th>\n",
       "      <td>2973.68000</td>\n",
       "      <td>3194.403374</td>\n",
       "      <td>419.280034</td>\n",
       "      <td>848.987596</td>\n",
       "      <td>1688.948376</td>\n",
       "      <td>1069.522046</td>\n",
       "      <td>1868.083981</td>\n",
       "      <td>287.613030</td>\n",
       "      <td>65.055328</td>\n",
       "      <td>42.488288</td>\n",
       "      <td>...</td>\n",
       "      <td>101.508764</td>\n",
       "      <td>6.989128</td>\n",
       "      <td>0.000000</td>\n",
       "      <td>64.122476</td>\n",
       "      <td>0.000000</td>\n",
       "      <td>18.193921</td>\n",
       "      <td>0.0</td>\n",
       "      <td>1.996894</td>\n",
       "      <td>0.000000</td>\n",
       "      <td>3.106279</td>\n",
       "    </tr>\n",
       "    <tr>\n",
       "      <th>4</th>\n",
       "      <td>4027.69203</td>\n",
       "      <td>3694.823154</td>\n",
       "      <td>475.772750</td>\n",
       "      <td>833.851140</td>\n",
       "      <td>1209.230357</td>\n",
       "      <td>465.538458</td>\n",
       "      <td>2514.224448</td>\n",
       "      <td>230.271574</td>\n",
       "      <td>60.065548</td>\n",
       "      <td>51.049624</td>\n",
       "      <td>...</td>\n",
       "      <td>493.950429</td>\n",
       "      <td>9.984729</td>\n",
       "      <td>0.587337</td>\n",
       "      <td>96.323270</td>\n",
       "      <td>0.000000</td>\n",
       "      <td>14.096088</td>\n",
       "      <td>0.0</td>\n",
       "      <td>1.468343</td>\n",
       "      <td>1.468343</td>\n",
       "      <td>0.000000</td>\n",
       "    </tr>\n",
       "    <tr>\n",
       "      <th>...</th>\n",
       "      <td>...</td>\n",
       "      <td>...</td>\n",
       "      <td>...</td>\n",
       "      <td>...</td>\n",
       "      <td>...</td>\n",
       "      <td>...</td>\n",
       "      <td>...</td>\n",
       "      <td>...</td>\n",
       "      <td>...</td>\n",
       "      <td>...</td>\n",
       "      <td>...</td>\n",
       "      <td>...</td>\n",
       "      <td>...</td>\n",
       "      <td>...</td>\n",
       "      <td>...</td>\n",
       "      <td>...</td>\n",
       "      <td>...</td>\n",
       "      <td>...</td>\n",
       "      <td>...</td>\n",
       "      <td>...</td>\n",
       "      <td>...</td>\n",
       "    </tr>\n",
       "    <tr>\n",
       "      <th>73</th>\n",
       "      <td>4447.32241</td>\n",
       "      <td>2456.386357</td>\n",
       "      <td>702.629879</td>\n",
       "      <td>1096.355563</td>\n",
       "      <td>2612.831828</td>\n",
       "      <td>1416.120207</td>\n",
       "      <td>209.098033</td>\n",
       "      <td>519.102019</td>\n",
       "      <td>161.669485</td>\n",
       "      <td>29.144499</td>\n",
       "      <td>...</td>\n",
       "      <td>354.041916</td>\n",
       "      <td>2.352438</td>\n",
       "      <td>0.106929</td>\n",
       "      <td>18.712575</td>\n",
       "      <td>0.855432</td>\n",
       "      <td>10.585971</td>\n",
       "      <td>0.0</td>\n",
       "      <td>0.534645</td>\n",
       "      <td>0.000000</td>\n",
       "      <td>0.000000</td>\n",
       "    </tr>\n",
       "    <tr>\n",
       "      <th>74</th>\n",
       "      <td>0.00000</td>\n",
       "      <td>2919.908680</td>\n",
       "      <td>1004.519405</td>\n",
       "      <td>1906.070913</td>\n",
       "      <td>954.200252</td>\n",
       "      <td>28.421004</td>\n",
       "      <td>1003.432263</td>\n",
       "      <td>630.853096</td>\n",
       "      <td>87.437295</td>\n",
       "      <td>19.413254</td>\n",
       "      <td>...</td>\n",
       "      <td>34.921758</td>\n",
       "      <td>286.446822</td>\n",
       "      <td>7.956856</td>\n",
       "      <td>438.069136</td>\n",
       "      <td>0.442048</td>\n",
       "      <td>0.884095</td>\n",
       "      <td>0.0</td>\n",
       "      <td>0.000000</td>\n",
       "      <td>0.000000</td>\n",
       "      <td>0.000000</td>\n",
       "    </tr>\n",
       "    <tr>\n",
       "      <th>75</th>\n",
       "      <td>1477.74800</td>\n",
       "      <td>4411.744255</td>\n",
       "      <td>735.145847</td>\n",
       "      <td>1127.142509</td>\n",
       "      <td>1262.559538</td>\n",
       "      <td>178.006467</td>\n",
       "      <td>886.381810</td>\n",
       "      <td>434.238431</td>\n",
       "      <td>128.985155</td>\n",
       "      <td>45.718458</td>\n",
       "      <td>...</td>\n",
       "      <td>45.856084</td>\n",
       "      <td>11.620207</td>\n",
       "      <td>0.624742</td>\n",
       "      <td>11.620207</td>\n",
       "      <td>2.623918</td>\n",
       "      <td>0.749691</td>\n",
       "      <td>0.0</td>\n",
       "      <td>0.249897</td>\n",
       "      <td>0.124948</td>\n",
       "      <td>0.000000</td>\n",
       "    </tr>\n",
       "    <tr>\n",
       "      <th>76</th>\n",
       "      <td>2554.43400</td>\n",
       "      <td>2821.384741</td>\n",
       "      <td>962.492330</td>\n",
       "      <td>1377.965842</td>\n",
       "      <td>1773.368787</td>\n",
       "      <td>586.137247</td>\n",
       "      <td>543.055840</td>\n",
       "      <td>570.541010</td>\n",
       "      <td>179.740233</td>\n",
       "      <td>65.964410</td>\n",
       "      <td>...</td>\n",
       "      <td>28.655093</td>\n",
       "      <td>12.131353</td>\n",
       "      <td>2.509935</td>\n",
       "      <td>24.262707</td>\n",
       "      <td>1.464129</td>\n",
       "      <td>1.464129</td>\n",
       "      <td>0.0</td>\n",
       "      <td>0.209161</td>\n",
       "      <td>0.000000</td>\n",
       "      <td>0.000000</td>\n",
       "    </tr>\n",
       "    <tr>\n",
       "      <th>77</th>\n",
       "      <td>4536.41300</td>\n",
       "      <td>2756.755257</td>\n",
       "      <td>598.263330</td>\n",
       "      <td>755.701049</td>\n",
       "      <td>2031.293347</td>\n",
       "      <td>2164.733951</td>\n",
       "      <td>366.892304</td>\n",
       "      <td>511.845975</td>\n",
       "      <td>93.907784</td>\n",
       "      <td>12.622760</td>\n",
       "      <td>...</td>\n",
       "      <td>3.980188</td>\n",
       "      <td>0.442243</td>\n",
       "      <td>0.663365</td>\n",
       "      <td>3.980188</td>\n",
       "      <td>0.000000</td>\n",
       "      <td>1.326729</td>\n",
       "      <td>0.0</td>\n",
       "      <td>0.000000</td>\n",
       "      <td>0.000000</td>\n",
       "      <td>0.000000</td>\n",
       "    </tr>\n",
       "  </tbody>\n",
       "</table>\n",
       "<p>78 rows × 52 columns</p>\n",
       "</div>"
      ],
      "text/plain": [
       "    ADH_10_actual  Proteobacteria  Verrucomicrobia  Acidobacteria  \\\n",
       "0         0.00000     2405.899397       957.553453    1988.986693   \n",
       "1      1484.14700     3209.276660       757.215776    1727.647573   \n",
       "2      1989.56009     3829.070365       412.942989     821.982537   \n",
       "3      2973.68000     3194.403374       419.280034     848.987596   \n",
       "4      4027.69203     3694.823154       475.772750     833.851140   \n",
       "..            ...             ...              ...            ...   \n",
       "73     4447.32241     2456.386357       702.629879    1096.355563   \n",
       "74        0.00000     2919.908680      1004.519405    1906.070913   \n",
       "75     1477.74800     4411.744255       735.145847    1127.142509   \n",
       "76     2554.43400     2821.384741       962.492330    1377.965842   \n",
       "77     4536.41300     2756.755257       598.263330     755.701049   \n",
       "\n",
       "    Actinobacteria   Firmicutes  Bacteroidetes  Chloroflexi  Rokubacteria  \\\n",
       "0      2524.409168    92.418396     311.448621   526.359155    123.316076   \n",
       "1      1840.003679   226.398320     680.881068   465.059244    117.874278   \n",
       "2      1300.667694   389.111454    2416.230098   276.938880     48.073960   \n",
       "3      1688.948376  1069.522046    1868.083981   287.613030     65.055328   \n",
       "4      1209.230357   465.538458    2514.224448   230.271574     60.065548   \n",
       "..             ...          ...            ...          ...           ...   \n",
       "73     2612.831828  1416.120207     209.098033   519.102019    161.669485   \n",
       "74      954.200252    28.421004    1003.432263   630.853096     87.437295   \n",
       "75     1262.559538   178.006467     886.381810   434.238431    128.985155   \n",
       "76     1773.368787   586.137247     543.055840   570.541010    179.740233   \n",
       "77     2031.293347  2164.733951     366.892304   511.845975     93.907784   \n",
       "\n",
       "    Entotheonellaeota  ...  p__Mucoromycota  p__Glomeromycota  \\\n",
       "0           99.009901  ...        86.785175         35.007547   \n",
       "1           67.904168  ...        73.063061         27.939985   \n",
       "2           41.088855  ...        47.127278          1.701346   \n",
       "3           42.488288  ...       101.508764          6.989128   \n",
       "4           51.049624  ...       493.950429          9.984729   \n",
       "..                ...  ...              ...               ...   \n",
       "73          29.144499  ...       354.041916          2.352438   \n",
       "74          19.413254  ...        34.921758        286.446822   \n",
       "75          45.718458  ...        45.856084         11.620207   \n",
       "76          65.964410  ...        28.655093         12.131353   \n",
       "77          12.622760  ...         3.980188          0.442243   \n",
       "\n",
       "    p__Monoblepharomycota  p__unclassified_Fungi  p__Zoopagomycota  \\\n",
       "0                0.209626             127.662251          0.000000   \n",
       "1                0.977899             144.030622          0.000000   \n",
       "2                1.701346              71.966926          0.000000   \n",
       "3                0.000000              64.122476          0.000000   \n",
       "4                0.587337              96.323270          0.000000   \n",
       "..                    ...                    ...               ...   \n",
       "73               0.106929              18.712575          0.855432   \n",
       "74               7.956856             438.069136          0.442048   \n",
       "75               0.624742              11.620207          2.623918   \n",
       "76               2.509935              24.262707          1.464129   \n",
       "77               0.663365               3.980188          0.000000   \n",
       "\n",
       "    p__Kickxellomycota  p__Olpidiomycota  p__Aphelidiomycota  \\\n",
       "0            11.739058               0.0            1.886634   \n",
       "1             7.264396               0.0            4.610098   \n",
       "2             4.593634               0.0            4.933903   \n",
       "3            18.193921               0.0            1.996894   \n",
       "4            14.096088               0.0            1.468343   \n",
       "..                 ...               ...                 ...   \n",
       "73           10.585971               0.0            0.534645   \n",
       "74            0.884095               0.0            0.000000   \n",
       "75            0.749691               0.0            0.249897   \n",
       "76            1.464129               0.0            0.209161   \n",
       "77            1.326729               0.0            0.000000   \n",
       "\n",
       "    p__Blastocladiomycota  p__Basidiobolomycota  \n",
       "0                4.611773              0.000000  \n",
       "1               15.366992              0.000000  \n",
       "2                0.510404              0.000000  \n",
       "3                0.000000              3.106279  \n",
       "4                1.468343              0.000000  \n",
       "..                    ...                   ...  \n",
       "73               0.000000              0.000000  \n",
       "74               0.000000              0.000000  \n",
       "75               0.124948              0.000000  \n",
       "76               0.000000              0.000000  \n",
       "77               0.000000              0.000000  \n",
       "\n",
       "[78 rows x 52 columns]"
      ]
     },
     "execution_count": 9,
     "metadata": {},
     "output_type": "execute_result"
    }
   ],
   "source": [
    "bact_ITS_noenv_df_list[3]"
   ]
  },
  {
   "cell_type": "code",
   "execution_count": null,
   "metadata": {},
   "outputs": [],
   "source": [
    "df_list = []\n",
    "col_names_4taxa=[]\n",
    "for df in bact_ITS_noenv_df_list:\n",
    "    data = df.drop(df.columns[0], axis=1)# delete the response column\n",
    "    df_list.append(data)\n",
    "    cols_name = df.columns.tolist()\n",
    "    col_names_4taxa.append(cols_name)"
   ]
  },
  {
   "cell_type": "code",
   "execution_count": null,
   "metadata": {},
   "outputs": [],
   "source": []
  },
  {
   "cell_type": "code",
   "execution_count": null,
   "metadata": {},
   "outputs": [],
   "source": []
  },
  {
   "cell_type": "code",
   "execution_count": null,
   "metadata": {},
   "outputs": [],
   "source": []
  },
  {
   "cell_type": "code",
   "execution_count": null,
   "metadata": {},
   "outputs": [],
   "source": []
  },
  {
   "cell_type": "markdown",
   "metadata": {},
   "source": [
    "#### OTU"
   ]
  },
  {
   "cell_type": "code",
   "execution_count": null,
   "metadata": {},
   "outputs": [],
   "source": []
  },
  {
   "cell_type": "markdown",
   "metadata": {},
   "source": [
    "##### 1. calculate H statistics for OTU/phylum/class/order (both 16s and ITS)"
   ]
  },
  {
   "cell_type": "code",
   "execution_count": null,
   "metadata": {},
   "outputs": [],
   "source": []
  },
  {
   "cell_type": "code",
   "execution_count": 12,
   "metadata": {},
   "outputs": [
    {
     "data": {
      "image/png": "[encoded data removed]",
      "text/plain": [
       "<Figure size 800x500 with 1 Axes>"
      ]
     },
     "metadata": {},
     "output_type": "display_data"
    },
    {
     "data": {
      "image/png": "[encoded data removed]",
      "text/plain": [
       "<Figure size 800x500 with 1 Axes>"
      ]
     },
     "metadata": {},
     "output_type": "display_data"
    },
    {
     "data": {
      "image/png": "[encoded data removed]",
      "text/plain": [
       "<Figure size 800x500 with 1 Axes>"
      ]
     },
     "metadata": {},
     "output_type": "display_data"
    },
    {
     "data": {
      "image/png": "[encoded data removed]",
      "text/plain": [
       "<Figure size 800x500 with 1 Axes>"
      ]
     },
     "metadata": {},
     "output_type": "display_data"
    }
   ],
   "source": [
    "data_4taxa = []\n",
    "weights_4taxa = []\n",
    "selectedOTU_index_4tax = []\n",
    "X_FS_4taxa = []\n",
    "selectedASVs_4taxa = []\n",
    "eps_4tax = []\n",
    "for df in df_list:\n",
    "    select_result = FS.SelectMicro_fun(df,y)\n",
    "    data_4taxa.append(select_result['relative_abundance_data'])\n",
    "    weights_4taxa.append(select_result['H_score'])\n",
    "    selectedOTU_index_4tax.append(select_result['selected_indices'])\n",
    "    X_FS_4taxa.append(select_result['selected_data'])\n",
    "    selectedASVs_4taxa.append(select_result['selected_columnames'])\n",
    "    eps = len(select_result['selected_indices'])\n",
    "    eps_4tax.append(eps)"
   ]
  },
  {
   "cell_type": "code",
   "execution_count": 26,
   "metadata": {
    "metadata": {}
   },
   "outputs": [
    {
     "name": "stdout",
     "output_type": "stream",
     "text": [
      "[21, 26, 35, 16]\n"
     ]
    }
   ],
   "source": [
    "print(eps_4tax)"
   ]
  },
  {
   "cell_type": "code",
   "execution_count": 13,
   "metadata": {},
   "outputs": [
    {
     "name": "stdout",
     "output_type": "stream",
     "text": [
      "7415\n",
      "178\n",
      "412\n",
      "52\n"
     ]
    }
   ],
   "source": [
    "for weight in weights_4taxa:\n",
    "    print(len(weight))"
   ]
  },
  {
   "cell_type": "code",
   "execution_count": 14,
   "metadata": {},
   "outputs": [
    {
     "data": {
      "text/plain": [
       "57.987849472023"
      ]
     },
     "execution_count": 14,
     "metadata": {},
     "output_type": "execute_result"
    }
   ],
   "source": [
    "max(weights_4taxa[3])"
   ]
  },
  {
   "cell_type": "code",
   "execution_count": 27,
   "metadata": {},
   "outputs": [
    {
     "data": {
      "text/plain": [
       "array([[0.        , 0.12030841, 0.04788302, ..., 0.        , 0.        ,\n",
       "        0.        ],\n",
       "       [0.06908251, 0.14938202, 0.03524608, ..., 0.        , 0.        ,\n",
       "        0.        ],\n",
       "       [0.09048533, 0.17414639, 0.01878068, ..., 0.        , 0.        ,\n",
       "        0.        ],\n",
       "       ...,\n",
       "       [0.06880368, 0.20541   , 0.03422826, ..., 0.        , 0.        ,\n",
       "        0.        ],\n",
       "       [0.11325833, 0.12509437, 0.04267492, ..., 0.        , 0.        ,\n",
       "        0.        ],\n",
       "       [0.18488911, 0.11235618, 0.02438322, ..., 0.        , 0.        ,\n",
       "        0.        ]])"
      ]
     },
     "execution_count": 27,
     "metadata": {},
     "output_type": "execute_result"
    }
   ],
   "source": []
  },
  {
   "cell_type": "code",
   "execution_count": null,
   "metadata": {},
   "outputs": [],
   "source": []
  },
  {
   "cell_type": "code",
   "execution_count": null,
   "metadata": {},
   "outputs": [],
   "source": []
  },
  {
   "cell_type": "markdown",
   "metadata": {},
   "source": [
    "##### 2. Select indices of the features based on H statistics and form the subset based on the selected features.\n",
    "The default p value of the function is 10%, the resulted index is ranked by its H statistics descendingly.\n",
    "\n",
    "Use \"indice_H_unisig\" if there is only one response, use \"indice_H_multisig\" for multiple responses."
   ]
  },
  {
   "cell_type": "markdown",
   "metadata": {},
   "source": [
    "weights_4taxa,selectedOTU_index_4tax,col_names_4taxa,eps_4tax"
   ]
  },
  {
   "cell_type": "code",
   "execution_count": null,
   "metadata": {},
   "outputs": [],
   "source": []
  },
  {
   "cell_type": "code",
   "execution_count": null,
   "metadata": {},
   "outputs": [],
   "source": []
  },
  {
   "cell_type": "code",
   "execution_count": null,
   "metadata": {},
   "outputs": [],
   "source": []
  },
  {
   "cell_type": "code",
   "execution_count": 15,
   "metadata": {},
   "outputs": [],
   "source": [
    "#plot the h statistics and cutoff descendingly\n",
    "#for i in range(len(weights_4taxa)):\n",
    "    #FS.plotWeightedIndex(weights_4taxa[i],threshold=eps_4tax[i])"
   ]
  },
  {
   "cell_type": "code",
   "execution_count": null,
   "metadata": {},
   "outputs": [],
   "source": []
  },
  {
   "cell_type": "markdown",
   "metadata": {},
   "source": [
    "#### 4. Model\n",
    "Prepare 4 datasets: full dataset, our selected dataset, Lasso selected  dataset(based on the target variable), randomly selected data (selected the same numer of variables as in our method)\n",
    "\n",
    "Use random forest and SVM as classifier, and will build both models for each response variable.\n",
    "\n",
    "For Lasso, the dataset will be determined by the response variable, so the lasso subset is different for the models for different response variables.\n",
    "\n",
    "For random selection, the  process will repeat iter=30 times to  find the mean accuracy and AUC\n",
    "\n",
    "SMOTE  is used (the data is not balanced, as we can see the performance is really bad especially for SVM model when not using SMOTE)"
   ]
  },
  {
   "cell_type": "code",
   "execution_count": 16,
   "metadata": {},
   "outputs": [],
   "source": [
    "iter =30\n",
    "cls = [\"RF\",\"SVM\", \"CatBoost\",\"NB\"]"
   ]
  },
  {
   "cell_type": "code",
   "execution_count": 17,
   "metadata": {},
   "outputs": [],
   "source": [
    "targetLabel=y"
   ]
  },
  {
   "cell_type": "code",
   "execution_count": 18,
   "metadata": {},
   "outputs": [
    {
     "name": "stdout",
     "output_type": "stream",
     "text": [
      "Best alpha: 0.05\n",
      "Best alpha: 0.05\n",
      "Best alpha: 0.05\n",
      "Best alpha: 0.05\n"
     ]
    }
   ],
   "source": [
    "data_subset_4taxa = []\n",
    "X_lasso_4taxa = []\n",
    "X_lasso_ft_4taxa = []\n",
    "xind_lasso_4taxa = []\n",
    "xind_lasso_ft_4taxa = []\n",
    "for i, data  in enumerate(data_4taxa):\n",
    "    X_lasso,xind_lasso = RunML_continue.LassoFeatureSelection(data,targetLabel)\n",
    "    X_lasso_ft,xind_lasso_ft = RunML_continue.LassoFS_CV(data,targetLabel)\n",
    "    X_lasso_4taxa.append(X_lasso)\n",
    "    X_lasso_ft_4taxa.append(X_lasso_ft)\n",
    "    xind_lasso_4taxa.append(xind_lasso)\n",
    "    xind_lasso_ft_4taxa.append(xind_lasso_ft)\n",
    "    data_subset = {\"AllFeatures\":data, \n",
    "                \"SelectMicro\": X_FS_4taxa[i],\n",
    "                \"Lasso\":X_lasso,\n",
    "                \"Lasso_finetune\":X_lasso_ft,\n",
    "                \"Random\":data\n",
    "              }\n",
    "    data_subset_4taxa.append(data_subset)"
   ]
  },
  {
   "cell_type": "code",
   "execution_count": 19,
   "metadata": {},
   "outputs": [
    {
     "name": "stdout",
     "output_type": "stream",
     "text": [
      "(78, 7415)\n",
      "(78, 21)\n",
      "(78, 7)\n",
      "(78, 7)\n",
      "(78, 7415)\n",
      "(78, 178)\n",
      "(78, 26)\n",
      "(78, 3)\n",
      "(78, 3)\n",
      "(78, 178)\n",
      "(78, 412)\n",
      "(78, 35)\n",
      "(78, 3)\n",
      "(78, 3)\n",
      "(78, 412)\n",
      "(78, 52)\n",
      "(78, 16)\n",
      "(78, 4)\n",
      "(78, 4)\n",
      "(78, 52)\n"
     ]
    }
   ],
   "source": [
    "for dataset  in data_subset_4taxa:\n",
    "    data_subset = dataset\n",
    "    for datatype, subset in data_subset.items():\n",
    "        print(np.shape(subset))"
   ]
  },
  {
   "cell_type": "code",
   "execution_count": 20,
   "metadata": {},
   "outputs": [],
   "source": [
    "with open('../data/data_subset_4taxa_noenv_updatefunction.pkl', 'wb') as file:\n",
    "    pickle.dump(data_subset_4taxa, file)"
   ]
  },
  {
   "cell_type": "markdown",
   "metadata": {},
   "source": [
    "The  function will print out the accuracy and AUC for each dataset using each classifier, and also will return the y_actual, y_predict, y_predprob for future use."
   ]
  },
  {
   "cell_type": "code",
   "execution_count": 21,
   "metadata": {},
   "outputs": [],
   "source": [
    "#dict_cm = RunML_continue.runClassifier_FScompare(data_subsets= data_subset,y= targetLabel,N=iter,classifiers=cls)"
   ]
  },
  {
   "cell_type": "code",
   "execution_count": 22,
   "metadata": {},
   "outputs": [
    {
     "data": {
      "text/plain": [
       "[array([   0,    8,   20,   41,   65, 5201, 5243]),\n",
       " array([  0,   8, 127]),\n",
       " array([ 0,  7, 79]),\n",
       " array([ 0,  1,  5, 40])]"
      ]
     },
     "execution_count": 22,
     "metadata": {},
     "output_type": "execute_result"
    }
   ],
   "source": [
    "xind_lasso_4taxa"
   ]
  },
  {
   "cell_type": "code",
   "execution_count": 23,
   "metadata": {},
   "outputs": [
    {
     "ename": "TypeError",
     "evalue": "len() takes exactly one argument (0 given)",
     "output_type": "error",
     "traceback": [
      "\u001b[0;31m---------------------------------------------------------------------------\u001b[0m",
      "\u001b[0;31mTypeError\u001b[0m                                 Traceback (most recent call last)",
      "Cell \u001b[0;32mIn[23], line 1\u001b[0m\n\u001b[0;32m----> 1\u001b[0m \u001b[38;5;28;01mfor\u001b[39;00m i \u001b[38;5;129;01min\u001b[39;00m \u001b[38;5;28mrange\u001b[39m(\u001b[38;5;28;43mlen\u001b[39;49m\u001b[43m(\u001b[49m\u001b[43m)\u001b[49m):\n\u001b[1;32m      2\u001b[0m     \u001b[38;5;28mprint\u001b[39m(\u001b[38;5;124mf\u001b[39m\u001b[38;5;124m\"\u001b[39m\u001b[38;5;124mAnalysis of \u001b[39m\u001b[38;5;132;01m{\u001b[39;00mtaxlabels[i]\u001b[38;5;132;01m}\u001b[39;00m\u001b[38;5;124m\"\u001b[39m)\n\u001b[1;32m      3\u001b[0m     \u001b[38;5;28;01mfor\u001b[39;00m datatype, subset \u001b[38;5;129;01min\u001b[39;00m data_subset_4taxa[i]\u001b[38;5;241m.\u001b[39mitems():\n",
      "\u001b[0;31mTypeError\u001b[0m: len() takes exactly one argument (0 given)"
     ]
    }
   ],
   "source": [
    "for i in range(len()):\n",
    "    print(f\"Analysis of {taxlabels[i]}\")\n",
    "    for datatype, subset in data_subset_4taxa[i].items():\n",
    "        print(f\"f1 of {datatype} = {metric.fisher_discriminant_ratio(subset,targetLabel)}\")\n"
   ]
  },
  {
   "cell_type": "markdown",
   "metadata": {},
   "source": [
    "### compare the first 15 index by their present ratio"
   ]
  },
  {
   "cell_type": "code",
   "execution_count": null,
   "metadata": {
    "metadata": {}
   },
   "outputs": [],
   "source": [
    "import seaborn as sns\n",
    "import numpy as np\n",
    "import matplotlib.pyplot as plt\n",
    "import matplotlib as mpl\n",
    "\n",
    "entries=10\n",
    "\n",
    "for i, data_FS in enumerate(X_FS_4taxa):\n",
    "    selectedASVs_15=selectedASVs_4taxa[:entries]\n",
    "    print(selectedASVs_15)\n",
    "    X_FS_15=data_FS[:,entries]\n",
    "    #df=pd.DataFrame(data=X_FS_15)\n",
    "    FS.plotPresenseRatio(X_FS_15,targetLabel,selectedASVs_15,posLabel=\"LONG\",posText=\"Long\",negText=\"short\")\n"
   ]
  },
  {
   "cell_type": "code",
   "execution_count": null,
   "metadata": {},
   "outputs": [],
   "source": [
    "##### check the plot results (use phylumn as example)\n",
    "Phy_select_index = selectedOTU_index_4tax[3]\n",
    "Phy_select_index_5 = Phy_select_index[0:5]\n",
    "Phy_select_index_5"
   ]
  },
  {
   "cell_type": "code",
   "execution_count": null,
   "metadata": {},
   "outputs": [],
   "source": [
    "Phy_select_label_5 = [col_names_4taxa[3][i] for i in Phy_select_index_5]\n",
    "print(Phy_select_label_5)\n",
    "print(col_names_sig_sorted_4taxa[3][0:5])\n",
    "print(weights_sig_sorted_4taxa[3][0:5])"
   ]
  },
  {
   "cell_type": "code",
   "execution_count": null,
   "metadata": {},
   "outputs": [],
   "source": [
    "X_pyhlum = data_4taxa[3][:,Phy_select_index_5]\n",
    "#X_pyhlum = np.where(X_pyhlum > 0.01, 1, 0)"
   ]
  },
  {
   "cell_type": "code",
   "execution_count": null,
   "metadata": {},
   "outputs": [],
   "source": [
    "# test \n",
    "data_phy_test=FS.relative_abundance(data_4taxa[3])\n",
    "FS.OTU_H_Score_arr(data_phy_test[:,selectedOTU_index_4tax[3][0:5]],targetLabel)"
   ]
  },
  {
   "cell_type": "code",
   "execution_count": null,
   "metadata": {},
   "outputs": [],
   "source": [
    "print\n",
    "for i in Phy_select_index_5:\n",
    "    print(\n",
    "    FS.OTU_H_Score(data_4taxa[3][:,i],targetLabel)\n",
    "    )"
   ]
  },
  {
   "cell_type": "code",
   "execution_count": null,
   "metadata": {},
   "outputs": [],
   "source": [
    "print(weights_sig_sorted_4taxa[3])\n",
    "print(weights_4taxa[3][selectedOTU_index_4tax[3]])"
   ]
  },
  {
   "cell_type": "code",
   "execution_count": null,
   "metadata": {},
   "outputs": [],
   "source": []
  },
  {
   "cell_type": "code",
   "execution_count": null,
   "metadata": {},
   "outputs": [],
   "source": []
  },
  {
   "cell_type": "code",
   "execution_count": null,
   "metadata": {},
   "outputs": [],
   "source": []
  },
  {
   "cell_type": "code",
   "execution_count": null,
   "metadata": {},
   "outputs": [],
   "source": []
  },
  {
   "cell_type": "markdown",
   "metadata": {},
   "source": [
    "### Negative Gini Impurity\n",
    "Gini Impurity is the probability of incorrectly classifying a randomly chosen element in the dataset if it were randomly labeled according to the class distribution in the dataset. It’s calculated as:\n",
    "\n",
    "$G = 1- \\sum_{i=1}^C p_i^2$\n",
    "\n",
    "where C is the number of classes. (which means it can be used to measure for multiple level classification)\n",
    "\n",
    "Here I will use the negative Gini Impurity to measure each OTU, if NG is large (1) which means the OTU only exist in one class, if NG value is small($1/c$) which means the OTU is evenly distributed among  the classes.\n",
    "\n",
    "$NG = \\sum_{i=1}^C p_i^2$"
   ]
  },
  {
   "cell_type": "code",
   "execution_count": null,
   "metadata": {},
   "outputs": [],
   "source": [
    "np.unique(y, return_counts=True)"
   ]
  },
  {
   "cell_type": "code",
   "execution_count": null,
   "metadata": {},
   "outputs": [],
   "source": [
    "# NG for selected OTU\n",
    "\n",
    "NG_4tax = []\n",
    "for i, data  in enumerate(data_4taxa):\n",
    "    X_FS = data[:,selectedOTU_index_4tax[i]]\n",
    "    X_lasso = data[:,xind_lasso_4taxa[i]]\n",
    "    NG_selected = metric.Neg_GINI(X_FS,y)\n",
    "    NG_Lasso = metric.Neg_GINI(X_lasso,y)\n",
    "    print(NG_selected.shape)\n",
    "    print(NG_Lasso.shape)\n",
    "    NG_4tax.append([NG_selected,NG_Lasso])"
   ]
  },
  {
   "cell_type": "code",
   "execution_count": null,
   "metadata": {},
   "outputs": [],
   "source": []
  },
  {
   "cell_type": "code",
   "execution_count": null,
   "metadata": {},
   "outputs": [],
   "source": [
    "# compare the selected and non select by lasso\n",
    "# Number of subplots\n",
    "num_plots = len(data_4taxa)\n",
    "\n",
    "# Create a figure with a grid of subplots\n",
    "plt.figure(figsize=(4, 4 * num_plots))\n",
    "\n",
    "# Loop through each index and create a subplot\n",
    "for i in range(num_plots):\n",
    "    plt.subplot(num_plots, 1, i + 1)  # (nrows, ncols, index)\n",
    "    plt.boxplot([NG_4tax[i][0], NG_4tax[i][1]], tick_labels=['SelectMicro', 'Lasso'])\n",
    "    plt.title(f'NG results of the selected OTU by SelectMicro vs. Lasso - {taxlabels[i]}')\n",
    "    plt.ylabel('NG')\n",
    "    plt.grid(axis='y')\n",
    "# Adjust layout\n",
    "plt.tight_layout()  # Adjusts the subplots to fit into the figure area.\n",
    "plt.show()  # Show all plots at once"
   ]
  },
  {
   "cell_type": "code",
   "execution_count": null,
   "metadata": {},
   "outputs": [],
   "source": [
    "###  calculate the outlier label\n",
    "NG_4tax_lasso =  [x[1] for x in NG_4tax]"
   ]
  },
  {
   "cell_type": "code",
   "execution_count": null,
   "metadata": {},
   "outputs": [],
   "source": [
    "NG_4tax_lasso"
   ]
  },
  {
   "cell_type": "code",
   "execution_count": null,
   "metadata": {},
   "outputs": [],
   "source": []
  },
  {
   "cell_type": "code",
   "execution_count": null,
   "metadata": {},
   "outputs": [],
   "source": []
  },
  {
   "cell_type": "code",
   "execution_count": null,
   "metadata": {},
   "outputs": [],
   "source": []
  },
  {
   "cell_type": "code",
   "execution_count": null,
   "metadata": {},
   "outputs": [],
   "source": []
  },
  {
   "cell_type": "code",
   "execution_count": null,
   "metadata": {},
   "outputs": [],
   "source": []
  },
  {
   "cell_type": "code",
   "execution_count": null,
   "metadata": {},
   "outputs": [],
   "source": [
    "def Outlier_array(arr_input):\n",
    "# Calculate Q1, Q3, and IQR\n",
    "    Q1 = np.percentile(arr_input, 25)\n",
    "    Q3 = np.percentile(arr_input, 75)\n",
    "    IQR = Q3 - Q1\n",
    "    \n",
    "    # Define outlier bounds\n",
    "    lower_bound = Q1 - 1.5 * IQR\n",
    "    upper_bound = Q3 + 1.5 * IQR\n",
    "    \n",
    "    # Get the indices of outliers\n",
    "    outlier_indices = np.where((arr_input < lower_bound) | (arr_input > upper_bound))[0]\n",
    "    \n",
    "    # Print the result\n",
    "    return arr_input[outlier_indices],outlier_indices"
   ]
  },
  {
   "cell_type": "code",
   "execution_count": null,
   "metadata": {},
   "outputs": [],
   "source": [
    "NG_outlier_list = []\n",
    "NG_outlier_label_list = []\n",
    "for i, ng_lasso in enumerate(NG_4tax_lasso):\n",
    "    NG_outlier, outlier_indice = FS.Outlier_array(ng_lasso)\n",
    "    NG_outlier_list.append(NG_outlier)\n",
    "    outlier_ind_origin = xind_lasso_4taxa[i][outlier_indice]\n",
    "    ## the outlier indice is the indice  in the lasso data not in the original data\n",
    "    outlier_label = [col_names_4taxa[i][j] for j in outlier_ind_origin]   \n",
    "    NG_outlier_label_list.append(outlier_label)"
   ]
  },
  {
   "cell_type": "code",
   "execution_count": null,
   "metadata": {},
   "outputs": [],
   "source": []
  },
  {
   "cell_type": "code",
   "execution_count": null,
   "metadata": {},
   "outputs": [],
   "source": [
    "print(NG_outlier_list)"
   ]
  },
  {
   "cell_type": "code",
   "execution_count": null,
   "metadata": {},
   "outputs": [],
   "source": [
    "print(NG_outlier_label_list)"
   ]
  },
  {
   "cell_type": "code",
   "execution_count": null,
   "metadata": {},
   "outputs": [],
   "source": [
    "# check the phylum outlier in lasso\n",
    "outlier_ind_origin"
   ]
  },
  {
   "cell_type": "code",
   "execution_count": null,
   "metadata": {},
   "outputs": [],
   "source": [
    "FS.OTU_H_Score_arr(FS.relative_abundance(data_4taxa[3]),targetLabel)[outlier_ind_origin]"
   ]
  },
  {
   "cell_type": "code",
   "execution_count": null,
   "metadata": {},
   "outputs": [],
   "source": [
    "lasso_phylum_outlier_arr = FS.relative_abundance(data_4taxa[3])[:,outlier_ind_origin]"
   ]
  },
  {
   "cell_type": "code",
   "execution_count": null,
   "metadata": {},
   "outputs": [],
   "source": [
    "# Check if any element is larger than the threshold\n",
    "result = (lasso_phylum_outlier_arr > 0.01).any()\n",
    "\n",
    "print(\"Is there any value larger than the threshold?\", result)"
   ]
  },
  {
   "cell_type": "code",
   "execution_count": null,
   "metadata": {},
   "outputs": [],
   "source": []
  },
  {
   "cell_type": "code",
   "execution_count": null,
   "metadata": {},
   "outputs": [],
   "source": []
  },
  {
   "cell_type": "code",
   "execution_count": null,
   "metadata": {},
   "outputs": [],
   "source": []
  },
  {
   "cell_type": "code",
   "execution_count": null,
   "metadata": {},
   "outputs": [],
   "source": []
  },
  {
   "cell_type": "markdown",
   "metadata": {},
   "source": [
    "#### Analysis of the top features"
   ]
  },
  {
   "cell_type": "code",
   "execution_count": null,
   "metadata": {},
   "outputs": [],
   "source": [
    "for i, label in enumerate(col_names_sig_sorted_4taxa):\n",
    "    print(taxlabels[i])\n",
    "    print(label)"
   ]
  },
  {
   "cell_type": "code",
   "execution_count": null,
   "metadata": {},
   "outputs": [],
   "source": []
  },
  {
   "cell_type": "code",
   "execution_count": null,
   "metadata": {},
   "outputs": [],
   "source": [
    "targetLabel"
   ]
  },
  {
   "cell_type": "code",
   "execution_count": null,
   "metadata": {},
   "outputs": [],
   "source": [
    "phlyum_list = ['Firmicutes', 'Acidobacteria', 'Verrucomicrobia', 'Gemmatimonadetes', 'Bacteria_unclassified', 'Planctomycetes', 'Bacteroidetes', 'Entotheonellaeota', 'Patescibacteria']"
   ]
  },
  {
   "cell_type": "code",
   "execution_count": null,
   "metadata": {},
   "outputs": [],
   "source": [
    "indices = [col_names_4taxa[3].index(item) for item in phlyum_list if item in col_names_4taxa[3]]\n",
    "indices"
   ]
  },
  {
   "cell_type": "code",
   "execution_count": null,
   "metadata": {},
   "outputs": [],
   "source": [
    "for i in indices:\n",
    "    print(\n",
    "    FS.OTU_H_Score(data_4taxa[3][:,i],targetLabel)\n",
    "    )"
   ]
  },
  {
   "cell_type": "code",
   "execution_count": null,
   "metadata": {},
   "outputs": [],
   "source": [
    "data_4taxa[3][:,21]"
   ]
  },
  {
   "cell_type": "code",
   "execution_count": null,
   "metadata": {},
   "outputs": [],
   "source": []
  },
  {
   "cell_type": "code",
   "execution_count": null,
   "metadata": {},
   "outputs": [],
   "source": []
  },
  {
   "cell_type": "code",
   "execution_count": null,
   "metadata": {},
   "outputs": [],
   "source": []
  },
  {
   "cell_type": "code",
   "execution_count": null,
   "metadata": {},
   "outputs": [],
   "source": []
  },
  {
   "cell_type": "code",
   "execution_count": null,
   "metadata": {},
   "outputs": [],
   "source": []
  },
  {
   "cell_type": "code",
   "execution_count": null,
   "metadata": {},
   "outputs": [],
   "source": [
    "def fisher_discriminant_ratio(features, labels):\n",
    "    \"\"\"\n",
    "    Calculate the Fisher's discriminant ratio (F1) for an entire dataset.\n",
    "\n",
    "    Parameters:\n",
    "    - features: A 2D numpy array of feature values (samples x features).\n",
    "    - labels: A 1D numpy array of class labels corresponding to the samples.\n",
    "\n",
    "    Returns:\n",
    "    - F1: Fisher's discriminant ratio for the dataset.\n",
    "    \"\"\"\n",
    "    # Ensure features and labels are numpy arrays\n",
    "    features = np.array(features)\n",
    "    labels = np.array(labels)\n",
    "\n",
    "    # Get unique classes\n",
    "    classes = np.unique(labels)\n",
    "    if len(classes) != 2:\n",
    "        raise ValueError(\"This implementation only supports two classes.\")\n",
    "\n",
    "    # Calculate class-wise means and overall mean\n",
    "    overall_mean = np.mean(features, axis=0)\n",
    "    class_means = [np.mean(features[labels == c], axis=0) for c in classes]\n",
    "\n",
    "    # Calculate between-class scatter\n",
    "    between_class_scatter = sum(\n",
    "        len(features[labels == c]) * np.outer((class_mean - overall_mean), (class_mean - overall_mean))\n",
    "        for c, class_mean in zip(classes, class_means)\n",
    "    )\n",
    "\n",
    "    # Calculate within-class scatter\n",
    "    within_class_scatter = sum(\n",
    "        sum(np.outer((sample - class_mean), (sample - class_mean)) for sample in features[labels == c])\n",
    "        for c, class_mean in zip(classes, class_means)\n",
    "    )\n",
    "\n",
    "    # Compute Fisher's discriminant ratio\n",
    "    F1 = np.trace(between_class_scatter) / np.trace(within_class_scatter)\n",
    "\n",
    "    return F1"
   ]
  },
  {
   "cell_type": "code",
   "execution_count": null,
   "metadata": {},
   "outputs": [],
   "source": [
    "\n",
    "for datatype, subset in data_subset_4taxa[0].items():\n",
    "    print(f\"f1 of {datatype} = {metric.fisher_discriminant_ratio(subset,targetLabel)}\")\n",
    " "
   ]
  },
  {
   "cell_type": "code",
   "execution_count": null,
   "metadata": {},
   "outputs": [],
   "source": [
    "for datatype, subset in data_subset_4taxa[1].items():\n",
    "    print(f\"f1 of {datatype} = {metric.fisher_discriminant_ratio(subset,targetLabel)}\")\n"
   ]
  },
  {
   "cell_type": "code",
   "execution_count": null,
   "metadata": {},
   "outputs": [],
   "source": [
    "for datatype, subset in data_subset_4taxa[2].items():\n",
    "    print(f\"f1 of {datatype} = {metric.fisher_discriminant_ratio(subset,targetLabel)}\")\n"
   ]
  },
  {
   "cell_type": "code",
   "execution_count": null,
   "metadata": {},
   "outputs": [],
   "source": [
    "for datatype, subset in data_subset_4taxa[3].items():\n",
    "    print(f\"f1 of {datatype} = {metric.fisher_discriminant_ratio(subset,targetLabel)}\")\n"
   ]
  },
  {
   "cell_type": "code",
   "execution_count": null,
   "metadata": {},
   "outputs": [],
   "source": []
  }
 ],
 "metadata": {
  "kernelspec": {
   "display_name": "Python 3 (ipykernel)",
   "language": "python",
   "name": "python3"
  },
  "language_info": {
   "codemirror_mode": {
    "name": "ipython",
    "version": 3
   },
   "file_extension": ".py",
   "mimetype": "text/x-python",
   "name": "python",
   "nbconvert_exporter": "python",
   "pygments_lexer": "ipython3",
   "version": "3.9.10"
  }
 },
 "nbformat": 4,
 "nbformat_minor": 4
}
