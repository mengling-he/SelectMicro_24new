{
 "cells": [
  {
   "cell_type": "markdown",
   "metadata": {},
   "source": [
    "First, load the data,in this notebook we are using the smokoy mountain data as the example, the input data is already the relative abundance matrix. For this analysis, we will do feature selection independently for each response variable."
   ]
  },
  {
   "cell_type": "code",
   "execution_count": 1,
   "metadata": {
    "metadata": {}
   },
   "outputs": [
    {
     "name": "stderr",
     "output_type": "stream",
     "text": [
      "2025-01-25 02:24:09.256261: I tensorflow/core/util/port.cc:153] oneDNN custom operations are on. You may see slightly different numerical results due to floating-point round-off errors from different computation orders. To turn them off, set the environment variable `TF_ENABLE_ONEDNN_OPTS=0`.\n",
      "2025-01-25 02:24:09.259604: I external/local_xla/xla/tsl/cuda/cudart_stub.cc:32] Could not find cuda drivers on your machine, GPU will not be used.\n",
      "2025-01-25 02:24:09.263179: I external/local_xla/xla/tsl/cuda/cudart_stub.cc:32] Could not find cuda drivers on your machine, GPU will not be used.\n",
      "2025-01-25 02:24:09.279460: E external/local_xla/xla/stream_executor/cuda/cuda_fft.cc:477] Unable to register cuFFT factory: Attempting to register factory for plugin cuFFT when one has already been registered\n",
      "WARNING: All log messages before absl::InitializeLog() is called are written to STDERR\n",
      "E0000 00:00:1737789849.542051 1692360 cuda_dnn.cc:8310] Unable to register cuDNN factory: Attempting to register factory for plugin cuDNN when one has already been registered\n",
      "E0000 00:00:1737789849.547140 1692360 cuda_blas.cc:1418] Unable to register cuBLAS factory: Attempting to register factory for plugin cuBLAS when one has already been registered\n",
      "2025-01-25 02:24:09.629183: I tensorflow/core/platform/cpu_feature_guard.cc:210] This TensorFlow binary is optimized to use available CPU instructions in performance-critical operations.\n",
      "To enable the following instructions: AVX2 AVX512F AVX512_VNNI FMA, in other operations, rebuild TensorFlow with the appropriate compiler flags.\n"
     ]
    }
   ],
   "source": [
    "import sys\n",
    "sys.path.append('../../../Code')\n",
    "import loadData \n",
    "import RunML\n",
    "import RunML_continue\n",
    "import FS\n",
    "import metric\n",
    "\n",
    "import pandas as pd\n",
    "import numpy as np\n",
    "import random\n",
    "from sklearn.linear_model import LogisticRegression\n",
    "from sklearn.ensemble import RandomForestClassifier\n",
    "from sklearn import svm\n",
    "import pickle"
   ]
  },
  {
   "cell_type": "code",
   "execution_count": 2,
   "metadata": {},
   "outputs": [],
   "source": [
    "data,burn_label,un_label,duration_label,ASVs,df=loadData.loadSoilData(\"../data/count_table/merge_proportion_asv_smoky_moutain.csv\")"
   ]
  },
  {
   "cell_type": "code",
   "execution_count": 3,
   "metadata": {
    "metadata": {}
   },
   "outputs": [],
   "source": [
    "df = pd.DataFrame(data,columns = ASVs)# for function later"
   ]
  },
  {
   "cell_type": "code",
   "execution_count": 4,
   "metadata": {},
   "outputs": [
    {
     "name": "stdout",
     "output_type": "stream",
     "text": [
      "(59, 1768)\n",
      "(59,)\n"
     ]
    }
   ],
   "source": [
    "print(data.shape)\n",
    "print(burn_label.shape)"
   ]
  },
  {
   "cell_type": "code",
   "execution_count": null,
   "metadata": {
    "metadata": {}
   },
   "outputs": [],
   "source": []
  },
  {
   "cell_type": "code",
   "execution_count": null,
   "metadata": {},
   "outputs": [],
   "source": []
  },
  {
   "cell_type": "code",
   "execution_count": 5,
   "metadata": {},
   "outputs": [
    {
     "data": {
      "text/plain": [
       "array(['ASV1', 'ASV2', 'ASV3', ..., 'ASV3215', 'ASV3216', 'ASV3217'],\n",
       "      dtype='<U7')"
      ]
     },
     "execution_count": 5,
     "metadata": {},
     "output_type": "execute_result"
    }
   ],
   "source": [
    "ASVs = np.array(ASVs)\n",
    "ASVs"
   ]
  },
  {
   "cell_type": "code",
   "execution_count": null,
   "metadata": {},
   "outputs": [],
   "source": []
  },
  {
   "cell_type": "markdown",
   "metadata": {},
   "source": [
    "### 2. Calculating H score for each OTU"
   ]
  },
  {
   "cell_type": "markdown",
   "metadata": {},
   "source": [
    "Perform feature selection, this is done by calculating Kruskal-Wallis H-test on each OTU for each environmental factor, each OTU/ASV is given a h score."
   ]
  },
  {
   "cell_type": "markdown",
   "metadata": {},
   "source": [
    "### 3. Select OTUs"
   ]
  },
  {
   "cell_type": "code",
   "execution_count": 6,
   "metadata": {},
   "outputs": [
    {
     "data": {
      "text/plain": [
       "dict_keys(['selected_data', 'selected_columnames', 'selected_indices', 'relative_abundance_data', 'H_score'])"
      ]
     },
     "execution_count": 6,
     "metadata": {},
     "output_type": "execute_result"
    },
    {
     "data": {
      "image/png": "[encoded data removed]",
      "text/plain": [
       "<Figure size 800x500 with 1 Axes>"
      ]
     },
     "metadata": {},
     "output_type": "display_data"
    }
   ],
   "source": [
    "# select the OTUs\n",
    "\n",
    "selectedresult=FS.SelectMicro_fun(df,burn_label)\n",
    "    \n",
    "selectedresult.keys()"
   ]
  },
  {
   "cell_type": "code",
   "execution_count": 7,
   "metadata": {
    "scrolled": true
   },
   "outputs": [],
   "source": [
    "selectedOTU_index_list = selectedresult['selected_indices']\n",
    "selectedASV_list = selectedresult['selected_columnames']\n",
    "X_FS_list = selectedresult['selected_data']\n",
    "data = selectedresult['relative_abundance_data']\n"
   ]
  },
  {
   "cell_type": "markdown",
   "metadata": {},
   "source": [
    "### 4. Model (default RF or SVM) \n",
    "The SVM model is always predicting one class, consider to fine tune the model's parameters."
   ]
  },
  {
   "cell_type": "code",
   "execution_count": 8,
   "metadata": {},
   "outputs": [],
   "source": [
    "iter =30\n",
    "cls = [\"RF\",\"SVM\", \"CatBoost\",\"NB\"]"
   ]
  },
  {
   "cell_type": "code",
   "execution_count": 9,
   "metadata": {},
   "outputs": [
    {
     "name": "stdout",
     "output_type": "stream",
     "text": [
      "The response variable and its counts are:\n",
      "Burn\n",
      "Yes    42\n",
      "No     17\n",
      "Name: count, dtype: int64\n",
      "Best alpha: 0.1\n",
      "Best alpha: 0.05\n",
      "The shape of the original dataset is  (59, 1768)\n",
      "The shape of the SelectMicro dataset is  (59, 56)\n",
      "The shape of the Lasso selected dataset is  (59, 21)\n",
      "The shape of the Lasso_finetune selected dataset is  (59, 14)\n",
      "The shape of the FS_Lasso selected dataset is  (59, 15)\n",
      "The shape of the FS_Lasso_finetune selected dataset is  (59, 15)\n"
     ]
    }
   ],
   "source": [
    "\n",
    "targetLabel=burn_label\n",
    "print(\"The response variable and its counts are:\")\n",
    "print(targetLabel.value_counts())\n",
    "\n",
    "X_FS = X_FS_list\n",
    "\n",
    "X_lasso,xlabel_lasso = RunML_continue.LassoFeatureSelection(data,targetLabel)# this is depend on the target variable(do not update here)\n",
    "\n",
    "X_lasso_ft,xlabel_lasso_ft  = RunML_continue.LassoFS_CV(data,targetLabel)\n",
    "\n",
    "X_FS_lasso,xlabel_FS_lasso0 = RunML_continue.LassoFeatureSelection(X_FS,targetLabel)# this is depend on the target variable(do not update here)\n",
    "xlabel_FS_lasso = selectedOTU_index_list[xlabel_FS_lasso0]\n",
    "X_FS_lasso_ft,xlabel_FS_lasso_ft0  = RunML_continue.LassoFS_CV(X_FS,targetLabel)\n",
    "xlabel_FS_lasso_ft = selectedOTU_index_list[xlabel_FS_lasso_ft0]\n",
    "\n",
    "data_subset = {\"AllFeatures\":data,\n",
    "               \"SelectMicro\": X_FS,\n",
    "               \"Lasso\":X_lasso,\n",
    "               \"Lasso_finetune\":X_lasso_ft,\n",
    "               \"FS_Lasso\":X_FS_lasso,\n",
    "               \"FS_Lassofinetune\":X_FS_lasso_ft,\n",
    "               #\"Random\":data\n",
    "              }\n",
    "print(f'The shape of the original dataset is ',np.shape(data))\n",
    "print(f'The shape of the SelectMicro dataset is ',np.shape(X_FS))\n",
    "print(f'The shape of the Lasso selected dataset is ',np.shape(X_lasso))\n",
    "print(f'The shape of the Lasso_finetune selected dataset is ',np.shape(X_lasso_ft))\n",
    "print(f'The shape of the FS_Lasso selected dataset is ',np.shape(X_FS_lasso))\n",
    "print(f'The shape of the FS_Lasso_finetune selected dataset is ',np.shape(X_FS_lasso_ft))"
   ]
  },
  {
   "cell_type": "code",
   "execution_count": 10,
   "metadata": {
    "metadata": {},
    "scrolled": true
   },
   "outputs": [
    {
     "name": "stdout",
     "output_type": "stream",
     "text": [
      "[1.0, 0.90625, 1.0, 0.8333333333333334, 0.875]\n",
      "[1.0, 0.84375, 0.8888888888888888, 0.7777777777777779, 0.7083333333333334]\n",
      "[0.9375, 0.9375, 0.8518518518518519, 0.8333333333333334, 0.875]\n",
      "[0.75, 0.8125, 0.8333333333333334, 0.9444444444444444, 0.6666666666666667]\n",
      "[1.0, 1.0, 0.962962962962963, 0.925925925925926, 1.0]\n",
      "[0.8125, 0.90625, 0.7777777777777778, 1.0, 1.0]\n",
      "[1.0, 0.96875, 0.925925925925926, 1.0, 0.9166666666666667]\n",
      "[1.0, 0.8125, 1.0, 0.8888888888888888, 1.0]\n",
      "[1.0, 1.0, 1.0, 1.0, 1.0]\n",
      "[1.0, 1.0, 1.0, 1.0, 1.0]\n",
      "[1.0, 1.0, 0.888888888888889, 1.0, 1.0]\n",
      "[1.0, 1.0, 1.0, 0.9444444444444444, 1.0]\n",
      "[1.0, 1.0, 1.0, 1.0, 1.0]\n",
      "[1.0, 1.0, 1.0, 1.0, 1.0]\n",
      "[1.0, 1.0, 0.888888888888889, 1.0, 0.9166666666666667]\n",
      "[1.0, 1.0, 1.0, 0.9444444444444444, 1.0]\n",
      "[1.0, 1.0, 1.0, 1.0, 1.0]\n",
      "[1.0, 1.0, 1.0, 1.0, 1.0]\n",
      "[1.0, 1.0, 0.962962962962963, 1.0, 0.9166666666666667]\n",
      "[1.0, 1.0, 1.0, 0.9444444444444444, 1.0]\n",
      "[1.0, 1.0, 1.0, 1.0, 1.0]\n",
      "[1.0, 1.0, 1.0, 1.0, 1.0]\n",
      "[1.0, 1.0, 0.962962962962963, 1.0, 0.9166666666666667]\n",
      "[1.0, 1.0, 1.0, 0.9444444444444444, 1.0]\n",
      "                  RF_Accuracy   RF_AUC   RF_Accuracy_std  RF_AUC_std  \\\n",
      "AllFeatures        0.780303    0.922917     0.064639       0.067056    \n",
      "SelectMicro        0.896970    0.977778     0.039394       0.029630    \n",
      "Lasso              0.915152    1.000000     0.052792       0.000000    \n",
      "Lasso_finetune     0.913636    1.000000     0.057616       0.000000    \n",
      "FS_Lasso           0.930303    1.000000     0.067318       0.000000    \n",
      "FS_Lassofinetune   0.930303    1.000000     0.067318       0.000000    \n",
      "\n",
      "                  SVM_Accuracy   SVM_AUC  SVM_Accuracy_std  SVM_AUC_std  \\\n",
      "AllFeatures         0.746970    0.843750      0.071325       0.099138     \n",
      "SelectMicro         0.698485    0.899306      0.122099       0.092338     \n",
      "Lasso               0.965152    1.000000      0.042748       0.000000     \n",
      "Lasso_finetune      0.963636    1.000000      0.072727       0.000000     \n",
      "FS_Lasso            0.963636    1.000000      0.072727       0.000000     \n",
      "FS_Lassofinetune    0.963636    1.000000      0.072727       0.000000     \n",
      "\n",
      "                  CatBoost_Accuracy  CatBoost_AUC  CatBoost_Accuracy_std  \\\n",
      "AllFeatures           0.845455         0.887037          0.069861          \n",
      "SelectMicro           0.878788         0.962269          0.092288          \n",
      "Lasso                 0.915152         0.977778          0.052792          \n",
      "Lasso_finetune        0.862121         0.961111          0.091463          \n",
      "FS_Lasso              0.880303         0.975926          0.069168          \n",
      "FS_Lassofinetune      0.880303         0.975926          0.069168          \n",
      "\n",
      "                  CatBoost_AUC_std  NB_Accuracy   NB_AUC   NB_Accuracy_std  \\\n",
      "AllFeatures           0.043267       0.863636    0.801389     0.043651       \n",
      "SelectMicro           0.035467       0.933333    0.940278     0.081650       \n",
      "Lasso                 0.044444       0.983333    0.988889     0.033333       \n",
      "Lasso_finetune        0.048432       0.983333    0.988889     0.033333       \n",
      "FS_Lasso              0.032919       0.983333    0.988889     0.033333       \n",
      "FS_Lassofinetune      0.032919       0.983333    0.988889     0.033333       \n",
      "\n",
      "                  NB_AUC_std  \n",
      "AllFeatures        0.092087   \n",
      "SelectMicro        0.077030   \n",
      "Lasso              0.022222   \n",
      "Lasso_finetune     0.022222   \n",
      "FS_Lasso           0.022222   \n",
      "FS_Lassofinetune   0.022222   \n"
     ]
    }
   ],
   "source": [
    "dict_cm = RunML_continue.runClassifier_FScompare(data_subsets= data_subset,y= targetLabel,classifiers=cls,SMOTE=True)"
   ]
  },
  {
   "cell_type": "markdown",
   "metadata": {},
   "source": []
  },
  {
   "cell_type": "code",
   "execution_count": 11,
   "metadata": {},
   "outputs": [
    {
     "name": "stdout",
     "output_type": "stream",
     "text": [
      "                           Accuracy  Precision   Recall   Specification  \\\n",
      "AllFeatures_RF             0.779661  1.000000   0.235294    1.000000      \n",
      "AllFeatures_SVM            0.745763  0.571429   0.470588    0.857143      \n",
      "AllFeatures_CatBoost       0.847458  1.000000   0.470588    1.000000      \n",
      "AllFeatures_NB             0.864407  0.846154   0.647059    0.952381      \n",
      "SelectMicro_RF             0.898305  1.000000   0.647059    1.000000      \n",
      "SelectMicro_SVM            0.694915  0.483871   0.882353    0.619048      \n",
      "SelectMicro_CatBoost       0.881356  1.000000   0.588235    1.000000      \n",
      "SelectMicro_NB             0.932203  0.842105   0.941176    0.928571      \n",
      "Lasso_RF                   0.915254  1.000000   0.705882    1.000000      \n",
      "Lasso_SVM                  0.966102  1.000000   0.882353    1.000000      \n",
      "Lasso_CatBoost             0.915254  1.000000   0.705882    1.000000      \n",
      "Lasso_NB                   0.983051  0.944444   1.000000    0.976190      \n",
      "Lasso_finetune_RF          0.915254  1.000000   0.705882    1.000000      \n",
      "Lasso_finetune_SVM         0.966102  1.000000   0.882353    1.000000      \n",
      "Lasso_finetune_CatBoost    0.864407  1.000000   0.529412    1.000000      \n",
      "Lasso_finetune_NB          0.983051  0.944444   1.000000    0.976190      \n",
      "FS_Lasso_RF                0.932203  1.000000   0.764706    1.000000      \n",
      "FS_Lasso_SVM               0.966102  1.000000   0.882353    1.000000      \n",
      "FS_Lasso_CatBoost          0.881356  1.000000   0.588235    1.000000      \n",
      "FS_Lasso_NB                0.983051  0.944444   1.000000    0.976190      \n",
      "FS_Lassofinetune_RF        0.932203  1.000000   0.764706    1.000000      \n",
      "FS_Lassofinetune_SVM       0.966102  1.000000   0.882353    1.000000      \n",
      "FS_Lassofinetune_CatBoost  0.881356  1.000000   0.588235    1.000000      \n",
      "FS_Lassofinetune_NB        0.983051  0.944444   1.000000    0.976190      \n",
      "\n",
      "                              Mcc    \n",
      "AllFeatures_RF             0.423886  \n",
      "AllFeatures_SVM            0.348896  \n",
      "AllFeatures_CatBoost       0.622530  \n",
      "AllFeatures_NB             0.655004  \n",
      "SelectMicro_RF             0.752447  \n",
      "SelectMicro_SVM            0.454751  \n",
      "SelectMicro_CatBoost       0.710072  \n",
      "SelectMicro_NB             0.843016  \n",
      "Lasso_RF                   0.794222  \n",
      "Lasso_SVM                  0.917740  \n",
      "Lasso_CatBoost             0.794222  \n",
      "Lasso_NB                   0.960186  \n",
      "Lasso_finetune_RF          0.794222  \n",
      "Lasso_finetune_SVM         0.917740  \n",
      "Lasso_finetune_CatBoost    0.666863  \n",
      "Lasso_finetune_NB          0.960186  \n",
      "FS_Lasso_RF                0.835589  \n",
      "FS_Lasso_SVM               0.917740  \n",
      "FS_Lasso_CatBoost          0.710072  \n",
      "FS_Lasso_NB                0.960186  \n",
      "FS_Lassofinetune_RF        0.835589  \n",
      "FS_Lassofinetune_SVM       0.917740  \n",
      "FS_Lassofinetune_CatBoost  0.710072  \n",
      "FS_Lassofinetune_NB        0.960186  \n"
     ]
    }
   ],
   "source": [
    "print(metric.metric_sum(dict_cm))"
   ]
  },
  {
   "cell_type": "code",
   "execution_count": 12,
   "metadata": {},
   "outputs": [
    {
     "ename": "ValueError",
     "evalue": "could not convert string to float: 'No'",
     "output_type": "error",
     "traceback": [
      "\u001b[0;31m---------------------------------------------------------------------------\u001b[0m",
      "\u001b[0;31mValueError\u001b[0m                                Traceback (most recent call last)",
      "Cell \u001b[0;32mIn[12], line 1\u001b[0m\n\u001b[0;32m----> 1\u001b[0m dict_cm2 \u001b[38;5;241m=\u001b[39m \u001b[43mRunML_continue\u001b[49m\u001b[38;5;241;43m.\u001b[39;49m\u001b[43mrunClassifier_FScompare\u001b[49m\u001b[43m(\u001b[49m\u001b[43mdata_subsets\u001b[49m\u001b[38;5;241;43m=\u001b[39;49m\u001b[43m \u001b[49m\u001b[43mdata_subset\u001b[49m\u001b[43m,\u001b[49m\u001b[43my\u001b[49m\u001b[38;5;241;43m=\u001b[39;49m\u001b[43m \u001b[49m\u001b[43mtargetLabel\u001b[49m\u001b[43m,\u001b[49m\u001b[43mclassifiers\u001b[49m\u001b[38;5;241;43m=\u001b[39;49m\u001b[43m[\u001b[49m\u001b[38;5;124;43m'\u001b[39;49m\u001b[38;5;124;43mxgboost\u001b[39;49m\u001b[38;5;124;43m'\u001b[39;49m\u001b[43m]\u001b[49m\u001b[43m,\u001b[49m\u001b[43mSMOTE\u001b[49m\u001b[38;5;241;43m=\u001b[39;49m\u001b[38;5;28;43;01mTrue\u001b[39;49;00m\u001b[43m)\u001b[49m\n",
      "File \u001b[0;32m/lustre/isaac/scratch/mhe8/SelectMicro_24/Analysis/Soil_smoky/script/../../../Code/RunML_continue.py:369\u001b[0m, in \u001b[0;36mrunClassifier_FScompare\u001b[0;34m(data_subsets, y, classifiers, SMOTE)\u001b[0m\n\u001b[1;32m    365\u001b[0m results_cm[datatype] \u001b[38;5;241m=\u001b[39m {}    \n\u001b[1;32m    367\u001b[0m \u001b[38;5;28;01mfor\u001b[39;00m clf \u001b[38;5;129;01min\u001b[39;00m classifiers:\n\u001b[1;32m    368\u001b[0m     \u001b[38;5;66;03m#print(f\"{datatype}_{clf}\")\u001b[39;00m\n\u001b[0;32m--> 369\u001b[0m     results_clf \u001b[38;5;241m=\u001b[39m \u001b[43mML_model_SCV\u001b[49m\u001b[43m(\u001b[49m\u001b[43msubset\u001b[49m\u001b[43m,\u001b[49m\u001b[43m \u001b[49m\u001b[43my\u001b[49m\u001b[43m,\u001b[49m\u001b[43mclf\u001b[49m\u001b[43m,\u001b[49m\u001b[43mSMOTE\u001b[49m\u001b[38;5;241;43m=\u001b[39;49m\u001b[43mSMOTE\u001b[49m\u001b[43m)\u001b[49m\n\u001b[1;32m    370\u001b[0m     acc \u001b[38;5;241m=\u001b[39m results_clf[\u001b[38;5;124m'\u001b[39m\u001b[38;5;124mmean_accuracy\u001b[39m\u001b[38;5;124m'\u001b[39m]\n\u001b[1;32m    371\u001b[0m     auc \u001b[38;5;241m=\u001b[39m results_clf[\u001b[38;5;124m'\u001b[39m\u001b[38;5;124mmean_auc\u001b[39m\u001b[38;5;124m'\u001b[39m]\n",
      "File \u001b[0;32m/lustre/isaac/scratch/mhe8/SelectMicro_24/Analysis/Soil_smoky/script/../../../Code/RunML_continue.py:281\u001b[0m, in \u001b[0;36mML_model_SCV\u001b[0;34m(X, y, classifier_name, SMOTE, k)\u001b[0m\n\u001b[1;32m    277\u001b[0m     X_train, y_train \u001b[38;5;241m=\u001b[39m perform_SMOTE(X_train, y_train)\n\u001b[1;32m    279\u001b[0m \u001b[38;5;28;01mif\u001b[39;00m classifier_name\u001b[38;5;241m.\u001b[39mlower() \u001b[38;5;241m==\u001b[39m \u001b[38;5;124m\"\u001b[39m\u001b[38;5;124mxgboost\u001b[39m\u001b[38;5;124m\"\u001b[39m:\u001b[38;5;66;03m# not valid\u001b[39;00m\n\u001b[1;32m    280\u001b[0m     \u001b[38;5;66;03m# Prepare DMatrix for XGBoost\u001b[39;00m\n\u001b[0;32m--> 281\u001b[0m     dtrain \u001b[38;5;241m=\u001b[39m \u001b[43mxgb\u001b[49m\u001b[38;5;241;43m.\u001b[39;49m\u001b[43mDMatrix\u001b[49m\u001b[43m(\u001b[49m\u001b[43mX_train\u001b[49m\u001b[43m,\u001b[49m\u001b[43m \u001b[49m\u001b[43mlabel\u001b[49m\u001b[38;5;241;43m=\u001b[39;49m\u001b[43my_train\u001b[49m\u001b[43m)\u001b[49m\n\u001b[1;32m    282\u001b[0m     dtest \u001b[38;5;241m=\u001b[39m xgb\u001b[38;5;241m.\u001b[39mDMatrix(X_test, label\u001b[38;5;241m=\u001b[39my_test)\n\u001b[1;32m    283\u001b[0m     \u001b[38;5;66;03m# Define XGBoost parameters\u001b[39;00m\n",
      "File \u001b[0;32m/lustre/isaac/scratch/mhe8/myenv/lib/python3.9/site-packages/xgboost/core.py:726\u001b[0m, in \u001b[0;36mrequire_keyword_args.<locals>.throw_if.<locals>.inner_f\u001b[0;34m(*args, **kwargs)\u001b[0m\n\u001b[1;32m    724\u001b[0m \u001b[38;5;28;01mfor\u001b[39;00m k, arg \u001b[38;5;129;01min\u001b[39;00m \u001b[38;5;28mzip\u001b[39m(sig\u001b[38;5;241m.\u001b[39mparameters, args):\n\u001b[1;32m    725\u001b[0m     kwargs[k] \u001b[38;5;241m=\u001b[39m arg\n\u001b[0;32m--> 726\u001b[0m \u001b[38;5;28;01mreturn\u001b[39;00m \u001b[43mfunc\u001b[49m\u001b[43m(\u001b[49m\u001b[38;5;241;43m*\u001b[39;49m\u001b[38;5;241;43m*\u001b[39;49m\u001b[43mkwargs\u001b[49m\u001b[43m)\u001b[49m\n",
      "File \u001b[0;32m/lustre/isaac/scratch/mhe8/myenv/lib/python3.9/site-packages/xgboost/core.py:890\u001b[0m, in \u001b[0;36mDMatrix.__init__\u001b[0;34m(self, data, label, weight, base_margin, missing, silent, feature_names, feature_types, nthread, group, qid, label_lower_bound, label_upper_bound, feature_weights, enable_categorical, data_split_mode)\u001b[0m\n\u001b[1;32m    887\u001b[0m \u001b[38;5;28;01massert\u001b[39;00m handle \u001b[38;5;129;01mis\u001b[39;00m \u001b[38;5;129;01mnot\u001b[39;00m \u001b[38;5;28;01mNone\u001b[39;00m\n\u001b[1;32m    888\u001b[0m \u001b[38;5;28mself\u001b[39m\u001b[38;5;241m.\u001b[39mhandle \u001b[38;5;241m=\u001b[39m handle\n\u001b[0;32m--> 890\u001b[0m \u001b[38;5;28;43mself\u001b[39;49m\u001b[38;5;241;43m.\u001b[39;49m\u001b[43mset_info\u001b[49m\u001b[43m(\u001b[49m\n\u001b[1;32m    891\u001b[0m \u001b[43m    \u001b[49m\u001b[43mlabel\u001b[49m\u001b[38;5;241;43m=\u001b[39;49m\u001b[43mlabel\u001b[49m\u001b[43m,\u001b[49m\n\u001b[1;32m    892\u001b[0m \u001b[43m    \u001b[49m\u001b[43mweight\u001b[49m\u001b[38;5;241;43m=\u001b[39;49m\u001b[43mweight\u001b[49m\u001b[43m,\u001b[49m\n\u001b[1;32m    893\u001b[0m \u001b[43m    \u001b[49m\u001b[43mbase_margin\u001b[49m\u001b[38;5;241;43m=\u001b[39;49m\u001b[43mbase_margin\u001b[49m\u001b[43m,\u001b[49m\n\u001b[1;32m    894\u001b[0m \u001b[43m    \u001b[49m\u001b[43mgroup\u001b[49m\u001b[38;5;241;43m=\u001b[39;49m\u001b[43mgroup\u001b[49m\u001b[43m,\u001b[49m\n\u001b[1;32m    895\u001b[0m \u001b[43m    \u001b[49m\u001b[43mqid\u001b[49m\u001b[38;5;241;43m=\u001b[39;49m\u001b[43mqid\u001b[49m\u001b[43m,\u001b[49m\n\u001b[1;32m    896\u001b[0m \u001b[43m    \u001b[49m\u001b[43mlabel_lower_bound\u001b[49m\u001b[38;5;241;43m=\u001b[39;49m\u001b[43mlabel_lower_bound\u001b[49m\u001b[43m,\u001b[49m\n\u001b[1;32m    897\u001b[0m \u001b[43m    \u001b[49m\u001b[43mlabel_upper_bound\u001b[49m\u001b[38;5;241;43m=\u001b[39;49m\u001b[43mlabel_upper_bound\u001b[49m\u001b[43m,\u001b[49m\n\u001b[1;32m    898\u001b[0m \u001b[43m    \u001b[49m\u001b[43mfeature_weights\u001b[49m\u001b[38;5;241;43m=\u001b[39;49m\u001b[43mfeature_weights\u001b[49m\u001b[43m,\u001b[49m\n\u001b[1;32m    899\u001b[0m \u001b[43m\u001b[49m\u001b[43m)\u001b[49m\n\u001b[1;32m    901\u001b[0m \u001b[38;5;28;01mif\u001b[39;00m feature_names \u001b[38;5;129;01mis\u001b[39;00m \u001b[38;5;129;01mnot\u001b[39;00m \u001b[38;5;28;01mNone\u001b[39;00m:\n\u001b[1;32m    902\u001b[0m     \u001b[38;5;28mself\u001b[39m\u001b[38;5;241m.\u001b[39mfeature_names \u001b[38;5;241m=\u001b[39m feature_names\n",
      "File \u001b[0;32m/lustre/isaac/scratch/mhe8/myenv/lib/python3.9/site-packages/xgboost/core.py:726\u001b[0m, in \u001b[0;36mrequire_keyword_args.<locals>.throw_if.<locals>.inner_f\u001b[0;34m(*args, **kwargs)\u001b[0m\n\u001b[1;32m    724\u001b[0m \u001b[38;5;28;01mfor\u001b[39;00m k, arg \u001b[38;5;129;01min\u001b[39;00m \u001b[38;5;28mzip\u001b[39m(sig\u001b[38;5;241m.\u001b[39mparameters, args):\n\u001b[1;32m    725\u001b[0m     kwargs[k] \u001b[38;5;241m=\u001b[39m arg\n\u001b[0;32m--> 726\u001b[0m \u001b[38;5;28;01mreturn\u001b[39;00m \u001b[43mfunc\u001b[49m\u001b[43m(\u001b[49m\u001b[38;5;241;43m*\u001b[39;49m\u001b[38;5;241;43m*\u001b[39;49m\u001b[43mkwargs\u001b[49m\u001b[43m)\u001b[49m\n",
      "File \u001b[0;32m/lustre/isaac/scratch/mhe8/myenv/lib/python3.9/site-packages/xgboost/core.py:954\u001b[0m, in \u001b[0;36mDMatrix.set_info\u001b[0;34m(self, label, weight, base_margin, group, qid, label_lower_bound, label_upper_bound, feature_names, feature_types, feature_weights)\u001b[0m\n\u001b[1;32m    951\u001b[0m \u001b[38;5;28;01mfrom\u001b[39;00m \u001b[38;5;21;01m.\u001b[39;00m\u001b[38;5;21;01mdata\u001b[39;00m \u001b[38;5;28;01mimport\u001b[39;00m dispatch_meta_backend\n\u001b[1;32m    953\u001b[0m \u001b[38;5;28;01mif\u001b[39;00m label \u001b[38;5;129;01mis\u001b[39;00m \u001b[38;5;129;01mnot\u001b[39;00m \u001b[38;5;28;01mNone\u001b[39;00m:\n\u001b[0;32m--> 954\u001b[0m     \u001b[38;5;28;43mself\u001b[39;49m\u001b[38;5;241;43m.\u001b[39;49m\u001b[43mset_label\u001b[49m\u001b[43m(\u001b[49m\u001b[43mlabel\u001b[49m\u001b[43m)\u001b[49m\n\u001b[1;32m    955\u001b[0m \u001b[38;5;28;01mif\u001b[39;00m weight \u001b[38;5;129;01mis\u001b[39;00m \u001b[38;5;129;01mnot\u001b[39;00m \u001b[38;5;28;01mNone\u001b[39;00m:\n\u001b[1;32m    956\u001b[0m     \u001b[38;5;28mself\u001b[39m\u001b[38;5;241m.\u001b[39mset_weight(weight)\n",
      "File \u001b[0;32m/lustre/isaac/scratch/mhe8/myenv/lib/python3.9/site-packages/xgboost/core.py:1092\u001b[0m, in \u001b[0;36mDMatrix.set_label\u001b[0;34m(self, label)\u001b[0m\n\u001b[1;32m   1083\u001b[0m \u001b[38;5;250m\u001b[39m\u001b[38;5;124;03m\"\"\"Set label of dmatrix\u001b[39;00m\n\u001b[1;32m   1084\u001b[0m \n\u001b[1;32m   1085\u001b[0m \u001b[38;5;124;03mParameters\u001b[39;00m\n\u001b[0;32m   (...)\u001b[0m\n\u001b[1;32m   1088\u001b[0m \u001b[38;5;124;03m    The label information to be set into DMatrix\u001b[39;00m\n\u001b[1;32m   1089\u001b[0m \u001b[38;5;124;03m\"\"\"\u001b[39;00m\n\u001b[1;32m   1090\u001b[0m \u001b[38;5;28;01mfrom\u001b[39;00m \u001b[38;5;21;01m.\u001b[39;00m\u001b[38;5;21;01mdata\u001b[39;00m \u001b[38;5;28;01mimport\u001b[39;00m dispatch_meta_backend\n\u001b[0;32m-> 1092\u001b[0m \u001b[43mdispatch_meta_backend\u001b[49m\u001b[43m(\u001b[49m\u001b[38;5;28;43mself\u001b[39;49m\u001b[43m,\u001b[49m\u001b[43m \u001b[49m\u001b[43mlabel\u001b[49m\u001b[43m,\u001b[49m\u001b[43m \u001b[49m\u001b[38;5;124;43m\"\u001b[39;49m\u001b[38;5;124;43mlabel\u001b[39;49m\u001b[38;5;124;43m\"\u001b[39;49m\u001b[43m,\u001b[49m\u001b[43m \u001b[49m\u001b[38;5;124;43m\"\u001b[39;49m\u001b[38;5;124;43mfloat\u001b[39;49m\u001b[38;5;124;43m\"\u001b[39;49m\u001b[43m)\u001b[49m\n",
      "File \u001b[0;32m/lustre/isaac/scratch/mhe8/myenv/lib/python3.9/site-packages/xgboost/data.py:1334\u001b[0m, in \u001b[0;36mdispatch_meta_backend\u001b[0;34m(matrix, data, name, dtype)\u001b[0m\n\u001b[1;32m   1332\u001b[0m     \u001b[38;5;28;01mreturn\u001b[39;00m\n\u001b[1;32m   1333\u001b[0m \u001b[38;5;28;01mif\u001b[39;00m _is_pandas_series(data):\n\u001b[0;32m-> 1334\u001b[0m     \u001b[43m_meta_from_pandas_series\u001b[49m\u001b[43m(\u001b[49m\u001b[43mdata\u001b[49m\u001b[43m,\u001b[49m\u001b[43m \u001b[49m\u001b[43mname\u001b[49m\u001b[43m,\u001b[49m\u001b[43m \u001b[49m\u001b[43mdtype\u001b[49m\u001b[43m,\u001b[49m\u001b[43m \u001b[49m\u001b[43mhandle\u001b[49m\u001b[43m)\u001b[49m\n\u001b[1;32m   1335\u001b[0m     \u001b[38;5;28;01mreturn\u001b[39;00m\n\u001b[1;32m   1336\u001b[0m \u001b[38;5;28;01mif\u001b[39;00m _is_dlpack(data):\n",
      "File \u001b[0;32m/lustre/isaac/scratch/mhe8/myenv/lib/python3.9/site-packages/xgboost/data.py:674\u001b[0m, in \u001b[0;36m_meta_from_pandas_series\u001b[0;34m(data, name, dtype, handle)\u001b[0m\n\u001b[1;32m    672\u001b[0m     data \u001b[38;5;241m=\u001b[39m pandas_pa_type(data)\n\u001b[1;32m    673\u001b[0m \u001b[38;5;28;01melse\u001b[39;00m:\n\u001b[0;32m--> 674\u001b[0m     data \u001b[38;5;241m=\u001b[39m \u001b[43mdata\u001b[49m\u001b[38;5;241;43m.\u001b[39;49m\u001b[43mto_numpy\u001b[49m\u001b[43m(\u001b[49m\u001b[43mnp\u001b[49m\u001b[38;5;241;43m.\u001b[39;49m\u001b[43mfloat32\u001b[49m\u001b[43m,\u001b[49m\u001b[43m \u001b[49m\u001b[43mna_value\u001b[49m\u001b[38;5;241;43m=\u001b[39;49m\u001b[43mnp\u001b[49m\u001b[38;5;241;43m.\u001b[39;49m\u001b[43mnan\u001b[49m\u001b[43m)\u001b[49m\n\u001b[1;32m    676\u001b[0m \u001b[38;5;28;01mif\u001b[39;00m is_pd_sparse_dtype(\u001b[38;5;28mgetattr\u001b[39m(data, \u001b[38;5;124m\"\u001b[39m\u001b[38;5;124mdtype\u001b[39m\u001b[38;5;124m\"\u001b[39m, data)):\n\u001b[1;32m    677\u001b[0m     data \u001b[38;5;241m=\u001b[39m data\u001b[38;5;241m.\u001b[39mto_dense()  \u001b[38;5;66;03m# type: ignore\u001b[39;00m\n",
      "File \u001b[0;32m/lustre/isaac/scratch/mhe8/myenv/lib/python3.9/site-packages/pandas/core/base.py:662\u001b[0m, in \u001b[0;36mIndexOpsMixin.to_numpy\u001b[0;34m(self, dtype, copy, na_value, **kwargs)\u001b[0m\n\u001b[1;32m    658\u001b[0m         values \u001b[38;5;241m=\u001b[39m values\u001b[38;5;241m.\u001b[39mcopy()\n\u001b[1;32m    660\u001b[0m     values[np\u001b[38;5;241m.\u001b[39masanyarray(isna(\u001b[38;5;28mself\u001b[39m))] \u001b[38;5;241m=\u001b[39m na_value\n\u001b[0;32m--> 662\u001b[0m result \u001b[38;5;241m=\u001b[39m \u001b[43mnp\u001b[49m\u001b[38;5;241;43m.\u001b[39;49m\u001b[43masarray\u001b[49m\u001b[43m(\u001b[49m\u001b[43mvalues\u001b[49m\u001b[43m,\u001b[49m\u001b[43m \u001b[49m\u001b[43mdtype\u001b[49m\u001b[38;5;241;43m=\u001b[39;49m\u001b[43mdtype\u001b[49m\u001b[43m)\u001b[49m\n\u001b[1;32m    664\u001b[0m \u001b[38;5;28;01mif\u001b[39;00m (copy \u001b[38;5;129;01mand\u001b[39;00m \u001b[38;5;129;01mnot\u001b[39;00m fillna) \u001b[38;5;129;01mor\u001b[39;00m (\u001b[38;5;129;01mnot\u001b[39;00m copy \u001b[38;5;129;01mand\u001b[39;00m using_copy_on_write()):\n\u001b[1;32m    665\u001b[0m     \u001b[38;5;28;01mif\u001b[39;00m np\u001b[38;5;241m.\u001b[39mshares_memory(\u001b[38;5;28mself\u001b[39m\u001b[38;5;241m.\u001b[39m_values[:\u001b[38;5;241m2\u001b[39m], result[:\u001b[38;5;241m2\u001b[39m]):\n\u001b[1;32m    666\u001b[0m         \u001b[38;5;66;03m# Take slices to improve performance of check\u001b[39;00m\n",
      "\u001b[0;31mValueError\u001b[0m: could not convert string to float: 'No'"
     ]
    }
   ],
   "source": [
    "dict_cm2 = RunML_continue.runClassifier_FScompare(data_subsets= data_subset,y= targetLabel,classifiers=['xgboost'],SMOTE=True)"
   ]
  },
  {
   "cell_type": "markdown",
   "metadata": {},
   "source": [
    "## compare the first 20 index"
   ]
  },
  {
   "cell_type": "code",
   "execution_count": null,
   "metadata": {
    "metadata": {}
   },
   "outputs": [],
   "source": [
    "import seaborn as sns\n",
    "import numpy as np\n",
    "import matplotlib.pyplot as plt\n",
    "import matplotlib as mpl\n",
    "\n",
    "# Keep only the first 20 elements\n",
    "\n",
    "entries=20\n",
    "\n",
    "selectedOTU_index_15_list=[arr[:entries] for arr in selectedOTU_index_list]\n",
    "\n",
    "selectedASVs20_list = []\n",
    "for i in range(yList.shape[1]):\n",
    "    selectedASVs = ASVs[selectedOTU_index_15_list[i]]\n",
    "    selectedASVs20_list.append(selectedASVs)"
   ]
  },
  {
   "cell_type": "code",
   "execution_count": null,
   "metadata": {},
   "outputs": [],
   "source": [
    "targetLabel=burn_label\n",
    "FS.plotPresenseRatio(data[:,selectedOTU_index_15_list[0]],yList[:,0],selectedASVs20_list[0],\n",
    "                     posLabel=\"Yes\",posText=\"Burned\",negText=\"Not Burned\")\n",
    "FS.plotPresenseRatio(X_lassoft_list[0],yList[:,0],ASVs[selectedOTU_index_lassoft_list[0]],\n",
    "                     posLabel=\"Yes\",posText=\"Burned\",negText=\"Not Burned\")\n",
    "\n",
    "FS.plotPresenseRatio(X_FS_list[0][:,selectedOTU_index_FS_lassoft_list[0]],yList[:,0],selectedASV_list[0][selectedOTU_index_FS_lassoft_list[0]],\n",
    "                     posLabel=\"Yes\",posText=\"Burned\",negText=\"Not Burned\")"
   ]
  },
  {
   "cell_type": "code",
   "execution_count": null,
   "metadata": {},
   "outputs": [],
   "source": [
    "targetLabel=un_label\n",
    "FS.plotPresenseRatio(data[:,selectedOTU_index_15_list[1]],yList[:,1],selectedASVs20_list[1],\n",
    "                     posLabel=\"Natural\",posText=\"Natural\",negText=\"Urban\")\n",
    "\n",
    "FS.plotPresenseRatio(X_lassoft_list[1],yList[:,1],ASVs[selectedOTU_index_lassoft_list[1]],\n",
    "                    posLabel=\"Natural\",posText=\"Natural\",negText=\"Urban\")\n",
    "FS.plotPresenseRatio(X_FS_list[1][:,selectedOTU_index_FS_lassoft_list[1]],yList[:,1],selectedASV_list[1][selectedOTU_index_FS_lassoft_list[1]],\n",
    "                     posLabel=\"Natural\",posText=\"Natural\",negText=\"Urban\")"
   ]
  },
  {
   "cell_type": "code",
   "execution_count": null,
   "metadata": {},
   "outputs": [],
   "source": []
  },
  {
   "cell_type": "code",
   "execution_count": null,
   "metadata": {},
   "outputs": [],
   "source": [
    "targetLabel=duration_label\n",
    "FS.plotPresenseRatio(data[:,selectedOTU_index_15_list[2]],yList[:,2],selectedASVs20_list[2],\n",
    "                    posLabel=\"Annual\",posText=\"Annual\",negText=\"Perennial\")\n",
    "FS.plotPresenseRatio(X_lassoft_list[2],yList[:,2],ASVs[selectedOTU_index_lassoft_list[2]],\n",
    "                    posLabel=\"Annual\",posText=\"Annual\",negText=\"Perennial\")\n",
    "FS.plotPresenseRatio(X_FS_list[2][:,selectedOTU_index_FS_lassoft_list[2]],yList[:,2],selectedASV_list[2][selectedOTU_index_FS_lassoft_list[2]],\n",
    "                     posLabel=\"Annual\",posText=\"Annual\",negText=\"Perennial\")"
   ]
  },
  {
   "cell_type": "code",
   "execution_count": null,
   "metadata": {},
   "outputs": [],
   "source": [
    "X_FS_list[2][:,selectedOTU_index_FS_lasso_list[2]].shape"
   ]
  },
  {
   "cell_type": "code",
   "execution_count": null,
   "metadata": {},
   "outputs": [],
   "source": [
    "len(selectedASV_list[2][selectedOTU_index_FS_lassoft_list[2]])"
   ]
  },
  {
   "cell_type": "code",
   "execution_count": null,
   "metadata": {},
   "outputs": [],
   "source": []
  },
  {
   "cell_type": "code",
   "execution_count": null,
   "metadata": {},
   "outputs": [],
   "source": [
    "len(selectedOTU_index_FS_lasso_list[2])"
   ]
  },
  {
   "cell_type": "code",
   "execution_count": null,
   "metadata": {},
   "outputs": [],
   "source": [
    "selectedASV_list[2]"
   ]
  },
  {
   "cell_type": "code",
   "execution_count": null,
   "metadata": {},
   "outputs": [],
   "source": [
    "selectedOTU_index_FS_lassoft_list[2]"
   ]
  },
  {
   "cell_type": "code",
   "execution_count": null,
   "metadata": {},
   "outputs": [],
   "source": []
  },
  {
   "cell_type": "code",
   "execution_count": null,
   "metadata": {},
   "outputs": [],
   "source": []
  },
  {
   "cell_type": "code",
   "execution_count": null,
   "metadata": {},
   "outputs": [],
   "source": []
  },
  {
   "cell_type": "code",
   "execution_count": null,
   "metadata": {},
   "outputs": [],
   "source": []
  },
  {
   "cell_type": "code",
   "execution_count": null,
   "metadata": {},
   "outputs": [],
   "source": []
  },
  {
   "cell_type": "code",
   "execution_count": null,
   "metadata": {},
   "outputs": [],
   "source": []
  },
  {
   "cell_type": "code",
   "execution_count": null,
   "metadata": {},
   "outputs": [],
   "source": []
  },
  {
   "cell_type": "code",
   "execution_count": null,
   "metadata": {},
   "outputs": [],
   "source": []
  },
  {
   "cell_type": "code",
   "execution_count": null,
   "metadata": {},
   "outputs": [],
   "source": []
  }
 ],
 "metadata": {
  "kernelspec": {
   "display_name": "Python 3 (ipykernel)",
   "language": "python",
   "name": "python3"
  },
  "language_info": {
   "codemirror_mode": {
    "name": "ipython",
    "version": 3
   },
   "file_extension": ".py",
   "mimetype": "text/x-python",
   "name": "python",
   "nbconvert_exporter": "python",
   "pygments_lexer": "ipython3",
   "version": "3.9.10"
  }
 },
 "nbformat": 4,
 "nbformat_minor": 4
}
