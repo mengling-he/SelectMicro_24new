{
 "cells": [
  {
   "cell_type": "markdown",
   "metadata": {},
   "source": [
    "Used for test SHAP value: based on the selected ASVs, most of which are indicators of Non burn soil (which means if it has a higher abundance then it is a not burn soil; these ASV will decrease if it get burned); the only ASV we found will increase if get burned is ASV7."
   ]
  },
  {
   "cell_type": "code",
   "execution_count": 1,
   "metadata": {
    "metadata": {},
    "scrolled": true
   },
   "outputs": [
    {
     "name": "stderr",
     "output_type": "stream",
     "text": [
      "2025-03-06 15:52:27.443209: I tensorflow/core/util/port.cc:153] oneDNN custom operations are on. You may see slightly different numerical results due to floating-point round-off errors from different computation orders. To turn them off, set the environment variable `TF_ENABLE_ONEDNN_OPTS=0`.\n",
      "2025-03-06 15:52:27.445220: I external/local_xla/xla/tsl/cuda/cudart_stub.cc:32] Could not find cuda drivers on your machine, GPU will not be used.\n",
      "2025-03-06 15:52:27.448444: I external/local_xla/xla/tsl/cuda/cudart_stub.cc:32] Could not find cuda drivers on your machine, GPU will not be used.\n",
      "2025-03-06 15:52:27.458621: E external/local_xla/xla/stream_executor/cuda/cuda_fft.cc:477] Unable to register cuFFT factory: Attempting to register factory for plugin cuFFT when one has already been registered\n",
      "WARNING: All log messages before absl::InitializeLog() is called are written to STDERR\n",
      "E0000 00:00:1741294347.476587  599831 cuda_dnn.cc:8310] Unable to register cuDNN factory: Attempting to register factory for plugin cuDNN when one has already been registered\n",
      "E0000 00:00:1741294347.481715  599831 cuda_blas.cc:1418] Unable to register cuBLAS factory: Attempting to register factory for plugin cuBLAS when one has already been registered\n",
      "2025-03-06 15:52:27.499332: I tensorflow/core/platform/cpu_feature_guard.cc:210] This TensorFlow binary is optimized to use available CPU instructions in performance-critical operations.\n",
      "To enable the following instructions: AVX2 AVX512F AVX512_VNNI FMA, in other operations, rebuild TensorFlow with the appropriate compiler flags.\n",
      "/nfs/home/mhe8/miniforge3/lib/python3.12/site-packages/tqdm/auto.py:21: TqdmWarning: IProgress not found. Please update jupyter and ipywidgets. See https://ipywidgets.readthedocs.io/en/stable/user_install.html\n",
      "  from .autonotebook import tqdm as notebook_tqdm\n"
     ]
    }
   ],
   "source": [
    "import sys\n",
    "sys.path.append('../../../Code')\n",
    "import loadData \n",
    "import RunML\n",
    "import FS\n",
    "import metric\n",
    "\n",
    "import pandas as pd\n",
    "import numpy as np\n",
    "import random\n",
    "from sklearn.linear_model import LogisticRegression\n",
    "from sklearn.ensemble import RandomForestClassifier\n",
    "from sklearn import svm\n",
    "import pickle"
   ]
  },
  {
   "cell_type": "code",
   "execution_count": 2,
   "metadata": {},
   "outputs": [],
   "source": [
    "data,burn_label,un_label,duration_label,ASVs,df=loadData.loadSoilData(\"../data/count_table/merge_proportion_asv_smoky_moutain.csv\")"
   ]
  },
  {
   "cell_type": "code",
   "execution_count": 3,
   "metadata": {
    "metadata": {}
   },
   "outputs": [],
   "source": [
    "df = pd.DataFrame(data,columns = ASVs)# the function requires a dataframe with feature names"
   ]
  },
  {
   "cell_type": "code",
   "execution_count": 4,
   "metadata": {},
   "outputs": [
    {
     "name": "stdout",
     "output_type": "stream",
     "text": [
      "(59, 1768)\n",
      "(59,)\n"
     ]
    }
   ],
   "source": [
    "print(data.shape)\n",
    "print(burn_label.shape)"
   ]
  },
  {
   "cell_type": "code",
   "execution_count": 5,
   "metadata": {},
   "outputs": [
    {
     "data": {
      "text/plain": [
       "array(['ASV1', 'ASV2', 'ASV3', ..., 'ASV3215', 'ASV3216', 'ASV3217'],\n",
       "      dtype='<U7')"
      ]
     },
     "execution_count": 5,
     "metadata": {},
     "output_type": "execute_result"
    }
   ],
   "source": [
    "ASVs = np.array(ASVs)\n",
    "ASVs"
   ]
  },
  {
   "cell_type": "markdown",
   "metadata": {},
   "source": [
    "### 2. Calculating H score for each OTU"
   ]
  },
  {
   "cell_type": "markdown",
   "metadata": {},
   "source": [
    "Perform feature selection, this is done by calculating Kruskal-Wallis H-test on each OTU for each environmental factor, each OTU/ASV is given a h score."
   ]
  },
  {
   "cell_type": "markdown",
   "metadata": {},
   "source": [
    "### 3. Select OTUs"
   ]
  },
  {
   "cell_type": "code",
   "execution_count": 6,
   "metadata": {},
   "outputs": [
    {
     "data": {
      "text/plain": [
       "dict_keys(['selected_data', 'selected_columnames', 'selected_indices', 'relative_abundance_data', 'H_score'])"
      ]
     },
     "execution_count": 6,
     "metadata": {},
     "output_type": "execute_result"
    },
    {
     "data": {
      "image/png": "[encoded data removed]",
      "text/plain": [
       "<Figure size 800x500 with 1 Axes>"
      ]
     },
     "metadata": {},
     "output_type": "display_data"
    }
   ],
   "source": [
    "# select the OTUs\n",
    "\n",
    "selectedresult=FS.SelectMicro_fun(df,burn_label)\n",
    "    \n",
    "selectedresult.keys()"
   ]
  },
  {
   "cell_type": "code",
   "execution_count": 7,
   "metadata": {
    "scrolled": true
   },
   "outputs": [],
   "source": [
    "selectedOTU_index_list = selectedresult['selected_indices']\n",
    "selectedASV_list = selectedresult['selected_columnames']\n",
    "X_FS_list = selectedresult['selected_data']\n",
    "data = selectedresult['relative_abundance_data']\n"
   ]
  },
  {
   "cell_type": "markdown",
   "metadata": {},
   "source": [
    "### 4. Model (default RF or SVM) \n",
    "The SVM model is always predicting one class, consider to fine tune the model's parameters."
   ]
  },
  {
   "cell_type": "code",
   "execution_count": 8,
   "metadata": {},
   "outputs": [],
   "source": [
    "iter =30\n"
   ]
  },
  {
   "cell_type": "code",
   "execution_count": 9,
   "metadata": {},
   "outputs": [
    {
     "name": "stdout",
     "output_type": "stream",
     "text": [
      "The response variable and its counts are:\n",
      "Burn\n",
      "Yes    42\n",
      "No     17\n",
      "Name: count, dtype: int64\n"
     ]
    },
    {
     "ename": "NameError",
     "evalue": "name 'RunML_continue' is not defined",
     "output_type": "error",
     "traceback": [
      "\u001b[31m---------------------------------------------------------------------------\u001b[39m",
      "\u001b[31mNameError\u001b[39m                                 Traceback (most recent call last)",
      "\u001b[36mCell\u001b[39m\u001b[36m \u001b[39m\u001b[32mIn[9]\u001b[39m\u001b[32m, line 7\u001b[39m\n\u001b[32m      3\u001b[39m \u001b[38;5;28mprint\u001b[39m(targetLabel.value_counts())\n\u001b[32m      5\u001b[39m X_FS = X_FS_list\n\u001b[32m----> \u001b[39m\u001b[32m7\u001b[39m X_lasso_ft,xlabel_lasso_ft  = \u001b[43mRunML_continue\u001b[49m.LassoFS_CV(data,targetLabel)\n\u001b[32m      9\u001b[39m X_FS_lasso_ft,xlabel_FS_lasso_ft0  = RunML_continue.LassoFS_CV(X_FS,targetLabel)\n\u001b[32m     10\u001b[39m xlabel_FS_lasso_ft = selectedOTU_index_list[xlabel_FS_lasso_ft0]\n",
      "\u001b[31mNameError\u001b[39m: name 'RunML_continue' is not defined"
     ]
    }
   ],
   "source": [
    "\n",
    "targetLabel=burn_label\n",
    "print(\"The response variable and its counts are:\")\n",
    "print(targetLabel.value_counts())\n",
    "\n",
    "X_FS = X_FS_list\n",
    "\n",
    "X_lasso_ft,xlabel_lasso_ft  = RunML_continue.LassoFS_CV(data,targetLabel)\n",
    "\n",
    "X_FS_lasso_ft,xlabel_FS_lasso_ft0  = RunML_continue.LassoFS_CV(X_FS,targetLabel)\n",
    "xlabel_FS_lasso_ft = selectedOTU_index_list[xlabel_FS_lasso_ft0]\n",
    "\n",
    "xlabel_lasso_FS = np.intersect1d(xlabel_lasso_ft, selectedOTU_index_list)\n",
    "X_lasso_FS = data[:,xlabel_lasso_FS]\n",
    "\n",
    "data_subset = {\"AllFeatures\":data,\n",
    "               \"SelectMicro\": X_FS,\n",
    "               \"Lasso_finetune\":X_lasso_ft,\n",
    "               \"FS_Lassofinetune\":X_FS_lasso_ft,\n",
    "               \"Lassofinetune_FS\":X_lasso_FS\n",
    "               #\"Random\":data\n",
    "              }"
   ]
  },
  {
   "cell_type": "code",
   "execution_count": null,
   "metadata": {
    "metadata": {},
    "scrolled": true
   },
   "outputs": [],
   "source": [
    "print(f'The shape of the original dataset is ',np.shape(data))\n",
    "print(f'The shape of the SelectMicro dataset is ',np.shape(X_FS))\n",
    "print(f'The shape of the Lasso_finetune selected dataset is ',np.shape(X_lasso_ft))\n",
    "print(f'The shape of the FS_Lasso_finetune selected dataset is ',np.shape(X_FS_lasso_ft))\n",
    "print(f'The shape of the Lasso_finetune_FS selected dataset is ',np.shape(X_lasso_FS))"
   ]
  },
  {
   "cell_type": "code",
   "execution_count": null,
   "metadata": {},
   "outputs": [],
   "source": [
    "print(xlabel_lasso_ft)\n",
    "print(xlabel_lasso_FS)"
   ]
  },
  {
   "cell_type": "code",
   "execution_count": null,
   "metadata": {},
   "outputs": [],
   "source": [
    "# compute SHAP for FS_Lassofinetune RF model\n",
    "\n",
    "result_rf = RunML.RF_model_SCV(X_FS_lasso_ft, y=targetLabel, plot=True,columnnames= ASVs[xlabel_FS_lasso_ft],SMOTE=True)\n"
   ]
  },
  {
   "cell_type": "code",
   "execution_count": null,
   "metadata": {},
   "outputs": [],
   "source": []
  },
  {
   "cell_type": "code",
   "execution_count": null,
   "metadata": {},
   "outputs": [],
   "source": [
    "result_rf_lasso = RunML.RF_model_SCV(X_lasso_ft, y=targetLabel,plot=True,columnnames= ASVs[xlabel_lasso_ft], SMOTE=True)"
   ]
  },
  {
   "cell_type": "code",
   "execution_count": null,
   "metadata": {},
   "outputs": [],
   "source": [
    "# Convert arrays to sets\n",
    "set1 = set(ASVs[xlabel_FS_lasso_ft])\n",
    "set2 = set(ASVs[xlabel_lasso_ft])\n",
    "\n",
    "# Elements in both arrays (intersection)\n",
    "common_elements = set1 & set2  # OR set1.intersection(set2)\n",
    "\n",
    "# Elements only in one of the arrays (symmetric difference)\n",
    "unique_elements = set1 ^ set2  # OR set1.symmetric_difference(set2)\n",
    "\n",
    "print(\"Elements in both arrays:\", common_elements)\n",
    "print(\"Elements in only one of the arrays:\", unique_elements)"
   ]
  },
  {
   "cell_type": "code",
   "execution_count": null,
   "metadata": {},
   "outputs": [],
   "source": [
    "import shap\n",
    "import matplotlib.pyplot as plt\n",
    "# Create a figure with two subplots\n",
    "fig, axes = plt.subplots(1, 2, figsize=(12, 6))\n",
    "\n",
    "# First SHAP summary plot\n",
    "plt.sca(axes[0])  # Set current axis to the first subplot\n",
    "shap.summary_plot(result_rf['SHAP'], pd.DataFrame(result_rf['x_true'], columns=ASVs[xlabel_FS_lasso_ft]),show=False)\n",
    "axes[0].set_title(\"FS-Lasso SHAP Summary\")\n",
    "\n",
    "# Second SHAP summary plot\n",
    "plt.sca(axes[1])  # Set current axis to the second subplot\n",
    "shap.summary_plot(result_rf_lasso['SHAP'], pd.DataFrame(result_rf_lasso['x_true'], columns=ASVs[xlabel_lasso_ft]),show=False)\n",
    "axes[1].set_title(\"Lasso SHAP Summary\")\n",
    "\n",
    "plt.tight_layout()\n",
    "plt.show()"
   ]
  },
  {
   "cell_type": "code",
   "execution_count": null,
   "metadata": {},
   "outputs": [],
   "source": [
    "# analyzing ASV 191\n",
    "\n",
    "\n",
    "# make interaction plot.\n",
    "# when there is no 191, if the value of 216 is low then there is more likelt the soil is burned\n",
    "# when there is 191 and 216 is none, there is more likely the soil is not burn, and t\n",
    "shap.dependence_plot('ASV191', result_rf['SHAP'], pd.DataFrame(result_rf['x_true'], columns=ASVs[xlabel_FS_lasso_ft]), interaction_index=\"ASV216\")\n"
   ]
  },
  {
   "cell_type": "code",
   "execution_count": null,
   "metadata": {
    "metadata": {}
   },
   "outputs": [],
   "source": [
    "# make interaction plot.\n",
    "# if there is \n",
    "shap.dependence_plot('ASV7', result_rf['SHAP'], pd.DataFrame(result_rf['x_true'], columns=ASVs[xlabel_FS_lasso_ft]), interaction_index=\"ASV191\")\n",
    "shap.dependence_plot('ASV8', result_rf['SHAP'], pd.DataFrame(result_rf['x_true'], columns=ASVs[xlabel_FS_lasso_ft]), interaction_index=\"ASV191\")\n",
    "shap.dependence_plot('ASV141', result_rf['SHAP'], pd.DataFrame(result_rf['x_true'], columns=ASVs[xlabel_FS_lasso_ft]), interaction_index=\"ASV191\")"
   ]
  },
  {
   "cell_type": "code",
   "execution_count": null,
   "metadata": {},
   "outputs": [],
   "source": [
    "FS_lasso_df = pd.DataFrame(result_rf['x_true'], columns=ASVs[xlabel_FS_lasso_ft])\n",
    "\n",
    "# Get the indices where array1 is not zero\n",
    "indices = np.where(FS_lasso_df['ASV191'] != 0)\n",
    "\n",
    "ASV191_df = FS_lasso_df.loc[indices]\n",
    "SHAP_ASV191 = result_rf['SHAP'][indices]"
   ]
  },
  {
   "cell_type": "code",
   "execution_count": null,
   "metadata": {},
   "outputs": [],
   "source": [
    "shap.initjs()# base line is induced\n",
    "shap.force_plot(0.49, SHAP_ASV191[1,:], ASV191_df.iloc[1])"
   ]
  },
  {
   "cell_type": "code",
   "execution_count": null,
   "metadata": {},
   "outputs": [],
   "source": [
    "indices"
   ]
  },
  {
   "cell_type": "code",
   "execution_count": null,
   "metadata": {},
   "outputs": [],
   "source": [
    "shap.force_plot(0.49, SHAP_ASV191[0,:], ASV191_df.iloc[0])"
   ]
  },
  {
   "cell_type": "code",
   "execution_count": null,
   "metadata": {},
   "outputs": [],
   "source": [
    "np.array(result_rf['y_pred_prob'])[indices[0]]"
   ]
  },
  {
   "cell_type": "code",
   "execution_count": null,
   "metadata": {},
   "outputs": [],
   "source": [
    "np.array(result_rf['y_pred'])[indices[0]]"
   ]
  },
  {
   "cell_type": "code",
   "execution_count": null,
   "metadata": {},
   "outputs": [],
   "source": [
    "np.array(result_rf['y_true'])[indices[0]]"
   ]
  }
 ],
 "metadata": {
  "kernelspec": {
   "display_name": "Python 3 (ipykernel)",
   "language": "python",
   "name": "python3"
  },
  "language_info": {
   "codemirror_mode": {
    "name": "ipython",
    "version": 3
   },
   "file_extension": ".py",
   "mimetype": "text/x-python",
   "name": "python",
   "nbconvert_exporter": "python",
   "pygments_lexer": "ipython3",
   "version": "3.12.7"
  }
 },
 "nbformat": 4,
 "nbformat_minor": 4
}
