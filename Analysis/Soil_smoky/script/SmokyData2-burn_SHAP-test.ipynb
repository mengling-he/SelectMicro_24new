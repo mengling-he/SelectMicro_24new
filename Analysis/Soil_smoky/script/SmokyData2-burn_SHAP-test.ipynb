{
 "cells": [
  {
   "cell_type": "markdown",
   "metadata": {},
   "source": [
    "Used for test SHAP value: based on the selected ASVs, most of which are indicators of Non burn soil (which means if it has a higher abundance then it is a not burn soil; these ASV will decrease if it get burned); the only ASV we found will increase if get burned is ASV7."
   ]
  },
  {
   "cell_type": "code",
   "execution_count": 1,
   "metadata": {
    "metadata": {},
    "scrolled": true
   },
   "outputs": [
    {
     "name": "stderr",
     "output_type": "stream",
     "text": [
      "2025-03-06 15:34:19.148156: I tensorflow/core/util/port.cc:153] oneDNN custom operations are on. You may see slightly different numerical results due to floating-point round-off errors from different computation orders. To turn them off, set the environment variable `TF_ENABLE_ONEDNN_OPTS=0`.\n",
      "2025-03-06 15:34:19.151292: I external/local_xla/xla/tsl/cuda/cudart_stub.cc:32] Could not find cuda drivers on your machine, GPU will not be used.\n",
      "2025-03-06 15:34:19.154602: I external/local_xla/xla/tsl/cuda/cudart_stub.cc:32] Could not find cuda drivers on your machine, GPU will not be used.\n",
      "2025-03-06 15:34:19.164763: E external/local_xla/xla/stream_executor/cuda/cuda_fft.cc:477] Unable to register cuFFT factory: Attempting to register factory for plugin cuFFT when one has already been registered\n",
      "WARNING: All log messages before absl::InitializeLog() is called are written to STDERR\n",
      "E0000 00:00:1741293259.182694  596663 cuda_dnn.cc:8310] Unable to register cuDNN factory: Attempting to register factory for plugin cuDNN when one has already been registered\n",
      "E0000 00:00:1741293259.187790  596663 cuda_blas.cc:1418] Unable to register cuBLAS factory: Attempting to register factory for plugin cuBLAS when one has already been registered\n",
      "2025-03-06 15:34:19.205910: I tensorflow/core/platform/cpu_feature_guard.cc:210] This TensorFlow binary is optimized to use available CPU instructions in performance-critical operations.\n",
      "To enable the following instructions: AVX2 AVX512F AVX512_VNNI FMA, in other operations, rebuild TensorFlow with the appropriate compiler flags.\n",
      "/nfs/home/mhe8/miniforge3/lib/python3.12/site-packages/tqdm/auto.py:21: TqdmWarning: IProgress not found. Please update jupyter and ipywidgets. See https://ipywidgets.readthedocs.io/en/stable/user_install.html\n",
      "  from .autonotebook import tqdm as notebook_tqdm\n"
     ]
    }
   ],
   "source": [
    "import sys\n",
    "sys.path.append('../../../Code')\n",
    "import loadData \n",
    "import RunML\n",
    "import FS\n",
    "import metric\n",
    "\n",
    "import pandas as pd\n",
    "import numpy as np\n",
    "import random\n",
    "from sklearn.linear_model import LogisticRegression\n",
    "from sklearn.ensemble import RandomForestClassifier\n",
    "from sklearn import svm\n",
    "import pickle"
   ]
  },
  {
   "cell_type": "code",
   "execution_count": 2,
   "metadata": {},
   "outputs": [],
   "source": [
    "data,burn_label,un_label,duration_label,ASVs,df=loadData.loadSoilData(\"../data/count_table/merge_proportion_asv_smoky_moutain.csv\")"
   ]
  },
  {
   "cell_type": "code",
   "execution_count": 3,
   "metadata": {
    "metadata": {}
   },
   "outputs": [],
   "source": [
    "df = pd.DataFrame(data,columns = ASVs)# the function requires a dataframe with feature names"
   ]
  },
  {
   "cell_type": "code",
   "execution_count": 4,
   "metadata": {},
   "outputs": [
    {
     "name": "stdout",
     "output_type": "stream",
     "text": [
      "(59, 1768)\n",
      "(59,)\n"
     ]
    }
   ],
   "source": [
    "print(data.shape)\n",
    "print(burn_label.shape)"
   ]
  },
  {
   "cell_type": "code",
   "execution_count": 5,
   "metadata": {},
   "outputs": [
    {
     "data": {
      "text/plain": [
       "array(['ASV1', 'ASV2', 'ASV3', ..., 'ASV3215', 'ASV3216', 'ASV3217'],\n",
       "      dtype='<U7')"
      ]
     },
     "execution_count": 5,
     "metadata": {},
     "output_type": "execute_result"
    }
   ],
   "source": [
    "ASVs = np.array(ASVs)\n",
    "ASVs"
   ]
  },
  {
   "cell_type": "markdown",
   "metadata": {},
   "source": [
    "### 2. Calculating H score for each OTU"
   ]
  },
  {
   "cell_type": "markdown",
   "metadata": {},
   "source": [
    "Perform feature selection, this is done by calculating Kruskal-Wallis H-test on each OTU for each environmental factor, each OTU/ASV is given a h score."
   ]
  },
  {
   "cell_type": "markdown",
   "metadata": {},
   "source": [
    "### 3. Select OTUs"
   ]
  },
  {
   "cell_type": "code",
   "execution_count": 6,
   "metadata": {},
   "outputs": [
    {
     "data": {
      "text/plain": [
       "dict_keys(['selected_data', 'selected_columnames', 'selected_indices', 'relative_abundance_data', 'H_score'])"
      ]
     },
     "execution_count": 6,
     "metadata": {},
     "output_type": "execute_result"
    },
    {
     "data": {
      "image/png": "[encoded data removed]",
      "text/plain": [
       "<Figure size 800x500 with 1 Axes>"
      ]
     },
     "metadata": {},
     "output_type": "display_data"
    }
   ],
   "source": [
    "# select the OTUs\n",
    "\n",
    "selectedresult=FS.SelectMicro_fun(df,burn_label)\n",
    "    \n",
    "selectedresult.keys()"
   ]
  },
  {
   "cell_type": "code",
   "execution_count": 7,
   "metadata": {
    "scrolled": true
   },
   "outputs": [],
   "source": [
    "selectedOTU_index_list = selectedresult['selected_indices']\n",
    "selectedASV_list = selectedresult['selected_columnames']\n",
    "X_FS_list = selectedresult['selected_data']\n",
    "data = selectedresult['relative_abundance_data']\n"
   ]
  },
  {
   "cell_type": "markdown",
   "metadata": {},
   "source": [
    "### 4. Model (default RF or SVM) \n",
    "The SVM model is always predicting one class, consider to fine tune the model's parameters."
   ]
  },
  {
   "cell_type": "code",
   "execution_count": null,
   "metadata": {},
   "outputs": [],
   "source": []
  },
  {
   "cell_type": "code",
   "execution_count": 9,
   "metadata": {},
   "outputs": [
    {
     "name": "stdout",
     "output_type": "stream",
     "text": [
      "The response variable and its counts are:\n",
      "Burn\n",
      "Yes    42\n",
      "No     17\n",
      "Name: count, dtype: int64\n"
     ]
    }
   ],
   "source": [
    "\n",
    "targetLabel=burn_label\n",
    "print(\"The response variable and its counts are:\")\n",
    "print(targetLabel.value_counts())\n",
    "\n",
    "X_FS = X_FS_list\n"
   ]
  },
  {
   "cell_type": "code",
   "execution_count": 10,
   "metadata": {
    "metadata": {},
    "scrolled": true
   },
   "outputs": [
    {
     "name": "stdout",
     "output_type": "stream",
     "text": [
      "The shape of the original dataset is  (59, 1768)\n",
      "The shape of the SelectMicro dataset is  (59, 56)\n"
     ]
    }
   ],
   "source": [
    "print(f'The shape of the original dataset is ',np.shape(data))\n",
    "print(f'The shape of the SelectMicro dataset is ',np.shape(X_FS))\n"
   ]
  },
  {
   "cell_type": "code",
   "execution_count": 17,
   "metadata": {},
   "outputs": [],
   "source": [
    "from sklearn.preprocessing import LabelEncoder\n",
    "le = LabelEncoder()\n",
    "y = le.fit_transform(targetLabel)  "
   ]
  },
  {
   "cell_type": "code",
   "execution_count": 46,
   "metadata": {},
   "outputs": [],
   "source": [
    "import shap\n",
    "from sklearn.model_selection import train_test_split\n",
    "from sklearn.metrics import accuracy_score,roc_auc_score\n",
    "from sklearn.metrics import f1_score\n",
    "from sklearn.metrics import precision_score\n",
    "from sklearn.metrics import recall_score\n",
    "from sklearn.metrics import auc\n",
    "from sklearn.metrics import RocCurveDisplay\n",
    "# Split the dataset into training and testing sets (80% train, 20% test)\n",
    "X_train, X_test, y_train, y_test = train_test_split(pd.DataFrame(X_FS,columns=selectedASV_list), y, test_size=0.2, random_state=42)\n",
    "\n",
    "clf = RandomForestClassifier(n_jobs=5, random_state=777)\n",
    "\n",
    "clf.fit(X_train, y_train)\n",
    "y_pred = clf.predict(X_test)\n",
    "y_prob = clf.predict_proba(X_test)\n",
    "y_prob1 = y_prob[:, 1]\n",
    "\n",
    "\n"
   ]
  },
  {
   "cell_type": "code",
   "execution_count": 47,
   "metadata": {},
   "outputs": [],
   "source": [
    "\n",
    "# Evaluate the model\n",
    "accuracy = accuracy_score(y_test, y_pred)\n",
    "mcc = metric.mcc_score(y_test,y_pred)\n",
    "f_score = f1_score(y_test,y_pred)\n",
    "roc_auc = roc_auc_score(y_test, y_prob1)\n",
    "\n",
    "\n",
    "\n",
    "explainer = shap.TreeExplainer(clf)\n",
    "shap_values = explainer.shap_values(X_test)\n",
    "shap_obj = explainer(X_test)\n"
   ]
  },
  {
   "cell_type": "code",
   "execution_count": null,
   "metadata": {},
   "outputs": [],
   "source": []
  },
  {
   "cell_type": "code",
   "execution_count": 40,
   "metadata": {},
   "outputs": [
    {
     "name": "stdout",
     "output_type": "stream",
     "text": [
      "0.8333333333333334\n"
     ]
    }
   ],
   "source": [
    "print(accuracy)"
   ]
  },
  {
   "cell_type": "code",
   "execution_count": 51,
   "metadata": {},
   "outputs": [
    {
     "name": "stdout",
     "output_type": "stream",
     "text": [
      "    ASV66     ASV81     ASV85    ASV141    ASV148     ASV43     ASV73  \\\n",
      "0     0.0  0.000000  0.000000  0.000000  0.000000  0.000000  0.000000   \n",
      "5     0.0  0.000000  0.000000  0.000000  0.000000  0.013375  0.000000   \n",
      "34    0.0  0.000000  0.000000  0.000000  0.000000  0.000000  0.000000   \n",
      "13    0.0  0.000000  0.000000  0.000000  0.000000  0.000000  0.000000   \n",
      "45    0.0  0.000000  0.013508  0.018263  0.000000  0.038634  0.000000   \n",
      "53    0.0  0.000000  0.000000  0.000000  0.000000  0.000000  0.000000   \n",
      "57    0.0  0.000000  0.000000  0.000000  0.000000  0.000000  0.000000   \n",
      "25    0.0  0.000000  0.000000  0.000000  0.000000  0.000000  0.000000   \n",
      "47    0.0  0.000000  0.000000  0.000000  0.000000  0.000000  0.000000   \n",
      "12    0.0  0.000000  0.000000  0.000000  0.000000  0.000000  0.000000   \n",
      "49    0.0  0.011778  0.000000  0.011154  0.010797  0.000000  0.061123   \n",
      "3     0.0  0.000000  0.000000  0.000000  0.000000  0.061344  0.000000   \n",
      "\n",
      "       ASV38    ASV139    ASV154  ...    ASV231     ASV27      ASV8     ASV15  \\\n",
      "0   0.000000  0.000000  0.018441  ...  0.000000  0.000000  0.000000  0.000000   \n",
      "5   0.000000  0.000000  0.000000  ...  0.000000  0.000000  0.135423  0.000000   \n",
      "34  0.000000  0.000000  0.000000  ...  0.000000  0.000000  0.000000  0.000000   \n",
      "13  0.000000  0.000000  0.000000  ...  0.000000  0.043947  0.000000  0.000000   \n",
      "45  0.000000  0.000000  0.000000  ...  0.000000  0.012536  0.093748  0.000000   \n",
      "53  0.000000  0.000000  0.000000  ...  0.000000  0.000000  0.000000  0.000000   \n",
      "57  0.269887  0.000000  0.000000  ...  0.027368  0.000000  0.000000  0.000000   \n",
      "25  0.000000  0.000000  0.000000  ...  0.000000  0.060133  0.000000  0.015033   \n",
      "47  0.000000  0.000000  0.000000  ...  0.000000  0.018069  0.000000  0.000000   \n",
      "12  0.000000  0.000000  0.000000  ...  0.000000  0.000000  0.000000  0.000000   \n",
      "49  0.000000  0.017489  0.000000  ...  0.000000  0.000000  0.000000  0.000000   \n",
      "3   0.000000  0.000000  0.000000  ...  0.000000  0.000000  0.245191  0.000000   \n",
      "\n",
      "       ASV26      ASV1     ASV79     ASV54     ASV59     ASV32  \n",
      "0   0.000000  0.015787  0.000000  0.000000  0.000000  0.000000  \n",
      "5   0.000000  0.028603  0.000000  0.000000  0.000000  0.206886  \n",
      "34  0.000000  0.000000  0.000000  0.000000  0.000000  0.000000  \n",
      "13  0.000000  0.419892  0.000000  0.000000  0.000000  0.000000  \n",
      "45  0.000000  0.262603  0.000000  0.000000  0.000000  0.000000  \n",
      "53  0.000000  0.000000  0.000000  0.000000  0.000000  0.000000  \n",
      "57  0.000000  0.000000  0.000000  0.000000  0.000000  0.000000  \n",
      "25  0.000000  0.237025  0.000000  0.013133  0.027490  0.000000  \n",
      "47  0.042108  0.067760  0.000000  0.000000  0.000000  0.000000  \n",
      "12  0.108326  0.069679  0.000000  0.011013  0.015799  0.000000  \n",
      "49  0.000000  0.000000  0.026323  0.000000  0.000000  0.000000  \n",
      "3   0.000000  0.000000  0.000000  0.000000  0.000000  0.139827  \n",
      "\n",
      "[12 rows x 56 columns]\n"
     ]
    }
   ],
   "source": [
    "print(pd.DataFrame(shap_obj.data, columns=shap_obj.feature_names, index=X_test.index))"
   ]
  },
  {
   "cell_type": "code",
   "execution_count": 48,
   "metadata": {},
   "outputs": [
    {
     "data": {
      "text/plain": [
       "<sklearn.metrics._plot.roc_curve.RocCurveDisplay at 0x7f2e79206f00>"
      ]
     },
     "execution_count": 48,
     "metadata": {},
     "output_type": "execute_result"
    },
    {
     "data": {
      "text/plain": [
       "<Figure size 1000x800 with 0 Axes>"
      ]
     },
     "metadata": {},
     "output_type": "display_data"
    },
    {
     "data": {
      "image/png": "[encoded data removed]",
      "text/plain": [
       "<Figure size 640x480 with 1 Axes>"
      ]
     },
     "metadata": {},
     "output_type": "display_data"
    }
   ],
   "source": [
    "import matplotlib.pyplot as plt\n",
    "# Plot the ROC curve for each class using RocCurveDisplay\n",
    "plt.figure(figsize=(10, 8))\n",
    "\n",
    "# Loop through each class to plot the ROC curve\n",
    "RocCurveDisplay.from_estimator(\n",
    "        clf,\n",
    "        X_test,\n",
    "        y_test,\n",
    "        name=f\"Class {1}\",\n",
    "        alpha=0.3,\n",
    "        lw=1)\n"
   ]
  },
  {
   "cell_type": "code",
   "execution_count": 49,
   "metadata": {},
   "outputs": [
    {
     "data": {
      "text/plain": [
       "ASV66      0\n",
       "ASV81     49\n",
       "ASV85     45\n",
       "ASV141    45\n",
       "ASV148    49\n",
       "ASV43      3\n",
       "ASV73     49\n",
       "ASV38     57\n",
       "ASV139    49\n",
       "ASV154     0\n",
       "ASV174    49\n",
       "ASV181    49\n",
       "ASV208     0\n",
       "ASV216     0\n",
       "ASV263    49\n",
       "ASV272    49\n",
       "ASV94     49\n",
       "ASV7      25\n",
       "ASV3      13\n",
       "ASV19     34\n",
       "ASV45      3\n",
       "ASV11     25\n",
       "ASV24     34\n",
       "ASV91     49\n",
       "ASV133     5\n",
       "ASV146     0\n",
       "ASV150     0\n",
       "ASV159     0\n",
       "ASV191    45\n",
       "ASV207     0\n",
       "ASV225     0\n",
       "ASV274    45\n",
       "ASV315     5\n",
       "ASV335    49\n",
       "ASV338     0\n",
       "ASV348     0\n",
       "ASV369    49\n",
       "ASV384     0\n",
       "ASV51      3\n",
       "ASV5      45\n",
       "ASV13     25\n",
       "ASV18     12\n",
       "ASV2      34\n",
       "ASV30     25\n",
       "ASV104    57\n",
       "ASV183    57\n",
       "ASV231    57\n",
       "ASV27     25\n",
       "ASV8       3\n",
       "ASV15     25\n",
       "ASV26     12\n",
       "ASV1      13\n",
       "ASV79     49\n",
       "ASV54     25\n",
       "ASV59     25\n",
       "ASV32      5\n",
       "dtype: int64"
      ]
     },
     "execution_count": 49,
     "metadata": {},
     "output_type": "execute_result"
    }
   ],
   "source": [
    "high_index = pd.DataFrame(shap_obj.data, columns=shap_obj.feature_names, index=X_test.index).idxmax()# finds the feature with the highest value for each sample.\n",
    "high_index\n",
    "\n"
   ]
  },
  {
   "cell_type": "code",
   "execution_count": null,
   "metadata": {},
   "outputs": [],
   "source": []
  },
  {
   "cell_type": "code",
   "execution_count": null,
   "metadata": {},
   "outputs": [],
   "source": []
  },
  {
   "cell_type": "code",
   "execution_count": 55,
   "metadata": {},
   "outputs": [],
   "source": [
    "shap_1 = pd.DataFrame(shap_values[:,:,1], columns=shap_obj.feature_names, index=X_test.index)"
   ]
  },
  {
   "cell_type": "code",
   "execution_count": null,
   "metadata": {},
   "outputs": [],
   "source": []
  },
  {
   "cell_type": "code",
   "execution_count": 56,
   "metadata": {},
   "outputs": [
    {
     "name": "stdout",
     "output_type": "stream",
     "text": [
      "       ASV66     ASV81     ASV85    ASV141    ASV148     ASV43     ASV73  \\\n",
      "0   0.014250  0.008187  0.007461  0.006271  0.011859  0.002757  0.008263   \n",
      "5   0.010709  0.005420  0.004571  0.002951  0.007535 -0.061452  0.006403   \n",
      "34  0.014487  0.008186  0.007274  0.005904  0.010972  0.002548  0.007443   \n",
      "13  0.014694  0.008565  0.007686  0.006460  0.011578  0.003191  0.008918   \n",
      "45  0.012186  0.005202 -0.012441 -0.072299  0.008132 -0.046439  0.005366   \n",
      "53  0.015581  0.008900  0.008476  0.006365  0.012486  0.003127  0.010600   \n",
      "57  0.012768  0.006393  0.005152  0.003907  0.010412  0.001789  0.010409   \n",
      "25  0.014744  0.008471  0.007740  0.006434  0.011603  0.002969  0.008600   \n",
      "47  0.014703  0.008596  0.007723  0.006444  0.011297  0.002942  0.008567   \n",
      "12  0.014935  0.008434  0.007712  0.006395  0.011790  0.002886  0.009219   \n",
      "49  0.015074  0.008173  0.005266 -0.078876 -0.059132  0.001734 -0.071180   \n",
      "3   0.009445  0.005650  0.004963  0.003247  0.007911 -0.060441  0.004644   \n",
      "\n",
      "       ASV38    ASV139    ASV154  ...    ASV231     ASV27      ASV8     ASV15  \\\n",
      "0   0.018475  0.002545 -0.013412  ...  0.003652 -0.005644  0.012366 -0.001781   \n",
      "5   0.011811  0.002064  0.003345  ...  0.002780 -0.005179 -0.230299 -0.000084   \n",
      "34  0.018466  0.002872  0.004653  ...  0.003745 -0.001643  0.015898 -0.000137   \n",
      "13  0.019734  0.002921  0.004505  ...  0.003506  0.006171  0.014631 -0.000137   \n",
      "45  0.010969  0.001430  0.002740  ...  0.002715  0.011984 -0.198283 -0.000089   \n",
      "53  0.022702  0.002886  0.005337  ...  0.003834 -0.002007  0.016080 -0.000147   \n",
      "57 -0.168820  0.001717  0.003836  ... -0.042483 -0.005157  0.010227 -0.000101   \n",
      "25  0.019540  0.002927  0.004532  ...  0.003513  0.004972  0.014671  0.000365   \n",
      "47  0.019412  0.002745  0.004275  ...  0.003471  0.004652  0.014865 -0.000137   \n",
      "12  0.020505  0.002921  0.005046  ...  0.003530 -0.001607  0.014931 -0.000137   \n",
      "49  0.018468 -0.020462  0.003367  ...  0.003073 -0.002611  0.010306 -0.000147   \n",
      "3   0.011384  0.001435  0.003070  ...  0.002750 -0.005250 -0.238618 -0.000084   \n",
      "\n",
      "       ASV26      ASV1     ASV79     ASV54     ASV59     ASV32  \n",
      "0  -0.004022 -0.003612  0.002629 -0.000753 -0.000084  0.002548  \n",
      "5  -0.003585  0.006567  0.002668 -0.000148 -0.000053 -0.062774  \n",
      "34 -0.001278 -0.006731  0.003518 -0.000280 -0.000122  0.002630  \n",
      "13 -0.000958  0.008026  0.003983 -0.000140 -0.000053  0.002862  \n",
      "45 -0.006735  0.012423  0.003159 -0.000150 -0.000147  0.001927  \n",
      "53 -0.001877 -0.003815  0.002934 -0.000384 -0.000139  0.002784  \n",
      "57 -0.001936 -0.011940  0.002902 -0.000770 -0.000133  0.002004  \n",
      "25 -0.000783  0.006795  0.004237 -0.000025  0.000288  0.002880  \n",
      "47  0.005578  0.008215  0.003911 -0.000205 -0.000049  0.002844  \n",
      "12  0.004453  0.006524  0.004112 -0.000117  0.000276  0.002873  \n",
      "49 -0.001695 -0.007588 -0.006714 -0.000303 -0.000416  0.001697  \n",
      "3  -0.007903 -0.009856  0.002177 -0.000503 -0.000083 -0.058568  \n",
      "\n",
      "[12 rows x 56 columns]\n"
     ]
    }
   ],
   "source": [
    "print(shap_1)"
   ]
  },
  {
   "cell_type": "code",
   "execution_count": 58,
   "metadata": {},
   "outputs": [],
   "source": [
    "enriched = list()\n",
    "for v, i in high_index.items():\n",
    "    sv = shap_1[v].loc[i]\n",
    "    if sv<0:\n",
    "        sv = \"Level 0\"\n",
    "    else:\n",
    "        sv = \"Level 1\"\n",
    "    enriched.append(\n",
    "        {\n",
    "            'Taxa': v,\n",
    "            'enriched': sv\n",
    "        }\n",
    "    )\n",
    "enriched = pd.DataFrame(enriched)\n",
    "enriched.rename(columns={'enriched': 'enriched{}'.format(2)}, inplace=True)"
   ]
  },
  {
   "cell_type": "code",
   "execution_count": 59,
   "metadata": {},
   "outputs": [
    {
     "data": {
      "text/html": [
       "<div>\n",
       "<style scoped>\n",
       "    .dataframe tbody tr th:only-of-type {\n",
       "        vertical-align: middle;\n",
       "    }\n",
       "\n",
       "    .dataframe tbody tr th {\n",
       "        vertical-align: top;\n",
       "    }\n",
       "\n",
       "    .dataframe thead th {\n",
       "        text-align: right;\n",
       "    }\n",
       "</style>\n",
       "<table border=\"1\" class=\"dataframe\">\n",
       "  <thead>\n",
       "    <tr style=\"text-align: right;\">\n",
       "      <th></th>\n",
       "      <th>Taxa</th>\n",
       "      <th>enriched2</th>\n",
       "    </tr>\n",
       "  </thead>\n",
       "  <tbody>\n",
       "    <tr>\n",
       "      <th>0</th>\n",
       "      <td>ASV66</td>\n",
       "      <td>Level 1</td>\n",
       "    </tr>\n",
       "    <tr>\n",
       "      <th>1</th>\n",
       "      <td>ASV81</td>\n",
       "      <td>Level 1</td>\n",
       "    </tr>\n",
       "    <tr>\n",
       "      <th>2</th>\n",
       "      <td>ASV85</td>\n",
       "      <td>Level 0</td>\n",
       "    </tr>\n",
       "    <tr>\n",
       "      <th>3</th>\n",
       "      <td>ASV141</td>\n",
       "      <td>Level 0</td>\n",
       "    </tr>\n",
       "    <tr>\n",
       "      <th>4</th>\n",
       "      <td>ASV148</td>\n",
       "      <td>Level 0</td>\n",
       "    </tr>\n",
       "    <tr>\n",
       "      <th>5</th>\n",
       "      <td>ASV43</td>\n",
       "      <td>Level 0</td>\n",
       "    </tr>\n",
       "    <tr>\n",
       "      <th>6</th>\n",
       "      <td>ASV73</td>\n",
       "      <td>Level 0</td>\n",
       "    </tr>\n",
       "    <tr>\n",
       "      <th>7</th>\n",
       "      <td>ASV38</td>\n",
       "      <td>Level 0</td>\n",
       "    </tr>\n",
       "    <tr>\n",
       "      <th>8</th>\n",
       "      <td>ASV139</td>\n",
       "      <td>Level 0</td>\n",
       "    </tr>\n",
       "    <tr>\n",
       "      <th>9</th>\n",
       "      <td>ASV154</td>\n",
       "      <td>Level 0</td>\n",
       "    </tr>\n",
       "    <tr>\n",
       "      <th>10</th>\n",
       "      <td>ASV174</td>\n",
       "      <td>Level 0</td>\n",
       "    </tr>\n",
       "    <tr>\n",
       "      <th>11</th>\n",
       "      <td>ASV181</td>\n",
       "      <td>Level 0</td>\n",
       "    </tr>\n",
       "    <tr>\n",
       "      <th>12</th>\n",
       "      <td>ASV208</td>\n",
       "      <td>Level 1</td>\n",
       "    </tr>\n",
       "    <tr>\n",
       "      <th>13</th>\n",
       "      <td>ASV216</td>\n",
       "      <td>Level 1</td>\n",
       "    </tr>\n",
       "    <tr>\n",
       "      <th>14</th>\n",
       "      <td>ASV263</td>\n",
       "      <td>Level 0</td>\n",
       "    </tr>\n",
       "    <tr>\n",
       "      <th>15</th>\n",
       "      <td>ASV272</td>\n",
       "      <td>Level 0</td>\n",
       "    </tr>\n",
       "    <tr>\n",
       "      <th>16</th>\n",
       "      <td>ASV94</td>\n",
       "      <td>Level 0</td>\n",
       "    </tr>\n",
       "    <tr>\n",
       "      <th>17</th>\n",
       "      <td>ASV7</td>\n",
       "      <td>Level 1</td>\n",
       "    </tr>\n",
       "    <tr>\n",
       "      <th>18</th>\n",
       "      <td>ASV3</td>\n",
       "      <td>Level 1</td>\n",
       "    </tr>\n",
       "    <tr>\n",
       "      <th>19</th>\n",
       "      <td>ASV19</td>\n",
       "      <td>Level 1</td>\n",
       "    </tr>\n",
       "    <tr>\n",
       "      <th>20</th>\n",
       "      <td>ASV45</td>\n",
       "      <td>Level 0</td>\n",
       "    </tr>\n",
       "    <tr>\n",
       "      <th>21</th>\n",
       "      <td>ASV11</td>\n",
       "      <td>Level 1</td>\n",
       "    </tr>\n",
       "    <tr>\n",
       "      <th>22</th>\n",
       "      <td>ASV24</td>\n",
       "      <td>Level 1</td>\n",
       "    </tr>\n",
       "    <tr>\n",
       "      <th>23</th>\n",
       "      <td>ASV91</td>\n",
       "      <td>Level 1</td>\n",
       "    </tr>\n",
       "    <tr>\n",
       "      <th>24</th>\n",
       "      <td>ASV133</td>\n",
       "      <td>Level 1</td>\n",
       "    </tr>\n",
       "    <tr>\n",
       "      <th>25</th>\n",
       "      <td>ASV146</td>\n",
       "      <td>Level 1</td>\n",
       "    </tr>\n",
       "    <tr>\n",
       "      <th>26</th>\n",
       "      <td>ASV150</td>\n",
       "      <td>Level 0</td>\n",
       "    </tr>\n",
       "    <tr>\n",
       "      <th>27</th>\n",
       "      <td>ASV159</td>\n",
       "      <td>Level 1</td>\n",
       "    </tr>\n",
       "    <tr>\n",
       "      <th>28</th>\n",
       "      <td>ASV191</td>\n",
       "      <td>Level 1</td>\n",
       "    </tr>\n",
       "    <tr>\n",
       "      <th>29</th>\n",
       "      <td>ASV207</td>\n",
       "      <td>Level 1</td>\n",
       "    </tr>\n",
       "    <tr>\n",
       "      <th>30</th>\n",
       "      <td>ASV225</td>\n",
       "      <td>Level 0</td>\n",
       "    </tr>\n",
       "    <tr>\n",
       "      <th>31</th>\n",
       "      <td>ASV274</td>\n",
       "      <td>Level 0</td>\n",
       "    </tr>\n",
       "    <tr>\n",
       "      <th>32</th>\n",
       "      <td>ASV315</td>\n",
       "      <td>Level 0</td>\n",
       "    </tr>\n",
       "    <tr>\n",
       "      <th>33</th>\n",
       "      <td>ASV335</td>\n",
       "      <td>Level 0</td>\n",
       "    </tr>\n",
       "    <tr>\n",
       "      <th>34</th>\n",
       "      <td>ASV338</td>\n",
       "      <td>Level 1</td>\n",
       "    </tr>\n",
       "    <tr>\n",
       "      <th>35</th>\n",
       "      <td>ASV348</td>\n",
       "      <td>Level 1</td>\n",
       "    </tr>\n",
       "    <tr>\n",
       "      <th>36</th>\n",
       "      <td>ASV369</td>\n",
       "      <td>Level 1</td>\n",
       "    </tr>\n",
       "    <tr>\n",
       "      <th>37</th>\n",
       "      <td>ASV384</td>\n",
       "      <td>Level 0</td>\n",
       "    </tr>\n",
       "    <tr>\n",
       "      <th>38</th>\n",
       "      <td>ASV51</td>\n",
       "      <td>Level 0</td>\n",
       "    </tr>\n",
       "    <tr>\n",
       "      <th>39</th>\n",
       "      <td>ASV5</td>\n",
       "      <td>Level 1</td>\n",
       "    </tr>\n",
       "    <tr>\n",
       "      <th>40</th>\n",
       "      <td>ASV13</td>\n",
       "      <td>Level 1</td>\n",
       "    </tr>\n",
       "    <tr>\n",
       "      <th>41</th>\n",
       "      <td>ASV18</td>\n",
       "      <td>Level 1</td>\n",
       "    </tr>\n",
       "    <tr>\n",
       "      <th>42</th>\n",
       "      <td>ASV2</td>\n",
       "      <td>Level 1</td>\n",
       "    </tr>\n",
       "    <tr>\n",
       "      <th>43</th>\n",
       "      <td>ASV30</td>\n",
       "      <td>Level 1</td>\n",
       "    </tr>\n",
       "    <tr>\n",
       "      <th>44</th>\n",
       "      <td>ASV104</td>\n",
       "      <td>Level 0</td>\n",
       "    </tr>\n",
       "    <tr>\n",
       "      <th>45</th>\n",
       "      <td>ASV183</td>\n",
       "      <td>Level 0</td>\n",
       "    </tr>\n",
       "    <tr>\n",
       "      <th>46</th>\n",
       "      <td>ASV231</td>\n",
       "      <td>Level 0</td>\n",
       "    </tr>\n",
       "    <tr>\n",
       "      <th>47</th>\n",
       "      <td>ASV27</td>\n",
       "      <td>Level 1</td>\n",
       "    </tr>\n",
       "    <tr>\n",
       "      <th>48</th>\n",
       "      <td>ASV8</td>\n",
       "      <td>Level 0</td>\n",
       "    </tr>\n",
       "    <tr>\n",
       "      <th>49</th>\n",
       "      <td>ASV15</td>\n",
       "      <td>Level 1</td>\n",
       "    </tr>\n",
       "    <tr>\n",
       "      <th>50</th>\n",
       "      <td>ASV26</td>\n",
       "      <td>Level 1</td>\n",
       "    </tr>\n",
       "    <tr>\n",
       "      <th>51</th>\n",
       "      <td>ASV1</td>\n",
       "      <td>Level 1</td>\n",
       "    </tr>\n",
       "    <tr>\n",
       "      <th>52</th>\n",
       "      <td>ASV79</td>\n",
       "      <td>Level 0</td>\n",
       "    </tr>\n",
       "    <tr>\n",
       "      <th>53</th>\n",
       "      <td>ASV54</td>\n",
       "      <td>Level 0</td>\n",
       "    </tr>\n",
       "    <tr>\n",
       "      <th>54</th>\n",
       "      <td>ASV59</td>\n",
       "      <td>Level 1</td>\n",
       "    </tr>\n",
       "    <tr>\n",
       "      <th>55</th>\n",
       "      <td>ASV32</td>\n",
       "      <td>Level 0</td>\n",
       "    </tr>\n",
       "  </tbody>\n",
       "</table>\n",
       "</div>"
      ],
      "text/plain": [
       "      Taxa enriched2\n",
       "0    ASV66   Level 1\n",
       "1    ASV81   Level 1\n",
       "2    ASV85   Level 0\n",
       "3   ASV141   Level 0\n",
       "4   ASV148   Level 0\n",
       "5    ASV43   Level 0\n",
       "6    ASV73   Level 0\n",
       "7    ASV38   Level 0\n",
       "8   ASV139   Level 0\n",
       "9   ASV154   Level 0\n",
       "10  ASV174   Level 0\n",
       "11  ASV181   Level 0\n",
       "12  ASV208   Level 1\n",
       "13  ASV216   Level 1\n",
       "14  ASV263   Level 0\n",
       "15  ASV272   Level 0\n",
       "16   ASV94   Level 0\n",
       "17    ASV7   Level 1\n",
       "18    ASV3   Level 1\n",
       "19   ASV19   Level 1\n",
       "20   ASV45   Level 0\n",
       "21   ASV11   Level 1\n",
       "22   ASV24   Level 1\n",
       "23   ASV91   Level 1\n",
       "24  ASV133   Level 1\n",
       "25  ASV146   Level 1\n",
       "26  ASV150   Level 0\n",
       "27  ASV159   Level 1\n",
       "28  ASV191   Level 1\n",
       "29  ASV207   Level 1\n",
       "30  ASV225   Level 0\n",
       "31  ASV274   Level 0\n",
       "32  ASV315   Level 0\n",
       "33  ASV335   Level 0\n",
       "34  ASV338   Level 1\n",
       "35  ASV348   Level 1\n",
       "36  ASV369   Level 1\n",
       "37  ASV384   Level 0\n",
       "38   ASV51   Level 0\n",
       "39    ASV5   Level 1\n",
       "40   ASV13   Level 1\n",
       "41   ASV18   Level 1\n",
       "42    ASV2   Level 1\n",
       "43   ASV30   Level 1\n",
       "44  ASV104   Level 0\n",
       "45  ASV183   Level 0\n",
       "46  ASV231   Level 0\n",
       "47   ASV27   Level 1\n",
       "48    ASV8   Level 0\n",
       "49   ASV15   Level 1\n",
       "50   ASV26   Level 1\n",
       "51    ASV1   Level 1\n",
       "52   ASV79   Level 0\n",
       "53   ASV54   Level 0\n",
       "54   ASV59   Level 1\n",
       "55   ASV32   Level 0"
      ]
     },
     "execution_count": 59,
     "metadata": {},
     "output_type": "execute_result"
    }
   ],
   "source": [
    "enriched"
   ]
  }
 ],
 "metadata": {
  "kernelspec": {
   "display_name": "Python 3 (ipykernel)",
   "language": "python",
   "name": "python3"
  },
  "language_info": {
   "codemirror_mode": {
    "name": "ipython",
    "version": 3
   },
   "file_extension": ".py",
   "mimetype": "text/x-python",
   "name": "python",
   "nbconvert_exporter": "python",
   "pygments_lexer": "ipython3",
   "version": "3.12.7"
  }
 },
 "nbformat": 4,
 "nbformat_minor": 4
}
