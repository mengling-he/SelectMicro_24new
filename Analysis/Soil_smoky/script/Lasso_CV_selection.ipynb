{
 "cells": [
  {
   "cell_type": "markdown",
   "id": "b55f8a8a-88b1-41ee-8276-7a63bf9482a4",
   "metadata": {},
   "source": [
    "First, load the data,in this notebook we are using the smokoy mountain data as the example. The modeling result will be fine tuned"
   ]
  },
  {
   "cell_type": "code",
   "execution_count": 1,
   "id": "b6513134-ad73-4825-ac62-bd597090ff91",
   "metadata": {},
   "outputs": [],
   "source": [
    "import sys\n",
    "sys.path.append('../../../Code')\n",
    "import loadData \n",
    "import RunML\n",
    "import RunML_continue\n",
    "import FS\n",
    "import metric"
   ]
  },
  {
   "cell_type": "code",
   "execution_count": 2,
   "id": "32bb764e-dd04-4a12-8bea-e392bcf850e7",
   "metadata": {},
   "outputs": [],
   "source": [
    "import pandas as pd\n",
    "import numpy as np\n",
    "import random"
   ]
  },
  {
   "cell_type": "code",
   "execution_count": null,
   "id": "40f26618-88c6-4d4e-920a-2bb27243c297",
   "metadata": {},
   "outputs": [],
   "source": []
  },
  {
   "cell_type": "code",
   "execution_count": 3,
   "id": "d2a80602-f05c-47a0-8ffa-a75c0da83e7a",
   "metadata": {},
   "outputs": [],
   "source": [
    "data,burn_label,un_label,duration_label,ASVs,df=loadData.loadSoilData(\"../data/count_table/merge_proportion_asv_smoky_moutain.csv\")"
   ]
  },
  {
   "cell_type": "code",
   "execution_count": 4,
   "id": "ed76253a-64d3-4dd0-be04-d221f1cb87e9",
   "metadata": {},
   "outputs": [
    {
     "data": {
      "text/plain": [
       "array([[1.5786533e-02, 0.0000000e+00, 0.0000000e+00, ..., 0.0000000e+00,\n",
       "        0.0000000e+00, 0.0000000e+00],\n",
       "       [1.6912335e-02, 0.0000000e+00, 0.0000000e+00, ..., 0.0000000e+00,\n",
       "        0.0000000e+00, 0.0000000e+00],\n",
       "       [0.0000000e+00, 0.0000000e+00, 0.0000000e+00, ..., 0.0000000e+00,\n",
       "        0.0000000e+00, 0.0000000e+00],\n",
       "       ...,\n",
       "       [0.0000000e+00, 0.0000000e+00, 0.0000000e+00, ..., 5.0700000e-05,\n",
       "        0.0000000e+00, 0.0000000e+00],\n",
       "       [0.0000000e+00, 0.0000000e+00, 0.0000000e+00, ..., 0.0000000e+00,\n",
       "        8.2400000e-05, 8.2400000e-05],\n",
       "       [1.5771320e-03, 0.0000000e+00, 0.0000000e+00, ..., 0.0000000e+00,\n",
       "        0.0000000e+00, 0.0000000e+00]])"
      ]
     },
     "execution_count": 4,
     "metadata": {},
     "output_type": "execute_result"
    }
   ],
   "source": [
    "data"
   ]
  },
  {
   "cell_type": "code",
   "execution_count": 5,
   "id": "40ed7b28-55ee-4533-8856-234edd7cbf17",
   "metadata": {},
   "outputs": [
    {
     "name": "stdout",
     "output_type": "stream",
     "text": [
      "(59, 1768)\n",
      "(59,)\n"
     ]
    }
   ],
   "source": [
    "print(data.shape)\n",
    "print(burn_label.shape)"
   ]
  },
  {
   "cell_type": "code",
   "execution_count": null,
   "id": "1bc27b53-96e0-46be-b3ec-ec55222770cc",
   "metadata": {},
   "outputs": [],
   "source": []
  },
  {
   "cell_type": "code",
   "execution_count": 6,
   "id": "87c93fd3-a084-45f5-a21d-f1b371da858d",
   "metadata": {},
   "outputs": [
    {
     "name": "stdout",
     "output_type": "stream",
     "text": [
      "(59, 1768)\n"
     ]
    }
   ],
   "source": [
    "# abundance matrix--> relative abundance matrix\n",
    "data=FS.relative_abundance(data)\n",
    "print(np.shape(data))"
   ]
  },
  {
   "cell_type": "code",
   "execution_count": 7,
   "id": "65640f6b-9fc8-4519-b4f7-d61d66aea91a",
   "metadata": {},
   "outputs": [
    {
     "data": {
      "text/plain": [
       "array([[0.01578653, 0.        , 0.        , ..., 0.        , 0.        ,\n",
       "        0.        ],\n",
       "       [0.01691234, 0.        , 0.        , ..., 0.        , 0.        ,\n",
       "        0.        ],\n",
       "       [0.        , 0.        , 0.        , ..., 0.        , 0.        ,\n",
       "        0.        ],\n",
       "       ...,\n",
       "       [0.        , 0.        , 0.        , ..., 0.        , 0.        ,\n",
       "        0.        ],\n",
       "       [0.        , 0.        , 0.        , ..., 0.        , 0.        ,\n",
       "        0.        ],\n",
       "       [0.        , 0.        , 0.        , ..., 0.        , 0.        ,\n",
       "        0.        ]])"
      ]
     },
     "execution_count": 7,
     "metadata": {},
     "output_type": "execute_result"
    }
   ],
   "source": [
    "data"
   ]
  },
  {
   "cell_type": "code",
   "execution_count": 8,
   "id": "5eb94535-b58d-41aa-9927-c666877f3d13",
   "metadata": {},
   "outputs": [
    {
     "name": "stdout",
     "output_type": "stream",
     "text": [
      "[['No' 'Natural' 'Annual']\n",
      " ['No' 'Natural' 'Perennial']\n",
      " ['No' 'Urban' 'Perennial']\n",
      " ['No' 'Urban' 'Annual']\n",
      " ['No' 'Urban' 'Perennial']]\n",
      "Yes    42\n",
      "No     17\n",
      "Name: count, dtype: int64\n",
      "Urban      33\n",
      "Natural    26\n",
      "Name: count, dtype: int64\n",
      "Perennial    37\n",
      "Annual       22\n",
      "Name: count, dtype: int64\n"
     ]
    }
   ],
   "source": [
    "yList= np.column_stack((burn_label,un_label,duration_label))# y list is a 2D array, each column is a response outcome\n",
    "\n",
    "print(yList[:5])\n",
    "      \n",
    "for i in range(yList.shape[1]):\n",
    "    print(pd.Series(yList[:,i]).value_counts())"
   ]
  },
  {
   "cell_type": "code",
   "execution_count": 9,
   "id": "1376b2a7-0c4f-43a9-a082-5bdc55127cb5",
   "metadata": {},
   "outputs": [],
   "source": [
    "y_index=['burn_label', 'un_label', 'duration_label']"
   ]
  },
  {
   "cell_type": "code",
   "execution_count": 10,
   "id": "7ff069d0-2807-4758-9891-7c49d00a8ec1",
   "metadata": {},
   "outputs": [
    {
     "data": {
      "text/plain": [
       "array(['ASV1', 'ASV2', 'ASV3', ..., 'ASV3215', 'ASV3216', 'ASV3217'],\n",
       "      dtype='<U7')"
      ]
     },
     "execution_count": 10,
     "metadata": {},
     "output_type": "execute_result"
    }
   ],
   "source": [
    "ASVs = np.array(ASVs)\n",
    "ASVs"
   ]
  },
  {
   "cell_type": "markdown",
   "id": "2cbd788d-b0f5-4cd7-91db-f9fc308add6d",
   "metadata": {},
   "source": [
    "For each y label, using Lasso with hyperparameter tuning to select the features: get the column numbers and the subset, then use SVM and RandomForest to model. "
   ]
  },
  {
   "cell_type": "code",
   "execution_count": null,
   "id": "dab77f76-885f-47aa-a7be-1e28f9e7dcb1",
   "metadata": {},
   "outputs": [],
   "source": []
  },
  {
   "cell_type": "markdown",
   "id": "b047849e-0295-4e93-8352-3c330cf00cc5",
   "metadata": {},
   "source": [
    "### Fearure selection using Lasso, each result has 2 elements: array and column number"
   ]
  },
  {
   "cell_type": "code",
   "execution_count": 11,
   "id": "856b7e3e-f2dd-4eda-9407-d0c26bd6b9a9",
   "metadata": {},
   "outputs": [
    {
     "name": "stdout",
     "output_type": "stream",
     "text": [
      "Best alpha: 0.1\n"
     ]
    }
   ],
   "source": [
    "selectedlasso_burn = RunML_continue.LassoFS_CV(data,burn_label)"
   ]
  },
  {
   "cell_type": "code",
   "execution_count": 12,
   "id": "e8edb462-c30d-455f-8099-79e02a7da503",
   "metadata": {},
   "outputs": [
    {
     "name": "stdout",
     "output_type": "stream",
     "text": [
      "Best alpha: 0.1\n"
     ]
    }
   ],
   "source": [
    "selectedlasso_urban = RunML_continue.LassoFS_CV(data,un_label)"
   ]
  },
  {
   "cell_type": "code",
   "execution_count": 13,
   "id": "7eb83c9f-fef6-4084-bd45-e81f0025ee64",
   "metadata": {},
   "outputs": [
    {
     "name": "stdout",
     "output_type": "stream",
     "text": [
      "Best alpha: 0.1\n"
     ]
    }
   ],
   "source": [
    "selectedlasso_duration = RunML_continue.LassoFS_CV(data,duration_label)"
   ]
  },
  {
   "cell_type": "markdown",
   "id": "327f5cf6-93a8-47d5-950b-d176a36c7668",
   "metadata": {},
   "source": [
    "### 2. Kruskal-Wallis H-test on OTUs for each response variable.\n"
   ]
  },
  {
   "cell_type": "code",
   "execution_count": 14,
   "id": "06010398-6e34-43c0-bf3d-fb7675b40e8e",
   "metadata": {},
   "outputs": [],
   "source": [
    "# calculating H score for each OTU, the function will: 1. filter those below threshold (1%) to 0; 2. rank the data; calculate the H statistics\n",
    "weights=FS.OTU_H_Score_fun(data,yList)"
   ]
  },
  {
   "cell_type": "code",
   "execution_count": 15,
   "id": "6c8edd50-d350-4e5a-b49b-52b364af3f3e",
   "metadata": {},
   "outputs": [
    {
     "data": {
      "text/plain": [
       "(3, 1768)"
      ]
     },
     "execution_count": 15,
     "metadata": {},
     "output_type": "execute_result"
    }
   ],
   "source": [
    "weights.shape"
   ]
  },
  {
   "cell_type": "code",
   "execution_count": null,
   "id": "97647523-e438-4850-b3dd-b9fa76f5b3b3",
   "metadata": {},
   "outputs": [],
   "source": []
  },
  {
   "cell_type": "code",
   "execution_count": 16,
   "id": "3e669339-044f-4e76-8070-e45553ee1334",
   "metadata": {},
   "outputs": [
    {
     "name": "stdout",
     "output_type": "stream",
     "text": [
      "86\n"
     ]
    }
   ],
   "source": [
    "selectedOTU_index, eps=FS.indice_H_multisig(weights,yList)\n",
    "print(eps)"
   ]
  },
  {
   "cell_type": "code",
   "execution_count": 17,
   "id": "a3f781ef-05ce-4b6c-8d1d-b7b2dabcc349",
   "metadata": {},
   "outputs": [],
   "source": [
    "# the subset based on the method.\n",
    "X_FS = data[:,selectedOTU_index]"
   ]
  },
  {
   "cell_type": "code",
   "execution_count": null,
   "id": "8c0d3712-5872-4f84-b83a-7bc933b7d60f",
   "metadata": {},
   "outputs": [],
   "source": []
  },
  {
   "cell_type": "markdown",
   "id": "a664dcf1-72d3-4330-8a2c-601a5d22f451",
   "metadata": {},
   "source": [
    "### 3. Model"
   ]
  },
  {
   "cell_type": "code",
   "execution_count": null,
   "id": "eaea9048-00c1-4748-ab76-77e7ac310426",
   "metadata": {},
   "outputs": [],
   "source": []
  },
  {
   "cell_type": "code",
   "execution_count": 18,
   "id": "3527a102-fd68-4af4-8942-bf9754572bf8",
   "metadata": {},
   "outputs": [],
   "source": [
    "cls = ['RF','SVM']\n",
    "datatypes=['AllFeatures', 'SelectMicro', 'Lasso_finetune']"
   ]
  },
  {
   "cell_type": "markdown",
   "id": "73ea8cd6-cc2a-42cd-94c0-b49f2f80e8fc",
   "metadata": {},
   "source": [
    "#### 3.1  Model for Burn"
   ]
  },
  {
   "cell_type": "code",
   "execution_count": 19,
   "id": "3a04da75-78fd-4c2b-a1b3-eaf6fbb9e1e7",
   "metadata": {},
   "outputs": [],
   "source": [
    "targetLabel=burn_label\n",
    "result_burn = {}"
   ]
  },
  {
   "cell_type": "code",
   "execution_count": null,
   "id": "05b6dd4c-bd0c-48a4-9a3f-e27ad4a31139",
   "metadata": {},
   "outputs": [],
   "source": [
    "for clf in cls:\n",
    "    result_burn[clf]={}\n",
    "    result_burn[clf][AllFeatures] = RunML_continue.nested_loocv(data,yList[:,0],classifier=clf,smote=True)\n",
    "    result_burn[clf][SelectMicro] = RunML_continue.nested_loocv(X_FS,yList[:,0],classifier=clf,smote=True)\n",
    "    result_burn[clf][Lasso_finetune] = RunML_continue.nested_loocv(selectedlasso_burn[0],yList[:,0],classifier=clf,smote=True)"
   ]
  },
  {
   "cell_type": "code",
   "execution_count": null,
   "id": "ae96d6e4-506b-4439-a385-fff21677b435",
   "metadata": {},
   "outputs": [],
   "source": []
  },
  {
   "cell_type": "code",
   "execution_count": null,
   "id": "0d490694-cba5-40ef-851d-81d1d9aef498",
   "metadata": {},
   "outputs": [],
   "source": [
    "print(\"Burn analysis result:\")\n",
    "for clf in cls:\n",
    "    for dataset in datatypes:\n",
    "        print(f\"Mean Accuracy of {clf}_{dataset}:\", result_burn[clf][dataset][\"mean_accuracy\"])\n",
    "        print(f\"Std Accuracy of {clf}_{dataset}:\",np.std(result_burn[clf][dataset][\"outer_accuracies\"]))\n",
    "        metric.plot_confusion_matrices(result_burn[clf][dataset][\"y_true\"], result_burn[clf][dataset][\"y_pred\"],f\"{clf}_{dataset}\",pos_y=1)\n"
   ]
  },
  {
   "cell_type": "code",
   "execution_count": null,
   "id": "4504e5e8-5a61-4f8b-8fff-7c6027dc1b21",
   "metadata": {},
   "outputs": [],
   "source": []
  },
  {
   "cell_type": "code",
   "execution_count": null,
   "id": "2c26d32d-83be-4f92-aba0-1b45378dae30",
   "metadata": {},
   "outputs": [],
   "source": []
  },
  {
   "cell_type": "code",
   "execution_count": null,
   "id": "05836ac4-98f9-4844-98c9-674cb10897b5",
   "metadata": {},
   "outputs": [],
   "source": []
  },
  {
   "cell_type": "code",
   "execution_count": null,
   "id": "4795c28a-d46a-4207-bafd-2e468bdf872d",
   "metadata": {},
   "outputs": [],
   "source": [
    "result_burn_random = {}\n",
    "iteration_random =30\n",
    "\n",
    "for clf in cls:\n",
    "    acc_list = []\n",
    "    acc_std_list = []\n",
    "    random.seed(1992)\n",
    "    for _ in range(iteration_random):\n",
    "        selected_indices = random.sample(range(np.shape(data)[1]), np.shape(X_FS)[1])\n",
    "        new_df = data[:, selected_indices]\n",
    "        result_random_run = RunML_continue.nested_loocv(new_df,yList[:,0],classifier=clf,smote=True)\n",
    "        acc_eachrun  = result_random_run[\"mean_accuracy\"]\n",
    "        acc_std_eachrun = np.std(result_random_run[\"outer_accuracies\"])\n",
    "        acc_list.append(acc_eachrun)\n",
    "        acc_std_list.append(acc_std_eachrun)\n",
    "    result_burn_random[clf] = {\"average_accuracy\": sum(acc_list) / len(acc_list) ,\n",
    "                              \"average_std_of_accuracy\": sum(acc_std_list) / len(acc_std_list)}\n"
   ]
  },
  {
   "cell_type": "code",
   "execution_count": null,
   "id": "3294b5cf-d033-47f6-a690-d63d70712097",
   "metadata": {},
   "outputs": [],
   "source": [
    "print(\"Burn analysis of random selected features result:\")\n",
    "for clf in cls:\n",
    "    print(f\"Average Accuracy of {clf} in random selection:\", result_burn_random[clf][\"average_accuracy\"])\n",
    "    print(f\"Average std of Accuracy of {clf} in random selection:\",result_burn_random[clf][\"average_std_of_accuracy\"])\n",
    "    "
   ]
  },
  {
   "cell_type": "code",
   "execution_count": null,
   "id": "b9a32495-974f-4198-a03b-2d906dad6f67",
   "metadata": {},
   "outputs": [],
   "source": []
  },
  {
   "cell_type": "code",
   "execution_count": null,
   "id": "c93d0eb1-2265-4f13-8bd4-7d90486dc85a",
   "metadata": {},
   "outputs": [],
   "source": []
  },
  {
   "cell_type": "code",
   "execution_count": null,
   "id": "ee70753a-79c9-4c58-af2b-76fb5bc1ae45",
   "metadata": {},
   "outputs": [],
   "source": []
  },
  {
   "cell_type": "markdown",
   "id": "f3d3c6c0-9025-41e1-9a43-deae814d63ac",
   "metadata": {},
   "source": [
    "#### 3.2 Model of Urban"
   ]
  },
  {
   "cell_type": "code",
   "execution_count": null,
   "id": "41f5802f-2591-4922-bc9e-1dac66c23540",
   "metadata": {},
   "outputs": [],
   "source": [
    "targetLabel=un_label\n",
    "result_urban = {}"
   ]
  },
  {
   "cell_type": "code",
   "execution_count": null,
   "id": "b62070a6-21f7-43e3-94b7-a9858a86a056",
   "metadata": {},
   "outputs": [],
   "source": [
    "for clf in cls:\n",
    "    result_urban[clf]={}\n",
    "    result_urban[clf][AllFeatures] = RunML_continue.nested_loocv(data,yList[:,1],classifier=clf,smote=True)\n",
    "    result_urban[clf][SelectMicro] = RunML_continue.nested_loocv(X_FS,yList[:,1],classifier=clf,smote=True)\n",
    "    result_urban[clf][Lasso_finetune] = RunML_continue.nested_loocv(selectedlasso_urban[0],yList[:,1],classifier=clf,smote=True)"
   ]
  },
  {
   "cell_type": "code",
   "execution_count": null,
   "id": "6f890fdd-2933-4147-9be5-e91cc37e8286",
   "metadata": {},
   "outputs": [],
   "source": [
    "print(\"Urban analysis result:\")\n",
    "for clf in cls:\n",
    "    for dataset in datatypes:\n",
    "        print(f\"Mean Accuracy of {clf}_{dataset}:\", result_urban[clf][dataset][\"mean_accuracy\"])\n",
    "        print(f\"Std Accuracy of {clf}_{dataset}:\",np.std(result_urban[clf][dataset][\"outer_accuracies\"]))\n",
    "        metric.plot_confusion_matrices(result_urban[clf][dataset][\"y_true\"], result_urban[clf][dataset][\"y_pred\"],f\"{clf}_{dataset}\",pos_y=1)\n"
   ]
  },
  {
   "cell_type": "code",
   "execution_count": null,
   "id": "8bf95286-57eb-4444-bb06-bb56bacf3fea",
   "metadata": {},
   "outputs": [],
   "source": []
  },
  {
   "cell_type": "code",
   "execution_count": null,
   "id": "2c364f1d-df5d-40b6-83eb-288800ab4ff0",
   "metadata": {},
   "outputs": [],
   "source": []
  },
  {
   "cell_type": "code",
   "execution_count": null,
   "id": "7a24915f-a079-4e93-95e9-3287849b4dbc",
   "metadata": {},
   "outputs": [],
   "source": []
  },
  {
   "cell_type": "code",
   "execution_count": null,
   "id": "67293a35-d529-4952-a1c1-eddcbe8d0b32",
   "metadata": {},
   "outputs": [],
   "source": []
  },
  {
   "cell_type": "markdown",
   "id": "3e40f802-7bb3-421a-b199-80dea889b00d",
   "metadata": {},
   "source": [
    "#### 3.3 Model for Annual"
   ]
  },
  {
   "cell_type": "code",
   "execution_count": null,
   "id": "db512d56-f916-4573-b72b-5ae34adcfc47",
   "metadata": {},
   "outputs": [],
   "source": [
    "result_duration = {}"
   ]
  },
  {
   "cell_type": "code",
   "execution_count": null,
   "id": "d5dc897a-d9e7-4e44-adf2-e55e5a8c4bf0",
   "metadata": {},
   "outputs": [],
   "source": [
    "for clf in cls:\n",
    "    result_duration[clf]={}\n",
    "    result_duration[clf][AllFeatures] = RunML_continue.nested_loocv(data,yList[:,2],classifier=clf,smote=True)\n",
    "    result_duration[clf][SelectMicro] = RunML_continue.nested_loocv(X_FS,yList[:,2],classifier=clf,smote=True)\n",
    "    result_duration[clf][Lasso_finetune] = RunML_continue.nested_loocv(selectedlasso_duration[0],yList[:,2],classifier=clf,smote=True)"
   ]
  },
  {
   "cell_type": "code",
   "execution_count": null,
   "id": "815e296d-c5d6-4cdd-ab0d-9d2bb9bdb372",
   "metadata": {},
   "outputs": [],
   "source": []
  },
  {
   "cell_type": "code",
   "execution_count": null,
   "id": "e707f2eb-65af-41ae-8b1a-112beba832b5",
   "metadata": {},
   "outputs": [],
   "source": []
  },
  {
   "cell_type": "code",
   "execution_count": null,
   "id": "887f1307-af7a-4267-9aa0-18889f88038e",
   "metadata": {},
   "outputs": [],
   "source": []
  },
  {
   "cell_type": "code",
   "execution_count": null,
   "id": "800472c6-58af-41bc-bf33-0c4009b3f314",
   "metadata": {},
   "outputs": [],
   "source": []
  },
  {
   "cell_type": "code",
   "execution_count": null,
   "id": "24fdd2e7-0876-4afa-8063-c31f58d9b903",
   "metadata": {},
   "outputs": [],
   "source": []
  }
 ],
 "metadata": {
  "kernelspec": {
   "display_name": "Python 3 (ipykernel)",
   "language": "python",
   "name": "python3"
  },
  "language_info": {
   "codemirror_mode": {
    "name": "ipython",
    "version": 3
   },
   "file_extension": ".py",
   "mimetype": "text/x-python",
   "name": "python",
   "nbconvert_exporter": "python",
   "pygments_lexer": "ipython3",
   "version": "3.12.7"
  }
 },
 "nbformat": 4,
 "nbformat_minor": 5
}
