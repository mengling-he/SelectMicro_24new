{
 "cells": [
  {
   "cell_type": "markdown",
   "metadata": {},
   "source": [
    "First, load the data,in this notebook we are using the smokoy mountain data as the example, the input data is already the relative abundance matrix. For this analysis, we will do feature selection independently for each response variable."
   ]
  },
  {
   "cell_type": "code",
   "execution_count": 1,
   "metadata": {
    "metadata": {}
   },
   "outputs": [
    {
     "name": "stderr",
     "output_type": "stream",
     "text": [
      "2025-01-13 15:39:55.550094: I tensorflow/core/util/port.cc:153] oneDNN custom operations are on. You may see slightly different numerical results due to floating-point round-off errors from different computation orders. To turn them off, set the environment variable `TF_ENABLE_ONEDNN_OPTS=0`.\n",
      "2025-01-13 15:39:55.552630: I external/local_xla/xla/tsl/cuda/cudart_stub.cc:32] Could not find cuda drivers on your machine, GPU will not be used.\n",
      "2025-01-13 15:39:55.556364: I external/local_xla/xla/tsl/cuda/cudart_stub.cc:32] Could not find cuda drivers on your machine, GPU will not be used.\n",
      "2025-01-13 15:39:55.566458: E external/local_xla/xla/stream_executor/cuda/cuda_fft.cc:477] Unable to register cuFFT factory: Attempting to register factory for plugin cuFFT when one has already been registered\n",
      "WARNING: All log messages before absl::InitializeLog() is called are written to STDERR\n",
      "E0000 00:00:1736800795.584191  601973 cuda_dnn.cc:8310] Unable to register cuDNN factory: Attempting to register factory for plugin cuDNN when one has already been registered\n",
      "E0000 00:00:1736800795.589402  601973 cuda_blas.cc:1418] Unable to register cuBLAS factory: Attempting to register factory for plugin cuBLAS when one has already been registered\n",
      "2025-01-13 15:39:55.608547: I tensorflow/core/platform/cpu_feature_guard.cc:210] This TensorFlow binary is optimized to use available CPU instructions in performance-critical operations.\n",
      "To enable the following instructions: AVX2 AVX512F AVX512_VNNI FMA, in other operations, rebuild TensorFlow with the appropriate compiler flags.\n"
     ]
    }
   ],
   "source": [
    "import sys\n",
    "sys.path.append('../../../Code')\n",
    "import loadData \n",
    "import RunML\n",
    "import RunML_continue\n",
    "import FS\n",
    "import metric\n",
    "\n",
    "import pandas as pd\n",
    "import numpy as np\n",
    "import random\n",
    "from sklearn.linear_model import LogisticRegression\n",
    "from sklearn.ensemble import RandomForestClassifier\n",
    "from sklearn import svm\n",
    "import pickle"
   ]
  },
  {
   "cell_type": "code",
   "execution_count": 2,
   "metadata": {},
   "outputs": [],
   "source": [
    "data,burn_label,un_label,duration_label,ASVs,df=loadData.loadSoilData(\"../data/count_table/merge_proportion_asv_smoky_moutain.csv\")"
   ]
  },
  {
   "cell_type": "code",
   "execution_count": 3,
   "metadata": {
    "metadata": {}
   },
   "outputs": [],
   "source": [
    "df = pd.DataFrame(data,columns = ASVs)# for function later"
   ]
  },
  {
   "cell_type": "code",
   "execution_count": 4,
   "metadata": {},
   "outputs": [
    {
     "name": "stdout",
     "output_type": "stream",
     "text": [
      "(59, 1768)\n",
      "(59,)\n"
     ]
    }
   ],
   "source": [
    "print(data.shape)\n",
    "print(burn_label.shape)"
   ]
  },
  {
   "cell_type": "code",
   "execution_count": 5,
   "metadata": {
    "metadata": {}
   },
   "outputs": [],
   "source": [
    "yList= np.column_stack((burn_label,un_label,duration_label))# y list is a 2D array, each column is a response outcome"
   ]
  },
  {
   "cell_type": "code",
   "execution_count": 6,
   "metadata": {},
   "outputs": [
    {
     "data": {
      "text/plain": [
       "array(['ASV1', 'ASV2', 'ASV3', ..., 'ASV3215', 'ASV3216', 'ASV3217'],\n",
       "      dtype='<U7')"
      ]
     },
     "execution_count": 6,
     "metadata": {},
     "output_type": "execute_result"
    }
   ],
   "source": [
    "ASVs = np.array(ASVs)\n",
    "ASVs"
   ]
  },
  {
   "cell_type": "code",
   "execution_count": null,
   "metadata": {},
   "outputs": [],
   "source": []
  },
  {
   "cell_type": "code",
   "execution_count": null,
   "metadata": {},
   "outputs": [],
   "source": []
  },
  {
   "cell_type": "code",
   "execution_count": 7,
   "metadata": {},
   "outputs": [
    {
     "name": "stderr",
     "output_type": "stream",
     "text": [
      "2025-01-13 15:39:58.183478: E external/local_xla/xla/stream_executor/cuda/cuda_driver.cc:152] failed call to cuInit: INTERNAL: CUDA error: Failed call to cuInit: UNKNOWN ERROR (303)\n"
     ]
    },
    {
     "name": "stdout",
     "output_type": "stream",
     "text": [
      "latent dimension: 100, activation:tanh, opt:adam\n",
      "\u001b[1m1/1\u001b[0m \u001b[32m━━━━━━━━━━━━━━━━━━━━\u001b[0m\u001b[37m\u001b[0m \u001b[1m0s\u001b[0m 51ms/step\n",
      "\u001b[1m1/1\u001b[0m \u001b[32m━━━━━━━━━━━━━━━━━━━━\u001b[0m\u001b[37m\u001b[0m \u001b[1m0s\u001b[0m 46ms/step\n",
      "\u001b[1m2/2\u001b[0m \u001b[32m━━━━━━━━━━━━━━━━━━━━\u001b[0m\u001b[37m\u001b[0m \u001b[1m0s\u001b[0m 16ms/step\n",
      "\u001b[1m1/1\u001b[0m \u001b[32m━━━━━━━━━━━━━━━━━━━━\u001b[0m\u001b[37m\u001b[0m \u001b[1m0s\u001b[0m 28ms/step\n"
     ]
    }
   ],
   "source": [
    "data_train, data_test, y_train, y_test = RunML_continue.split_and_scale_data(data,burn_label)\n",
    "AE_train, AE_test = RunML_continue.run_AE(data_train,data_test)\n",
    "data_AE = pd.concat([AE_train, AE_test], axis=0).to_numpy()"
   ]
  },
  {
   "cell_type": "code",
   "execution_count": 8,
   "metadata": {},
   "outputs": [
    {
     "data": {
      "text/plain": [
       "(59, 100)"
      ]
     },
     "execution_count": 8,
     "metadata": {},
     "output_type": "execute_result"
    }
   ],
   "source": [
    "data_AE.shape"
   ]
  },
  {
   "cell_type": "code",
   "execution_count": null,
   "metadata": {},
   "outputs": [],
   "source": []
  },
  {
   "cell_type": "code",
   "execution_count": null,
   "metadata": {},
   "outputs": [],
   "source": []
  },
  {
   "cell_type": "markdown",
   "metadata": {},
   "source": [
    "### 2. Calculating H score for each OTU\n",
    "\n",
    "Perform feature selection, this is done by calculating Kruskal-Wallis H-test on each OTU for each environmental factor, each OTU/ASV is given a h score."
   ]
  },
  {
   "cell_type": "code",
   "execution_count": 9,
   "metadata": {},
   "outputs": [
    {
     "data": {
      "text/plain": [
       "dict_keys(['selected_data', 'selected_columnames', 'selected_indices', 'relative_abundance_data', 'H_score'])"
      ]
     },
     "execution_count": 9,
     "metadata": {},
     "output_type": "execute_result"
    },
    {
     "data": {
      "image/png": "[encoded data removed]",
      "text/plain": [
       "<Figure size 800x500 with 1 Axes>"
      ]
     },
     "metadata": {},
     "output_type": "display_data"
    },
    {
     "data": {
      "image/png": "[encoded data removed]",
      "text/plain": [
       "<Figure size 800x500 with 1 Axes>"
      ]
     },
     "metadata": {},
     "output_type": "display_data"
    },
    {
     "data": {
      "image/png": "[encoded data removed]",
      "text/plain": [
       "<Figure size 800x500 with 1 Axes>"
      ]
     },
     "metadata": {},
     "output_type": "display_data"
    }
   ],
   "source": [
    "# select the OTUs\n",
    "selected_list = []\n",
    "for i in range(yList.shape[1]):\n",
    "    selectedresult=FS.SelectMicro_fun(df,yList[:,i])\n",
    "    selected_list.append(selectedresult)\n",
    "selected_list[0].keys()"
   ]
  },
  {
   "cell_type": "code",
   "execution_count": 10,
   "metadata": {
    "scrolled": true
   },
   "outputs": [],
   "source": [
    "selectedOTU_index_list = [item['selected_indices'] for item in selected_list]\n",
    "selectedASV_list = [item['selected_columnames'] for item in selected_list]\n",
    "X_FS_list = [item['selected_data'] for item in selected_list]\n",
    "data = selected_list[0]['relative_abundance_data']\n"
   ]
  },
  {
   "cell_type": "markdown",
   "metadata": {},
   "source": [
    "### 4. Model (default RF or SVM) \n",
    "The SVM model is always predicting one class, consider to fine tune the model's parameters."
   ]
  },
  {
   "cell_type": "code",
   "execution_count": 11,
   "metadata": {},
   "outputs": [],
   "source": [
    "iter =30\n",
    "cls = [\"RF\",\"SVM\", \"CatBoost\",\"NB\"]\n"
   ]
  },
  {
   "cell_type": "code",
   "execution_count": 17,
   "metadata": {},
   "outputs": [
    {
     "name": "stdout",
     "output_type": "stream",
     "text": [
      "The response variable and its counts are:\n",
      "Yes    42\n",
      "No     17\n",
      "Name: count, dtype: int64\n",
      "             RF_Accuracy    RF_AUC  SVM_Accuracy  SVM_AUC  CatBoost_Accuracy  \\\n",
      "AllFeatures     0.780303  0.922917       0.74697  0.84375           0.845455   \n",
      "\n",
      "             CatBoost_AUC  NB_Accuracy    NB_AUC  \n",
      "AllFeatures      0.887037     0.863636  0.801389  \n",
      "                      Accuracy  Precision    Recall  Specification       Mcc\n",
      "AllFeatures_RF        0.779661   1.000000  0.235294       1.000000  0.423886\n",
      "AllFeatures_SVM       0.745763   0.571429  0.470588       0.857143  0.348896\n",
      "AllFeatures_CatBoost  0.847458   1.000000  0.470588       1.000000  0.622530\n",
      "AllFeatures_NB        0.864407   0.846154  0.647059       0.952381  0.655004\n",
      "The response variable and its counts are:\n",
      "Urban      33\n",
      "Natural    26\n",
      "Name: count, dtype: int64\n",
      "             RF_Accuracy    RF_AUC  SVM_Accuracy   SVM_AUC  CatBoost_Accuracy  \\\n",
      "AllFeatures     0.556061  0.702698      0.556061  0.424444           0.524242   \n",
      "\n",
      "             CatBoost_AUC  NB_Accuracy  NB_AUC  \n",
      "AllFeatures       0.58254     0.610606   0.605  \n",
      "                      Accuracy  Precision    Recall  Specification       Mcc\n",
      "AllFeatures_RF        0.559322   0.500000  0.230769       0.818182  0.060376\n",
      "AllFeatures_SVM       0.559322   0.500000  0.346154       0.727273  0.079171\n",
      "AllFeatures_CatBoost  0.525424   0.400000  0.153846       0.818182 -0.037014\n",
      "AllFeatures_NB        0.610169   0.551724  0.615385       0.606061  0.219913\n",
      "The response variable and its counts are:\n",
      "Perennial    37\n",
      "Annual       22\n",
      "Name: count, dtype: int64\n",
      "             RF_Accuracy    RF_AUC  SVM_Accuracy   SVM_AUC  CatBoost_Accuracy  \\\n",
      "AllFeatures     0.590909  0.457857      0.507576  0.471607           0.542424   \n",
      "\n",
      "             CatBoost_AUC  NB_Accuracy    NB_AUC  \n",
      "AllFeatures      0.436429     0.507576  0.516071  \n",
      "                      Accuracy  Precision    Recall  Specification       Mcc\n",
      "AllFeatures_RF        0.593220   0.333333  0.090909       0.891892 -0.027517\n",
      "AllFeatures_SVM       0.508475   0.230769  0.136364       0.729730 -0.156230\n",
      "AllFeatures_CatBoost  0.542373   0.222222  0.090909       0.810811 -0.132182\n",
      "AllFeatures_NB        0.508475   0.360000  0.409091       0.567568 -0.022842\n"
     ]
    }
   ],
   "source": [
    "dict_cm_list = []\n",
    "\n",
    "for i in range(yList.shape[1]):\n",
    "    targetLabel=yList[:,i]\n",
    "    print(\"The response variable and its counts are:\")\n",
    "    print(pd.Series(yList[:,i]).value_counts())\n",
    "\n",
    "    data_subset = {\"AllFeatures\":data}\n",
    "    \n",
    "    dict_cm = RunML_continue.runClassifier_FScompare(data_subsets= data_subset,y= targetLabel,N=iter,classifiers=cls,SMOTE=True)\n",
    "    print(metric.metric_sum(dict_cm))\n",
    "    dict_cm_list.append(dict_cm)\n",
    "\n"
   ]
  },
  {
   "cell_type": "code",
   "execution_count": 12,
   "metadata": {},
   "outputs": [
    {
     "name": "stdout",
     "output_type": "stream",
     "text": [
      "The response variable and its counts are:\n",
      "Yes    42\n",
      "No     17\n",
      "Name: count, dtype: int64\n",
      "The shape of the original dataset is  (59, 1768)\n",
      "The shape of the SelectMicro dataset is  (59, 56)\n",
      "The shape of the AE dataset is  (59, 100)\n"
     ]
    },
    {
     "name": "stderr",
     "output_type": "stream",
     "text": [
      "TBB Warning: The number of workers is currently limited to 0. The request for 47 workers is ignored. Further requests for more workers will be silently ignored until the limit changes.\n",
      "\n"
     ]
    },
    {
     "name": "stdout",
     "output_type": "stream",
     "text": [
      "             RF_Accuracy    RF_AUC  SVM_Accuracy   SVM_AUC  CatBoost_Accuracy  \\\n",
      "AllFeatures     0.780303  0.922917      0.746970  0.843750           0.845455   \n",
      "SelectMicro     0.896970  0.977778      0.698485  0.899306           0.878788   \n",
      "AE              0.762121  0.705671      0.371212  0.356019           0.693939   \n",
      "\n",
      "             CatBoost_AUC  NB_Accuracy    NB_AUC  \n",
      "AllFeatures      0.887037     0.863636  0.801389  \n",
      "SelectMicro      0.962269     0.933333  0.940278  \n",
      "AE               0.715972     0.406061  0.658333  \n",
      "                      Accuracy  Precision    Recall  Specification       Mcc\n",
      "AllFeatures_RF        0.779661   1.000000  0.235294       1.000000  0.423886\n",
      "AllFeatures_SVM       0.745763   0.571429  0.470588       0.857143  0.348896\n",
      "AllFeatures_CatBoost  0.847458   1.000000  0.470588       1.000000  0.622530\n",
      "AllFeatures_NB        0.864407   0.846154  0.647059       0.952381  0.655004\n",
      "SelectMicro_RF        0.898305   1.000000  0.647059       1.000000  0.752447\n",
      "SelectMicro_SVM       0.694915   0.483871  0.882353       0.619048  0.454751\n",
      "SelectMicro_CatBoost  0.881356   1.000000  0.588235       1.000000  0.710072\n",
      "SelectMicro_NB        0.932203   0.842105  0.941176       0.928571  0.843016\n",
      "AE_RF                 0.762712   0.636364  0.411765       0.904762  0.368080\n",
      "AE_SVM                0.372881   0.300000  0.882353       0.166667  0.061747\n",
      "AE_CatBoost           0.694915   0.466667  0.411765       0.809524  0.230163\n",
      "AE_NB                 0.406780   0.275000  0.647059       0.309524 -0.042083\n",
      "The response variable and its counts are:\n",
      "Urban      33\n",
      "Natural    26\n",
      "Name: count, dtype: int64\n",
      "The shape of the original dataset is  (59, 1768)\n",
      "The shape of the SelectMicro dataset is  (59, 29)\n",
      "The shape of the AE dataset is  (59, 100)\n",
      "             RF_Accuracy    RF_AUC  SVM_Accuracy   SVM_AUC  CatBoost_Accuracy  \\\n",
      "AllFeatures     0.556061  0.702698      0.556061  0.424444           0.524242   \n",
      "SelectMicro     0.627273  0.658413      0.609091  0.401587           0.593939   \n",
      "AE              0.522727  0.533651      0.440909  0.476190           0.490909   \n",
      "\n",
      "             CatBoost_AUC  NB_Accuracy    NB_AUC  \n",
      "AllFeatures      0.582540     0.610606  0.605000  \n",
      "SelectMicro      0.613492     0.643939  0.805556  \n",
      "AE               0.520635     0.422727  0.413968  \n",
      "                      Accuracy  Precision    Recall  Specification       Mcc\n",
      "AllFeatures_RF        0.559322   0.500000  0.230769       0.818182  0.060376\n",
      "AllFeatures_SVM       0.559322   0.500000  0.346154       0.727273  0.079171\n",
      "AllFeatures_CatBoost  0.525424   0.400000  0.153846       0.818182 -0.037014\n",
      "AllFeatures_NB        0.610169   0.551724  0.615385       0.606061  0.219913\n",
      "SelectMicro_RF        0.627119   0.590909  0.500000       0.727273  0.233334\n",
      "SelectMicro_SVM       0.610169   0.555556  0.576923       0.636364  0.212545\n",
      "SelectMicro_CatBoost  0.593220   0.550000  0.423077       0.727273  0.157688\n",
      "SelectMicro_NB        0.644068   0.558140  0.923077       0.424242  0.387863\n",
      "AE_RF                 0.525424   0.454545  0.384615       0.636364  0.021539\n",
      "AE_SVM                0.440678   0.433962  0.884615       0.090909 -0.040203\n",
      "AE_CatBoost           0.491525   0.416667  0.384615       0.575758 -0.040049\n",
      "AE_NB                 0.423729   0.425926  0.884615       0.060606 -0.097650\n",
      "The response variable and its counts are:\n",
      "Perennial    37\n",
      "Annual       22\n",
      "Name: count, dtype: int64\n",
      "The shape of the original dataset is  (59, 1768)\n",
      "The shape of the SelectMicro dataset is  (59, 19)\n",
      "The shape of the AE dataset is  (59, 100)\n",
      "             RF_Accuracy    RF_AUC  SVM_Accuracy   SVM_AUC  CatBoost_Accuracy  \\\n",
      "AllFeatures     0.590909  0.457857      0.507576  0.471607           0.542424   \n",
      "SelectMicro     0.760606  0.816250      0.759091  0.823929           0.742424   \n",
      "AE              0.543939  0.448125      0.409091  0.591250           0.459091   \n",
      "\n",
      "             CatBoost_AUC  NB_Accuracy    NB_AUC  \n",
      "AllFeatures      0.436429     0.507576  0.516071  \n",
      "SelectMicro      0.852500     0.865152  0.847143  \n",
      "AE               0.479107     0.495455  0.539732  \n",
      "                      Accuracy  Precision    Recall  Specification       Mcc\n",
      "AllFeatures_RF        0.593220   0.333333  0.090909       0.891892 -0.027517\n",
      "AllFeatures_SVM       0.508475   0.230769  0.136364       0.729730 -0.156230\n",
      "AllFeatures_CatBoost  0.542373   0.222222  0.090909       0.810811 -0.132182\n",
      "AllFeatures_NB        0.508475   0.360000  0.409091       0.567568 -0.022842\n",
      "SelectMicro_RF        0.762712   0.785714  0.500000       0.918919  0.476181\n",
      "SelectMicro_SVM       0.762712   0.785714  0.500000       0.918919  0.476181\n",
      "SelectMicro_CatBoost  0.745763   0.769231  0.454545       0.918919  0.435723\n",
      "SelectMicro_NB        0.864407   0.937500  0.681818       0.972973  0.712231\n",
      "AE_RF                 0.542373   0.333333  0.227273       0.729730 -0.047751\n",
      "AE_SVM                0.406780   0.367347  0.818182       0.162162 -0.025334\n",
      "AE_CatBoost           0.457627   0.272727  0.272727       0.567568 -0.159705\n",
      "AE_NB                 0.491525   0.416667  0.909091       0.243243  0.189144\n"
     ]
    }
   ],
   "source": [
    "dict_cm_list = []\n",
    "\n",
    "for i in range(yList.shape[1]):\n",
    "    targetLabel=yList[:,i]\n",
    "    print(\"The response variable and its counts are:\")\n",
    "    print(pd.Series(yList[:,i]).value_counts())\n",
    "    \n",
    "    X_FS = X_FS_list[i]\n",
    "\n",
    "    data_subset = {\"AllFeatures\":data, \n",
    "           \"SelectMicro\": X_FS,\n",
    "           \"AE\":data_AE\n",
    "          }\n",
    "    print(f'The shape of the original dataset is ',np.shape(data))\n",
    "    print(f'The shape of the SelectMicro dataset is ',np.shape(X_FS))\n",
    "    print(f'The shape of the AE dataset is ',np.shape(data_AE))\n",
    "    \n",
    "    dict_cm = RunML_continue.runClassifier_FScompare(data_subsets= data_subset,y= targetLabel,N=iter,classifiers=cls,SMOTE=True)\n",
    "    print(metric.metric_sum(dict_cm))\n",
    "    dict_cm_list.append(dict_cm)\n",
    "\n",
    "\n",
    "  "
   ]
  },
  {
   "cell_type": "code",
   "execution_count": null,
   "metadata": {},
   "outputs": [],
   "source": []
  },
  {
   "cell_type": "code",
   "execution_count": 14,
   "metadata": {
    "metadata": {},
    "scrolled": true
   },
   "outputs": [
    {
     "name": "stdout",
     "output_type": "stream",
     "text": [
      "{'mean_accuracy': 0.7803030303030304, 'mean_auc': 0.9229166666666668, 'y_true': ['No', 'No', 'No', 'Yes', 'Yes', 'Yes', 'Yes', 'Yes', 'No', 'Yes', 'Yes', 'Yes', 'No', 'Yes', 'Yes', 'Yes', 'Yes', 'Yes', 'No', 'Yes', 'Yes', 'No', 'No', 'Yes', 'No', 'No', 'Yes', 'Yes', 'Yes', 'Yes', 'Yes', 'Yes', 'Yes', 'No', 'Yes', 'Yes', 'No', 'Yes', 'Yes', 'No', 'Yes', 'Yes', 'Yes', 'Yes', 'No', 'Yes', 'Yes', 'Yes', 'Yes', 'Yes', 'Yes', 'Yes', 'No', 'Yes', 'No', 'Yes', 'Yes', 'Yes', 'No'], 'y_pred': ['Yes', 'Yes', 'Yes', 'Yes', 'Yes', 'Yes', 'Yes', 'Yes', 'Yes', 'Yes', 'Yes', 'Yes', 'Yes', 'Yes', 'Yes', 'Yes', 'Yes', 'Yes', 'No', 'Yes', 'Yes', 'Yes', 'No', 'Yes', 'Yes', 'Yes', 'Yes', 'Yes', 'Yes', 'Yes', 'Yes', 'Yes', 'Yes', 'Yes', 'Yes', 'Yes', 'Yes', 'Yes', 'Yes', 'No', 'Yes', 'Yes', 'Yes', 'Yes', 'Yes', 'Yes', 'Yes', 'Yes', 'Yes', 'Yes', 'Yes', 'Yes', 'Yes', 'Yes', 'Yes', 'Yes', 'Yes', 'Yes', 'No'], 'y_pred_prob': [0.6, 0.59, 0.67, 1.0, 1.0, 0.97, 0.84, 0.76, 0.75, 1.0, 0.91, 0.92, 0.83, 0.94, 0.99, 0.98, 0.81, 1.0, 0.38, 0.68, 0.97, 0.59, 0.36, 0.66, 0.71, 0.55, 0.81, 0.87, 0.98, 0.95, 0.79, 0.91, 0.73, 0.7, 0.75, 0.87, 0.54, 0.99, 0.95, 0.14, 0.68, 0.95, 0.69, 0.87, 0.87, 0.95, 0.86, 0.7, 0.85, 0.97, 0.99, 0.99, 0.83, 0.93, 0.9, 0.87, 0.85, 0.98, 0.26]}\n"
     ]
    }
   ],
   "source": [
    "dict_cm_0 = RunML_continue.ML_model_SCV(data, burn_label, \"RF\", SMOTE=True,k=5)\n",
    "print(dict_cm_0)"
   ]
  },
  {
   "cell_type": "code",
   "execution_count": 15,
   "metadata": {},
   "outputs": [
    {
     "data": {
      "text/plain": [
       "Index(['ASV66', 'ASV81', 'ASV85', 'ASV141', 'ASV148', 'ASV43', 'ASV73',\n",
       "       'ASV38', 'ASV139', 'ASV154', 'ASV174', 'ASV181', 'ASV208', 'ASV216',\n",
       "       'ASV263', 'ASV272', 'ASV94', 'ASV7', 'ASV3', 'ASV19', 'ASV45', 'ASV11',\n",
       "       'ASV24', 'ASV91', 'ASV133', 'ASV146', 'ASV150', 'ASV159', 'ASV191',\n",
       "       'ASV207', 'ASV225', 'ASV274', 'ASV315', 'ASV335', 'ASV338', 'ASV348',\n",
       "       'ASV369', 'ASV384', 'ASV51', 'ASV5', 'ASV13', 'ASV18', 'ASV2', 'ASV30',\n",
       "       'ASV104', 'ASV183', 'ASV231', 'ASV27', 'ASV8', 'ASV15', 'ASV26', 'ASV1',\n",
       "       'ASV79', 'ASV54', 'ASV59', 'ASV32'],\n",
       "      dtype='object')"
      ]
     },
     "execution_count": 15,
     "metadata": {},
     "output_type": "execute_result"
    }
   ],
   "source": [
    "selectedASV_list[0]"
   ]
  },
  {
   "cell_type": "markdown",
   "metadata": {},
   "source": []
  },
  {
   "cell_type": "code",
   "execution_count": 16,
   "metadata": {},
   "outputs": [
    {
     "ename": "NameError",
     "evalue": "name 'selectedOTU_index_FS_lassoft_list' is not defined",
     "output_type": "error",
     "traceback": [
      "\u001b[0;31m---------------------------------------------------------------------------\u001b[0m",
      "\u001b[0;31mNameError\u001b[0m                                 Traceback (most recent call last)",
      "Cell \u001b[0;32mIn[16], line 1\u001b[0m\n\u001b[0;32m----> 1\u001b[0m \u001b[43mselectedOTU_index_FS_lassoft_list\u001b[49m\n",
      "\u001b[0;31mNameError\u001b[0m: name 'selectedOTU_index_FS_lassoft_list' is not defined"
     ]
    }
   ],
   "source": [
    "selectedOTU_index_FS_lassoft_list"
   ]
  },
  {
   "cell_type": "code",
   "execution_count": null,
   "metadata": {},
   "outputs": [],
   "source": []
  },
  {
   "cell_type": "code",
   "execution_count": null,
   "metadata": {},
   "outputs": [],
   "source": [
    "selectedOTU_index_FS_lassoft_list[0]"
   ]
  },
  {
   "cell_type": "code",
   "execution_count": null,
   "metadata": {},
   "outputs": [],
   "source": []
  },
  {
   "cell_type": "code",
   "execution_count": null,
   "metadata": {},
   "outputs": [],
   "source": []
  },
  {
   "cell_type": "code",
   "execution_count": null,
   "metadata": {},
   "outputs": [],
   "source": []
  },
  {
   "cell_type": "code",
   "execution_count": null,
   "metadata": {},
   "outputs": [],
   "source": []
  },
  {
   "cell_type": "code",
   "execution_count": null,
   "metadata": {
    "metadata": {}
   },
   "outputs": [],
   "source": []
  },
  {
   "cell_type": "code",
   "execution_count": null,
   "metadata": {},
   "outputs": [],
   "source": []
  },
  {
   "cell_type": "code",
   "execution_count": null,
   "metadata": {},
   "outputs": [],
   "source": []
  },
  {
   "cell_type": "markdown",
   "metadata": {},
   "source": [
    "## compare the first 20 index"
   ]
  },
  {
   "cell_type": "code",
   "execution_count": null,
   "metadata": {
    "metadata": {}
   },
   "outputs": [],
   "source": [
    "import seaborn as sns\n",
    "import numpy as np\n",
    "import matplotlib.pyplot as plt\n",
    "import matplotlib as mpl\n",
    "\n",
    "# Keep only the first 20 elements\n",
    "\n",
    "entries=20\n",
    "\n",
    "selectedOTU_index_15_list=[arr[:entries] for arr in selectedOTU_index_list]\n",
    "\n",
    "selectedASVs20_list = []\n",
    "for i in range(yList.shape[1]):\n",
    "    selectedASVs = ASVs[selectedOTU_index_15_list[i]]\n",
    "    selectedASVs20_list.append(selectedASVs)"
   ]
  },
  {
   "cell_type": "code",
   "execution_count": null,
   "metadata": {},
   "outputs": [],
   "source": [
    "targetLabel=burn_label\n",
    "FS.plotPresenseRatio(data[:,selectedOTU_index_15_list[0]],yList[:,0],selectedASVs20_list[0],\n",
    "                     posLabel=\"Yes\",posText=\"Burned\",negText=\"Not Burned\")\n",
    "FS.plotPresenseRatio(X_lassoft_list[0],yList[:,0],ASVs[selectedOTU_index_lassoft_list[0]],\n",
    "                     posLabel=\"Yes\",posText=\"Burned\",negText=\"Not Burned\")\n",
    "\n",
    "FS.plotPresenseRatio(X_FS_list[0][:,selectedOTU_index_FS_lassoft_list[0]],yList[:,0],selectedASV_list[0][selectedOTU_index_FS_lassoft_list[0]],\n",
    "                     posLabel=\"Yes\",posText=\"Burned\",negText=\"Not Burned\")"
   ]
  },
  {
   "cell_type": "code",
   "execution_count": null,
   "metadata": {},
   "outputs": [],
   "source": [
    "targetLabel=un_label\n",
    "FS.plotPresenseRatio(data[:,selectedOTU_index_15_list[1]],yList[:,1],selectedASVs20_list[1],\n",
    "                     posLabel=\"Natural\",posText=\"Natural\",negText=\"Urban\")\n",
    "\n",
    "FS.plotPresenseRatio(X_lassoft_list[1],yList[:,1],ASVs[selectedOTU_index_lassoft_list[1]],\n",
    "                    posLabel=\"Natural\",posText=\"Natural\",negText=\"Urban\")\n",
    "FS.plotPresenseRatio(X_FS_list[1][:,selectedOTU_index_FS_lassoft_list[1]],yList[:,1],selectedASV_list[1][selectedOTU_index_FS_lassoft_list[1]],\n",
    "                     posLabel=\"Natural\",posText=\"Natural\",negText=\"Urban\")"
   ]
  },
  {
   "cell_type": "code",
   "execution_count": null,
   "metadata": {},
   "outputs": [],
   "source": []
  },
  {
   "cell_type": "code",
   "execution_count": null,
   "metadata": {},
   "outputs": [],
   "source": [
    "targetLabel=duration_label\n",
    "FS.plotPresenseRatio(data[:,selectedOTU_index_15_list[2]],yList[:,2],selectedASVs20_list[2],\n",
    "                    posLabel=\"Annual\",posText=\"Annual\",negText=\"Perennial\")\n",
    "FS.plotPresenseRatio(X_lassoft_list[2],yList[:,2],ASVs[selectedOTU_index_lassoft_list[2]],\n",
    "                    posLabel=\"Annual\",posText=\"Annual\",negText=\"Perennial\")\n",
    "FS.plotPresenseRatio(X_FS_list[2][:,selectedOTU_index_FS_lassoft_list[2]],yList[:,2],selectedASV_list[2][selectedOTU_index_FS_lassoft_list[2]],\n",
    "                     posLabel=\"Annual\",posText=\"Annual\",negText=\"Perennial\")"
   ]
  },
  {
   "cell_type": "code",
   "execution_count": null,
   "metadata": {},
   "outputs": [],
   "source": [
    "X_FS_list[2][:,selectedOTU_index_FS_lasso_list[2]].shape"
   ]
  },
  {
   "cell_type": "code",
   "execution_count": null,
   "metadata": {},
   "outputs": [],
   "source": [
    "len(selectedASV_list[2][selectedOTU_index_FS_lassoft_list[2]])"
   ]
  },
  {
   "cell_type": "code",
   "execution_count": null,
   "metadata": {},
   "outputs": [],
   "source": []
  },
  {
   "cell_type": "code",
   "execution_count": null,
   "metadata": {},
   "outputs": [],
   "source": [
    "len(selectedOTU_index_FS_lasso_list[2])"
   ]
  },
  {
   "cell_type": "code",
   "execution_count": null,
   "metadata": {},
   "outputs": [],
   "source": [
    "selectedASV_list[2]"
   ]
  },
  {
   "cell_type": "code",
   "execution_count": null,
   "metadata": {},
   "outputs": [],
   "source": [
    "selectedOTU_index_FS_lassoft_list[2]"
   ]
  },
  {
   "cell_type": "code",
   "execution_count": null,
   "metadata": {},
   "outputs": [],
   "source": []
  },
  {
   "cell_type": "code",
   "execution_count": null,
   "metadata": {},
   "outputs": [],
   "source": []
  },
  {
   "cell_type": "code",
   "execution_count": null,
   "metadata": {},
   "outputs": [],
   "source": []
  },
  {
   "cell_type": "code",
   "execution_count": null,
   "metadata": {},
   "outputs": [],
   "source": []
  },
  {
   "cell_type": "code",
   "execution_count": null,
   "metadata": {},
   "outputs": [],
   "source": []
  },
  {
   "cell_type": "code",
   "execution_count": null,
   "metadata": {},
   "outputs": [],
   "source": []
  },
  {
   "cell_type": "code",
   "execution_count": null,
   "metadata": {},
   "outputs": [],
   "source": []
  },
  {
   "cell_type": "code",
   "execution_count": null,
   "metadata": {},
   "outputs": [],
   "source": []
  },
  {
   "cell_type": "code",
   "execution_count": null,
   "metadata": {},
   "outputs": [],
   "source": []
  }
 ],
 "metadata": {
  "kernelspec": {
   "display_name": "Python 3 (ipykernel)",
   "language": "python",
   "name": "python3"
  },
  "language_info": {
   "codemirror_mode": {
    "name": "ipython",
    "version": 3
   },
   "file_extension": ".py",
   "mimetype": "text/x-python",
   "name": "python",
   "nbconvert_exporter": "python",
   "pygments_lexer": "ipython3",
   "version": "3.9.10"
  }
 },
 "nbformat": 4,
 "nbformat_minor": 4
}
