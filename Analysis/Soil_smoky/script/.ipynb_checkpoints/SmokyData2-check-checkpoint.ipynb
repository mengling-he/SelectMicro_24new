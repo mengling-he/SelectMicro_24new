{
 "cells": [
  {
   "cell_type": "markdown",
   "metadata": {},
   "source": [
    "First, load the data,in this notebook we are using the smokoy mountain data as the example, the input data is already the relative abundance matrix. For this analysis, we will do feature selection independently for each response variable."
   ]
  },
  {
   "cell_type": "code",
   "execution_count": 1,
   "metadata": {
    "metadata": {}
   },
   "outputs": [
    {
     "name": "stderr",
     "output_type": "stream",
     "text": [
      "2025-01-13 14:40:05.419050: I tensorflow/core/util/port.cc:153] oneDNN custom operations are on. You may see slightly different numerical results due to floating-point round-off errors from different computation orders. To turn them off, set the environment variable `TF_ENABLE_ONEDNN_OPTS=0`.\n",
      "2025-01-13 14:40:05.421715: I external/local_xla/xla/tsl/cuda/cudart_stub.cc:32] Could not find cuda drivers on your machine, GPU will not be used.\n",
      "2025-01-13 14:40:05.425681: I external/local_xla/xla/tsl/cuda/cudart_stub.cc:32] Could not find cuda drivers on your machine, GPU will not be used.\n",
      "2025-01-13 14:40:05.436232: E external/local_xla/xla/stream_executor/cuda/cuda_fft.cc:477] Unable to register cuFFT factory: Attempting to register factory for plugin cuFFT when one has already been registered\n",
      "WARNING: All log messages before absl::InitializeLog() is called are written to STDERR\n",
      "E0000 00:00:1736797205.453666  554119 cuda_dnn.cc:8310] Unable to register cuDNN factory: Attempting to register factory for plugin cuDNN when one has already been registered\n",
      "E0000 00:00:1736797205.458834  554119 cuda_blas.cc:1418] Unable to register cuBLAS factory: Attempting to register factory for plugin cuBLAS when one has already been registered\n",
      "2025-01-13 14:40:05.477901: I tensorflow/core/platform/cpu_feature_guard.cc:210] This TensorFlow binary is optimized to use available CPU instructions in performance-critical operations.\n",
      "To enable the following instructions: AVX2 AVX512F AVX512_VNNI FMA, in other operations, rebuild TensorFlow with the appropriate compiler flags.\n"
     ]
    }
   ],
   "source": [
    "import sys\n",
    "sys.path.append('../../../Code')\n",
    "import loadData \n",
    "import RunML\n",
    "import RunML_continue\n",
    "import FS\n",
    "import metric\n",
    "\n",
    "import pandas as pd\n",
    "import numpy as np\n",
    "import random\n",
    "from sklearn.linear_model import LogisticRegression\n",
    "from sklearn.ensemble import RandomForestClassifier\n",
    "from sklearn import svm\n",
    "import pickle"
   ]
  },
  {
   "cell_type": "code",
   "execution_count": 2,
   "metadata": {},
   "outputs": [],
   "source": [
    "data,burn_label,un_label,duration_label,ASVs,df=loadData.loadSoilData(\"../data/count_table/merge_proportion_asv_smoky_moutain.csv\")"
   ]
  },
  {
   "cell_type": "code",
   "execution_count": 3,
   "metadata": {
    "metadata": {}
   },
   "outputs": [],
   "source": [
    "df = pd.DataFrame(data,columns = ASVs)# for function later"
   ]
  },
  {
   "cell_type": "code",
   "execution_count": 4,
   "metadata": {},
   "outputs": [
    {
     "name": "stdout",
     "output_type": "stream",
     "text": [
      "(59, 1768)\n",
      "(59,)\n"
     ]
    }
   ],
   "source": [
    "print(data.shape)\n",
    "print(burn_label.shape)"
   ]
  },
  {
   "cell_type": "code",
   "execution_count": 5,
   "metadata": {
    "metadata": {}
   },
   "outputs": [],
   "source": [
    "yList= np.column_stack((burn_label,un_label,duration_label))# y list is a 2D array, each column is a response outcome"
   ]
  },
  {
   "cell_type": "code",
   "execution_count": 6,
   "metadata": {},
   "outputs": [
    {
     "data": {
      "text/plain": [
       "array(['ASV1', 'ASV2', 'ASV3', ..., 'ASV3215', 'ASV3216', 'ASV3217'],\n",
       "      dtype='<U7')"
      ]
     },
     "execution_count": 6,
     "metadata": {},
     "output_type": "execute_result"
    }
   ],
   "source": [
    "ASVs = np.array(ASVs)\n",
    "ASVs"
   ]
  },
  {
   "cell_type": "code",
   "execution_count": null,
   "metadata": {},
   "outputs": [],
   "source": []
  },
  {
   "cell_type": "code",
   "execution_count": null,
   "metadata": {},
   "outputs": [],
   "source": []
  },
  {
   "cell_type": "code",
   "execution_count": 7,
   "metadata": {},
   "outputs": [
    {
     "ename": "NameError",
     "evalue": "name 'run_AE' is not defined",
     "output_type": "error",
     "traceback": [
      "\u001b[0;31m---------------------------------------------------------------------------\u001b[0m",
      "\u001b[0;31mNameError\u001b[0m                                 Traceback (most recent call last)",
      "Cell \u001b[0;32mIn[7], line 2\u001b[0m\n\u001b[1;32m      1\u001b[0m data_train, data_test, y_train, y_test \u001b[38;5;241m=\u001b[39m RunML_continue\u001b[38;5;241m.\u001b[39msplit_and_scale_data(data,burn_label)\n\u001b[0;32m----> 2\u001b[0m AE_train, AE_test \u001b[38;5;241m=\u001b[39m \u001b[43mrun_AE\u001b[49m(data_train,data_test)\n\u001b[1;32m      3\u001b[0m data_AE \u001b[38;5;241m=\u001b[39m pd\u001b[38;5;241m.\u001b[39mconcat([AE_train, AE_test], axis\u001b[38;5;241m=\u001b[39m\u001b[38;5;241m0\u001b[39m)\u001b[38;5;241m.\u001b[39mto_numpy()\n",
      "\u001b[0;31mNameError\u001b[0m: name 'run_AE' is not defined"
     ]
    }
   ],
   "source": [
    "data_train, data_test, y_train, y_test = RunML_continue.split_and_scale_data(data,burn_label)\n",
    "AE_train, AE_test = RunML_continue.run_AE(data_train,data_test)\n",
    "data_AE = pd.concat([AE_train, AE_test], axis=0).to_numpy()"
   ]
  },
  {
   "cell_type": "code",
   "execution_count": null,
   "metadata": {},
   "outputs": [],
   "source": []
  },
  {
   "cell_type": "code",
   "execution_count": null,
   "metadata": {},
   "outputs": [],
   "source": []
  },
  {
   "cell_type": "code",
   "execution_count": null,
   "metadata": {},
   "outputs": [],
   "source": []
  },
  {
   "cell_type": "markdown",
   "metadata": {},
   "source": [
    "### 2. Calculating H score for each OTU\n",
    "\n",
    "Perform feature selection, this is done by calculating Kruskal-Wallis H-test on each OTU for each environmental factor, each OTU/ASV is given a h score."
   ]
  },
  {
   "cell_type": "code",
   "execution_count": null,
   "metadata": {},
   "outputs": [],
   "source": [
    "# select the OTUs\n",
    "selected_list = []\n",
    "for i in range(yList.shape[1]):\n",
    "    selectedresult=FS.SelectMicro_fun(df,yList[:,i])\n",
    "    selected_list.append(selectedresult)\n",
    "selected_list[0].keys()"
   ]
  },
  {
   "cell_type": "code",
   "execution_count": null,
   "metadata": {
    "scrolled": true
   },
   "outputs": [],
   "source": [
    "selectedOTU_index_list = [item['selected_indices'] for item in selected_list]\n",
    "selectedASV_list = [item['selected_columnames'] for item in selected_list]\n",
    "X_FS_list = [item['selected_data'] for item in selected_list]\n",
    "data = selected_list[0]['relative_abundance_data']\n"
   ]
  },
  {
   "cell_type": "markdown",
   "metadata": {},
   "source": [
    "### 4. Model (default RF or SVM) \n",
    "The SVM model is always predicting one class, consider to fine tune the model's parameters."
   ]
  },
  {
   "cell_type": "code",
   "execution_count": null,
   "metadata": {},
   "outputs": [],
   "source": [
    "iter =30\n",
    "cls = [\"RF\",\"SVM\", \"CatBoost\",\"NB\"]"
   ]
  },
  {
   "cell_type": "code",
   "execution_count": null,
   "metadata": {},
   "outputs": [],
   "source": [
    "selectedASV_list[0]"
   ]
  },
  {
   "cell_type": "code",
   "execution_count": null,
   "metadata": {},
   "outputs": [],
   "source": [
    "X_lasso_list = []\n",
    "X_lassoft_list =[]\n",
    "selectedOTU_index_lasso_list = []\n",
    "selectedOTU_index_lassoft_list = []\n",
    "\n",
    "dict_cm_list = []\n",
    "\n",
    "for i in range(yList.shape[1]):\n",
    "    targetLabel=yList[:,i]\n",
    "    print(\"The response variable and its counts are:\")\n",
    "    print(pd.Series(yList[:,i]).value_counts())\n",
    "    \n",
    "    X_FS = X_FS_list[i]\n",
    "    \n",
    "    X_lasso,xlabel_lasso = RunML_continue.LassoFeatureSelection(data,targetLabel)# this is depend on the target variable(do not update here)\n",
    "    X_lasso_list.append(X_lasso)\n",
    "    selectedOTU_index_lasso_list.append(xlabel_lasso)\n",
    "\n",
    "    X_lasso_ft,xlabel_lasso_ft  = RunML_continue.LassoFS_CV(data,targetLabel)\n",
    "    X_lassoft_list.append(X_lasso_ft)\n",
    "    selectedOTU_index_lassoft_list.append(xlabel_lasso_ft)\n",
    "    \n",
    "    \n",
    "    data_subset = {\"AllFeatures\":data, \n",
    "               \"SelectMicro\": X_FS,\n",
    "               \"Lasso\":X_lasso,\n",
    "                \"Lasso_finetune\":X_lasso_ft,\n",
    "               \"AE\":data_AE\n",
    "              }\n",
    "    print(f'The shape of the original dataset is ',np.shape(data))\n",
    "    print(f'The shape of the SelectMicro dataset is ',np.shape(X_FS))\n",
    "    print(f'The shape of the Lasso selected dataset is ',np.shape(X_lasso))\n",
    "    print(f'The shape of the Lasso_finetune selected dataset is ',np.shape(X_lasso_ft))\n",
    "    print(f'The shape of the AE dataset is ',np.shape(data_AE))\n",
    "\n",
    "    dict_cm = RunML_continue.runClassifier_FScompare(data_subsets= data_subset,y= targetLabel,N=iter,classifiers=cls,SMOTE=True)\n",
    "    print(metric.metric_sum(dict_cm))\n",
    "    dict_cm_list.append(dict_cm)\n",
    "\n",
    "\n",
    "  "
   ]
  },
  {
   "cell_type": "code",
   "execution_count": null,
   "metadata": {
    "metadata": {},
    "scrolled": true
   },
   "outputs": [],
   "source": [
    "X_FS_lasso_list = []\n",
    "X_FS_lassoft_list =[]\n",
    "selectedOTU_index_FS_lasso_list = []\n",
    "selectedOTU_index_FS_lassoft_list = []\n",
    "\n",
    "dict_cm_list2 = []\n",
    "\n",
    "for i in range(yList.shape[1]):\n",
    "    targetLabel=yList[:,i]\n",
    "    print(\"The response variable and its counts are:\")\n",
    "    print(pd.Series(yList[:,i]).value_counts())\n",
    "    \n",
    "    X_FS = selected_list[i]['selected_data']\n",
    "    \n",
    "    X_FS_lasso,xlabel_FS_lasso = RunML_continue.LassoFeatureSelection(X_FS,targetLabel)# this is depend on the target variable(do not update here)\n",
    "    X_FS_lasso_list.append(X_FS_lasso)\n",
    "    selectedOTU_index_FS_lasso_list.append(xlabel_FS_lasso)\n",
    "\n",
    "    X_FS_lasso_ft,xlabel_FS_lasso_ft  = RunML_continue.LassoFS_CV(X_FS,targetLabel)\n",
    "    X_FS_lassoft_list.append(X_FS_lasso_ft)\n",
    "    selectedOTU_index_FS_lassoft_list.append(xlabel_FS_lasso_ft)\n",
    "    \n",
    "    \n",
    "    data_subset = {\"FS_Lasso\":X_FS_lasso,\n",
    "                \"FS_Lassofinetune\":X_FS_lasso_ft}\n",
    "    \n",
    "    print(f'The shape of the FS_Lasso selected dataset is ',np.shape(X_FS_lasso))\n",
    "    print(f'The shape of the FS_Lasso_finetune selected dataset is ',np.shape(X_FS_lasso_ft))\n",
    "\n",
    "    dict_cm = RunML_continue.runClassifier_FScompare(data_subsets= data_subset,y= targetLabel,N=iter,classifiers=cls,SMOTE=True)\n",
    "    print(metric.metric_sum(dict_cm))\n",
    "    dict_cm_list2.append(dict_cm)\n",
    "\n",
    "\n",
    "  "
   ]
  },
  {
   "cell_type": "code",
   "execution_count": null,
   "metadata": {},
   "outputs": [],
   "source": [
    "selectedASV_list[0]"
   ]
  },
  {
   "cell_type": "markdown",
   "metadata": {},
   "source": []
  },
  {
   "cell_type": "code",
   "execution_count": null,
   "metadata": {},
   "outputs": [],
   "source": [
    "selectedOTU_index_FS_lassoft_list"
   ]
  },
  {
   "cell_type": "code",
   "execution_count": null,
   "metadata": {},
   "outputs": [],
   "source": []
  },
  {
   "cell_type": "code",
   "execution_count": null,
   "metadata": {},
   "outputs": [],
   "source": [
    "selectedOTU_index_FS_lassoft_list[0]"
   ]
  },
  {
   "cell_type": "code",
   "execution_count": null,
   "metadata": {},
   "outputs": [],
   "source": []
  },
  {
   "cell_type": "code",
   "execution_count": null,
   "metadata": {},
   "outputs": [],
   "source": []
  },
  {
   "cell_type": "code",
   "execution_count": null,
   "metadata": {},
   "outputs": [],
   "source": []
  },
  {
   "cell_type": "code",
   "execution_count": null,
   "metadata": {},
   "outputs": [],
   "source": []
  },
  {
   "cell_type": "code",
   "execution_count": null,
   "metadata": {
    "metadata": {}
   },
   "outputs": [],
   "source": []
  },
  {
   "cell_type": "code",
   "execution_count": null,
   "metadata": {},
   "outputs": [],
   "source": []
  },
  {
   "cell_type": "code",
   "execution_count": null,
   "metadata": {},
   "outputs": [],
   "source": []
  },
  {
   "cell_type": "markdown",
   "metadata": {},
   "source": [
    "## compare the first 20 index"
   ]
  },
  {
   "cell_type": "code",
   "execution_count": null,
   "metadata": {
    "metadata": {}
   },
   "outputs": [],
   "source": [
    "import seaborn as sns\n",
    "import numpy as np\n",
    "import matplotlib.pyplot as plt\n",
    "import matplotlib as mpl\n",
    "\n",
    "# Keep only the first 20 elements\n",
    "\n",
    "entries=20\n",
    "\n",
    "selectedOTU_index_15_list=[arr[:entries] for arr in selectedOTU_index_list]\n",
    "\n",
    "selectedASVs20_list = []\n",
    "for i in range(yList.shape[1]):\n",
    "    selectedASVs = ASVs[selectedOTU_index_15_list[i]]\n",
    "    selectedASVs20_list.append(selectedASVs)"
   ]
  },
  {
   "cell_type": "code",
   "execution_count": null,
   "metadata": {},
   "outputs": [],
   "source": [
    "targetLabel=burn_label\n",
    "FS.plotPresenseRatio(data[:,selectedOTU_index_15_list[0]],yList[:,0],selectedASVs20_list[0],\n",
    "                     posLabel=\"Yes\",posText=\"Burned\",negText=\"Not Burned\")\n",
    "FS.plotPresenseRatio(X_lassoft_list[0],yList[:,0],ASVs[selectedOTU_index_lassoft_list[0]],\n",
    "                     posLabel=\"Yes\",posText=\"Burned\",negText=\"Not Burned\")\n",
    "\n",
    "FS.plotPresenseRatio(X_FS_list[0][:,selectedOTU_index_FS_lassoft_list[0]],yList[:,0],selectedASV_list[0][selectedOTU_index_FS_lassoft_list[0]],\n",
    "                     posLabel=\"Yes\",posText=\"Burned\",negText=\"Not Burned\")"
   ]
  },
  {
   "cell_type": "code",
   "execution_count": null,
   "metadata": {},
   "outputs": [],
   "source": [
    "targetLabel=un_label\n",
    "FS.plotPresenseRatio(data[:,selectedOTU_index_15_list[1]],yList[:,1],selectedASVs20_list[1],\n",
    "                     posLabel=\"Natural\",posText=\"Natural\",negText=\"Urban\")\n",
    "\n",
    "FS.plotPresenseRatio(X_lassoft_list[1],yList[:,1],ASVs[selectedOTU_index_lassoft_list[1]],\n",
    "                    posLabel=\"Natural\",posText=\"Natural\",negText=\"Urban\")\n",
    "FS.plotPresenseRatio(X_FS_list[1][:,selectedOTU_index_FS_lassoft_list[1]],yList[:,1],selectedASV_list[1][selectedOTU_index_FS_lassoft_list[1]],\n",
    "                     posLabel=\"Natural\",posText=\"Natural\",negText=\"Urban\")"
   ]
  },
  {
   "cell_type": "code",
   "execution_count": null,
   "metadata": {},
   "outputs": [],
   "source": []
  },
  {
   "cell_type": "code",
   "execution_count": null,
   "metadata": {},
   "outputs": [],
   "source": [
    "targetLabel=duration_label\n",
    "FS.plotPresenseRatio(data[:,selectedOTU_index_15_list[2]],yList[:,2],selectedASVs20_list[2],\n",
    "                    posLabel=\"Annual\",posText=\"Annual\",negText=\"Perennial\")\n",
    "FS.plotPresenseRatio(X_lassoft_list[2],yList[:,2],ASVs[selectedOTU_index_lassoft_list[2]],\n",
    "                    posLabel=\"Annual\",posText=\"Annual\",negText=\"Perennial\")\n",
    "FS.plotPresenseRatio(X_FS_list[2][:,selectedOTU_index_FS_lassoft_list[2]],yList[:,2],selectedASV_list[2][selectedOTU_index_FS_lassoft_list[2]],\n",
    "                     posLabel=\"Annual\",posText=\"Annual\",negText=\"Perennial\")"
   ]
  },
  {
   "cell_type": "code",
   "execution_count": null,
   "metadata": {},
   "outputs": [],
   "source": [
    "X_FS_list[2][:,selectedOTU_index_FS_lasso_list[2]].shape"
   ]
  },
  {
   "cell_type": "code",
   "execution_count": null,
   "metadata": {},
   "outputs": [],
   "source": [
    "len(selectedASV_list[2][selectedOTU_index_FS_lassoft_list[2]])"
   ]
  },
  {
   "cell_type": "code",
   "execution_count": null,
   "metadata": {},
   "outputs": [],
   "source": []
  },
  {
   "cell_type": "code",
   "execution_count": null,
   "metadata": {},
   "outputs": [],
   "source": [
    "len(selectedOTU_index_FS_lasso_list[2])"
   ]
  },
  {
   "cell_type": "code",
   "execution_count": null,
   "metadata": {},
   "outputs": [],
   "source": [
    "selectedASV_list[2]"
   ]
  },
  {
   "cell_type": "code",
   "execution_count": null,
   "metadata": {},
   "outputs": [],
   "source": [
    "selectedOTU_index_FS_lassoft_list[2]"
   ]
  },
  {
   "cell_type": "code",
   "execution_count": null,
   "metadata": {},
   "outputs": [],
   "source": []
  },
  {
   "cell_type": "code",
   "execution_count": null,
   "metadata": {},
   "outputs": [],
   "source": []
  },
  {
   "cell_type": "code",
   "execution_count": null,
   "metadata": {},
   "outputs": [],
   "source": []
  },
  {
   "cell_type": "code",
   "execution_count": null,
   "metadata": {},
   "outputs": [],
   "source": []
  },
  {
   "cell_type": "code",
   "execution_count": null,
   "metadata": {},
   "outputs": [],
   "source": []
  },
  {
   "cell_type": "code",
   "execution_count": null,
   "metadata": {},
   "outputs": [],
   "source": []
  },
  {
   "cell_type": "code",
   "execution_count": null,
   "metadata": {},
   "outputs": [],
   "source": []
  },
  {
   "cell_type": "code",
   "execution_count": null,
   "metadata": {},
   "outputs": [],
   "source": []
  },
  {
   "cell_type": "code",
   "execution_count": null,
   "metadata": {},
   "outputs": [],
   "source": []
  }
 ],
 "metadata": {
  "kernelspec": {
   "display_name": "Python 3 (ipykernel)",
   "language": "python",
   "name": "python3"
  },
  "language_info": {
   "codemirror_mode": {
    "name": "ipython",
    "version": 3
   },
   "file_extension": ".py",
   "mimetype": "text/x-python",
   "name": "python",
   "nbconvert_exporter": "python",
   "pygments_lexer": "ipython3",
   "version": "3.9.10"
  }
 },
 "nbformat": 4,
 "nbformat_minor": 4
}
