{
 "cells": [
  {
   "cell_type": "markdown",
   "metadata": {},
   "source": [
    "First, load the data,in this notebook we are using the smokoy mountain data as the example. And will use basic AE to get the transformation of the data and do prediction using the same models."
   ]
  },
  {
   "cell_type": "code",
   "execution_count": 1,
   "metadata": {
    "metadata": {}
   },
   "outputs": [],
   "source": [
    "import sys\n",
    "sys.path.append('../../../Code')\n",
    "import loadData \n",
    "import RunML\n",
    "import RunML_continue\n",
    "import FS\n",
    "import metric"
   ]
  },
  {
   "cell_type": "code",
   "execution_count": 2,
   "metadata": {},
   "outputs": [],
   "source": [
    "import pandas as pd\n",
    "import numpy as np\n",
    "import random\n",
    "from sklearn import svm\n",
    "import pickle\n",
    "import matplotlib.pyplot as plt"
   ]
  },
  {
   "cell_type": "code",
   "execution_count": 66,
   "metadata": {},
   "outputs": [
    {
     "name": "stdout",
     "output_type": "stream",
     "text": [
      "TensorFlow version: 2.18.0\n",
      "Num GPUs Available:  0\n"
     ]
    }
   ],
   "source": [
    "import tensorflow as tf\n",
    "print(\"TensorFlow version:\", tf.__version__)\n",
    "print(\"Num GPUs Available: \", len(tf.config.list_physical_devices('GPU')))"
   ]
  },
  {
   "cell_type": "markdown",
   "metadata": {},
   "source": [
    "### 1. Load the data and data preprocess\n",
    "After reading the data, convert the abundance matrix into relative abundance matrix; for the response variables, since we have multiple variables, organize them into an array with each variable as a column."
   ]
  },
  {
   "cell_type": "code",
   "execution_count": 4,
   "metadata": {},
   "outputs": [],
   "source": [
    "data,burn_label,un_label,duration_label,ASVs,df=loadData.loadSoilData(\"../data/count_table/merge_proportion_asv_smoky_moutain.csv\")"
   ]
  },
  {
   "cell_type": "code",
   "execution_count": 5,
   "metadata": {
    "metadata": {}
   },
   "outputs": [],
   "source": [
    "df = pd.DataFrame(data,columns = ASVs)# for function later"
   ]
  },
  {
   "cell_type": "code",
   "execution_count": 6,
   "metadata": {},
   "outputs": [
    {
     "name": "stdout",
     "output_type": "stream",
     "text": [
      "(59, 1768)\n",
      "(59,)\n"
     ]
    }
   ],
   "source": [
    "print(data.shape)\n",
    "print(burn_label.shape)"
   ]
  },
  {
   "cell_type": "code",
   "execution_count": null,
   "metadata": {},
   "outputs": [],
   "source": []
  },
  {
   "cell_type": "code",
   "execution_count": 7,
   "metadata": {
    "metadata": {}
   },
   "outputs": [],
   "source": [
    "yList= np.column_stack((burn_label,un_label,duration_label))# y list is a 2D array, each column is a response outcome"
   ]
  },
  {
   "cell_type": "code",
   "execution_count": 8,
   "metadata": {},
   "outputs": [],
   "source": [
    "y_index=['burn_label', 'un_label', 'duration_label']"
   ]
  },
  {
   "cell_type": "code",
   "execution_count": 9,
   "metadata": {},
   "outputs": [
    {
     "name": "stdout",
     "output_type": "stream",
     "text": [
      "[['No' 'Natural' 'Annual']\n",
      " ['No' 'Natural' 'Perennial']\n",
      " ['No' 'Urban' 'Perennial']\n",
      " ['No' 'Urban' 'Annual']\n",
      " ['No' 'Urban' 'Perennial']]\n",
      "Yes    42\n",
      "No     17\n",
      "Name: count, dtype: int64\n",
      "Urban      33\n",
      "Natural    26\n",
      "Name: count, dtype: int64\n",
      "Perennial    37\n",
      "Annual       22\n",
      "Name: count, dtype: int64\n"
     ]
    }
   ],
   "source": [
    "print(yList[:5])\n",
    "      \n",
    "for i in range(yList.shape[1]):\n",
    "    print(pd.Series(yList[:,i]).value_counts())"
   ]
  },
  {
   "cell_type": "markdown",
   "metadata": {},
   "source": [
    "### 2.AE\n"
   ]
  },
  {
   "cell_type": "code",
   "execution_count": 64,
   "metadata": {},
   "outputs": [],
   "source": [
    "\n",
    "# Define the Autoencoder Model\n",
    "def create_AE(input_dim=1, latent_dim=100, activation='relu', loss='mae', optimizer='adam'):\n",
    "    autoencoder = tf.keras.Sequential([\n",
    "        tf.keras.Input(shape=(input_dim,)),\n",
    "        layers.Flatten(),\n",
    "        layers.Dense(latent_dim, activation=activation),\n",
    "        layers.Dense(input_dim, activation='sigmoid')  # Decoder to reconstruct the input\n",
    "    ])\n",
    "    \n",
    "    autoencoder.compile(loss=loss, optimizer=optimizer, metrics=['mse'])\n",
    "    \n",
    "    return autoencoder\n",
    "\n",
    "# Manual GridSearchCV function\n",
    "def run_AE(X_train_scaled, X_test_scaled, param_grid=None):\n",
    "    if param_grid is None:\n",
    "        param_grid = {\n",
    "            'input_dim': [X_train_scaled.shape[1]], \n",
    "            'latent_dim': [10, 25, 50, 100],\n",
    "            'activation': ['relu', 'sigmoid', 'tanh'],\n",
    "            'loss': ['mae'],#, 'binary_crossentropy'],#\n",
    "            'optimizer': ['sgd', 'adam'],\n",
    "            'epochs': [10],\n",
    "            'batch_size': [32]\n",
    "        }\n",
    "\n",
    "    # Manually define a function for model training\n",
    "    def fit_model(input_dim, latent_dim, activation, loss, optimizer, epochs, batch_size):\n",
    "        autoencoder = create_AE(input_dim=input_dim, latent_dim=latent_dim, activation=activation, \n",
    "                                 loss=loss, optimizer=optimizer)\n",
    "        \n",
    "        # Fit the model with validation data\n",
    "        autoencoder.fit(X_train_scaled, X_train_scaled, epochs=epochs, batch_size=batch_size, \n",
    "                        validation_data=(X_test_scaled, X_test_scaled), verbose=0)\n",
    "        return autoencoder\n",
    "\n",
    "    # Custom GridSearchCV logic\n",
    "    best_model = None\n",
    "    best_params = None\n",
    "    best_score = float('inf')\n",
    "\n",
    "    for latent_dim in param_grid['latent_dim']:\n",
    "        for activation in param_grid['activation']:\n",
    "            for loss in param_grid['loss']:\n",
    "                for optimizer in param_grid['optimizer']:\n",
    "                    for epochs in param_grid['epochs']:\n",
    "                        for batch_size in param_grid['batch_size']:\n",
    "                            \n",
    "                            # Fit the model with a specific combination of hyperparameters\n",
    "                            autoencoder = fit_model(X_train_scaled.shape[1], latent_dim, activation, loss, optimizer, epochs, batch_size)\n",
    "                            \n",
    "                            # Get the validation loss (first item in the returned list)\n",
    "                            val_loss = autoencoder.evaluate(X_test_scaled, X_test_scaled, verbose=0)[0]\n",
    "                            # Track the best parameters based on validation loss\n",
    "                            if val_loss < best_score:\n",
    "                                best_score = val_loss\n",
    "                                best_params = {\n",
    "                                    'latent_dim': latent_dim,\n",
    "                                    'activation': activation,\n",
    "                                    'loss': loss,\n",
    "                                    'optimizer': optimizer,\n",
    "                                    'epochs': epochs,\n",
    "                                    'batch_size': batch_size\n",
    "                                }\n",
    "                                best_model = autoencoder\n",
    "    print(f\"latent dimension: {latent_dim}, activation:{activation}, opt:{optimizer}\")               \n",
    "    # Ensure the best model is built\n",
    "    best_model.predict(X_train_scaled[:1])  # Call the model on one sample to build it\n",
    "\n",
    "    # **New Fix: Call the encoder with proper outputs**\n",
    "    encoder_layer = tf.keras.Sequential(best_model.layers[:2])  # Extract only the encoder layers\n",
    "    \n",
    "    # Ensure the encoder is also built\n",
    "    encoder_layer.predict(X_train_scaled[:1])  # Trigger the encoder to initialize\n",
    "\n",
    "    # Generate latent features from encoder representation\n",
    "    AE_train = pd.DataFrame(encoder_layer.predict(X_train_scaled))\n",
    "    AE_train = AE_train.add_prefix('feature_')\n",
    "\n",
    "\n",
    "    AE_test = pd.DataFrame(encoder_layer.predict(X_test_scaled))\n",
    "    AE_test = AE_test.add_prefix('feature_')\n",
    "    \n",
    "    return AE_train, AE_test\n"
   ]
  },
  {
   "cell_type": "code",
   "execution_count": 24,
   "metadata": {},
   "outputs": [
    {
     "name": "stdout",
     "output_type": "stream",
     "text": [
      "(41, 1768)\n",
      "(18, 1768)\n"
     ]
    }
   ],
   "source": [
    "data_train, data_test, y_train, y_test = RunML_continue.split_and_scale_data(data,burn_label)\n",
    "print(data_train.shape)\n",
    "print(data_test.shape)"
   ]
  },
  {
   "cell_type": "code",
   "execution_count": null,
   "metadata": {},
   "outputs": [],
   "source": []
  },
  {
   "cell_type": "code",
   "execution_count": null,
   "metadata": {},
   "outputs": [],
   "source": []
  },
  {
   "cell_type": "code",
   "execution_count": 65,
   "metadata": {},
   "outputs": [
    {
     "name": "stderr",
     "output_type": "stream",
     "text": [
      "/lustre/isaac/scratch/mhe8/myenv/lib/python3.9/site-packages/keras/src/layers/reshaping/flatten.py:37: UserWarning: Do not pass an `input_shape`/`input_dim` argument to a layer. When using Sequential models, prefer using an `Input(shape)` object as the first layer in the model instead.\n",
      "  super().__init__(**kwargs)\n"
     ]
    },
    {
     "name": "stdout",
     "output_type": "stream",
     "text": [
      "latent dimension: 100, activation:tanh, opt:adam\n",
      "\u001b[1m1/1\u001b[0m \u001b[32m━━━━━━━━━━━━━━━━━━━━\u001b[0m\u001b[37m\u001b[0m \u001b[1m0s\u001b[0m 52ms/step\n",
      "\u001b[1m1/1\u001b[0m \u001b[32m━━━━━━━━━━━━━━━━━━━━\u001b[0m\u001b[37m\u001b[0m \u001b[1m0s\u001b[0m 42ms/step\n",
      "\u001b[1m2/2\u001b[0m \u001b[32m━━━━━━━━━━━━━━━━━━━━\u001b[0m\u001b[37m\u001b[0m \u001b[1m0s\u001b[0m 16ms/step\n",
      "\u001b[1m1/1\u001b[0m \u001b[32m━━━━━━━━━━━━━━━━━━━━\u001b[0m\u001b[37m\u001b[0m \u001b[1m0s\u001b[0m 28ms/step\n"
     ]
    }
   ],
   "source": [
    "AE_train, AE_test = run_AE(data_train,data_test)"
   ]
  },
  {
   "cell_type": "code",
   "execution_count": null,
   "metadata": {},
   "outputs": [],
   "source": []
  },
  {
   "cell_type": "code",
   "execution_count": 51,
   "metadata": {},
   "outputs": [],
   "source": [
    "data_AE = pd.concat([AE_train, AE_test], axis=0).to_numpy()\n"
   ]
  },
  {
   "cell_type": "code",
   "execution_count": 30,
   "metadata": {},
   "outputs": [],
   "source": [
    "iter =30\n",
    "cls = [\"RF\",\"SVM\", \"CatBoost\",\"NB\"]"
   ]
  },
  {
   "cell_type": "code",
   "execution_count": 52,
   "metadata": {},
   "outputs": [],
   "source": [
    "data_subset = {\"AllFeatures\":data, \n",
    "               \"AE\": data_AE\n",
    "              }"
   ]
  },
  {
   "cell_type": "code",
   "execution_count": 53,
   "metadata": {},
   "outputs": [
    {
     "name": "stdout",
     "output_type": "stream",
     "text": [
      "(59, 1768)\n",
      "(59, 100)\n"
     ]
    }
   ],
   "source": [
    "print(np.shape(data))\n",
    "print(np.shape(data_AE))"
   ]
  },
  {
   "cell_type": "markdown",
   "metadata": {},
   "source": [
    "The  function will print out the accuracy and AUC for each dataset using each classifier, and also will return the y_actual, y_predict, y_predprob for future use."
   ]
  },
  {
   "cell_type": "code",
   "execution_count": 56,
   "metadata": {},
   "outputs": [
    {
     "name": "stdout",
     "output_type": "stream",
     "text": [
      "             RF_Accuracy    RF_AUC  SVM_Accuracy   SVM_AUC  CatBoost_Accuracy  \\\n",
      "AllFeatures     0.796970  0.879630      0.746970  0.850000           0.795455   \n",
      "AE              0.709091  0.664352      0.354545  0.417593           0.693939   \n",
      "\n",
      "             CatBoost_AUC  NB_Accuracy    NB_AUC  \n",
      "AllFeatures      0.921528     0.828788  0.797222  \n",
      "AE               0.664352     0.522727  0.659259  \n"
     ]
    }
   ],
   "source": [
    "targetLabel=burn_label\n",
    "dict_cm = RunML_continue.runClassifier_FScompare(data_subsets= data_subset,y= targetLabel,N=iter,classifiers=cls,SMOTE=True)"
   ]
  },
  {
   "cell_type": "code",
   "execution_count": 58,
   "metadata": {},
   "outputs": [
    {
     "name": "stdout",
     "output_type": "stream",
     "text": [
      "                      Accuracy  Precision    Recall  Specification       Mcc\n",
      "AllFeatures_RF        0.796610   0.857143  0.352941       0.976190  0.460965\n",
      "AllFeatures_SVM       0.745763   0.571429  0.470588       0.857143  0.348896\n",
      "AllFeatures_CatBoost  0.796610   0.857143  0.352941       0.976190  0.460965\n",
      "AllFeatures_NB        0.830508   0.705882  0.705882       0.880952  0.586835\n",
      "AE_RF                 0.711864   0.500000  0.352941       0.857143  0.236376\n",
      "AE_SVM                0.355932   0.294118  0.882353       0.142857  0.033350\n",
      "AE_CatBoost           0.694915   0.466667  0.411765       0.809524  0.230163\n",
      "AE_NB                 0.525424   0.342857  0.705882       0.452381  0.145912\n"
     ]
    }
   ],
   "source": [
    "print(metric.metric_sum(dict_cm))"
   ]
  },
  {
   "cell_type": "code",
   "execution_count": 63,
   "metadata": {},
   "outputs": [
    {
     "name": "stdout",
     "output_type": "stream",
     "text": [
      "{'mean_accuracy': 0.796969696969697, 'mean_auc': 0.8796296296296298, 'y_true': ['No', 'No', 'No', 'Yes', 'Yes', 'Yes', 'Yes', 'Yes', 'No', 'Yes', 'Yes', 'Yes', 'No', 'Yes', 'Yes', 'Yes', 'Yes', 'Yes', 'No', 'Yes', 'Yes', 'No', 'No', 'Yes', 'No', 'No', 'Yes', 'Yes', 'Yes', 'Yes', 'Yes', 'Yes', 'Yes', 'No', 'Yes', 'Yes', 'No', 'Yes', 'Yes', 'No', 'Yes', 'Yes', 'Yes', 'Yes', 'No', 'Yes', 'Yes', 'Yes', 'Yes', 'Yes', 'Yes', 'Yes', 'No', 'Yes', 'No', 'Yes', 'Yes', 'Yes', 'No'], 'y_pred': ['Yes', 'No', 'Yes', 'Yes', 'Yes', 'Yes', 'Yes', 'No', 'Yes', 'Yes', 'Yes', 'Yes', 'Yes', 'Yes', 'Yes', 'Yes', 'Yes', 'Yes', 'No', 'Yes', 'Yes', 'Yes', 'No', 'Yes', 'Yes', 'Yes', 'Yes', 'Yes', 'Yes', 'Yes', 'Yes', 'Yes', 'Yes', 'Yes', 'Yes', 'Yes', 'No', 'Yes', 'Yes', 'No', 'Yes', 'Yes', 'Yes', 'Yes', 'Yes', 'Yes', 'Yes', 'Yes', 'Yes', 'Yes', 'Yes', 'Yes', 'Yes', 'Yes', 'Yes', 'Yes', 'Yes', 'Yes', 'No'], 'y_pred_prob': [0.77, 0.5, 0.85, 0.99, 0.96, 0.98, 0.91, 0.48, 0.64, 1.0, 0.98, 0.95, 0.96, 0.95, 0.97, 0.99, 0.93, 1.0, 0.23, 0.72, 0.98, 0.54, 0.5, 0.59, 0.58, 0.54, 0.55, 0.97, 0.98, 0.95, 0.94, 0.98, 0.87, 0.66, 0.95, 0.96, 0.24, 0.98, 1.0, 0.19, 0.89, 0.94, 0.91, 0.94, 0.99, 0.93, 0.99, 0.62, 0.96, 1.0, 1.0, 1.0, 0.68, 1.0, 0.66, 0.91, 0.97, 1.0, 0.46]}\n"
     ]
    }
   ],
   "source": [
    "dict_cm_0 = RunML_continue.ML_model_SCV(data, burn_label, \"RF\", SMOTE=True,k=5)\n",
    "print(dict_cm_0)"
   ]
  },
  {
   "cell_type": "code",
   "execution_count": 62,
   "metadata": {},
   "outputs": [
    {
     "name": "stdout",
     "output_type": "stream",
     "text": [
      "{'mean_accuracy': 0.746969696969697, 'mean_auc': 0.85, 'y_true': ['No', 'No', 'No', 'Yes', 'Yes', 'Yes', 'Yes', 'Yes', 'No', 'Yes', 'Yes', 'Yes', 'No', 'Yes', 'Yes', 'Yes', 'Yes', 'Yes', 'No', 'Yes', 'Yes', 'No', 'No', 'Yes', 'No', 'No', 'Yes', 'Yes', 'Yes', 'Yes', 'Yes', 'Yes', 'Yes', 'No', 'Yes', 'Yes', 'No', 'Yes', 'Yes', 'No', 'Yes', 'Yes', 'Yes', 'Yes', 'No', 'Yes', 'Yes', 'Yes', 'Yes', 'Yes', 'Yes', 'Yes', 'No', 'Yes', 'No', 'Yes', 'Yes', 'Yes', 'No'], 'y_pred': ['Yes', 'Yes', 'Yes', 'Yes', 'Yes', 'Yes', 'Yes', 'Yes', 'Yes', 'Yes', 'Yes', 'Yes', 'Yes', 'Yes', 'Yes', 'Yes', 'Yes', 'Yes', 'No', 'No', 'Yes', 'Yes', 'No', 'No', 'No', 'No', 'Yes', 'Yes', 'Yes', 'Yes', 'Yes', 'Yes', 'No', 'No', 'No', 'Yes', 'No', 'Yes', 'Yes', 'No', 'Yes', 'Yes', 'Yes', 'No', 'Yes', 'Yes', 'Yes', 'No', 'Yes', 'Yes', 'Yes', 'Yes', 'Yes', 'Yes', 'Yes', 'Yes', 'Yes', 'Yes', 'No'], 'y_pred_prob': [0.5092169307792195, 0.6210576446537301, 0.5171072123455642, 0.844217133419973, 0.9283800461852867, 0.9423389203759135, 0.8470889424165805, 0.9466471243927967, 0.6776748394345968, 0.9224398907413602, 0.8478352912962236, 0.9078334535199216, 0.8502330187093575, 0.9842767769469899, 0.9907725769457667, 0.986710147720139, 0.8991854269208599, 0.9909715670087027, 0.14279371941161256, 0.5425346150548854, 0.989291063858758, 0.8957353660116838, 0.16389224409046185, 0.1987039746258802, 0.4134294049104123, 0.3871716411452279, 0.6107406571902599, 0.9350290145446954, 0.9381597146641653, 0.9496671539498704, 0.8852311494556759, 0.954297118070592, 0.4655067020209806, 0.36470345606720694, 0.30313969096348725, 0.9630794321427281, 0.4035647541760881, 0.9853402935672593, 0.9856360144086792, 0.09769734475728258, 0.7350075000009793, 0.9011619734747368, 0.7823084873007032, 0.6606778460154312, 0.9268584047669396, 0.9455335093657362, 0.899936893205568, 0.5130416139961869, 0.9835419931266043, 0.9801721102873612, 0.9769330441489326, 0.8790600397457087, 0.9042412426867078, 0.9320809785167663, 0.9722103149243299, 0.8585416751005973, 0.8001537673304465, 0.9845930107779605, 0.41989612184188885]}\n"
     ]
    }
   ],
   "source": [
    "dict_cm_svm = RunML_continue.ML_model_SCV(data, burn_label, \"SVM\", SMOTE=True,k=5)\n",
    "print(dict_cm_svm)"
   ]
  },
  {
   "cell_type": "code",
   "execution_count": null,
   "metadata": {},
   "outputs": [],
   "source": []
  },
  {
   "cell_type": "code",
   "execution_count": 55,
   "metadata": {},
   "outputs": [
    {
     "name": "stdout",
     "output_type": "stream",
     "text": [
      "             RF_Accuracy    RF_AUC  SVM_Accuracy   SVM_AUC  CatBoost_Accuracy  \\\n",
      "AllFeatures     0.624242  0.703175      0.556061  0.424444           0.577273   \n",
      "AE              0.524242  0.558810      0.422727  0.647460           0.422727   \n",
      "\n",
      "             CatBoost_AUC  NB_Accuracy    NB_AUC  \n",
      "AllFeatures      0.684921     0.625758  0.608571  \n",
      "AE               0.438730     0.457576  0.403333  \n"
     ]
    }
   ],
   "source": [
    "targetLabel=un_label\n",
    "dict_cm_un = RunML_continue.runClassifier_FScompare(data_subsets= data_subset,y= targetLabel,N=iter,classifiers=cls,SMOTE=True)"
   ]
  },
  {
   "cell_type": "code",
   "execution_count": null,
   "metadata": {},
   "outputs": [],
   "source": []
  },
  {
   "cell_type": "code",
   "execution_count": null,
   "metadata": {},
   "outputs": [],
   "source": []
  },
  {
   "cell_type": "code",
   "execution_count": 57,
   "metadata": {},
   "outputs": [
    {
     "name": "stdout",
     "output_type": "stream",
     "text": [
      "             RF_Accuracy    RF_AUC  SVM_Accuracy   SVM_AUC  CatBoost_Accuracy  \\\n",
      "AllFeatures     0.610606  0.344554      0.490909  0.471607           0.490909   \n",
      "AE              0.487879  0.387946      0.409091  0.538929           0.490909   \n",
      "\n",
      "             CatBoost_AUC  NB_Accuracy    NB_AUC  \n",
      "AllFeatures      0.322857     0.578788  0.558571  \n",
      "AE               0.399643     0.442424  0.418304  \n"
     ]
    }
   ],
   "source": [
    "targetLabel=duration_label\n",
    "dict_cm_dur = RunML_continue.runClassifier_FScompare(data_subsets= data_subset,y= targetLabel,N=iter,classifiers=cls,SMOTE=True)"
   ]
  },
  {
   "cell_type": "code",
   "execution_count": null,
   "metadata": {},
   "outputs": [],
   "source": []
  },
  {
   "cell_type": "code",
   "execution_count": null,
   "metadata": {},
   "outputs": [],
   "source": []
  },
  {
   "cell_type": "code",
   "execution_count": null,
   "metadata": {},
   "outputs": [],
   "source": []
  },
  {
   "cell_type": "code",
   "execution_count": null,
   "metadata": {
    "scrolled": true
   },
   "outputs": [],
   "source": []
  },
  {
   "cell_type": "markdown",
   "metadata": {},
   "source": []
  },
  {
   "cell_type": "markdown",
   "metadata": {},
   "source": [
    "####  Model 2\n",
    "\n",
    "##### Annual/ Perennial\n",
    "For comparison, only use the selected features for Annual/ Perennial classification. \n",
    "\n",
    "Even though the performance of our method is still not as good as Lasso, but it gives us better prediction using only 19 features compared with the union selection which has 86 featues."
   ]
  },
  {
   "cell_type": "code",
   "execution_count": 38,
   "metadata": {},
   "outputs": [],
   "source": [
    "indices_3 = np.where(weights[2,:] > stats.chi2.ppf(1 - 0.1, 1))[0]"
   ]
  },
  {
   "cell_type": "code",
   "execution_count": 39,
   "metadata": {},
   "outputs": [],
   "source": [
    "indices_3_sort = sorted(indices_3, key=lambda col: weights[2,col], reverse=True)"
   ]
  },
  {
   "cell_type": "code",
   "execution_count": null,
   "metadata": {},
   "outputs": [],
   "source": []
  },
  {
   "cell_type": "code",
   "execution_count": 40,
   "metadata": {},
   "outputs": [
    {
     "data": {
      "text/plain": [
       "26"
      ]
     },
     "execution_count": 40,
     "metadata": {},
     "output_type": "execute_result"
    }
   ],
   "source": [
    "len(indices_3_sort)"
   ]
  },
  {
   "cell_type": "code",
   "execution_count": 41,
   "metadata": {},
   "outputs": [],
   "source": [
    "X_FS_dur = data[:,indices_3_sort]"
   ]
  },
  {
   "cell_type": "code",
   "execution_count": 42,
   "metadata": {},
   "outputs": [
    {
     "name": "stdout",
     "output_type": "stream",
     "text": [
      "(59, 1768)\n",
      "(59, 26)\n",
      "(59, 54)\n",
      "(59, 9)\n"
     ]
    }
   ],
   "source": [
    "data_subset2 = {\"AllFeatures\":data, \n",
    "               \"SelectMicro\": X_FS_dur,\n",
    "               \"Lasso\":X_lasso_dur,\n",
    "               \"Lasso_finetune\":X_lasso_ft_dur,\n",
    "               \"Random\":data\n",
    "              }\n",
    "print(np.shape(data))\n",
    "print(np.shape(X_FS_dur))\n",
    "print(np.shape(X_lasso_dur))\n",
    "print(np.shape(X_lasso_ft_dur))"
   ]
  },
  {
   "cell_type": "code",
   "execution_count": 43,
   "metadata": {},
   "outputs": [
    {
     "name": "stdout",
     "output_type": "stream",
     "text": [
      "Key: mean_accuracy, Type: <class 'numpy.float64'>\n",
      "Key: mean_auc, Type: <class 'numpy.float64'>\n",
      "Key: y_true, Type: <class 'list'>\n",
      "Key: y_pred, Type: <class 'list'>\n",
      "Key: y_pred_prob, Type: <class 'list'>\n",
      "Key: mean_accuracy, Type: <class 'numpy.float64'>\n",
      "Key: mean_auc, Type: <class 'numpy.float64'>\n",
      "Key: y_true, Type: <class 'list'>\n",
      "Key: y_pred, Type: <class 'list'>\n",
      "Key: y_pred_prob, Type: <class 'list'>\n",
      "Key: mean_accuracy, Type: <class 'numpy.float64'>\n",
      "Key: mean_auc, Type: <class 'numpy.float64'>\n",
      "Key: y_true, Type: <class 'list'>\n",
      "Key: y_pred, Type: <class 'list'>\n",
      "Key: y_pred_prob, Type: <class 'list'>\n",
      "Key: mean_accuracy, Type: <class 'numpy.float64'>\n",
      "Key: mean_auc, Type: <class 'numpy.float64'>\n",
      "Key: y_true, Type: <class 'list'>\n",
      "Key: y_pred, Type: <class 'list'>\n",
      "Key: y_pred_prob, Type: <class 'list'>\n",
      "Key: mean_accuracy, Type: <class 'numpy.float64'>\n",
      "Key: mean_auc, Type: <class 'numpy.float64'>\n",
      "Key: y_true, Type: <class 'list'>\n",
      "Key: y_pred, Type: <class 'list'>\n",
      "Key: y_pred_prob, Type: <class 'list'>\n",
      "Key: mean_accuracy, Type: <class 'numpy.float64'>\n",
      "Key: mean_auc, Type: <class 'numpy.float64'>\n",
      "Key: y_true, Type: <class 'list'>\n",
      "Key: y_pred, Type: <class 'list'>\n",
      "Key: y_pred_prob, Type: <class 'list'>\n",
      "Key: mean_accuracy, Type: <class 'numpy.float64'>\n",
      "Key: mean_auc, Type: <class 'numpy.float64'>\n",
      "Key: y_true, Type: <class 'list'>\n",
      "Key: y_pred, Type: <class 'list'>\n",
      "Key: y_pred_prob, Type: <class 'list'>\n",
      "Key: mean_accuracy, Type: <class 'numpy.float64'>\n",
      "Key: mean_auc, Type: <class 'numpy.float64'>\n",
      "Key: y_true, Type: <class 'list'>\n",
      "Key: y_pred, Type: <class 'list'>\n",
      "Key: y_pred_prob, Type: <class 'list'>\n",
      "Key: mean_accuracy, Type: <class 'numpy.float64'>\n",
      "Key: mean_auc, Type: <class 'numpy.float64'>\n",
      "Key: y_true, Type: <class 'list'>\n",
      "Key: y_pred, Type: <class 'list'>\n",
      "Key: y_pred_prob, Type: <class 'list'>\n",
      "Key: mean_accuracy, Type: <class 'numpy.float64'>\n",
      "Key: mean_auc, Type: <class 'numpy.float64'>\n",
      "Key: y_true, Type: <class 'list'>\n",
      "Key: y_pred, Type: <class 'list'>\n",
      "Key: y_pred_prob, Type: <class 'list'>\n",
      "Key: mean_accuracy, Type: <class 'numpy.float64'>\n",
      "Key: mean_auc, Type: <class 'numpy.float64'>\n",
      "Key: y_true, Type: <class 'list'>\n",
      "Key: y_pred, Type: <class 'list'>\n",
      "Key: y_pred_prob, Type: <class 'list'>\n",
      "Key: mean_accuracy, Type: <class 'numpy.float64'>\n",
      "Key: mean_auc, Type: <class 'numpy.float64'>\n",
      "Key: y_true, Type: <class 'list'>\n",
      "Key: y_pred, Type: <class 'list'>\n",
      "Key: y_pred_prob, Type: <class 'list'>\n",
      "Key: mean_accuracy, Type: <class 'numpy.float64'>\n",
      "Key: mean_auc, Type: <class 'numpy.float64'>\n",
      "Key: y_true, Type: <class 'list'>\n",
      "Key: y_pred, Type: <class 'list'>\n",
      "Key: y_pred_prob, Type: <class 'list'>\n",
      "Key: mean_accuracy, Type: <class 'numpy.float64'>\n",
      "Key: mean_auc, Type: <class 'numpy.float64'>\n",
      "Key: y_true, Type: <class 'list'>\n",
      "Key: y_pred, Type: <class 'list'>\n",
      "Key: y_pred_prob, Type: <class 'list'>\n",
      "Key: mean_accuracy, Type: <class 'numpy.float64'>\n",
      "Key: mean_auc, Type: <class 'numpy.float64'>\n",
      "Key: y_true, Type: <class 'list'>\n",
      "Key: y_pred, Type: <class 'list'>\n",
      "Key: y_pred_prob, Type: <class 'list'>\n",
      "Key: mean_accuracy, Type: <class 'numpy.float64'>\n",
      "Key: mean_auc, Type: <class 'numpy.float64'>\n",
      "Key: y_true, Type: <class 'list'>\n",
      "Key: y_pred, Type: <class 'list'>\n",
      "Key: y_pred_prob, Type: <class 'list'>\n",
      "Key: mean_accuracy, Type: <class 'numpy.float64'>\n",
      "Key: mean_auc, Type: <class 'numpy.float64'>\n",
      "Key: y_true, Type: <class 'list'>\n",
      "Key: y_pred, Type: <class 'list'>\n",
      "Key: y_pred_prob, Type: <class 'list'>\n",
      "Key: mean_accuracy, Type: <class 'numpy.float64'>\n",
      "Key: mean_auc, Type: <class 'numpy.float64'>\n",
      "Key: y_true, Type: <class 'list'>\n",
      "Key: y_pred, Type: <class 'list'>\n",
      "Key: y_pred_prob, Type: <class 'list'>\n",
      "Key: mean_accuracy, Type: <class 'numpy.float64'>\n",
      "Key: mean_auc, Type: <class 'numpy.float64'>\n",
      "Key: y_true, Type: <class 'list'>\n",
      "Key: y_pred, Type: <class 'list'>\n",
      "Key: y_pred_prob, Type: <class 'list'>\n",
      "Key: mean_accuracy, Type: <class 'numpy.float64'>\n",
      "Key: mean_auc, Type: <class 'numpy.float64'>\n",
      "Key: y_true, Type: <class 'list'>\n",
      "Key: y_pred, Type: <class 'list'>\n",
      "Key: y_pred_prob, Type: <class 'list'>\n",
      "Key: mean_accuracy, Type: <class 'numpy.float64'>\n",
      "Key: mean_auc, Type: <class 'numpy.float64'>\n",
      "Key: y_true, Type: <class 'list'>\n",
      "Key: y_pred, Type: <class 'list'>\n",
      "Key: y_pred_prob, Type: <class 'list'>\n",
      "Key: mean_accuracy, Type: <class 'numpy.float64'>\n",
      "Key: mean_auc, Type: <class 'numpy.float64'>\n",
      "Key: y_true, Type: <class 'list'>\n",
      "Key: y_pred, Type: <class 'list'>\n",
      "Key: y_pred_prob, Type: <class 'list'>\n",
      "Key: mean_accuracy, Type: <class 'numpy.float64'>\n",
      "Key: mean_auc, Type: <class 'numpy.float64'>\n",
      "Key: y_true, Type: <class 'list'>\n",
      "Key: y_pred, Type: <class 'list'>\n",
      "Key: y_pred_prob, Type: <class 'list'>\n",
      "Key: mean_accuracy, Type: <class 'numpy.float64'>\n",
      "Key: mean_auc, Type: <class 'numpy.float64'>\n",
      "Key: y_true, Type: <class 'list'>\n",
      "Key: y_pred, Type: <class 'list'>\n",
      "Key: y_pred_prob, Type: <class 'list'>\n",
      "Key: mean_accuracy, Type: <class 'numpy.float64'>\n",
      "Key: mean_auc, Type: <class 'numpy.float64'>\n",
      "Key: y_true, Type: <class 'list'>\n",
      "Key: y_pred, Type: <class 'list'>\n",
      "Key: y_pred_prob, Type: <class 'list'>\n",
      "Key: mean_accuracy, Type: <class 'numpy.float64'>\n",
      "Key: mean_auc, Type: <class 'numpy.float64'>\n",
      "Key: y_true, Type: <class 'list'>\n",
      "Key: y_pred, Type: <class 'list'>\n",
      "Key: y_pred_prob, Type: <class 'list'>\n",
      "Key: mean_accuracy, Type: <class 'numpy.float64'>\n",
      "Key: mean_auc, Type: <class 'numpy.float64'>\n",
      "Key: y_true, Type: <class 'list'>\n",
      "Key: y_pred, Type: <class 'list'>\n",
      "Key: y_pred_prob, Type: <class 'list'>\n",
      "Key: mean_accuracy, Type: <class 'numpy.float64'>\n",
      "Key: mean_auc, Type: <class 'numpy.float64'>\n",
      "Key: y_true, Type: <class 'list'>\n",
      "Key: y_pred, Type: <class 'list'>\n",
      "Key: y_pred_prob, Type: <class 'list'>\n",
      "Key: mean_accuracy, Type: <class 'numpy.float64'>\n",
      "Key: mean_auc, Type: <class 'numpy.float64'>\n",
      "Key: y_true, Type: <class 'list'>\n",
      "Key: y_pred, Type: <class 'list'>\n",
      "Key: y_pred_prob, Type: <class 'list'>\n",
      "Key: mean_accuracy, Type: <class 'numpy.float64'>\n",
      "Key: mean_auc, Type: <class 'numpy.float64'>\n",
      "Key: y_true, Type: <class 'list'>\n",
      "Key: y_pred, Type: <class 'list'>\n",
      "Key: y_pred_prob, Type: <class 'list'>\n",
      "Key: mean_accuracy, Type: <class 'numpy.float64'>\n",
      "Key: mean_auc, Type: <class 'numpy.float64'>\n",
      "Key: y_true, Type: <class 'list'>\n",
      "Key: y_pred, Type: <class 'list'>\n",
      "Key: y_pred_prob, Type: <class 'list'>\n",
      "Key: mean_accuracy, Type: <class 'numpy.float64'>\n",
      "Key: mean_auc, Type: <class 'numpy.float64'>\n",
      "Key: y_true, Type: <class 'list'>\n",
      "Key: y_pred, Type: <class 'list'>\n",
      "Key: y_pred_prob, Type: <class 'list'>\n",
      "Key: mean_accuracy, Type: <class 'numpy.float64'>\n",
      "Key: mean_auc, Type: <class 'numpy.float64'>\n",
      "Key: y_true, Type: <class 'list'>\n",
      "Key: y_pred, Type: <class 'list'>\n",
      "Key: y_pred_prob, Type: <class 'list'>\n",
      "Key: mean_accuracy, Type: <class 'numpy.float64'>\n",
      "Key: mean_auc, Type: <class 'numpy.float64'>\n",
      "Key: y_true, Type: <class 'list'>\n",
      "Key: y_pred, Type: <class 'list'>\n",
      "Key: y_pred_prob, Type: <class 'list'>\n",
      "Key: mean_accuracy, Type: <class 'numpy.float64'>\n",
      "Key: mean_auc, Type: <class 'numpy.float64'>\n",
      "Key: y_true, Type: <class 'list'>\n",
      "Key: y_pred, Type: <class 'list'>\n",
      "Key: y_pred_prob, Type: <class 'list'>\n",
      "Key: mean_accuracy, Type: <class 'numpy.float64'>\n",
      "Key: mean_auc, Type: <class 'numpy.float64'>\n",
      "Key: y_true, Type: <class 'list'>\n",
      "Key: y_pred, Type: <class 'list'>\n",
      "Key: y_pred_prob, Type: <class 'list'>\n",
      "Key: mean_accuracy, Type: <class 'numpy.float64'>\n",
      "Key: mean_auc, Type: <class 'numpy.float64'>\n",
      "Key: y_true, Type: <class 'list'>\n",
      "Key: y_pred, Type: <class 'list'>\n",
      "Key: y_pred_prob, Type: <class 'list'>\n",
      "Key: mean_accuracy, Type: <class 'numpy.float64'>\n",
      "Key: mean_auc, Type: <class 'numpy.float64'>\n",
      "Key: y_true, Type: <class 'list'>\n",
      "Key: y_pred, Type: <class 'list'>\n",
      "Key: y_pred_prob, Type: <class 'list'>\n",
      "Key: mean_accuracy, Type: <class 'numpy.float64'>\n",
      "Key: mean_auc, Type: <class 'numpy.float64'>\n",
      "Key: y_true, Type: <class 'list'>\n",
      "Key: y_pred, Type: <class 'list'>\n",
      "Key: y_pred_prob, Type: <class 'list'>\n",
      "Key: mean_accuracy, Type: <class 'numpy.float64'>\n",
      "Key: mean_auc, Type: <class 'numpy.float64'>\n",
      "Key: y_true, Type: <class 'list'>\n",
      "Key: y_pred, Type: <class 'list'>\n",
      "Key: y_pred_prob, Type: <class 'list'>\n",
      "Key: mean_accuracy, Type: <class 'numpy.float64'>\n",
      "Key: mean_auc, Type: <class 'numpy.float64'>\n",
      "Key: y_true, Type: <class 'list'>\n",
      "Key: y_pred, Type: <class 'list'>\n",
      "Key: y_pred_prob, Type: <class 'list'>\n",
      "Key: mean_accuracy, Type: <class 'numpy.float64'>\n",
      "Key: mean_auc, Type: <class 'numpy.float64'>\n",
      "Key: y_true, Type: <class 'list'>\n",
      "Key: y_pred, Type: <class 'list'>\n",
      "Key: y_pred_prob, Type: <class 'list'>\n",
      "Key: mean_accuracy, Type: <class 'numpy.float64'>\n",
      "Key: mean_auc, Type: <class 'numpy.float64'>\n",
      "Key: y_true, Type: <class 'list'>\n",
      "Key: y_pred, Type: <class 'list'>\n",
      "Key: y_pred_prob, Type: <class 'list'>\n",
      "Key: mean_accuracy, Type: <class 'numpy.float64'>\n",
      "Key: mean_auc, Type: <class 'numpy.float64'>\n",
      "Key: y_true, Type: <class 'list'>\n",
      "Key: y_pred, Type: <class 'list'>\n",
      "Key: y_pred_prob, Type: <class 'list'>\n",
      "Key: mean_accuracy, Type: <class 'numpy.float64'>\n",
      "Key: mean_auc, Type: <class 'numpy.float64'>\n",
      "Key: y_true, Type: <class 'list'>\n",
      "Key: y_pred, Type: <class 'list'>\n",
      "Key: y_pred_prob, Type: <class 'list'>\n",
      "Key: mean_accuracy, Type: <class 'numpy.float64'>\n",
      "Key: mean_auc, Type: <class 'numpy.float64'>\n",
      "Key: y_true, Type: <class 'list'>\n",
      "Key: y_pred, Type: <class 'list'>\n",
      "Key: y_pred_prob, Type: <class 'list'>\n",
      "Key: mean_accuracy, Type: <class 'numpy.float64'>\n",
      "Key: mean_auc, Type: <class 'numpy.float64'>\n",
      "Key: y_true, Type: <class 'list'>\n",
      "Key: y_pred, Type: <class 'list'>\n",
      "Key: y_pred_prob, Type: <class 'list'>\n",
      "Key: mean_accuracy, Type: <class 'numpy.float64'>\n",
      "Key: mean_auc, Type: <class 'numpy.float64'>\n",
      "Key: y_true, Type: <class 'list'>\n",
      "Key: y_pred, Type: <class 'list'>\n",
      "Key: y_pred_prob, Type: <class 'list'>\n",
      "Key: mean_accuracy, Type: <class 'numpy.float64'>\n",
      "Key: mean_auc, Type: <class 'numpy.float64'>\n",
      "Key: y_true, Type: <class 'list'>\n",
      "Key: y_pred, Type: <class 'list'>\n",
      "Key: y_pred_prob, Type: <class 'list'>\n",
      "Key: mean_accuracy, Type: <class 'numpy.float64'>\n",
      "Key: mean_auc, Type: <class 'numpy.float64'>\n",
      "Key: y_true, Type: <class 'list'>\n",
      "Key: y_pred, Type: <class 'list'>\n",
      "Key: y_pred_prob, Type: <class 'list'>\n",
      "Key: mean_accuracy, Type: <class 'numpy.float64'>\n",
      "Key: mean_auc, Type: <class 'numpy.float64'>\n",
      "Key: y_true, Type: <class 'list'>\n",
      "Key: y_pred, Type: <class 'list'>\n",
      "Key: y_pred_prob, Type: <class 'list'>\n",
      "Key: mean_accuracy, Type: <class 'numpy.float64'>\n",
      "Key: mean_auc, Type: <class 'numpy.float64'>\n",
      "Key: y_true, Type: <class 'list'>\n",
      "Key: y_pred, Type: <class 'list'>\n",
      "Key: y_pred_prob, Type: <class 'list'>\n",
      "Key: mean_accuracy, Type: <class 'numpy.float64'>\n",
      "Key: mean_auc, Type: <class 'numpy.float64'>\n",
      "Key: y_true, Type: <class 'list'>\n",
      "Key: y_pred, Type: <class 'list'>\n",
      "Key: y_pred_prob, Type: <class 'list'>\n",
      "Key: mean_accuracy, Type: <class 'numpy.float64'>\n",
      "Key: mean_auc, Type: <class 'numpy.float64'>\n",
      "Key: y_true, Type: <class 'list'>\n",
      "Key: y_pred, Type: <class 'list'>\n",
      "Key: y_pred_prob, Type: <class 'list'>\n",
      "Key: mean_accuracy, Type: <class 'numpy.float64'>\n",
      "Key: mean_auc, Type: <class 'numpy.float64'>\n",
      "Key: y_true, Type: <class 'list'>\n",
      "Key: y_pred, Type: <class 'list'>\n",
      "Key: y_pred_prob, Type: <class 'list'>\n",
      "Key: mean_accuracy, Type: <class 'numpy.float64'>\n",
      "Key: mean_auc, Type: <class 'numpy.float64'>\n",
      "Key: y_true, Type: <class 'list'>\n",
      "Key: y_pred, Type: <class 'list'>\n",
      "Key: y_pred_prob, Type: <class 'list'>\n",
      "Key: mean_accuracy, Type: <class 'numpy.float64'>\n",
      "Key: mean_auc, Type: <class 'numpy.float64'>\n",
      "Key: y_true, Type: <class 'list'>\n",
      "Key: y_pred, Type: <class 'list'>\n",
      "Key: y_pred_prob, Type: <class 'list'>\n",
      "Key: mean_accuracy, Type: <class 'numpy.float64'>\n",
      "Key: mean_auc, Type: <class 'numpy.float64'>\n",
      "Key: y_true, Type: <class 'list'>\n",
      "Key: y_pred, Type: <class 'list'>\n",
      "Key: y_pred_prob, Type: <class 'list'>\n",
      "Key: mean_accuracy, Type: <class 'numpy.float64'>\n",
      "Key: mean_auc, Type: <class 'numpy.float64'>\n",
      "Key: y_true, Type: <class 'list'>\n",
      "Key: y_pred, Type: <class 'list'>\n",
      "Key: y_pred_prob, Type: <class 'list'>\n",
      "Key: mean_accuracy, Type: <class 'numpy.float64'>\n",
      "Key: mean_auc, Type: <class 'numpy.float64'>\n",
      "Key: y_true, Type: <class 'list'>\n",
      "Key: y_pred, Type: <class 'list'>\n",
      "Key: y_pred_prob, Type: <class 'list'>\n",
      "Key: mean_accuracy, Type: <class 'numpy.float64'>\n",
      "Key: mean_auc, Type: <class 'numpy.float64'>\n",
      "Key: y_true, Type: <class 'list'>\n",
      "Key: y_pred, Type: <class 'list'>\n",
      "Key: y_pred_prob, Type: <class 'list'>\n",
      "Key: mean_accuracy, Type: <class 'numpy.float64'>\n",
      "Key: mean_auc, Type: <class 'numpy.float64'>\n",
      "Key: y_true, Type: <class 'list'>\n",
      "Key: y_pred, Type: <class 'list'>\n",
      "Key: y_pred_prob, Type: <class 'list'>\n",
      "Key: mean_accuracy, Type: <class 'numpy.float64'>\n",
      "Key: mean_auc, Type: <class 'numpy.float64'>\n",
      "Key: y_true, Type: <class 'list'>\n",
      "Key: y_pred, Type: <class 'list'>\n",
      "Key: y_pred_prob, Type: <class 'list'>\n",
      "Key: mean_accuracy, Type: <class 'numpy.float64'>\n",
      "Key: mean_auc, Type: <class 'numpy.float64'>\n",
      "Key: y_true, Type: <class 'list'>\n",
      "Key: y_pred, Type: <class 'list'>\n",
      "Key: y_pred_prob, Type: <class 'list'>\n",
      "Key: mean_accuracy, Type: <class 'numpy.float64'>\n",
      "Key: mean_auc, Type: <class 'numpy.float64'>\n",
      "Key: y_true, Type: <class 'list'>\n",
      "Key: y_pred, Type: <class 'list'>\n",
      "Key: y_pred_prob, Type: <class 'list'>\n",
      "Key: mean_accuracy, Type: <class 'numpy.float64'>\n",
      "Key: mean_auc, Type: <class 'numpy.float64'>\n",
      "Key: y_true, Type: <class 'list'>\n",
      "Key: y_pred, Type: <class 'list'>\n",
      "Key: y_pred_prob, Type: <class 'list'>\n",
      "Key: mean_accuracy, Type: <class 'numpy.float64'>\n",
      "Key: mean_auc, Type: <class 'numpy.float64'>\n",
      "Key: y_true, Type: <class 'list'>\n",
      "Key: y_pred, Type: <class 'list'>\n",
      "Key: y_pred_prob, Type: <class 'list'>\n",
      "Key: mean_accuracy, Type: <class 'numpy.float64'>\n",
      "Key: mean_auc, Type: <class 'numpy.float64'>\n",
      "Key: y_true, Type: <class 'list'>\n",
      "Key: y_pred, Type: <class 'list'>\n",
      "Key: y_pred_prob, Type: <class 'list'>\n",
      "                RF_Accuracy    RF_AUC  SVM_Accuracy   SVM_AUC\n",
      "AllFeatures        0.610606  0.344554      0.490909  0.471607\n",
      "SelectMicro        0.693939  0.682679      0.659091  0.516429\n",
      "Lasso              0.795455  0.851250      0.778788  0.921964\n",
      "Lasso_finetune     0.795455  0.760804      0.796970  0.837500\n",
      "Random             0.498232  0.450470      0.472980  0.514318\n"
     ]
    }
   ],
   "source": [
    "dict_cm_dur2 = RunML_continue.runClassifier_FScompare(data_subsets= data_subset2,y= duration_label,N=iter,classifiers=cls,SMOTE=True)"
   ]
  },
  {
   "cell_type": "markdown",
   "metadata": {},
   "source": [
    "##### burn\n",
    "Let's also try it on burn label (expected to have better performance than Lasso, but ......)\n",
    "\n",
    "So, we check the feature ratio for burn label."
   ]
  },
  {
   "cell_type": "code",
   "execution_count": 44,
   "metadata": {},
   "outputs": [],
   "source": [
    "weights[0,:]\n",
    "indices_1 = np.where(weights[0,:] > stats.chi2.ppf(1 - 0.1, 1))[0]\n",
    "indices_1_sort = sorted(indices_1, key=lambda col: weights[0,col], reverse=True)\n",
    "len(indices_1_sort)\n",
    "\n",
    "X_FS_burn = data[:,indices_1_sort]\n",
    "X_lasso = data[:,xlabel_lasso_burn]"
   ]
  },
  {
   "cell_type": "code",
   "execution_count": null,
   "metadata": {},
   "outputs": [],
   "source": []
  },
  {
   "cell_type": "code",
   "execution_count": 45,
   "metadata": {},
   "outputs": [
    {
     "name": "stdout",
     "output_type": "stream",
     "text": [
      "(59, 1768)\n",
      "(59, 141)\n",
      "(59, 16)\n"
     ]
    }
   ],
   "source": [
    "data_subset3 = {\"AllFeatures\":data, \n",
    "               \"SelectMicro\": X_FS_burn,\n",
    "               \"Lasso\":X_lasso_burn,\n",
    "               \"Lasso_finetune\":X_lasso_ft_burn,\n",
    "               \"Random\":data\n",
    "              }\n",
    "print(np.shape(data))\n",
    "print(np.shape(X_FS_burn))\n",
    "print(np.shape(X_lasso))"
   ]
  },
  {
   "cell_type": "code",
   "execution_count": 46,
   "metadata": {},
   "outputs": [
    {
     "name": "stdout",
     "output_type": "stream",
     "text": [
      "Key: mean_accuracy, Type: <class 'numpy.float64'>\n",
      "Key: mean_auc, Type: <class 'numpy.float64'>\n",
      "Key: y_true, Type: <class 'list'>\n",
      "Key: y_pred, Type: <class 'list'>\n",
      "Key: y_pred_prob, Type: <class 'list'>\n",
      "Key: mean_accuracy, Type: <class 'numpy.float64'>\n",
      "Key: mean_auc, Type: <class 'numpy.float64'>\n",
      "Key: y_true, Type: <class 'list'>\n",
      "Key: y_pred, Type: <class 'list'>\n",
      "Key: y_pred_prob, Type: <class 'list'>\n",
      "Key: mean_accuracy, Type: <class 'numpy.float64'>\n",
      "Key: mean_auc, Type: <class 'numpy.float64'>\n",
      "Key: y_true, Type: <class 'list'>\n",
      "Key: y_pred, Type: <class 'list'>\n",
      "Key: y_pred_prob, Type: <class 'list'>\n",
      "Key: mean_accuracy, Type: <class 'numpy.float64'>\n",
      "Key: mean_auc, Type: <class 'numpy.float64'>\n",
      "Key: y_true, Type: <class 'list'>\n",
      "Key: y_pred, Type: <class 'list'>\n",
      "Key: y_pred_prob, Type: <class 'list'>\n",
      "Key: mean_accuracy, Type: <class 'numpy.float64'>\n",
      "Key: mean_auc, Type: <class 'numpy.float64'>\n",
      "Key: y_true, Type: <class 'list'>\n",
      "Key: y_pred, Type: <class 'list'>\n",
      "Key: y_pred_prob, Type: <class 'list'>\n",
      "Key: mean_accuracy, Type: <class 'numpy.float64'>\n",
      "Key: mean_auc, Type: <class 'numpy.float64'>\n",
      "Key: y_true, Type: <class 'list'>\n",
      "Key: y_pred, Type: <class 'list'>\n",
      "Key: y_pred_prob, Type: <class 'list'>\n",
      "Key: mean_accuracy, Type: <class 'numpy.float64'>\n",
      "Key: mean_auc, Type: <class 'numpy.float64'>\n",
      "Key: y_true, Type: <class 'list'>\n",
      "Key: y_pred, Type: <class 'list'>\n",
      "Key: y_pred_prob, Type: <class 'list'>\n",
      "Key: mean_accuracy, Type: <class 'numpy.float64'>\n",
      "Key: mean_auc, Type: <class 'numpy.float64'>\n",
      "Key: y_true, Type: <class 'list'>\n",
      "Key: y_pred, Type: <class 'list'>\n",
      "Key: y_pred_prob, Type: <class 'list'>\n",
      "Key: mean_accuracy, Type: <class 'numpy.float64'>\n",
      "Key: mean_auc, Type: <class 'numpy.float64'>\n",
      "Key: y_true, Type: <class 'list'>\n",
      "Key: y_pred, Type: <class 'list'>\n",
      "Key: y_pred_prob, Type: <class 'list'>\n",
      "Key: mean_accuracy, Type: <class 'numpy.float64'>\n",
      "Key: mean_auc, Type: <class 'numpy.float64'>\n",
      "Key: y_true, Type: <class 'list'>\n",
      "Key: y_pred, Type: <class 'list'>\n",
      "Key: y_pred_prob, Type: <class 'list'>\n",
      "Key: mean_accuracy, Type: <class 'numpy.float64'>\n",
      "Key: mean_auc, Type: <class 'numpy.float64'>\n",
      "Key: y_true, Type: <class 'list'>\n",
      "Key: y_pred, Type: <class 'list'>\n",
      "Key: y_pred_prob, Type: <class 'list'>\n",
      "Key: mean_accuracy, Type: <class 'numpy.float64'>\n",
      "Key: mean_auc, Type: <class 'numpy.float64'>\n",
      "Key: y_true, Type: <class 'list'>\n",
      "Key: y_pred, Type: <class 'list'>\n",
      "Key: y_pred_prob, Type: <class 'list'>\n",
      "Key: mean_accuracy, Type: <class 'numpy.float64'>\n",
      "Key: mean_auc, Type: <class 'numpy.float64'>\n",
      "Key: y_true, Type: <class 'list'>\n",
      "Key: y_pred, Type: <class 'list'>\n",
      "Key: y_pred_prob, Type: <class 'list'>\n",
      "Key: mean_accuracy, Type: <class 'numpy.float64'>\n",
      "Key: mean_auc, Type: <class 'numpy.float64'>\n",
      "Key: y_true, Type: <class 'list'>\n",
      "Key: y_pred, Type: <class 'list'>\n",
      "Key: y_pred_prob, Type: <class 'list'>\n",
      "Key: mean_accuracy, Type: <class 'numpy.float64'>\n",
      "Key: mean_auc, Type: <class 'numpy.float64'>\n",
      "Key: y_true, Type: <class 'list'>\n",
      "Key: y_pred, Type: <class 'list'>\n",
      "Key: y_pred_prob, Type: <class 'list'>\n",
      "Key: mean_accuracy, Type: <class 'numpy.float64'>\n",
      "Key: mean_auc, Type: <class 'numpy.float64'>\n",
      "Key: y_true, Type: <class 'list'>\n",
      "Key: y_pred, Type: <class 'list'>\n",
      "Key: y_pred_prob, Type: <class 'list'>\n",
      "Key: mean_accuracy, Type: <class 'numpy.float64'>\n",
      "Key: mean_auc, Type: <class 'numpy.float64'>\n",
      "Key: y_true, Type: <class 'list'>\n",
      "Key: y_pred, Type: <class 'list'>\n",
      "Key: y_pred_prob, Type: <class 'list'>\n",
      "Key: mean_accuracy, Type: <class 'numpy.float64'>\n",
      "Key: mean_auc, Type: <class 'numpy.float64'>\n",
      "Key: y_true, Type: <class 'list'>\n",
      "Key: y_pred, Type: <class 'list'>\n",
      "Key: y_pred_prob, Type: <class 'list'>\n",
      "Key: mean_accuracy, Type: <class 'numpy.float64'>\n",
      "Key: mean_auc, Type: <class 'numpy.float64'>\n",
      "Key: y_true, Type: <class 'list'>\n",
      "Key: y_pred, Type: <class 'list'>\n",
      "Key: y_pred_prob, Type: <class 'list'>\n",
      "Key: mean_accuracy, Type: <class 'numpy.float64'>\n",
      "Key: mean_auc, Type: <class 'numpy.float64'>\n",
      "Key: y_true, Type: <class 'list'>\n",
      "Key: y_pred, Type: <class 'list'>\n",
      "Key: y_pred_prob, Type: <class 'list'>\n",
      "Key: mean_accuracy, Type: <class 'numpy.float64'>\n",
      "Key: mean_auc, Type: <class 'numpy.float64'>\n",
      "Key: y_true, Type: <class 'list'>\n",
      "Key: y_pred, Type: <class 'list'>\n",
      "Key: y_pred_prob, Type: <class 'list'>\n",
      "Key: mean_accuracy, Type: <class 'numpy.float64'>\n",
      "Key: mean_auc, Type: <class 'numpy.float64'>\n",
      "Key: y_true, Type: <class 'list'>\n",
      "Key: y_pred, Type: <class 'list'>\n",
      "Key: y_pred_prob, Type: <class 'list'>\n",
      "Key: mean_accuracy, Type: <class 'numpy.float64'>\n",
      "Key: mean_auc, Type: <class 'numpy.float64'>\n",
      "Key: y_true, Type: <class 'list'>\n",
      "Key: y_pred, Type: <class 'list'>\n",
      "Key: y_pred_prob, Type: <class 'list'>\n",
      "Key: mean_accuracy, Type: <class 'numpy.float64'>\n",
      "Key: mean_auc, Type: <class 'numpy.float64'>\n",
      "Key: y_true, Type: <class 'list'>\n",
      "Key: y_pred, Type: <class 'list'>\n",
      "Key: y_pred_prob, Type: <class 'list'>\n",
      "Key: mean_accuracy, Type: <class 'numpy.float64'>\n",
      "Key: mean_auc, Type: <class 'numpy.float64'>\n",
      "Key: y_true, Type: <class 'list'>\n",
      "Key: y_pred, Type: <class 'list'>\n",
      "Key: y_pred_prob, Type: <class 'list'>\n",
      "Key: mean_accuracy, Type: <class 'numpy.float64'>\n",
      "Key: mean_auc, Type: <class 'numpy.float64'>\n",
      "Key: y_true, Type: <class 'list'>\n",
      "Key: y_pred, Type: <class 'list'>\n",
      "Key: y_pred_prob, Type: <class 'list'>\n",
      "Key: mean_accuracy, Type: <class 'numpy.float64'>\n",
      "Key: mean_auc, Type: <class 'numpy.float64'>\n",
      "Key: y_true, Type: <class 'list'>\n",
      "Key: y_pred, Type: <class 'list'>\n",
      "Key: y_pred_prob, Type: <class 'list'>\n",
      "Key: mean_accuracy, Type: <class 'numpy.float64'>\n",
      "Key: mean_auc, Type: <class 'numpy.float64'>\n",
      "Key: y_true, Type: <class 'list'>\n",
      "Key: y_pred, Type: <class 'list'>\n",
      "Key: y_pred_prob, Type: <class 'list'>\n",
      "Key: mean_accuracy, Type: <class 'numpy.float64'>\n",
      "Key: mean_auc, Type: <class 'numpy.float64'>\n",
      "Key: y_true, Type: <class 'list'>\n",
      "Key: y_pred, Type: <class 'list'>\n",
      "Key: y_pred_prob, Type: <class 'list'>\n",
      "Key: mean_accuracy, Type: <class 'numpy.float64'>\n",
      "Key: mean_auc, Type: <class 'numpy.float64'>\n",
      "Key: y_true, Type: <class 'list'>\n",
      "Key: y_pred, Type: <class 'list'>\n",
      "Key: y_pred_prob, Type: <class 'list'>\n",
      "Key: mean_accuracy, Type: <class 'numpy.float64'>\n",
      "Key: mean_auc, Type: <class 'numpy.float64'>\n",
      "Key: y_true, Type: <class 'list'>\n",
      "Key: y_pred, Type: <class 'list'>\n",
      "Key: y_pred_prob, Type: <class 'list'>\n",
      "Key: mean_accuracy, Type: <class 'numpy.float64'>\n",
      "Key: mean_auc, Type: <class 'numpy.float64'>\n",
      "Key: y_true, Type: <class 'list'>\n",
      "Key: y_pred, Type: <class 'list'>\n",
      "Key: y_pred_prob, Type: <class 'list'>\n",
      "Key: mean_accuracy, Type: <class 'numpy.float64'>\n",
      "Key: mean_auc, Type: <class 'numpy.float64'>\n",
      "Key: y_true, Type: <class 'list'>\n",
      "Key: y_pred, Type: <class 'list'>\n",
      "Key: y_pred_prob, Type: <class 'list'>\n",
      "Key: mean_accuracy, Type: <class 'numpy.float64'>\n",
      "Key: mean_auc, Type: <class 'numpy.float64'>\n",
      "Key: y_true, Type: <class 'list'>\n",
      "Key: y_pred, Type: <class 'list'>\n",
      "Key: y_pred_prob, Type: <class 'list'>\n",
      "Key: mean_accuracy, Type: <class 'numpy.float64'>\n",
      "Key: mean_auc, Type: <class 'numpy.float64'>\n",
      "Key: y_true, Type: <class 'list'>\n",
      "Key: y_pred, Type: <class 'list'>\n",
      "Key: y_pred_prob, Type: <class 'list'>\n",
      "Key: mean_accuracy, Type: <class 'numpy.float64'>\n",
      "Key: mean_auc, Type: <class 'numpy.float64'>\n",
      "Key: y_true, Type: <class 'list'>\n",
      "Key: y_pred, Type: <class 'list'>\n",
      "Key: y_pred_prob, Type: <class 'list'>\n",
      "Key: mean_accuracy, Type: <class 'numpy.float64'>\n",
      "Key: mean_auc, Type: <class 'numpy.float64'>\n",
      "Key: y_true, Type: <class 'list'>\n",
      "Key: y_pred, Type: <class 'list'>\n",
      "Key: y_pred_prob, Type: <class 'list'>\n",
      "Key: mean_accuracy, Type: <class 'numpy.float64'>\n",
      "Key: mean_auc, Type: <class 'numpy.float64'>\n",
      "Key: y_true, Type: <class 'list'>\n",
      "Key: y_pred, Type: <class 'list'>\n",
      "Key: y_pred_prob, Type: <class 'list'>\n",
      "Key: mean_accuracy, Type: <class 'numpy.float64'>\n",
      "Key: mean_auc, Type: <class 'numpy.float64'>\n",
      "Key: y_true, Type: <class 'list'>\n",
      "Key: y_pred, Type: <class 'list'>\n",
      "Key: y_pred_prob, Type: <class 'list'>\n",
      "Key: mean_accuracy, Type: <class 'numpy.float64'>\n",
      "Key: mean_auc, Type: <class 'numpy.float64'>\n",
      "Key: y_true, Type: <class 'list'>\n",
      "Key: y_pred, Type: <class 'list'>\n",
      "Key: y_pred_prob, Type: <class 'list'>\n",
      "Key: mean_accuracy, Type: <class 'numpy.float64'>\n",
      "Key: mean_auc, Type: <class 'numpy.float64'>\n",
      "Key: y_true, Type: <class 'list'>\n",
      "Key: y_pred, Type: <class 'list'>\n",
      "Key: y_pred_prob, Type: <class 'list'>\n",
      "Key: mean_accuracy, Type: <class 'numpy.float64'>\n",
      "Key: mean_auc, Type: <class 'numpy.float64'>\n",
      "Key: y_true, Type: <class 'list'>\n",
      "Key: y_pred, Type: <class 'list'>\n",
      "Key: y_pred_prob, Type: <class 'list'>\n",
      "Key: mean_accuracy, Type: <class 'numpy.float64'>\n",
      "Key: mean_auc, Type: <class 'numpy.float64'>\n",
      "Key: y_true, Type: <class 'list'>\n",
      "Key: y_pred, Type: <class 'list'>\n",
      "Key: y_pred_prob, Type: <class 'list'>\n",
      "Key: mean_accuracy, Type: <class 'numpy.float64'>\n",
      "Key: mean_auc, Type: <class 'numpy.float64'>\n",
      "Key: y_true, Type: <class 'list'>\n",
      "Key: y_pred, Type: <class 'list'>\n",
      "Key: y_pred_prob, Type: <class 'list'>\n",
      "Key: mean_accuracy, Type: <class 'numpy.float64'>\n",
      "Key: mean_auc, Type: <class 'numpy.float64'>\n",
      "Key: y_true, Type: <class 'list'>\n",
      "Key: y_pred, Type: <class 'list'>\n",
      "Key: y_pred_prob, Type: <class 'list'>\n",
      "Key: mean_accuracy, Type: <class 'numpy.float64'>\n",
      "Key: mean_auc, Type: <class 'numpy.float64'>\n",
      "Key: y_true, Type: <class 'list'>\n",
      "Key: y_pred, Type: <class 'list'>\n",
      "Key: y_pred_prob, Type: <class 'list'>\n",
      "Key: mean_accuracy, Type: <class 'numpy.float64'>\n",
      "Key: mean_auc, Type: <class 'numpy.float64'>\n",
      "Key: y_true, Type: <class 'list'>\n",
      "Key: y_pred, Type: <class 'list'>\n",
      "Key: y_pred_prob, Type: <class 'list'>\n",
      "Key: mean_accuracy, Type: <class 'numpy.float64'>\n",
      "Key: mean_auc, Type: <class 'numpy.float64'>\n",
      "Key: y_true, Type: <class 'list'>\n",
      "Key: y_pred, Type: <class 'list'>\n",
      "Key: y_pred_prob, Type: <class 'list'>\n",
      "Key: mean_accuracy, Type: <class 'numpy.float64'>\n",
      "Key: mean_auc, Type: <class 'numpy.float64'>\n",
      "Key: y_true, Type: <class 'list'>\n",
      "Key: y_pred, Type: <class 'list'>\n",
      "Key: y_pred_prob, Type: <class 'list'>\n",
      "Key: mean_accuracy, Type: <class 'numpy.float64'>\n",
      "Key: mean_auc, Type: <class 'numpy.float64'>\n",
      "Key: y_true, Type: <class 'list'>\n",
      "Key: y_pred, Type: <class 'list'>\n",
      "Key: y_pred_prob, Type: <class 'list'>\n",
      "Key: mean_accuracy, Type: <class 'numpy.float64'>\n",
      "Key: mean_auc, Type: <class 'numpy.float64'>\n",
      "Key: y_true, Type: <class 'list'>\n",
      "Key: y_pred, Type: <class 'list'>\n",
      "Key: y_pred_prob, Type: <class 'list'>\n",
      "Key: mean_accuracy, Type: <class 'numpy.float64'>\n",
      "Key: mean_auc, Type: <class 'numpy.float64'>\n",
      "Key: y_true, Type: <class 'list'>\n",
      "Key: y_pred, Type: <class 'list'>\n",
      "Key: y_pred_prob, Type: <class 'list'>\n",
      "Key: mean_accuracy, Type: <class 'numpy.float64'>\n",
      "Key: mean_auc, Type: <class 'numpy.float64'>\n",
      "Key: y_true, Type: <class 'list'>\n",
      "Key: y_pred, Type: <class 'list'>\n",
      "Key: y_pred_prob, Type: <class 'list'>\n",
      "Key: mean_accuracy, Type: <class 'numpy.float64'>\n",
      "Key: mean_auc, Type: <class 'numpy.float64'>\n",
      "Key: y_true, Type: <class 'list'>\n",
      "Key: y_pred, Type: <class 'list'>\n",
      "Key: y_pred_prob, Type: <class 'list'>\n",
      "Key: mean_accuracy, Type: <class 'numpy.float64'>\n",
      "Key: mean_auc, Type: <class 'numpy.float64'>\n",
      "Key: y_true, Type: <class 'list'>\n",
      "Key: y_pred, Type: <class 'list'>\n",
      "Key: y_pred_prob, Type: <class 'list'>\n",
      "Key: mean_accuracy, Type: <class 'numpy.float64'>\n",
      "Key: mean_auc, Type: <class 'numpy.float64'>\n",
      "Key: y_true, Type: <class 'list'>\n",
      "Key: y_pred, Type: <class 'list'>\n",
      "Key: y_pred_prob, Type: <class 'list'>\n",
      "Key: mean_accuracy, Type: <class 'numpy.float64'>\n",
      "Key: mean_auc, Type: <class 'numpy.float64'>\n",
      "Key: y_true, Type: <class 'list'>\n",
      "Key: y_pred, Type: <class 'list'>\n",
      "Key: y_pred_prob, Type: <class 'list'>\n",
      "Key: mean_accuracy, Type: <class 'numpy.float64'>\n",
      "Key: mean_auc, Type: <class 'numpy.float64'>\n",
      "Key: y_true, Type: <class 'list'>\n",
      "Key: y_pred, Type: <class 'list'>\n",
      "Key: y_pred_prob, Type: <class 'list'>\n",
      "Key: mean_accuracy, Type: <class 'numpy.float64'>\n",
      "Key: mean_auc, Type: <class 'numpy.float64'>\n",
      "Key: y_true, Type: <class 'list'>\n",
      "Key: y_pred, Type: <class 'list'>\n",
      "Key: y_pred_prob, Type: <class 'list'>\n",
      "Key: mean_accuracy, Type: <class 'numpy.float64'>\n",
      "Key: mean_auc, Type: <class 'numpy.float64'>\n",
      "Key: y_true, Type: <class 'list'>\n",
      "Key: y_pred, Type: <class 'list'>\n",
      "Key: y_pred_prob, Type: <class 'list'>\n",
      "Key: mean_accuracy, Type: <class 'numpy.float64'>\n",
      "Key: mean_auc, Type: <class 'numpy.float64'>\n",
      "Key: y_true, Type: <class 'list'>\n",
      "Key: y_pred, Type: <class 'list'>\n",
      "Key: y_pred_prob, Type: <class 'list'>\n",
      "Key: mean_accuracy, Type: <class 'numpy.float64'>\n",
      "Key: mean_auc, Type: <class 'numpy.float64'>\n",
      "Key: y_true, Type: <class 'list'>\n",
      "Key: y_pred, Type: <class 'list'>\n",
      "Key: y_pred_prob, Type: <class 'list'>\n",
      "Key: mean_accuracy, Type: <class 'numpy.float64'>\n",
      "Key: mean_auc, Type: <class 'numpy.float64'>\n",
      "Key: y_true, Type: <class 'list'>\n",
      "Key: y_pred, Type: <class 'list'>\n",
      "Key: y_pred_prob, Type: <class 'list'>\n",
      "Key: mean_accuracy, Type: <class 'numpy.float64'>\n",
      "Key: mean_auc, Type: <class 'numpy.float64'>\n",
      "Key: y_true, Type: <class 'list'>\n",
      "Key: y_pred, Type: <class 'list'>\n",
      "Key: y_pred_prob, Type: <class 'list'>\n",
      "Key: mean_accuracy, Type: <class 'numpy.float64'>\n",
      "Key: mean_auc, Type: <class 'numpy.float64'>\n",
      "Key: y_true, Type: <class 'list'>\n",
      "Key: y_pred, Type: <class 'list'>\n",
      "Key: y_pred_prob, Type: <class 'list'>\n",
      "Key: mean_accuracy, Type: <class 'numpy.float64'>\n",
      "Key: mean_auc, Type: <class 'numpy.float64'>\n",
      "Key: y_true, Type: <class 'list'>\n",
      "Key: y_pred, Type: <class 'list'>\n",
      "Key: y_pred_prob, Type: <class 'list'>\n",
      "Key: mean_accuracy, Type: <class 'numpy.float64'>\n",
      "Key: mean_auc, Type: <class 'numpy.float64'>\n",
      "Key: y_true, Type: <class 'list'>\n",
      "Key: y_pred, Type: <class 'list'>\n",
      "Key: y_pred_prob, Type: <class 'list'>\n",
      "Key: mean_accuracy, Type: <class 'numpy.float64'>\n",
      "Key: mean_auc, Type: <class 'numpy.float64'>\n",
      "Key: y_true, Type: <class 'list'>\n",
      "Key: y_pred, Type: <class 'list'>\n",
      "Key: y_pred_prob, Type: <class 'list'>\n",
      "                RF_Accuracy    RF_AUC  SVM_Accuracy   SVM_AUC\n",
      "AllFeatures        0.796970  0.879630      0.746970  0.850000\n",
      "SelectMicro        0.846970  0.963310      0.778788  0.866898\n",
      "Lasso              0.898485  0.961343      0.965152  1.000000\n",
      "Lasso_finetune     0.846970  0.967593      0.931818  0.992593\n",
      "Random             0.777525  0.840478      0.632020  0.713156\n"
     ]
    }
   ],
   "source": [
    "dict_cm_burn2 = RunML_continue.runClassifier_FScompare(data_subsets= data_subset3,y= burn_label,N=iter,classifiers=cls,SMOTE=True)"
   ]
  },
  {
   "cell_type": "code",
   "execution_count": 47,
   "metadata": {},
   "outputs": [
    {
     "name": "stdout",
     "output_type": "stream",
     "text": [
      "{'Yes', 'No'}\n"
     ]
    },
    {
     "ename": "TypeError",
     "evalue": "plotPresenseRatio() got an unexpected keyword argument 'entries'",
     "output_type": "error",
     "traceback": [
      "\u001b[0;31m---------------------------------------------------------------------------\u001b[0m",
      "\u001b[0;31mTypeError\u001b[0m                                 Traceback (most recent call last)",
      "Cell \u001b[0;32mIn[47], line 5\u001b[0m\n\u001b[1;32m      3\u001b[0m selectedASV1 \u001b[38;5;241m=\u001b[39m [ASVs[i] \u001b[38;5;28;01mfor\u001b[39;00m i \u001b[38;5;129;01min\u001b[39;00m indices_1_sort]\n\u001b[1;32m      4\u001b[0m selectedASV1_lasso \u001b[38;5;241m=\u001b[39m [ASVs[i] \u001b[38;5;28;01mfor\u001b[39;00m i \u001b[38;5;129;01min\u001b[39;00m xlabel_lasso_burn]\n\u001b[0;32m----> 5\u001b[0m \u001b[43mFS\u001b[49m\u001b[38;5;241;43m.\u001b[39;49m\u001b[43mplotPresenseRatio\u001b[49m\u001b[43m(\u001b[49m\u001b[43mX_FS_burn\u001b[49m\u001b[43m,\u001b[49m\u001b[43mtargetLabel\u001b[49m\u001b[43m,\u001b[49m\u001b[43mselectedASV1\u001b[49m\u001b[43m,\u001b[49m\u001b[43mposLabel\u001b[49m\u001b[38;5;241;43m=\u001b[39;49m\u001b[38;5;124;43m\"\u001b[39;49m\u001b[38;5;124;43mYes\u001b[39;49m\u001b[38;5;124;43m\"\u001b[39;49m\u001b[43m,\u001b[49m\u001b[43mposText\u001b[49m\u001b[38;5;241;43m=\u001b[39;49m\u001b[38;5;124;43m\"\u001b[39;49m\u001b[38;5;124;43mBurned\u001b[39;49m\u001b[38;5;124;43m\"\u001b[39;49m\u001b[43m,\u001b[49m\u001b[43mnegText\u001b[49m\u001b[38;5;241;43m=\u001b[39;49m\u001b[38;5;124;43m\"\u001b[39;49m\u001b[38;5;124;43mNot Burned\u001b[39;49m\u001b[38;5;124;43m\"\u001b[39;49m\u001b[43m,\u001b[49m\u001b[43mentries\u001b[49m\u001b[38;5;241;43m=\u001b[39;49m\u001b[38;5;28;43mlen\u001b[39;49m\u001b[43m(\u001b[49m\u001b[43mselectedASV1\u001b[49m\u001b[43m)\u001b[49m\u001b[43m)\u001b[49m\n",
      "\u001b[0;31mTypeError\u001b[0m: plotPresenseRatio() got an unexpected keyword argument 'entries'"
     ]
    }
   ],
   "source": [
    "targetLabel=burn_label\n",
    "print(set(targetLabel))\n",
    "selectedASV1 = [ASVs[i] for i in indices_1_sort]\n",
    "selectedASV1_lasso = [ASVs[i] for i in xlabel_lasso_burn]\n",
    "FS.plotPresenseRatio(X_FS_burn,targetLabel,selectedASV1,posLabel=\"Yes\",posText=\"Burned\",negText=\"Not Burned\",entries=len(selectedASV1))"
   ]
  },
  {
   "cell_type": "code",
   "execution_count": null,
   "metadata": {},
   "outputs": [],
   "source": [
    "FS.plotPresenseRatio(X_lasso,targetLabel,selectedASV1_lasso,posLabel=\"Yes\",posText=\"Burned\",negText=\"Not Burned\",entries=len(selectedASV1_lasso))\n"
   ]
  },
  {
   "cell_type": "code",
   "execution_count": null,
   "metadata": {},
   "outputs": [],
   "source": [
    "print(np.asarray(selectedASV1))\n",
    "print(np.asarray(selectedASV1_lasso))\n",
    "print(np.isin(selectedASV1_lasso, selectedASV1))"
   ]
  },
  {
   "cell_type": "code",
   "execution_count": null,
   "metadata": {},
   "outputs": [],
   "source": []
  },
  {
   "cell_type": "markdown",
   "metadata": {},
   "source": [
    "#### Model3\n",
    "To compare, also consider the union of the features selected by Lasso: the result shows that\n",
    "1. for burn label, lasso's RF performance is worse, SVM is much better\n",
    "2. for un_label,lasso's RF-accuracy SVM-AUC are better, RF-AUC and SVM-accuracy are worse.\n",
    "3. for dur label, lasso's RF performance is worse, SVM-accuracy is worse SVM-AUC is  better"
   ]
  },
  {
   "cell_type": "code",
   "execution_count": null,
   "metadata": {},
   "outputs": [],
   "source": [
    "# select the union of lasso feature selection\n",
    "xlabel_lasso_union = pd.concat([pd.Series(xlabel_lasso), pd.Series(xlabel_lasso_burn), pd.Series(xlabel_lasso_dur)]).drop_duplicates().reset_index(drop=True)\n",
    "len(xlabel_lasso_union)"
   ]
  },
  {
   "cell_type": "code",
   "execution_count": null,
   "metadata": {},
   "outputs": [],
   "source": [
    "X_lasso_union = data[:,xlabel_lasso_union]\n",
    "X_lasso_union.shape"
   ]
  },
  {
   "cell_type": "code",
   "execution_count": null,
   "metadata": {},
   "outputs": [],
   "source": [
    "data_subset = {\n",
    "    #\"AllFeatures\":data, \n",
    "            #   \"SelectMicro\": X_FS,\n",
    "               \"Lasso\":X_lasso_union\n",
    "              #, \"Random\":data\n",
    "              }\n",
    "\n",
    "print(np.shape(X_lasso_union))"
   ]
  },
  {
   "cell_type": "code",
   "execution_count": null,
   "metadata": {},
   "outputs": [],
   "source": [
    "for i in range(yList.shape[1]):\n",
    "    targetLabel=yList[:,i]\n",
    "    dict_cm_lasso = RunML_continue.runClassifier_FScompare(data_subsets= data_subset,y= targetLabel,N=iter,classifiers=cls)\n",
    "    for dataset_name, classifiers in dict_cm_lasso.items():\n",
    "        for classifier_name, labels in classifiers.items():\n",
    "            actual_labels = labels[0]\n",
    "            predicted_labels = labels[1]\n",
    "            metric.plot_confusion_matrices(actual_labels, predicted_labels,f\"{dataset_name} - {classifier_name}\")"
   ]
  },
  {
   "cell_type": "markdown",
   "metadata": {},
   "source": []
  },
  {
   "cell_type": "code",
   "execution_count": null,
   "metadata": {},
   "outputs": [],
   "source": []
  },
  {
   "cell_type": "code",
   "execution_count": null,
   "metadata": {},
   "outputs": [],
   "source": []
  },
  {
   "cell_type": "code",
   "execution_count": null,
   "metadata": {},
   "outputs": [],
   "source": []
  },
  {
   "cell_type": "code",
   "execution_count": null,
   "metadata": {},
   "outputs": [],
   "source": []
  },
  {
   "cell_type": "code",
   "execution_count": null,
   "metadata": {},
   "outputs": [],
   "source": []
  },
  {
   "cell_type": "code",
   "execution_count": null,
   "metadata": {},
   "outputs": [],
   "source": []
  },
  {
   "cell_type": "code",
   "execution_count": null,
   "metadata": {},
   "outputs": [],
   "source": []
  },
  {
   "cell_type": "code",
   "execution_count": null,
   "metadata": {},
   "outputs": [],
   "source": []
  },
  {
   "cell_type": "markdown",
   "metadata": {},
   "source": [
    "### SHARP value\n",
    "Compare the SHARP value of the significant features selected by our method and Lasso.(pending)"
   ]
  },
  {
   "cell_type": "code",
   "execution_count": null,
   "metadata": {},
   "outputs": [],
   "source": [
    "#df_X_FS = pd.DataFrame(X_FS,columns=[ASVs[i] for i in selectedOTU_index] )\n",
    "#df_X_FS.columns"
   ]
  },
  {
   "cell_type": "code",
   "execution_count": null,
   "metadata": {},
   "outputs": [],
   "source": [
    "#RunML_continue.sharp_value(df_X_FS,burn_label,classifier_name)"
   ]
  },
  {
   "cell_type": "code",
   "execution_count": null,
   "metadata": {
    "metadata": {}
   },
   "outputs": [],
   "source": [
    "#df_X_lasso = pd.DataFrame(X_lasso_union,columns=[ASVs[i] for i in xlabel_lasso_union] )\n",
    "#RunML_continue.sharp_value(df_X_lasso,burn_label,classifier_name)"
   ]
  },
  {
   "cell_type": "code",
   "execution_count": null,
   "metadata": {},
   "outputs": [],
   "source": []
  },
  {
   "cell_type": "markdown",
   "metadata": {},
   "source": [
    "### compare the first 15 index by their present ratio"
   ]
  },
  {
   "cell_type": "code",
   "execution_count": null,
   "metadata": {
    "metadata": {}
   },
   "outputs": [],
   "source": [
    "import seaborn as sns\n",
    "import numpy as np\n",
    "import matplotlib.pyplot as plt\n",
    "import matplotlib as mpl\n",
    "\n",
    "entries=15\n",
    "selectedOTU_index_15=selectedOTU_index[:entries]\n",
    "selectedASVs_15=[ASVs[i] for i in selectedOTU_index_15]\n",
    "\n",
    "X_FS_15=data[:,selectedOTU_index_15]\n",
    "\n",
    "\n",
    "targetLabel=burn_label\n",
    "print(set(targetLabel))\n",
    "FS.plotPresenseRatio(X_FS_15,burn_label,selectedASVs_15,posLabel=\"Yes\",posText=\"Burned\",negText=\"Not Burned\")\n",
    "\n",
    "targetLabel=un_label\n",
    "print(set(targetLabel))\n",
    "FS.plotPresenseRatio(X_FS_15,un_label,selectedASVs_15,posLabel=\"Natural\",posText=\"Natural\",negText=\"Urban\")\n",
    "\n",
    "\n",
    "targetLabel=duration_label\n",
    "print(set(targetLabel))\n",
    "FS.plotPresenseRatio(X_FS_15,duration_label,selectedASVs_15,posLabel=\"Annual\",posText=\"Annual\",negText=\"Perennial\")"
   ]
  },
  {
   "cell_type": "code",
   "execution_count": null,
   "metadata": {},
   "outputs": [],
   "source": [
    "selectedASVs=[ASVs[i] for i in selectedOTU_index]"
   ]
  },
  {
   "cell_type": "code",
   "execution_count": null,
   "metadata": {},
   "outputs": [],
   "source": [
    "print(np.asarray(selectedASVs))\n",
    "print(len(selectedASVs))"
   ]
  },
  {
   "cell_type": "code",
   "execution_count": null,
   "metadata": {},
   "outputs": [],
   "source": []
  },
  {
   "cell_type": "code",
   "execution_count": null,
   "metadata": {},
   "outputs": [],
   "source": []
  },
  {
   "cell_type": "code",
   "execution_count": null,
   "metadata": {},
   "outputs": [],
   "source": []
  },
  {
   "cell_type": "code",
   "execution_count": null,
   "metadata": {},
   "outputs": [],
   "source": []
  },
  {
   "cell_type": "code",
   "execution_count": null,
   "metadata": {},
   "outputs": [],
   "source": []
  },
  {
   "cell_type": "code",
   "execution_count": null,
   "metadata": {},
   "outputs": [],
   "source": []
  },
  {
   "cell_type": "markdown",
   "metadata": {},
   "source": [
    "### Negative Gini Impurity\n",
    "Gini Impurity is the probability of incorrectly classifying a randomly chosen element in the dataset if it were randomly labeled according to the class distribution in the dataset. It’s calculated as:\n",
    "\n",
    "$G = 1- \\sum_{i=1}^C p_i^2$\n",
    "\n",
    "where C is the number of classes. (which means it can be used to measure for multiple level classification)\n",
    "\n",
    "Here I will use the negative Gini Impurity to measure each OTU, if NG is large (1) which means the OTU only exist in one class, if NG value is small($1/c$) which means the OTU is evenly distributed among  the classes.\n",
    "\n",
    "$NG = \\sum_{i=1}^C p_i^2$"
   ]
  },
  {
   "cell_type": "code",
   "execution_count": null,
   "metadata": {},
   "outputs": [],
   "source": []
  },
  {
   "cell_type": "code",
   "execution_count": null,
   "metadata": {},
   "outputs": [],
   "source": []
  },
  {
   "cell_type": "code",
   "execution_count": null,
   "metadata": {},
   "outputs": [],
   "source": []
  },
  {
   "cell_type": "code",
   "execution_count": null,
   "metadata": {},
   "outputs": [],
   "source": []
  },
  {
   "cell_type": "code",
   "execution_count": null,
   "metadata": {},
   "outputs": [],
   "source": []
  },
  {
   "cell_type": "code",
   "execution_count": null,
   "metadata": {},
   "outputs": [],
   "source": []
  },
  {
   "cell_type": "code",
   "execution_count": null,
   "metadata": {},
   "outputs": [],
   "source": [
    "# NG for selected OTU\n",
    "NG_selected = metric.Neg_GINI(X_FS,yList)\n",
    "print(NG_selected.shape)\n",
    "# NG for Not selected OTU\n",
    "X_FS_none = np.delete(data, selectedOTU_index, axis=1)\n",
    "NG_noselected = metric.Neg_GINI(X_FS_none,yList)\n",
    "print(NG_noselected.shape)"
   ]
  },
  {
   "cell_type": "code",
   "execution_count": null,
   "metadata": {},
   "outputs": [],
   "source": []
  },
  {
   "cell_type": "code",
   "execution_count": null,
   "metadata": {},
   "outputs": [],
   "source": []
  },
  {
   "cell_type": "code",
   "execution_count": null,
   "metadata": {},
   "outputs": [],
   "source": []
  },
  {
   "cell_type": "code",
   "execution_count": null,
   "metadata": {},
   "outputs": [],
   "source": [
    "label_lasso = [xlabel_lasso_burn,xlabel_lasso,xlabel_lasso_dur]"
   ]
  },
  {
   "cell_type": "code",
   "execution_count": null,
   "metadata": {},
   "outputs": [],
   "source": []
  },
  {
   "cell_type": "code",
   "execution_count": null,
   "metadata": {},
   "outputs": [],
   "source": [
    "ng_lasso_list = []\n",
    "for i in range(len(y_index)):\n",
    "    X_lasso_ng = data[:,label_lasso[i]]\n",
    "    print(X_lasso_ng.shape)\n",
    "    X_lasso_none_ng = np.delete(data, label_lasso[i], axis=1)\n",
    "    print(X_lasso_none_ng.shape)\n",
    "    Ng1 = metric.Neg_GINI(X_lasso_ng,np.transpose(yList)[i])\n",
    "    Ng2 = metric.Neg_GINI(X_lasso_none_ng,np.transpose(yList)[i])\n",
    "    ng_lasso_list.append([Ng1,Ng2])\n"
   ]
  },
  {
   "cell_type": "code",
   "execution_count": null,
   "metadata": {},
   "outputs": [],
   "source": []
  },
  {
   "cell_type": "code",
   "execution_count": null,
   "metadata": {},
   "outputs": [],
   "source": []
  },
  {
   "cell_type": "code",
   "execution_count": null,
   "metadata": {},
   "outputs": [],
   "source": []
  },
  {
   "cell_type": "markdown",
   "metadata": {},
   "source": [
    "#### Compare lasso and SelectMicro"
   ]
  },
  {
   "cell_type": "code",
   "execution_count": null,
   "metadata": {},
   "outputs": [],
   "source": [
    "# Number of subplots\n",
    "num_plots = len(y_index)\n",
    "\n",
    "# Create a figure with a grid of subplots\n",
    "plt.figure(figsize=(4, 4 * num_plots))\n",
    "\n",
    "# Loop through each index and create a subplot\n",
    "for i in range(num_plots):\n",
    "    plt.subplot(num_plots, 1, i + 1)  # (nrows, ncols, index)\n",
    "    plt.boxplot([NG_selected[i, :], ng_lasso_list[i][0]], tick_labels=['SelectMicro', 'Lasso'])\n",
    "    plt.title(f'NG results of the selected OTU vs. non-selected OTUs - {y_index[i]}')\n",
    "    plt.ylabel('NG')\n",
    "    plt.grid(axis='y')\n",
    "    #print(len(NG_selected[i, :]))\n",
    "# Adjust layout\n",
    "plt.tight_layout()  # Adjusts the subplots to fit into the figure area.\n",
    "plt.show()  # Show all plots at once"
   ]
  },
  {
   "cell_type": "code",
   "execution_count": null,
   "metadata": {},
   "outputs": [],
   "source": [
    "# compare the selected and non select by our method\n",
    "for i in range(len(y_index)):\n",
    "    plt.figure(figsize=(4, 4))\n",
    "    plt.boxplot([NG_selected[i,:], NG_noselected[i,:]], tick_labels=['SelectMicro', 'Not selected'])\n",
    "    plt.title(f'NG results of the selected OTU vs. non selected OTUs by our method - {y_index[i]}')\n",
    "    plt.ylabel('NG')\n",
    "    plt.grid(axis='y')\n",
    "    \n",
    "# Show the plot\n",
    "plt.show()"
   ]
  },
  {
   "cell_type": "code",
   "execution_count": null,
   "metadata": {},
   "outputs": [],
   "source": [
    "# compare the selected and non select by lasso\n",
    "# Number of subplots\n",
    "num_plots = len(y_index)\n",
    "\n",
    "# Create a figure with a grid of subplots\n",
    "plt.figure(figsize=(4, 4 * num_plots))\n",
    "\n",
    "# Loop through each index and create a subplot\n",
    "for i in range(num_plots):\n",
    "    plt.subplot(num_plots, 1, i + 1)  # (nrows, ncols, index)\n",
    "    plt.boxplot([ng_lasso_list[i][0], ng_lasso_list[i][1]], tick_labels=['Lasso', 'Not selected'])\n",
    "    plt.title(f'NG results of the selected OTU vs. non-selected OTUs by Lasso - {y_index[i]}')\n",
    "    plt.ylabel('NG')\n",
    "    plt.grid(axis='y')\n",
    "# Adjust layout\n",
    "plt.tight_layout()  # Adjusts the subplots to fit into the figure area.\n",
    "plt.show()  # Show all plots at once"
   ]
  },
  {
   "cell_type": "code",
   "execution_count": null,
   "metadata": {},
   "outputs": [],
   "source": []
  },
  {
   "cell_type": "code",
   "execution_count": null,
   "metadata": {},
   "outputs": [],
   "source": []
  },
  {
   "cell_type": "code",
   "execution_count": null,
   "metadata": {},
   "outputs": [],
   "source": []
  },
  {
   "cell_type": "code",
   "execution_count": null,
   "metadata": {},
   "outputs": [],
   "source": []
  },
  {
   "cell_type": "code",
   "execution_count": null,
   "metadata": {},
   "outputs": [],
   "source": []
  },
  {
   "cell_type": "code",
   "execution_count": null,
   "metadata": {},
   "outputs": [],
   "source": []
  },
  {
   "cell_type": "code",
   "execution_count": null,
   "metadata": {},
   "outputs": [],
   "source": []
  },
  {
   "cell_type": "markdown",
   "metadata": {},
   "source": [
    "### Use LOOCV for fine tune model parameters and also the model's result"
   ]
  },
  {
   "cell_type": "code",
   "execution_count": null,
   "metadata": {},
   "outputs": [],
   "source": [
    "targetLabel=burn_label\n"
   ]
  },
  {
   "cell_type": "code",
   "execution_count": null,
   "metadata": {},
   "outputs": [],
   "source": []
  },
  {
   "cell_type": "code",
   "execution_count": null,
   "metadata": {},
   "outputs": [],
   "source": []
  },
  {
   "cell_type": "code",
   "execution_count": null,
   "metadata": {},
   "outputs": [],
   "source": []
  },
  {
   "cell_type": "code",
   "execution_count": null,
   "metadata": {},
   "outputs": [],
   "source": []
  },
  {
   "cell_type": "code",
   "execution_count": null,
   "metadata": {},
   "outputs": [],
   "source": []
  },
  {
   "cell_type": "code",
   "execution_count": null,
   "metadata": {},
   "outputs": [],
   "source": []
  },
  {
   "cell_type": "code",
   "execution_count": null,
   "metadata": {},
   "outputs": [],
   "source": []
  }
 ],
 "metadata": {
  "kernelspec": {
   "display_name": "Python 3 (ipykernel)",
   "language": "python",
   "name": "python3"
  },
  "language_info": {
   "codemirror_mode": {
    "name": "ipython",
    "version": 3
   },
   "file_extension": ".py",
   "mimetype": "text/x-python",
   "name": "python",
   "nbconvert_exporter": "python",
   "pygments_lexer": "ipython3",
   "version": "3.9.10"
  }
 },
 "nbformat": 4,
 "nbformat_minor": 4
}
