{
 "cells": [
  {
   "cell_type": "markdown",
   "metadata": {},
   "source": [
    "First, load the data,in this notebook we are using the smokoy mountain data as the example. And will use basic AE to get the transformation of the data and do prediction using the same models."
   ]
  },
  {
   "cell_type": "code",
   "execution_count": 1,
   "metadata": {
    "metadata": {}
   },
   "outputs": [
    {
     "name": "stderr",
     "output_type": "stream",
     "text": [
      "2025-01-17 00:46:31.137869: I tensorflow/core/util/port.cc:153] oneDNN custom operations are on. You may see slightly different numerical results due to floating-point round-off errors from different computation orders. To turn them off, set the environment variable `TF_ENABLE_ONEDNN_OPTS=0`.\n",
      "2025-01-17 00:46:31.140285: I external/local_xla/xla/tsl/cuda/cudart_stub.cc:32] Could not find cuda drivers on your machine, GPU will not be used.\n",
      "2025-01-17 00:46:31.143834: I external/local_xla/xla/tsl/cuda/cudart_stub.cc:32] Could not find cuda drivers on your machine, GPU will not be used.\n",
      "2025-01-17 00:46:31.153944: E external/local_xla/xla/stream_executor/cuda/cuda_fft.cc:477] Unable to register cuFFT factory: Attempting to register factory for plugin cuFFT when one has already been registered\n",
      "WARNING: All log messages before absl::InitializeLog() is called are written to STDERR\n",
      "E0000 00:00:1737092791.170733 1571361 cuda_dnn.cc:8310] Unable to register cuDNN factory: Attempting to register factory for plugin cuDNN when one has already been registered\n",
      "E0000 00:00:1737092791.175779 1571361 cuda_blas.cc:1418] Unable to register cuBLAS factory: Attempting to register factory for plugin cuBLAS when one has already been registered\n",
      "2025-01-17 00:46:31.193994: I tensorflow/core/platform/cpu_feature_guard.cc:210] This TensorFlow binary is optimized to use available CPU instructions in performance-critical operations.\n",
      "To enable the following instructions: AVX2 AVX512F AVX512_VNNI FMA, in other operations, rebuild TensorFlow with the appropriate compiler flags.\n"
     ]
    }
   ],
   "source": [
    "import sys\n",
    "sys.path.append('../../../Code')\n",
    "import loadData \n",
    "import RunML\n",
    "import RunML_continue\n",
    "import FS\n",
    "import metric"
   ]
  },
  {
   "cell_type": "code",
   "execution_count": 2,
   "metadata": {},
   "outputs": [],
   "source": [
    "import pandas as pd\n",
    "import numpy as np\n",
    "import random\n",
    "from sklearn import svm\n",
    "import pickle\n",
    "import matplotlib.pyplot as plt"
   ]
  },
  {
   "cell_type": "code",
   "execution_count": 3,
   "metadata": {},
   "outputs": [
    {
     "name": "stdout",
     "output_type": "stream",
     "text": [
      "TensorFlow version: 2.18.0\n",
      "Num GPUs Available:  0\n"
     ]
    },
    {
     "name": "stderr",
     "output_type": "stream",
     "text": [
      "2025-01-17 00:46:33.685371: E external/local_xla/xla/stream_executor/cuda/cuda_driver.cc:152] failed call to cuInit: INTERNAL: CUDA error: Failed call to cuInit: UNKNOWN ERROR (303)\n"
     ]
    }
   ],
   "source": [
    "import tensorflow as tf\n",
    "print(\"TensorFlow version:\", tf.__version__)\n",
    "print(\"Num GPUs Available: \", len(tf.config.list_physical_devices('GPU')))"
   ]
  },
  {
   "cell_type": "markdown",
   "metadata": {},
   "source": [
    "### 1. Load the data and data preprocess\n",
    "After reading the data, convert the abundance matrix into relative abundance matrix; for the response variables, since we have multiple variables, organize them into an array with each variable as a column."
   ]
  },
  {
   "cell_type": "code",
   "execution_count": 4,
   "metadata": {},
   "outputs": [],
   "source": [
    "data,burn_label,un_label,duration_label,ASVs,df=loadData.loadSoilData(\"../data/count_table/merge_proportion_asv_smoky_moutain.csv\")"
   ]
  },
  {
   "cell_type": "code",
   "execution_count": 5,
   "metadata": {},
   "outputs": [],
   "source": [
    "data = FS.relative_abundance(data)"
   ]
  },
  {
   "cell_type": "code",
   "execution_count": null,
   "metadata": {},
   "outputs": [],
   "source": []
  },
  {
   "cell_type": "code",
   "execution_count": null,
   "metadata": {},
   "outputs": [],
   "source": []
  },
  {
   "cell_type": "code",
   "execution_count": null,
   "metadata": {},
   "outputs": [],
   "source": []
  },
  {
   "cell_type": "code",
   "execution_count": 50,
   "metadata": {},
   "outputs": [],
   "source": [
    "from tensorflow.keras import layers\n",
    "from tensorflow import keras as ks\n",
    "from scikeras.wrappers import KerasClassifier, KerasRegressor\n",
    "from tensorflow.keras.models import Model\n",
    "\n",
    "# --------------------------------------------------------------------------------------------------#\n",
    "\n",
    "# To define your model, use the Keras Model Subclassing API.\n",
    "class Autoencoder(Model):\n",
    "  def __init__(self, latent_dim, shape):\n",
    "    super(Autoencoder, self).__init__()\n",
    "    self.latent_dim = latent_dim\n",
    "    self.shape = shape\n",
    "    self.encoder = tf.keras.Sequential([\n",
    "      layers.Flatten(),\n",
    "      layers.Dense(latent_dim, activation='relu'),\n",
    "    ])\n",
    "    self.decoder = tf.keras.Sequential([\n",
    "      layers.Dense(tf.math.reduce_prod(shape).numpy(), activation='relu'),\n",
    "      layers.Reshape(shape)\n",
    "    ])\n",
    "\n",
    "  def call(self, x):\n",
    "    encoded = self.encoder(x)\n",
    "    decoded = self.decoder(encoded)\n",
    "    return decoded\n",
    "\n"
   ]
  },
  {
   "cell_type": "code",
   "execution_count": null,
   "metadata": {},
   "outputs": [],
   "source": []
  },
  {
   "cell_type": "code",
   "execution_count": null,
   "metadata": {},
   "outputs": [],
   "source": []
  },
  {
   "cell_type": "markdown",
   "metadata": {},
   "source": [
    "### 2.AE\n"
   ]
  },
  {
   "cell_type": "code",
   "execution_count": 6,
   "metadata": {},
   "outputs": [
    {
     "name": "stdout",
     "output_type": "stream",
     "text": [
      "(41, 1768)\n",
      "(18, 1768)\n"
     ]
    }
   ],
   "source": [
    "data_train, data_test, y_train, y_test = RunML_continue.split_and_scale_data(data,burn_label)\n",
    "print(data_train.shape)\n",
    "print(data_test.shape)"
   ]
  },
  {
   "cell_type": "code",
   "execution_count": 26,
   "metadata": {},
   "outputs": [
    {
     "data": {
      "text/plain": [
       "1768"
      ]
     },
     "execution_count": 26,
     "metadata": {},
     "output_type": "execute_result"
    }
   ],
   "source": [
    "data_train.shape[1]"
   ]
  },
  {
   "cell_type": "code",
   "execution_count": 51,
   "metadata": {},
   "outputs": [],
   "source": [
    "latent_dim = 20\n",
    "shape = data_train.shape[1:]\n",
    "\n",
    "autoencoder = Autoencoder(latent_dim, shape)\n",
    "autoencoder.compile(optimizer='adam', loss=ks.losses.MeanSquaredError())"
   ]
  },
  {
   "cell_type": "code",
   "execution_count": 52,
   "metadata": {},
   "outputs": [
    {
     "name": "stdout",
     "output_type": "stream",
     "text": [
      "Epoch 1/10\n",
      "\u001b[1m2/2\u001b[0m \u001b[32m━━━━━━━━━━━━━━━━━━━━\u001b[0m\u001b[37m\u001b[0m \u001b[1m1s\u001b[0m 142ms/step - loss: 0.1967 - val_loss: 1.5810\n",
      "Epoch 2/10\n",
      "\u001b[1m2/2\u001b[0m \u001b[32m━━━━━━━━━━━━━━━━━━━━\u001b[0m\u001b[37m\u001b[0m \u001b[1m0s\u001b[0m 49ms/step - loss: 0.1982 - val_loss: 1.5784\n",
      "Epoch 3/10\n",
      "\u001b[1m2/2\u001b[0m \u001b[32m━━━━━━━━━━━━━━━━━━━━\u001b[0m\u001b[37m\u001b[0m \u001b[1m0s\u001b[0m 49ms/step - loss: 0.1975 - val_loss: 1.5761\n",
      "Epoch 4/10\n",
      "\u001b[1m2/2\u001b[0m \u001b[32m━━━━━━━━━━━━━━━━━━━━\u001b[0m\u001b[37m\u001b[0m \u001b[1m0s\u001b[0m 62ms/step - loss: 0.1889 - val_loss: 1.5741\n",
      "Epoch 5/10\n",
      "\u001b[1m2/2\u001b[0m \u001b[32m━━━━━━━━━━━━━━━━━━━━\u001b[0m\u001b[37m\u001b[0m \u001b[1m0s\u001b[0m 45ms/step - loss: 0.1944 - val_loss: 1.5724\n",
      "Epoch 6/10\n",
      "\u001b[1m2/2\u001b[0m \u001b[32m━━━━━━━━━━━━━━━━━━━━\u001b[0m\u001b[37m\u001b[0m \u001b[1m0s\u001b[0m 46ms/step - loss: 0.1978 - val_loss: 1.5709\n",
      "Epoch 7/10\n",
      "\u001b[1m2/2\u001b[0m \u001b[32m━━━━━━━━━━━━━━━━━━━━\u001b[0m\u001b[37m\u001b[0m \u001b[1m0s\u001b[0m 46ms/step - loss: 0.1969 - val_loss: 1.5697\n",
      "Epoch 8/10\n",
      "\u001b[1m2/2\u001b[0m \u001b[32m━━━━━━━━━━━━━━━━━━━━\u001b[0m\u001b[37m\u001b[0m \u001b[1m0s\u001b[0m 45ms/step - loss: 0.1929 - val_loss: 1.5686\n",
      "Epoch 9/10\n",
      "\u001b[1m2/2\u001b[0m \u001b[32m━━━━━━━━━━━━━━━━━━━━\u001b[0m\u001b[37m\u001b[0m \u001b[1m0s\u001b[0m 46ms/step - loss: 0.1977 - val_loss: 1.5675\n",
      "Epoch 10/10\n",
      "\u001b[1m2/2\u001b[0m \u001b[32m━━━━━━━━━━━━━━━━━━━━\u001b[0m\u001b[37m\u001b[0m \u001b[1m0s\u001b[0m 46ms/step - loss: 0.1972 - val_loss: 1.5663\n"
     ]
    },
    {
     "data": {
      "text/plain": [
       "<keras.src.callbacks.history.History at 0x7fbaf9ebe820>"
      ]
     },
     "execution_count": 52,
     "metadata": {},
     "output_type": "execute_result"
    }
   ],
   "source": [
    "autoencoder.fit(data_train, data_train,\n",
    "                epochs=10,\n",
    "                shuffle=True,\n",
    "                validation_data=(data_test, data_test))"
   ]
  },
  {
   "cell_type": "code",
   "execution_count": 53,
   "metadata": {},
   "outputs": [],
   "source": [
    "data_AE = autoencoder.encoder(data).numpy()"
   ]
  },
  {
   "cell_type": "code",
   "execution_count": 54,
   "metadata": {},
   "outputs": [],
   "source": [
    "iter =30\n",
    "cls = [\"RF\",\"SVM\", \"CatBoost\",\"NB\"]\n",
    "\n",
    "data_subset = {\"AllFeatures\":data, \n",
    "               \"AE\": data_AE\n",
    "              }"
   ]
  },
  {
   "cell_type": "code",
   "execution_count": 56,
   "metadata": {},
   "outputs": [
    {
     "name": "stdout",
     "output_type": "stream",
     "text": [
      "(59, 1768)\n",
      "(59, 20)\n"
     ]
    }
   ],
   "source": [
    "print(np.shape(data))\n",
    "print(np.shape(data_AE))"
   ]
  },
  {
   "cell_type": "markdown",
   "metadata": {},
   "source": [
    "The  function will print out the accuracy and AUC for each dataset using each classifier, and also will return the y_actual, y_predict, y_predprob for future use."
   ]
  },
  {
   "cell_type": "code",
   "execution_count": 57,
   "metadata": {},
   "outputs": [
    {
     "name": "stdout",
     "output_type": "stream",
     "text": [
      "             RF_Accuracy   RF_AUC   SVM_Accuracy   SVM_AUC  CatBoost_Accuracy  \\\n",
      "AllFeatures   0.780303    0.922917    0.746970    0.843750      0.845455        \n",
      "AE            0.710606    0.730903    0.777273    0.821528      0.589394        \n",
      "\n",
      "             CatBoost_AUC  NB_Accuracy   NB_AUC   \n",
      "AllFeatures    0.887037     0.863636    0.801389  \n",
      "AE             0.630556     0.743939    0.722917  \n"
     ]
    }
   ],
   "source": [
    "targetLabel=burn_label\n",
    "dict_cm = RunML_continue.runClassifier_FScompare(data_subsets= data_subset,y= targetLabel,N=iter,classifiers=cls,SMOTE=True)"
   ]
  },
  {
   "cell_type": "code",
   "execution_count": 58,
   "metadata": {},
   "outputs": [
    {
     "name": "stdout",
     "output_type": "stream",
     "text": [
      "                      Accuracy  Precision   Recall   Specification     Mcc  \n",
      "AllFeatures_RF        0.779661  1.000000   0.235294    1.000000     0.423886\n",
      "AllFeatures_SVM       0.745763  0.571429   0.470588    0.857143     0.348896\n",
      "AllFeatures_CatBoost  0.847458  1.000000   0.470588    1.000000     0.622530\n",
      "AllFeatures_NB        0.864407  0.846154   0.647059    0.952381     0.655004\n",
      "AE_RF                 0.711864  0.500000   0.529412    0.785714     0.309960\n",
      "AE_SVM                0.779661  0.625000   0.588235    0.857143     0.453716\n",
      "AE_CatBoost           0.593220  0.347826   0.470588    0.642857     0.105347\n",
      "AE_NB                 0.745763  0.555556   0.588235    0.809524     0.391238\n"
     ]
    }
   ],
   "source": [
    "print(metric.metric_sum(dict_cm))"
   ]
  },
  {
   "cell_type": "code",
   "execution_count": 59,
   "metadata": {},
   "outputs": [
    {
     "name": "stdout",
     "output_type": "stream",
     "text": [
      "             RF_Accuracy   RF_AUC   SVM_Accuracy   SVM_AUC  CatBoost_Accuracy  \\\n",
      "AllFeatures   0.556061    0.702698    0.556061    0.424444      0.524242        \n",
      "AE            0.524242    0.545556    0.557576    0.508254      0.507576        \n",
      "\n",
      "             CatBoost_AUC  NB_Accuracy   NB_AUC   \n",
      "AllFeatures    0.582540     0.610606    0.605000  \n",
      "AE             0.514286     0.509091    0.448889  \n"
     ]
    }
   ],
   "source": [
    "targetLabel=un_label\n",
    "dict_cm_un = RunML_continue.runClassifier_FScompare(data_subsets= data_subset,y= targetLabel,N=iter,classifiers=cls,SMOTE=True)"
   ]
  },
  {
   "cell_type": "code",
   "execution_count": 61,
   "metadata": {},
   "outputs": [
    {
     "name": "stdout",
     "output_type": "stream",
     "text": [
      "                      Accuracy  Precision   Recall   Specification     Mcc  \n",
      "AllFeatures_RF        0.559322  0.500000   0.230769    0.818182     0.060376\n",
      "AllFeatures_SVM       0.559322  0.500000   0.346154    0.727273     0.079171\n",
      "AllFeatures_CatBoost  0.525424  0.400000   0.153846    0.818182    -0.037014\n",
      "AllFeatures_NB        0.610169  0.551724   0.615385    0.606061     0.219913\n",
      "AE_RF                 0.525424  0.458333   0.423077    0.606061     0.029448\n",
      "AE_SVM                0.559322  0.500000   0.461538    0.636364     0.098945\n",
      "AE_CatBoost           0.508475  0.440000   0.423077    0.575758    -0.001171\n",
      "AE_NB                 0.508475  0.454545   0.576923    0.454545     0.031469\n"
     ]
    }
   ],
   "source": [
    "print(metric.metric_sum(dict_cm_un))"
   ]
  },
  {
   "cell_type": "code",
   "execution_count": 60,
   "metadata": {},
   "outputs": [
    {
     "name": "stdout",
     "output_type": "stream",
     "text": [
      "             RF_Accuracy   RF_AUC   SVM_Accuracy   SVM_AUC  CatBoost_Accuracy  \\\n",
      "AllFeatures   0.590909    0.457857    0.507576    0.471607      0.542424        \n",
      "AE            0.560606    0.455804    0.506061    0.365179      0.575758        \n",
      "\n",
      "             CatBoost_AUC  NB_Accuracy   NB_AUC   \n",
      "AllFeatures    0.436429     0.507576    0.516071  \n",
      "AE             0.569107     0.554545    0.597589  \n"
     ]
    }
   ],
   "source": [
    "targetLabel=duration_label\n",
    "dict_cm_dur = RunML_continue.runClassifier_FScompare(data_subsets= data_subset,y= targetLabel,N=iter,classifiers=cls,SMOTE=True)"
   ]
  },
  {
   "cell_type": "code",
   "execution_count": 62,
   "metadata": {},
   "outputs": [
    {
     "name": "stdout",
     "output_type": "stream",
     "text": [
      "                      Accuracy  Precision   Recall   Specification     Mcc  \n",
      "AllFeatures_RF        0.593220  0.333333   0.090909    0.891892    -0.027517\n",
      "AllFeatures_SVM       0.508475  0.230769   0.136364    0.729730    -0.156230\n",
      "AllFeatures_CatBoost  0.542373  0.222222   0.090909    0.810811    -0.132182\n",
      "AllFeatures_NB        0.508475  0.360000   0.409091    0.567568    -0.022842\n",
      "AE_RF                 0.559322  0.357143   0.227273    0.756757    -0.018154\n",
      "AE_SVM                0.508475  0.294118   0.227273    0.675676    -0.103625\n",
      "AE_CatBoost           0.576271  0.384615   0.227273    0.783784     0.012900\n",
      "AE_NB                 0.559322  0.437500   0.636364    0.513514     0.145476\n"
     ]
    }
   ],
   "source": [
    "print(metric.metric_sum(dict_cm_dur))"
   ]
  },
  {
   "cell_type": "code",
   "execution_count": 49,
   "metadata": {},
   "outputs": [
    {
     "name": "stdout",
     "output_type": "stream",
     "text": [
      "(1768,)\n"
     ]
    }
   ],
   "source": [
    "shape = data_train.shape[1:]\n",
    "print(shape)"
   ]
  },
  {
   "cell_type": "code",
   "execution_count": null,
   "metadata": {},
   "outputs": [],
   "source": []
  },
  {
   "cell_type": "code",
   "execution_count": 68,
   "metadata": {},
   "outputs": [],
   "source": [
    "param_grid = {\n",
    "            #'input_dim': [X_train_scaled.shape[1]], \n",
    "            'latent_dim': [10, 25, 50, 100],\n",
    "            'activation': ['relu', 'sigmoid', 'tanh']  \n",
    "        }\n"
   ]
  },
  {
   "cell_type": "code",
   "execution_count": 71,
   "metadata": {},
   "outputs": [
    {
     "name": "stdout",
     "output_type": "stream",
     "text": [
      "activation:relu, latent_dim:10, val_loss:1.5651246309280396\n",
      "activation:relu, latent_dim:100, val_loss:1.5317176580429077\n"
     ]
    }
   ],
   "source": [
    "best_score = float('inf')\n",
    "\n",
    "for activation in param_grid['activation']:\n",
    "    class Autoencoder(Model):\n",
    "      def __init__(self, latent_dim, shape):\n",
    "        super(Autoencoder, self).__init__()\n",
    "        self.latent_dim = latent_dim\n",
    "        self.shape = shape\n",
    "        self.encoder = tf.keras.Sequential([\n",
    "          layers.Flatten(),\n",
    "          layers.Dense(latent_dim, activation=activation),\n",
    "        ])\n",
    "        self.decoder = tf.keras.Sequential([\n",
    "          layers.Dense(tf.math.reduce_prod(shape).numpy(), activation=activation),\n",
    "          layers.Reshape(shape)\n",
    "        ])\n",
    "    \n",
    "      def call(self, x):\n",
    "        encoded = self.encoder(x)\n",
    "        decoded = self.decoder(encoded)\n",
    "        return decoded\n",
    "\n",
    "    for latent_dim in param_grid['latent_dim']:\n",
    "        autoencoder = Autoencoder(latent_dim, shape)\n",
    "        autoencoder.compile(optimizer='adam', loss=ks.losses.MeanSquaredError())\n",
    "        autoencoder.fit(data_train, data_train,\n",
    "                    epochs=10,\n",
    "                    shuffle=True,\n",
    "                    verbose=0,\n",
    "                    validation_data=(data_test, data_test))\n",
    "        val_loss = autoencoder.evaluate(data_test, data_test, verbose=0)\n",
    "        if val_loss < best_score:\n",
    "            best_score = val_loss\n",
    "            print(f\"activation:{activation}, latent_dim:{latent_dim}, val_loss:{val_loss}\")\n",
    "    \n",
    "        \n",
    "        \n",
    "            "
   ]
  },
  {
   "cell_type": "code",
   "execution_count": null,
   "metadata": {},
   "outputs": [],
   "source": []
  },
  {
   "cell_type": "code",
   "execution_count": null,
   "metadata": {},
   "outputs": [],
   "source": [
    "## latent_dim = [10, 25, 50, 100]\n",
    "for dim in latent_dim:\n",
    "    print(f\"latent dim: {dim}\")\n",
    "    autoencoder = Autoencoder(dim, shape)\n",
    "    autoencoder.compile(optimizer='adam', loss=ks.losses.MeanSquaredError())\n",
    "    \n",
    "    autoencoder.fit(data_train, data_train,\n",
    "                    epochs=10,\n",
    "                    shuffle=True,\n",
    "                    validation_data=(data_test, data_test))\n",
    "    \n",
    "    data_AE = autoencoder.encoder(data).numpy()\n",
    "\n"
   ]
  },
  {
   "cell_type": "code",
   "execution_count": 74,
   "metadata": {},
   "outputs": [
    {
     "data": {
      "text/plain": [
       "<keras.src.callbacks.history.History at 0x7fbac4e7a0d0>"
      ]
     },
     "execution_count": 74,
     "metadata": {},
     "output_type": "execute_result"
    }
   ],
   "source": [
    "class Autoencoder(Model):\n",
    "      def __init__(self, latent_dim, shape):\n",
    "        super(Autoencoder, self).__init__()\n",
    "        self.latent_dim = latent_dim\n",
    "        self.shape = shape\n",
    "        self.encoder = tf.keras.Sequential([\n",
    "          layers.Flatten(),\n",
    "          layers.Dense(latent_dim, activation='relu'),\n",
    "        ])\n",
    "        self.decoder = tf.keras.Sequential([\n",
    "          layers.Dense(tf.math.reduce_prod(shape).numpy(), activation='relu'),\n",
    "          layers.Reshape(shape)\n",
    "        ])\n",
    "    \n",
    "      def call(self, x):\n",
    "        encoded = self.encoder(x)\n",
    "        decoded = self.decoder(encoded)\n",
    "        return decoded\n",
    "\n",
    "    \n",
    "autoencoder = Autoencoder(100, shape)\n",
    "autoencoder.compile(optimizer='adam', loss=ks.losses.MeanSquaredError())\n",
    "autoencoder.fit(data_train, data_train,\n",
    "            epochs=10,\n",
    "            shuffle=True,\n",
    "            verbose=0,\n",
    "            validation_data=(data_test, data_test))\n",
    " "
   ]
  },
  {
   "cell_type": "code",
   "execution_count": 75,
   "metadata": {
    "scrolled": true
   },
   "outputs": [],
   "source": [
    "data_AE = autoencoder.encoder(data).numpy()"
   ]
  },
  {
   "cell_type": "code",
   "execution_count": 76,
   "metadata": {},
   "outputs": [],
   "source": [
    "data_subset = {\"AllFeatures\":data, \n",
    "               \"AE\": data_AE\n",
    "              }"
   ]
  },
  {
   "cell_type": "code",
   "execution_count": 77,
   "metadata": {},
   "outputs": [
    {
     "name": "stdout",
     "output_type": "stream",
     "text": [
      "             RF_Accuracy   RF_AUC   SVM_Accuracy   SVM_AUC  CatBoost_Accuracy  \\\n",
      "AllFeatures   0.780303    0.922917    0.746970    0.843750      0.845455        \n",
      "AE            0.763636    0.759606    0.830303    0.809259      0.775758        \n",
      "\n",
      "             CatBoost_AUC  NB_Accuracy   NB_AUC   \n",
      "AllFeatures    0.887037     0.863636    0.801389  \n",
      "AE             0.849769     0.760606    0.750347  \n"
     ]
    }
   ],
   "source": [
    "targetLabel=burn_label\n",
    "dict_cm = RunML_continue.runClassifier_FScompare(data_subsets= data_subset,y= targetLabel,N=iter,classifiers=cls,SMOTE=True)"
   ]
  },
  {
   "cell_type": "code",
   "execution_count": 81,
   "metadata": {},
   "outputs": [
    {
     "name": "stdout",
     "output_type": "stream",
     "text": [
      "                      Accuracy  Precision   Recall   Specification     Mcc  \n",
      "AllFeatures_RF        0.779661  1.000000   0.235294    1.000000     0.423886\n",
      "AllFeatures_SVM       0.745763  0.571429   0.470588    0.857143     0.348896\n",
      "AllFeatures_CatBoost  0.847458  1.000000   0.470588    1.000000     0.622530\n",
      "AllFeatures_NB        0.864407  0.846154   0.647059    0.952381     0.655004\n",
      "AE_RF                 0.762712  0.666667   0.352941    0.928571     0.354602\n",
      "AE_SVM                0.830508  0.769231   0.588235    0.928571     0.564712\n",
      "AE_CatBoost           0.779661  0.600000   0.705882    0.809524     0.493119\n",
      "AE_NB                 0.762712  0.588235   0.588235    0.833333     0.421569\n"
     ]
    }
   ],
   "source": [
    "print(metric.metric_sum(dict_cm))"
   ]
  },
  {
   "cell_type": "code",
   "execution_count": null,
   "metadata": {},
   "outputs": [],
   "source": []
  },
  {
   "cell_type": "code",
   "execution_count": null,
   "metadata": {},
   "outputs": [],
   "source": []
  },
  {
   "cell_type": "code",
   "execution_count": null,
   "metadata": {},
   "outputs": [],
   "source": []
  },
  {
   "cell_type": "code",
   "execution_count": null,
   "metadata": {},
   "outputs": [],
   "source": []
  },
  {
   "cell_type": "code",
   "execution_count": 79,
   "metadata": {},
   "outputs": [
    {
     "name": "stdout",
     "output_type": "stream",
     "text": [
      "             RF_Accuracy   RF_AUC   SVM_Accuracy   SVM_AUC  CatBoost_Accuracy  \\\n",
      "AllFeatures   0.590909    0.457857    0.507576    0.471607      0.542424        \n",
      "AE            0.592424    0.478304    0.507576    0.444107      0.407576        \n",
      "\n",
      "             CatBoost_AUC  NB_Accuracy   NB_AUC   \n",
      "AllFeatures    0.436429     0.507576    0.516071  \n",
      "AE             0.417143     0.543939    0.527232  \n"
     ]
    }
   ],
   "source": [
    "targetLabel=duration_label\n",
    "dict_cm_dur = RunML_continue.runClassifier_FScompare(data_subsets= data_subset,y= targetLabel,N=iter,classifiers=cls,SMOTE=True)"
   ]
  },
  {
   "cell_type": "code",
   "execution_count": 80,
   "metadata": {},
   "outputs": [
    {
     "name": "stdout",
     "output_type": "stream",
     "text": [
      "                      Accuracy  Precision   Recall   Specification     Mcc  \n",
      "AllFeatures_RF        0.593220  0.333333   0.090909    0.891892    -0.027517\n",
      "AllFeatures_SVM       0.508475  0.230769   0.136364    0.729730    -0.156230\n",
      "AllFeatures_CatBoost  0.542373  0.222222   0.090909    0.810811    -0.132182\n",
      "AllFeatures_NB        0.508475  0.360000   0.409091    0.567568    -0.022842\n",
      "AE_RF                 0.593220  0.437500   0.318182    0.756757     0.081512\n",
      "AE_SVM                0.508475  0.181818   0.090909    0.756757    -0.189144\n",
      "AE_CatBoost           0.406780  0.117647   0.090909    0.594595    -0.335798\n",
      "AE_NB                 0.542373  0.400000   0.454545    0.594595     0.048088\n"
     ]
    }
   ],
   "source": [
    "print(metric.metric_sum(dict_cm_dur))"
   ]
  },
  {
   "cell_type": "code",
   "execution_count": 82,
   "metadata": {},
   "outputs": [
    {
     "name": "stdout",
     "output_type": "stream",
     "text": [
      "             RF_Accuracy   RF_AUC   SVM_Accuracy   SVM_AUC  CatBoost_Accuracy  \\\n",
      "AllFeatures   0.556061    0.702698    0.556061    0.424444      0.524242        \n",
      "AE            0.574242    0.649286    0.590909    0.595397      0.456061        \n",
      "\n",
      "             CatBoost_AUC  NB_Accuracy   NB_AUC   \n",
      "AllFeatures    0.582540     0.610606    0.605000  \n",
      "AE             0.598889     0.539394    0.585714  \n"
     ]
    }
   ],
   "source": [
    "targetLabel=un_label\n",
    "dict_cm_un = RunML_continue.runClassifier_FScompare(data_subsets= data_subset,y= targetLabel,N=iter,classifiers=cls,SMOTE=True)"
   ]
  },
  {
   "cell_type": "code",
   "execution_count": 83,
   "metadata": {},
   "outputs": [
    {
     "name": "stdout",
     "output_type": "stream",
     "text": [
      "                      Accuracy  Precision   Recall   Specification     Mcc  \n",
      "AllFeatures_RF        0.559322  0.500000   0.230769    0.818182     0.060376\n",
      "AllFeatures_SVM       0.559322  0.500000   0.346154    0.727273     0.079171\n",
      "AllFeatures_CatBoost  0.525424  0.400000   0.153846    0.818182    -0.037014\n",
      "AllFeatures_NB        0.610169  0.551724   0.615385    0.606061     0.219913\n",
      "AE_RF                 0.576271  0.523810   0.423077    0.696970     0.124478\n",
      "AE_SVM                0.593220  0.541667   0.500000    0.666667     0.168443\n",
      "AE_CatBoost           0.457627  0.350000   0.269231    0.606061    -0.130796\n",
      "AE_NB                 0.542373  0.483871   0.576923    0.515152     0.091543\n"
     ]
    }
   ],
   "source": [
    "print(metric.metric_sum(dict_cm_un))"
   ]
  },
  {
   "cell_type": "code",
   "execution_count": null,
   "metadata": {},
   "outputs": [],
   "source": []
  }
 ],
 "metadata": {
  "kernelspec": {
   "display_name": "Python 3 (ipykernel)",
   "language": "python",
   "name": "python3"
  },
  "language_info": {
   "codemirror_mode": {
    "name": "ipython",
    "version": 3
   },
   "file_extension": ".py",
   "mimetype": "text/x-python",
   "name": "python",
   "nbconvert_exporter": "python",
   "pygments_lexer": "ipython3",
   "version": "3.9.10"
  }
 },
 "nbformat": 4,
 "nbformat_minor": 4
}
