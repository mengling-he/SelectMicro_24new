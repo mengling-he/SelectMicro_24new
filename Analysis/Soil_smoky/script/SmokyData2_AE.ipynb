{
 "cells": [
  {
   "cell_type": "markdown",
   "metadata": {},
   "source": [
    "First, load the data,in this notebook we are using the smokoy mountain data as the example. And will use basic AE to get the transformation of the data and do prediction using the same models."
   ]
  },
  {
   "cell_type": "code",
   "execution_count": 1,
   "metadata": {
    "metadata": {}
   },
   "outputs": [
    {
     "name": "stderr",
     "output_type": "stream",
     "text": [
      "2025-01-17 11:50:21.032717: I tensorflow/core/util/port.cc:153] oneDNN custom operations are on. You may see slightly different numerical results due to floating-point round-off errors from different computation orders. To turn them off, set the environment variable `TF_ENABLE_ONEDNN_OPTS=0`.\n",
      "2025-01-17 11:50:21.036543: I external/local_xla/xla/tsl/cuda/cudart_stub.cc:32] Could not find cuda drivers on your machine, GPU will not be used.\n",
      "2025-01-17 11:50:21.378401: I external/local_xla/xla/tsl/cuda/cudart_stub.cc:32] Could not find cuda drivers on your machine, GPU will not be used.\n",
      "2025-01-17 11:50:21.460745: E external/local_xla/xla/stream_executor/cuda/cuda_fft.cc:477] Unable to register cuFFT factory: Attempting to register factory for plugin cuFFT when one has already been registered\n",
      "WARNING: All log messages before absl::InitializeLog() is called are written to STDERR\n",
      "E0000 00:00:1737132621.646439 2793178 cuda_dnn.cc:8310] Unable to register cuDNN factory: Attempting to register factory for plugin cuDNN when one has already been registered\n",
      "E0000 00:00:1737132622.155834 2793178 cuda_blas.cc:1418] Unable to register cuBLAS factory: Attempting to register factory for plugin cuBLAS when one has already been registered\n",
      "2025-01-17 11:50:22.839192: I tensorflow/core/platform/cpu_feature_guard.cc:210] This TensorFlow binary is optimized to use available CPU instructions in performance-critical operations.\n",
      "To enable the following instructions: AVX2 AVX512F AVX512_VNNI FMA, in other operations, rebuild TensorFlow with the appropriate compiler flags.\n"
     ]
    }
   ],
   "source": [
    "import sys\n",
    "sys.path.append('../../../Code')\n",
    "import loadData \n",
    "import RunML\n",
    "import RunML_continue\n",
    "import FS\n",
    "import metric"
   ]
  },
  {
   "cell_type": "code",
   "execution_count": 2,
   "metadata": {},
   "outputs": [],
   "source": [
    "import pandas as pd\n",
    "import numpy as np\n",
    "import random\n",
    "from sklearn import svm\n",
    "import pickle\n",
    "import matplotlib.pyplot as plt"
   ]
  },
  {
   "cell_type": "code",
   "execution_count": 3,
   "metadata": {},
   "outputs": [
    {
     "name": "stdout",
     "output_type": "stream",
     "text": [
      "TensorFlow version: 2.18.0\n",
      "Num GPUs Available:  0\n"
     ]
    },
    {
     "name": "stderr",
     "output_type": "stream",
     "text": [
      "2025-01-17 11:51:21.755552: E external/local_xla/xla/stream_executor/cuda/cuda_driver.cc:152] failed call to cuInit: INTERNAL: CUDA error: Failed call to cuInit: UNKNOWN ERROR (303)\n"
     ]
    }
   ],
   "source": [
    "import tensorflow as tf\n",
    "print(\"TensorFlow version:\", tf.__version__)\n",
    "print(\"Num GPUs Available: \", len(tf.config.list_physical_devices('GPU')))"
   ]
  },
  {
   "cell_type": "markdown",
   "metadata": {},
   "source": [
    "### 1. Load the data and data preprocess\n",
    "After reading the data, convert the abundance matrix into relative abundance matrix; for the response variables, since we have multiple variables, organize them into an array with each variable as a column."
   ]
  },
  {
   "cell_type": "code",
   "execution_count": 4,
   "metadata": {},
   "outputs": [],
   "source": [
    "data,burn_label,un_label,duration_label,ASVs,df=loadData.loadSoilData(\"../data/count_table/merge_proportion_asv_smoky_moutain.csv\")"
   ]
  },
  {
   "cell_type": "code",
   "execution_count": 5,
   "metadata": {},
   "outputs": [],
   "source": [
    "data = FS.relative_abundance(data)"
   ]
  },
  {
   "cell_type": "code",
   "execution_count": null,
   "metadata": {},
   "outputs": [],
   "source": []
  },
  {
   "cell_type": "code",
   "execution_count": null,
   "metadata": {},
   "outputs": [],
   "source": []
  },
  {
   "cell_type": "markdown",
   "metadata": {},
   "source": [
    "### 2.AE"
   ]
  },
  {
   "cell_type": "code",
   "execution_count": 6,
   "metadata": {},
   "outputs": [],
   "source": [
    "from tensorflow.keras import layers\n",
    "from tensorflow import keras as ks\n",
    "from scikeras.wrappers import KerasClassifier, KerasRegressor\n",
    "from tensorflow.keras.models import Model\n",
    "\n",
    "# --------------------------------------------------------------------------------------------------#\n",
    "\n",
    "# To define your model, use the Keras Model Subclassing API.\n",
    "class Autoencoder(Model):\n",
    "  def __init__(self, latent_dim, shape):\n",
    "    super(Autoencoder, self).__init__()\n",
    "    self.latent_dim = latent_dim\n",
    "    self.shape = shape\n",
    "    self.encoder = tf.keras.Sequential([\n",
    "      layers.Flatten(),\n",
    "      layers.Dense(latent_dim, activation='relu'),\n",
    "    ])\n",
    "    self.decoder = tf.keras.Sequential([\n",
    "      layers.Dense(tf.math.reduce_prod(shape).numpy(), activation='relu'),\n",
    "      layers.Reshape(shape)\n",
    "    ])\n",
    "\n",
    "  def call(self, x):\n",
    "    encoded = self.encoder(x)\n",
    "    decoded = self.decoder(encoded)\n",
    "    return decoded\n",
    "\n"
   ]
  },
  {
   "cell_type": "code",
   "execution_count": 7,
   "metadata": {},
   "outputs": [
    {
     "name": "stdout",
     "output_type": "stream",
     "text": [
      "(41, 1768)\n",
      "(18, 1768)\n"
     ]
    }
   ],
   "source": [
    "data_train, data_test, y_train, y_test = RunML_continue.split_and_scale_data(data,burn_label)\n",
    "print(data_train.shape)\n",
    "print(data_test.shape)"
   ]
  },
  {
   "cell_type": "code",
   "execution_count": 8,
   "metadata": {},
   "outputs": [
    {
     "data": {
      "text/plain": [
       "1768"
      ]
     },
     "execution_count": 8,
     "metadata": {},
     "output_type": "execute_result"
    }
   ],
   "source": [
    "data_train.shape[1]"
   ]
  },
  {
   "cell_type": "code",
   "execution_count": 9,
   "metadata": {},
   "outputs": [],
   "source": [
    "latent_dim = 20\n",
    "shape = data_train.shape[1:]\n",
    "\n",
    "autoencoder = Autoencoder(latent_dim, shape)\n",
    "autoencoder.compile(optimizer='adam', loss=ks.losses.MeanSquaredError())"
   ]
  },
  {
   "cell_type": "code",
   "execution_count": 10,
   "metadata": {},
   "outputs": [
    {
     "name": "stdout",
     "output_type": "stream",
     "text": [
      "Epoch 1/10\n",
      "\u001b[1m2/2\u001b[0m \u001b[32m━━━━━━━━━━━━━━━━━━━━\u001b[0m\u001b[37m\u001b[0m \u001b[1m2s\u001b[0m 255ms/step - loss: 0.2007 - val_loss: 1.5909\n",
      "Epoch 2/10\n",
      "\u001b[1m2/2\u001b[0m \u001b[32m━━━━━━━━━━━━━━━━━━━━\u001b[0m\u001b[37m\u001b[0m \u001b[1m0s\u001b[0m 111ms/step - loss: 0.2018 - val_loss: 1.5869\n",
      "Epoch 3/10\n",
      "\u001b[1m2/2\u001b[0m \u001b[32m━━━━━━━━━━━━━━━━━━━━\u001b[0m\u001b[37m\u001b[0m \u001b[1m0s\u001b[0m 110ms/step - loss: 0.1990 - val_loss: 1.5836\n",
      "Epoch 4/10\n",
      "\u001b[1m2/2\u001b[0m \u001b[32m━━━━━━━━━━━━━━━━━━━━\u001b[0m\u001b[37m\u001b[0m \u001b[1m0s\u001b[0m 112ms/step - loss: 0.1956 - val_loss: 1.5809\n",
      "Epoch 5/10\n",
      "\u001b[1m2/2\u001b[0m \u001b[32m━━━━━━━━━━━━━━━━━━━━\u001b[0m\u001b[37m\u001b[0m \u001b[1m0s\u001b[0m 111ms/step - loss: 0.1982 - val_loss: 1.5788\n",
      "Epoch 6/10\n",
      "\u001b[1m2/2\u001b[0m \u001b[32m━━━━━━━━━━━━━━━━━━━━\u001b[0m\u001b[37m\u001b[0m \u001b[1m0s\u001b[0m 110ms/step - loss: 0.1963 - val_loss: 1.5770\n",
      "Epoch 7/10\n",
      "\u001b[1m2/2\u001b[0m \u001b[32m━━━━━━━━━━━━━━━━━━━━\u001b[0m\u001b[37m\u001b[0m \u001b[1m0s\u001b[0m 110ms/step - loss: 0.1946 - val_loss: 1.5756\n",
      "Epoch 8/10\n",
      "\u001b[1m2/2\u001b[0m \u001b[32m━━━━━━━━━━━━━━━━━━━━\u001b[0m\u001b[37m\u001b[0m \u001b[1m0s\u001b[0m 73ms/step - loss: 0.1928 - val_loss: 1.5745\n",
      "Epoch 9/10\n",
      "\u001b[1m2/2\u001b[0m \u001b[32m━━━━━━━━━━━━━━━━━━━━\u001b[0m\u001b[37m\u001b[0m \u001b[1m0s\u001b[0m 108ms/step - loss: 0.1948 - val_loss: 1.5735\n",
      "Epoch 10/10\n",
      "\u001b[1m2/2\u001b[0m \u001b[32m━━━━━━━━━━━━━━━━━━━━\u001b[0m\u001b[37m\u001b[0m \u001b[1m0s\u001b[0m 109ms/step - loss: 0.1978 - val_loss: 1.5726\n"
     ]
    },
    {
     "data": {
      "text/plain": [
       "<keras.src.callbacks.history.History at 0x7f408e91c4f0>"
      ]
     },
     "execution_count": 10,
     "metadata": {},
     "output_type": "execute_result"
    }
   ],
   "source": [
    "autoencoder.fit(data_train, data_train,\n",
    "                epochs=10,\n",
    "                shuffle=True,\n",
    "                validation_data=(data_test, data_test))"
   ]
  },
  {
   "cell_type": "code",
   "execution_count": 11,
   "metadata": {},
   "outputs": [],
   "source": [
    "data_AE = autoencoder.encoder(data).numpy()"
   ]
  },
  {
   "cell_type": "code",
   "execution_count": 12,
   "metadata": {},
   "outputs": [],
   "source": [
    "iter =30\n",
    "cls = [\"RF\",\"SVM\", \"CatBoost\",\"NB\"]\n",
    "\n",
    "data_subset = {\"AllFeatures\":data, \n",
    "               \"AE\": data_AE\n",
    "              }"
   ]
  },
  {
   "cell_type": "code",
   "execution_count": 13,
   "metadata": {},
   "outputs": [
    {
     "name": "stdout",
     "output_type": "stream",
     "text": [
      "(59, 1768)\n",
      "(59, 20)\n"
     ]
    }
   ],
   "source": [
    "print(np.shape(data))\n",
    "print(np.shape(data_AE))"
   ]
  },
  {
   "cell_type": "markdown",
   "metadata": {},
   "source": [
    "The  function will print out the accuracy and AUC for each dataset using each classifier, and also will return the y_actual, y_predict, y_predprob for future use."
   ]
  },
  {
   "cell_type": "code",
   "execution_count": 14,
   "metadata": {},
   "outputs": [
    {
     "name": "stderr",
     "output_type": "stream",
     "text": [
      "TBB Warning: The number of workers is currently limited to 0. The request for 47 workers is ignored. Further requests for more workers will be silently ignored until the limit changes.\n",
      "\n"
     ]
    },
    {
     "name": "stdout",
     "output_type": "stream",
     "text": [
      "             RF_Accuracy   RF_AUC   SVM_Accuracy  SVM_AUC  CatBoost_Accuracy  \\\n",
      "AllFeatures   0.780303    0.922917    0.746970    0.84375      0.845455        \n",
      "AE            0.677273    0.762153    0.557576    0.69375      0.710606        \n",
      "\n",
      "             CatBoost_AUC  NB_Accuracy   NB_AUC   \n",
      "AllFeatures    0.887037     0.863636    0.801389  \n",
      "AE             0.763194     0.575758    0.588079  \n"
     ]
    }
   ],
   "source": [
    "targetLabel=burn_label\n",
    "dict_cm = RunML_continue.runClassifier_FScompare(data_subsets= data_subset,y= targetLabel,N=iter,classifiers=cls,SMOTE=True)"
   ]
  },
  {
   "cell_type": "code",
   "execution_count": 15,
   "metadata": {},
   "outputs": [
    {
     "name": "stdout",
     "output_type": "stream",
     "text": [
      "                      Accuracy  Precision   Recall   Specification     Mcc  \n",
      "AllFeatures_RF        0.779661  1.000000   0.235294    1.000000     0.423886\n",
      "AllFeatures_SVM       0.745763  0.571429   0.470588    0.857143     0.348896\n",
      "AllFeatures_CatBoost  0.847458  1.000000   0.470588    1.000000     0.622530\n",
      "AllFeatures_NB        0.864407  0.846154   0.647059    0.952381     0.655004\n",
      "AE_RF                 0.677966  0.428571   0.352941    0.809524     0.172957\n",
      "AE_SVM                0.559322  0.263158   0.294118    0.666667    -0.038010\n",
      "AE_CatBoost           0.711864  0.500000   0.588235    0.761905     0.334999\n",
      "AE_NB                 0.576271  0.366667   0.647059    0.547619     0.176362\n"
     ]
    }
   ],
   "source": [
    "print(metric.metric_sum(dict_cm))"
   ]
  },
  {
   "cell_type": "code",
   "execution_count": 16,
   "metadata": {},
   "outputs": [
    {
     "name": "stdout",
     "output_type": "stream",
     "text": [
      "             RF_Accuracy   RF_AUC   SVM_Accuracy   SVM_AUC  CatBoost_Accuracy  \\\n",
      "AllFeatures   0.556061    0.702698    0.556061    0.424444      0.524242        \n",
      "AE            0.472727    0.466429    0.453030    0.433651      0.456061        \n",
      "\n",
      "             CatBoost_AUC  NB_Accuracy   NB_AUC   \n",
      "AllFeatures    0.582540     0.610606    0.605000  \n",
      "AE             0.459524     0.453030    0.507143  \n"
     ]
    }
   ],
   "source": [
    "targetLabel=un_label\n",
    "dict_cm_un = RunML_continue.runClassifier_FScompare(data_subsets= data_subset,y= targetLabel,N=iter,classifiers=cls,SMOTE=True)"
   ]
  },
  {
   "cell_type": "code",
   "execution_count": 17,
   "metadata": {},
   "outputs": [
    {
     "name": "stdout",
     "output_type": "stream",
     "text": [
      "                      Accuracy  Precision   Recall   Specification     Mcc  \n",
      "AllFeatures_RF        0.559322  0.500000   0.230769    0.818182     0.060376\n",
      "AllFeatures_SVM       0.559322  0.500000   0.346154    0.727273     0.079171\n",
      "AllFeatures_CatBoost  0.525424  0.400000   0.153846    0.818182    -0.037014\n",
      "AllFeatures_NB        0.610169  0.551724   0.615385    0.606061     0.219913\n",
      "AE_RF                 0.474576  0.400000   0.384615    0.545455    -0.070258\n",
      "AE_SVM                0.457627  0.400000   0.461538    0.454545    -0.083335\n",
      "AE_CatBoost           0.457627  0.375000   0.346154    0.545455    -0.109547\n",
      "AE_NB                 0.457627  0.411765   0.538462    0.393939    -0.067916\n"
     ]
    }
   ],
   "source": [
    "print(metric.metric_sum(dict_cm_un))"
   ]
  },
  {
   "cell_type": "code",
   "execution_count": 18,
   "metadata": {},
   "outputs": [
    {
     "name": "stdout",
     "output_type": "stream",
     "text": [
      "             RF_Accuracy   RF_AUC   SVM_Accuracy   SVM_AUC  CatBoost_Accuracy  \\\n",
      "AllFeatures   0.590909    0.457857    0.507576    0.471607      0.542424        \n",
      "AE            0.422727    0.319464    0.493939    0.472679      0.443939        \n",
      "\n",
      "             CatBoost_AUC  NB_Accuracy   NB_AUC   \n",
      "AllFeatures    0.436429     0.507576    0.516071  \n",
      "AE             0.315714     0.424242    0.374286  \n"
     ]
    }
   ],
   "source": [
    "targetLabel=duration_label\n",
    "dict_cm_dur = RunML_continue.runClassifier_FScompare(data_subsets= data_subset,y= targetLabel,N=iter,classifiers=cls,SMOTE=True)"
   ]
  },
  {
   "cell_type": "code",
   "execution_count": 19,
   "metadata": {},
   "outputs": [
    {
     "name": "stdout",
     "output_type": "stream",
     "text": [
      "                      Accuracy  Precision   Recall   Specification     Mcc  \n",
      "AllFeatures_RF        0.593220  0.333333   0.090909    0.891892    -0.027517\n",
      "AllFeatures_SVM       0.508475  0.230769   0.136364    0.729730    -0.156230\n",
      "AllFeatures_CatBoost  0.542373  0.222222   0.090909    0.810811    -0.132182\n",
      "AllFeatures_NB        0.508475  0.360000   0.409091    0.567568    -0.022842\n",
      "AE_RF                 0.423729  0.227273   0.227273    0.540541    -0.232187\n",
      "AE_SVM                0.491525  0.318182   0.318182    0.594595    -0.087224\n",
      "AE_CatBoost           0.440678  0.260870   0.272727    0.540541    -0.185147\n",
      "AE_NB                 0.423729  0.300000   0.409091    0.432432    -0.153291\n"
     ]
    }
   ],
   "source": [
    "print(metric.metric_sum(dict_cm_dur))"
   ]
  },
  {
   "cell_type": "code",
   "execution_count": 20,
   "metadata": {},
   "outputs": [
    {
     "name": "stdout",
     "output_type": "stream",
     "text": [
      "(1768,)\n"
     ]
    }
   ],
   "source": [
    "shape = data_train.shape[1:]\n",
    "print(shape)"
   ]
  },
  {
   "cell_type": "markdown",
   "metadata": {},
   "source": [
    "### fine tune latent dimension and activation function"
   ]
  },
  {
   "cell_type": "code",
   "execution_count": null,
   "metadata": {},
   "outputs": [],
   "source": []
  },
  {
   "cell_type": "code",
   "execution_count": 21,
   "metadata": {},
   "outputs": [],
   "source": [
    "param_grid = {\n",
    "            #'input_dim': [X_train_scaled.shape[1]], \n",
    "            'latent_dim': [10, 25, 50, 100],\n",
    "            'activation': ['relu', 'sigmoid', 'tanh']  \n",
    "        }\n"
   ]
  },
  {
   "cell_type": "code",
   "execution_count": 22,
   "metadata": {},
   "outputs": [
    {
     "ename": "NameError",
     "evalue": "name 'activation1' is not defined",
     "output_type": "error",
     "traceback": [
      "\u001b[0;31m---------------------------------------------------------------------------\u001b[0m",
      "\u001b[0;31mNameError\u001b[0m                                 Traceback (most recent call last)",
      "Cell \u001b[0;32mIn[22], line 34\u001b[0m\n\u001b[1;32m     32\u001b[0m \u001b[38;5;28;01mif\u001b[39;00m val_loss \u001b[38;5;241m<\u001b[39m best_score:\n\u001b[1;32m     33\u001b[0m     best_score \u001b[38;5;241m=\u001b[39m val_loss\n\u001b[0;32m---> 34\u001b[0m     \u001b[38;5;28mprint\u001b[39m(\u001b[38;5;124mf\u001b[39m\u001b[38;5;124m\"\u001b[39m\u001b[38;5;124mactivation 1:\u001b[39m\u001b[38;5;132;01m{\u001b[39;00mactivation1\u001b[38;5;132;01m}\u001b[39;00m\u001b[38;5;124m,latent_dim:\u001b[39m\u001b[38;5;132;01m{\u001b[39;00mlatent_dim\u001b[38;5;132;01m}\u001b[39;00m\u001b[38;5;124m, val_loss:\u001b[39m\u001b[38;5;132;01m{\u001b[39;00mval_loss\u001b[38;5;132;01m}\u001b[39;00m\u001b[38;5;124m\"\u001b[39m)\n\u001b[1;32m     35\u001b[0m     best_model \u001b[38;5;241m=\u001b[39m autoencoder\n",
      "\u001b[0;31mNameError\u001b[0m: name 'activation1' is not defined"
     ]
    }
   ],
   "source": [
    "best_score = float('inf')\n",
    "best_model = None\n",
    "for activation in param_grid['activation']:\n",
    "    class Autoencoder(Model):\n",
    "      def __init__(self, latent_dim, shape):\n",
    "        super(Autoencoder, self).__init__()\n",
    "        self.latent_dim = latent_dim\n",
    "        self.shape = shape\n",
    "        self.encoder = tf.keras.Sequential([\n",
    "          layers.Flatten(),\n",
    "          layers.Dense(latent_dim, activation=activation),\n",
    "        ])\n",
    "        self.decoder = tf.keras.Sequential([\n",
    "          layers.Dense(tf.math.reduce_prod(shape).numpy(), activation=activation),\n",
    "          layers.Reshape(shape)\n",
    "        ])\n",
    "    \n",
    "      def call(self, x):\n",
    "        encoded = self.encoder(x)\n",
    "        decoded = self.decoder(encoded)\n",
    "        return decoded\n",
    "\n",
    "    for latent_dim in param_grid['latent_dim']:\n",
    "        autoencoder = Autoencoder(latent_dim, shape)\n",
    "        autoencoder.compile(optimizer='adam', loss=ks.losses.MeanSquaredError())\n",
    "        autoencoder.fit(data_train, data_train,\n",
    "                    epochs=10,\n",
    "                    shuffle=True,\n",
    "                    verbose=0,\n",
    "                    validation_data=(data_test, data_test))\n",
    "        val_loss = autoencoder.evaluate(data_test, data_test, verbose=0)\n",
    "        if val_loss < best_score:\n",
    "            best_score = val_loss\n",
    "            print(f\"activation 1:{activation1},latent_dim:{latent_dim}, val_loss:{val_loss}\")\n",
    "            best_model = autoencoder\n",
    "        \n",
    "            "
   ]
  },
  {
   "cell_type": "code",
   "execution_count": null,
   "metadata": {},
   "outputs": [],
   "source": []
  },
  {
   "cell_type": "code",
   "execution_count": null,
   "metadata": {
    "scrolled": true
   },
   "outputs": [],
   "source": [
    "data_AE = best_model.encoder(data).numpy()"
   ]
  },
  {
   "cell_type": "code",
   "execution_count": null,
   "metadata": {},
   "outputs": [],
   "source": [
    "data_subset = {\"AllFeatures\":data, \n",
    "               \"AE\": data_AE\n",
    "              }"
   ]
  },
  {
   "cell_type": "code",
   "execution_count": null,
   "metadata": {},
   "outputs": [],
   "source": [
    "targetLabel=burn_label\n",
    "dict_cm = RunML_continue.runClassifier_FScompare(data_subsets= data_subset,y= targetLabel,N=iter,classifiers=cls,SMOTE=True)"
   ]
  },
  {
   "cell_type": "code",
   "execution_count": null,
   "metadata": {},
   "outputs": [],
   "source": [
    "print(metric.metric_sum(dict_cm))"
   ]
  },
  {
   "cell_type": "code",
   "execution_count": null,
   "metadata": {},
   "outputs": [],
   "source": []
  },
  {
   "cell_type": "code",
   "execution_count": null,
   "metadata": {},
   "outputs": [],
   "source": [
    "targetLabel=un_label\n",
    "dict_cm_un = RunML_continue.runClassifier_FScompare(data_subsets= data_subset,y= targetLabel,N=iter,classifiers=cls,SMOTE=True)"
   ]
  },
  {
   "cell_type": "code",
   "execution_count": null,
   "metadata": {},
   "outputs": [],
   "source": [
    "print(metric.metric_sum(dict_cm_un))"
   ]
  },
  {
   "cell_type": "code",
   "execution_count": null,
   "metadata": {},
   "outputs": [],
   "source": []
  },
  {
   "cell_type": "code",
   "execution_count": null,
   "metadata": {},
   "outputs": [],
   "source": [
    "targetLabel=duration_label\n",
    "dict_cm_dur = RunML_continue.runClassifier_FScompare(data_subsets= data_subset,y= targetLabel,N=iter,classifiers=cls,SMOTE=True)"
   ]
  },
  {
   "cell_type": "code",
   "execution_count": null,
   "metadata": {},
   "outputs": [],
   "source": [
    "print(metric.metric_sum(dict_cm_dur))"
   ]
  },
  {
   "cell_type": "code",
   "execution_count": null,
   "metadata": {},
   "outputs": [],
   "source": []
  },
  {
   "cell_type": "code",
   "execution_count": null,
   "metadata": {},
   "outputs": [],
   "source": []
  },
  {
   "cell_type": "code",
   "execution_count": null,
   "metadata": {},
   "outputs": [],
   "source": []
  }
 ],
 "metadata": {
  "kernelspec": {
   "display_name": "Python 3 (ipykernel)",
   "language": "python",
   "name": "python3"
  },
  "language_info": {
   "codemirror_mode": {
    "name": "ipython",
    "version": 3
   },
   "file_extension": ".py",
   "mimetype": "text/x-python",
   "name": "python",
   "nbconvert_exporter": "python",
   "pygments_lexer": "ipython3",
   "version": "3.9.10"
  }
 },
 "nbformat": 4,
 "nbformat_minor": 4
}
