{
 "cells": [
  {
   "cell_type": "markdown",
   "metadata": {},
   "source": [
    "First, load the data,in this notebook we are using the smokoy mountain data as the example. And will use basic AE to get the transformation of the data and do prediction using the same models.\n",
    "\n",
    "!!! problem, the result is not the same when rerun it (even the number of latent space is not the same)\n",
    "#The final result ended with a n=50 latent space, and the performance is better then all features"
   ]
  },
  {
   "cell_type": "code",
   "execution_count": 1,
   "metadata": {
    "metadata": {}
   },
   "outputs": [
    {
     "name": "stderr",
     "output_type": "stream",
     "text": [
      "2025-01-21 11:35:39.412166: I tensorflow/core/util/port.cc:153] oneDNN custom operations are on. You may see slightly different numerical results due to floating-point round-off errors from different computation orders. To turn them off, set the environment variable `TF_ENABLE_ONEDNN_OPTS=0`.\n",
      "2025-01-21 11:35:39.414721: I external/local_xla/xla/tsl/cuda/cudart_stub.cc:32] Could not find cuda drivers on your machine, GPU will not be used.\n",
      "2025-01-21 11:35:39.418629: I external/local_xla/xla/tsl/cuda/cudart_stub.cc:32] Could not find cuda drivers on your machine, GPU will not be used.\n",
      "2025-01-21 11:35:39.428819: E external/local_xla/xla/stream_executor/cuda/cuda_fft.cc:477] Unable to register cuFFT factory: Attempting to register factory for plugin cuFFT when one has already been registered\n",
      "WARNING: All log messages before absl::InitializeLog() is called are written to STDERR\n",
      "E0000 00:00:1737477339.447058 3145304 cuda_dnn.cc:8310] Unable to register cuDNN factory: Attempting to register factory for plugin cuDNN when one has already been registered\n",
      "E0000 00:00:1737477339.452236 3145304 cuda_blas.cc:1418] Unable to register cuBLAS factory: Attempting to register factory for plugin cuBLAS when one has already been registered\n",
      "2025-01-21 11:35:39.471705: I tensorflow/core/platform/cpu_feature_guard.cc:210] This TensorFlow binary is optimized to use available CPU instructions in performance-critical operations.\n",
      "To enable the following instructions: AVX2 AVX512F AVX512_VNNI FMA, in other operations, rebuild TensorFlow with the appropriate compiler flags.\n"
     ]
    }
   ],
   "source": [
    "import sys\n",
    "sys.path.append('../../../Code')\n",
    "import loadData \n",
    "import RunML\n",
    "import RunML_continue\n",
    "import FS\n",
    "import metric"
   ]
  },
  {
   "cell_type": "code",
   "execution_count": 2,
   "metadata": {},
   "outputs": [],
   "source": [
    "import pandas as pd\n",
    "import numpy as np\n",
    "import random\n",
    "from sklearn import svm\n",
    "import pickle\n",
    "import matplotlib.pyplot as plt"
   ]
  },
  {
   "cell_type": "code",
   "execution_count": 3,
   "metadata": {},
   "outputs": [
    {
     "name": "stdout",
     "output_type": "stream",
     "text": [
      "TensorFlow version: 2.18.0\n",
      "Num GPUs Available:  0\n"
     ]
    },
    {
     "name": "stderr",
     "output_type": "stream",
     "text": [
      "2025-01-21 11:35:42.052533: E external/local_xla/xla/stream_executor/cuda/cuda_driver.cc:152] failed call to cuInit: INTERNAL: CUDA error: Failed call to cuInit: UNKNOWN ERROR (303)\n"
     ]
    }
   ],
   "source": [
    "import tensorflow as tf\n",
    "print(\"TensorFlow version:\", tf.__version__)\n",
    "print(\"Num GPUs Available: \", len(tf.config.list_physical_devices('GPU')))"
   ]
  },
  {
   "cell_type": "markdown",
   "metadata": {},
   "source": [
    "### 1. Load the data and data preprocess\n",
    "After reading the data, convert the abundance matrix into relative abundance matrix; for the response variables, since we have multiple variables, organize them into an array with each variable as a column."
   ]
  },
  {
   "cell_type": "code",
   "execution_count": 4,
   "metadata": {},
   "outputs": [],
   "source": [
    "data,burn_label,un_label,duration_label,ASVs,df=loadData.loadSoilData(\"../data/count_table/merge_proportion_asv_smoky_moutain.csv\")"
   ]
  },
  {
   "cell_type": "code",
   "execution_count": 5,
   "metadata": {},
   "outputs": [],
   "source": [
    "data = FS.relative_abundance(data)"
   ]
  },
  {
   "cell_type": "code",
   "execution_count": null,
   "metadata": {},
   "outputs": [],
   "source": []
  },
  {
   "cell_type": "code",
   "execution_count": null,
   "metadata": {},
   "outputs": [],
   "source": []
  },
  {
   "cell_type": "markdown",
   "metadata": {},
   "source": [
    "### 2.AE"
   ]
  },
  {
   "cell_type": "code",
   "execution_count": 6,
   "metadata": {},
   "outputs": [],
   "source": [
    "from tensorflow.keras import layers\n",
    "from tensorflow import keras as ks\n",
    "from scikeras.wrappers import KerasClassifier, KerasRegressor\n",
    "from tensorflow.keras.models import Model\n",
    "\n",
    "# --------------------------------------------------------------------------------------------------#\n",
    "\n",
    "# To define your model, use the Keras Model Subclassing API.\n",
    "class Autoencoder(Model):\n",
    "  def __init__(self, latent_dim, shape):\n",
    "    super(Autoencoder, self).__init__()\n",
    "    self.latent_dim = latent_dim\n",
    "    self.shape = shape\n",
    "    self.encoder = tf.keras.Sequential([\n",
    "      layers.Flatten(),\n",
    "      layers.Dense(latent_dim, activation='relu'),\n",
    "    ])\n",
    "    self.decoder = tf.keras.Sequential([\n",
    "      layers.Dense(tf.math.reduce_prod(shape).numpy(), activation='relu'),\n",
    "      layers.Reshape(shape)\n",
    "    ])\n",
    "\n",
    "  def call(self, x):\n",
    "    encoded = self.encoder(x)\n",
    "    decoded = self.decoder(encoded)\n",
    "    return decoded\n",
    "\n"
   ]
  },
  {
   "cell_type": "code",
   "execution_count": 7,
   "metadata": {},
   "outputs": [
    {
     "name": "stdout",
     "output_type": "stream",
     "text": [
      "(41, 1768)\n",
      "(18, 1768)\n"
     ]
    }
   ],
   "source": [
    "data_train, data_test, y_train, y_test = RunML_continue.split_and_scale_data(data,burn_label)\n",
    "print(data_train.shape)\n",
    "print(data_test.shape)"
   ]
  },
  {
   "cell_type": "code",
   "execution_count": 8,
   "metadata": {},
   "outputs": [
    {
     "data": {
      "text/plain": [
       "1768"
      ]
     },
     "execution_count": 8,
     "metadata": {},
     "output_type": "execute_result"
    }
   ],
   "source": [
    "data_train.shape[1]"
   ]
  },
  {
   "cell_type": "code",
   "execution_count": 9,
   "metadata": {},
   "outputs": [
    {
     "name": "stdout",
     "output_type": "stream",
     "text": [
      "(1768,)\n"
     ]
    }
   ],
   "source": [
    "latent_dim = 20\n",
    "shape = data_train.shape[1:]\n",
    "print(shape)\n",
    "autoencoder = Autoencoder(latent_dim, shape)\n",
    "autoencoder.compile(optimizer='adam', loss=ks.losses.MeanSquaredError())"
   ]
  },
  {
   "cell_type": "code",
   "execution_count": 10,
   "metadata": {},
   "outputs": [
    {
     "name": "stdout",
     "output_type": "stream",
     "text": [
      "Epoch 1/10\n",
      "\u001b[1m2/2\u001b[0m \u001b[32m━━━━━━━━━━━━━━━━━━━━\u001b[0m\u001b[37m\u001b[0m \u001b[1m1s\u001b[0m 154ms/step - loss: 0.2002 - val_loss: 1.5739\n",
      "Epoch 2/10\n",
      "\u001b[1m2/2\u001b[0m \u001b[32m━━━━━━━━━━━━━━━━━━━━\u001b[0m\u001b[37m\u001b[0m \u001b[1m0s\u001b[0m 50ms/step - loss: 0.1942 - val_loss: 1.5725\n",
      "Epoch 3/10\n",
      "\u001b[1m2/2\u001b[0m \u001b[32m━━━━━━━━━━━━━━━━━━━━\u001b[0m\u001b[37m\u001b[0m \u001b[1m0s\u001b[0m 50ms/step - loss: 0.1922 - val_loss: 1.5713\n",
      "Epoch 4/10\n",
      "\u001b[1m2/2\u001b[0m \u001b[32m━━━━━━━━━━━━━━━━━━━━\u001b[0m\u001b[37m\u001b[0m \u001b[1m0s\u001b[0m 50ms/step - loss: 0.1916 - val_loss: 1.5702\n",
      "Epoch 5/10\n",
      "\u001b[1m2/2\u001b[0m \u001b[32m━━━━━━━━━━━━━━━━━━━━\u001b[0m\u001b[37m\u001b[0m \u001b[1m0s\u001b[0m 51ms/step - loss: 0.1977 - val_loss: 1.5693\n",
      "Epoch 6/10\n",
      "\u001b[1m2/2\u001b[0m \u001b[32m━━━━━━━━━━━━━━━━━━━━\u001b[0m\u001b[37m\u001b[0m \u001b[1m0s\u001b[0m 50ms/step - loss: 0.1989 - val_loss: 1.5686\n",
      "Epoch 7/10\n",
      "\u001b[1m2/2\u001b[0m \u001b[32m━━━━━━━━━━━━━━━━━━━━\u001b[0m\u001b[37m\u001b[0m \u001b[1m0s\u001b[0m 50ms/step - loss: 0.1935 - val_loss: 1.5679\n",
      "Epoch 8/10\n",
      "\u001b[1m2/2\u001b[0m \u001b[32m━━━━━━━━━━━━━━━━━━━━\u001b[0m\u001b[37m\u001b[0m \u001b[1m0s\u001b[0m 50ms/step - loss: 0.1913 - val_loss: 1.5671\n",
      "Epoch 9/10\n",
      "\u001b[1m2/2\u001b[0m \u001b[32m━━━━━━━━━━━━━━━━━━━━\u001b[0m\u001b[37m\u001b[0m \u001b[1m0s\u001b[0m 51ms/step - loss: 0.1943 - val_loss: 1.5662\n",
      "Epoch 10/10\n",
      "\u001b[1m2/2\u001b[0m \u001b[32m━━━━━━━━━━━━━━━━━━━━\u001b[0m\u001b[37m\u001b[0m \u001b[1m0s\u001b[0m 51ms/step - loss: 0.1935 - val_loss: 1.5652\n"
     ]
    },
    {
     "data": {
      "text/plain": [
       "<keras.src.callbacks.history.History at 0x7ff61d888940>"
      ]
     },
     "execution_count": 10,
     "metadata": {},
     "output_type": "execute_result"
    }
   ],
   "source": [
    "autoencoder.fit(data_train, data_train,\n",
    "                epochs=10,\n",
    "                shuffle=True,\n",
    "                validation_data=(data_test, data_test))"
   ]
  },
  {
   "cell_type": "code",
   "execution_count": 11,
   "metadata": {},
   "outputs": [],
   "source": [
    "data_AE = autoencoder.encoder(data).numpy()"
   ]
  },
  {
   "cell_type": "code",
   "execution_count": 12,
   "metadata": {},
   "outputs": [],
   "source": [
    "iter =30\n",
    "cls = [\"RF\",\"SVM\", \"CatBoost\",\"NB\"]\n",
    "\n",
    "data_subset = {\"AllFeatures\":data, \n",
    "               \"AE\": data_AE\n",
    "              }"
   ]
  },
  {
   "cell_type": "code",
   "execution_count": 13,
   "metadata": {},
   "outputs": [
    {
     "name": "stdout",
     "output_type": "stream",
     "text": [
      "(59, 1768)\n",
      "(59, 20)\n"
     ]
    }
   ],
   "source": [
    "print(np.shape(data))\n",
    "print(np.shape(data_AE))"
   ]
  },
  {
   "cell_type": "markdown",
   "metadata": {},
   "source": [
    "The  function will print out the accuracy and AUC for each dataset using each classifier, and also will return the y_actual, y_predict, y_predprob for future use."
   ]
  },
  {
   "cell_type": "code",
   "execution_count": 14,
   "metadata": {},
   "outputs": [
    {
     "name": "stderr",
     "output_type": "stream",
     "text": [
      "TBB Warning: The number of workers is currently limited to 0. The request for 47 workers is ignored. Further requests for more workers will be silently ignored until the limit changes.\n",
      "\n"
     ]
    },
    {
     "name": "stdout",
     "output_type": "stream",
     "text": [
      "             RF_Accuracy   RF_AUC   SVM_Accuracy  SVM_AUC  CatBoost_Accuracy  \\\n",
      "AllFeatures   0.780303    0.922917    0.746970    0.84375      0.845455        \n",
      "AE            0.678788    0.637616    0.778788    0.78588      0.593939        \n",
      "\n",
      "             CatBoost_AUC  NB_Accuracy   NB_AUC   \n",
      "AllFeatures    0.887037     0.863636    0.801389  \n",
      "AE             0.595139     0.509091    0.611111  \n"
     ]
    }
   ],
   "source": [
    "targetLabel=burn_label\n",
    "dict_cm = RunML_continue.runClassifier_FScompare(data_subsets= data_subset,y= targetLabel,N=iter,classifiers=cls,SMOTE=True)"
   ]
  },
  {
   "cell_type": "code",
   "execution_count": 15,
   "metadata": {},
   "outputs": [
    {
     "name": "stdout",
     "output_type": "stream",
     "text": [
      "                      Accuracy  Precision   Recall   Specification     Mcc  \n",
      "AllFeatures_RF        0.779661  1.000000   0.235294    1.000000     0.423886\n",
      "AllFeatures_SVM       0.745763  0.571429   0.470588    0.857143     0.348896\n",
      "AllFeatures_CatBoost  0.847458  1.000000   0.470588    1.000000     0.622530\n",
      "AllFeatures_NB        0.864407  0.846154   0.647059    0.952381     0.655004\n",
      "AE_RF                 0.677966  0.428571   0.352941    0.809524     0.172957\n",
      "AE_SVM                0.779661  0.666667   0.470588    0.904762     0.422324\n",
      "AE_CatBoost           0.593220  0.294118   0.294118    0.714286     0.008403\n",
      "AE_NB                 0.508475  0.333333   0.705882    0.428571     0.124855\n"
     ]
    }
   ],
   "source": [
    "print(metric.metric_sum(dict_cm))"
   ]
  },
  {
   "cell_type": "code",
   "execution_count": 16,
   "metadata": {},
   "outputs": [
    {
     "name": "stdout",
     "output_type": "stream",
     "text": [
      "             RF_Accuracy   RF_AUC   SVM_Accuracy   SVM_AUC  CatBoost_Accuracy  \\\n",
      "AllFeatures   0.556061    0.702698    0.556061    0.424444      0.524242        \n",
      "AE            0.506061    0.628889    0.657576    0.659365      0.521212        \n",
      "\n",
      "             CatBoost_AUC  NB_Accuracy   NB_AUC   \n",
      "AllFeatures    0.582540     0.610606    0.605000  \n",
      "AE             0.537778     0.556061    0.641905  \n"
     ]
    }
   ],
   "source": [
    "targetLabel=un_label\n",
    "dict_cm_un = RunML_continue.runClassifier_FScompare(data_subsets= data_subset,y= targetLabel,N=iter,classifiers=cls,SMOTE=True)"
   ]
  },
  {
   "cell_type": "code",
   "execution_count": 17,
   "metadata": {},
   "outputs": [
    {
     "name": "stdout",
     "output_type": "stream",
     "text": [
      "                      Accuracy  Precision   Recall   Specification     Mcc  \n",
      "AllFeatures_RF        0.559322  0.500000   0.230769    0.818182     0.060376\n",
      "AllFeatures_SVM       0.559322  0.500000   0.346154    0.727273     0.079171\n",
      "AllFeatures_CatBoost  0.525424  0.400000   0.153846    0.818182    -0.037014\n",
      "AllFeatures_NB        0.610169  0.551724   0.615385    0.606061     0.219913\n",
      "AE_RF                 0.508475  0.434783   0.384615    0.606061    -0.009491\n",
      "AE_SVM                0.661017  0.615385   0.615385    0.696970     0.312354\n",
      "AE_CatBoost           0.525424  0.450000   0.346154    0.666667     0.013446\n",
      "AE_NB                 0.559322  0.500000   0.692308    0.454545     0.149490\n"
     ]
    }
   ],
   "source": [
    "print(metric.metric_sum(dict_cm_un))"
   ]
  },
  {
   "cell_type": "code",
   "execution_count": 18,
   "metadata": {},
   "outputs": [
    {
     "name": "stdout",
     "output_type": "stream",
     "text": [
      "             RF_Accuracy   RF_AUC   SVM_Accuracy   SVM_AUC  CatBoost_Accuracy  \\\n",
      "AllFeatures   0.590909    0.457857    0.507576    0.471607      0.542424        \n",
      "AE            0.678788    0.660536    0.777273    0.756964      0.628788        \n",
      "\n",
      "             CatBoost_AUC  NB_Accuracy   NB_AUC   \n",
      "AllFeatures    0.436429     0.507576    0.516071  \n",
      "AE             0.674464     0.540909    0.568036  \n"
     ]
    }
   ],
   "source": [
    "targetLabel=duration_label\n",
    "dict_cm_dur = RunML_continue.runClassifier_FScompare(data_subsets= data_subset,y= targetLabel,N=iter,classifiers=cls,SMOTE=True)"
   ]
  },
  {
   "cell_type": "code",
   "execution_count": 19,
   "metadata": {},
   "outputs": [
    {
     "name": "stdout",
     "output_type": "stream",
     "text": [
      "                      Accuracy  Precision   Recall   Specification     Mcc  \n",
      "AllFeatures_RF        0.593220  0.333333   0.090909    0.891892    -0.027517\n",
      "AllFeatures_SVM       0.508475  0.230769   0.136364    0.729730    -0.156230\n",
      "AllFeatures_CatBoost  0.542373  0.222222   0.090909    0.810811    -0.132182\n",
      "AllFeatures_NB        0.508475  0.360000   0.409091    0.567568    -0.022842\n",
      "AE_RF                 0.677966  0.571429   0.545455    0.756757     0.305226\n",
      "AE_SVM                0.779661  0.736842   0.636364    0.864865     0.518730\n",
      "AE_CatBoost           0.627119  0.500000   0.590909    0.648649     0.233334\n",
      "AE_NB                 0.542373  0.413793   0.545455    0.540541     0.083181\n"
     ]
    }
   ],
   "source": [
    "print(metric.metric_sum(dict_cm_dur))"
   ]
  },
  {
   "cell_type": "code",
   "execution_count": 20,
   "metadata": {},
   "outputs": [
    {
     "name": "stdout",
     "output_type": "stream",
     "text": [
      "(1768,)\n"
     ]
    }
   ],
   "source": [
    "shape = data_train.shape[1:]\n",
    "print(shape)"
   ]
  },
  {
   "cell_type": "markdown",
   "metadata": {},
   "source": [
    "### fine tune latent dimension and activation function"
   ]
  },
  {
   "cell_type": "code",
   "execution_count": null,
   "metadata": {},
   "outputs": [],
   "source": []
  },
  {
   "cell_type": "code",
   "execution_count": 21,
   "metadata": {},
   "outputs": [],
   "source": [
    "param_grid = {\n",
    "            #'input_dim': [X_train_scaled.shape[1]], \n",
    "            'latent_dim': [10, 25, 50, 100],\n",
    "            'activation': ['relu', 'sigmoid', 'tanh']  \n",
    "        }\n"
   ]
  },
  {
   "cell_type": "code",
   "execution_count": 22,
   "metadata": {},
   "outputs": [
    {
     "name": "stdout",
     "output_type": "stream",
     "text": [
      "activation:relu,latent_dim:10, val_loss:1.5645126104354858\n",
      "activation:relu,latent_dim:50, val_loss:1.563591480255127\n",
      "activation:relu,latent_dim:100, val_loss:1.5625184774398804\n"
     ]
    }
   ],
   "source": [
    "best_score = float('inf')\n",
    "best_model = None\n",
    "for activation in param_grid['activation']:\n",
    "    class Autoencoder(Model):\n",
    "      def __init__(self, latent_dim, shape):\n",
    "        super(Autoencoder, self).__init__()\n",
    "        self.latent_dim = latent_dim\n",
    "        self.shape = shape\n",
    "        self.encoder = tf.keras.Sequential([\n",
    "          layers.Flatten(),\n",
    "          layers.Dense(latent_dim, activation=activation),\n",
    "        ])\n",
    "        self.decoder = tf.keras.Sequential([\n",
    "          layers.Dense(tf.math.reduce_prod(shape).numpy(), activation=activation),\n",
    "          layers.Reshape(shape)\n",
    "        ])\n",
    "    \n",
    "      def call(self, x):\n",
    "        encoded = self.encoder(x)\n",
    "        decoded = self.decoder(encoded)\n",
    "        return decoded\n",
    "\n",
    "    for latent_dim in param_grid['latent_dim']:\n",
    "        autoencoder = Autoencoder(latent_dim, shape)\n",
    "        autoencoder.compile(optimizer='adam', loss=ks.losses.MeanSquaredError())\n",
    "        autoencoder.fit(data_train, data_train,\n",
    "                    epochs=10,\n",
    "                    shuffle=True,\n",
    "                    verbose=0,\n",
    "                    validation_data=(data_test, data_test))\n",
    "        val_loss = autoencoder.evaluate(data_test, data_test, verbose=0)\n",
    "        if val_loss < best_score:\n",
    "            best_score = val_loss\n",
    "            print(f\"activation:{activation},latent_dim:{latent_dim}, val_loss:{val_loss}\")\n",
    "            best_model = autoencoder\n",
    "        \n",
    "            "
   ]
  },
  {
   "cell_type": "code",
   "execution_count": null,
   "metadata": {},
   "outputs": [],
   "source": []
  },
  {
   "cell_type": "code",
   "execution_count": 23,
   "metadata": {
    "scrolled": true
   },
   "outputs": [],
   "source": [
    "data_AE = best_model.encoder(data).numpy()"
   ]
  },
  {
   "cell_type": "code",
   "execution_count": 24,
   "metadata": {},
   "outputs": [
    {
     "name": "stdout",
     "output_type": "stream",
     "text": [
      "(59, 1768)\n",
      "(59, 100)\n"
     ]
    }
   ],
   "source": [
    "data_subset = {\"AllFeatures\":data, \n",
    "               \"AE\": data_AE\n",
    "              }\n",
    "print(np.shape(data))\n",
    "print(np.shape(data_AE))"
   ]
  },
  {
   "cell_type": "code",
   "execution_count": 25,
   "metadata": {},
   "outputs": [
    {
     "name": "stdout",
     "output_type": "stream",
     "text": [
      "             RF_Accuracy   RF_AUC   SVM_Accuracy   SVM_AUC  CatBoost_Accuracy  \\\n",
      "AllFeatures   0.780303    0.922917    0.746970    0.843750      0.845455        \n",
      "AE            0.795455    0.860880    0.712121    0.824769      0.728788        \n",
      "\n",
      "             CatBoost_AUC  NB_Accuracy   NB_AUC   \n",
      "AllFeatures    0.887037     0.863636    0.801389  \n",
      "AE             0.812037     0.745455    0.676157  \n"
     ]
    }
   ],
   "source": [
    "targetLabel=burn_label\n",
    "dict_cm = RunML_continue.runClassifier_FScompare(data_subsets= data_subset,y= targetLabel,N=iter,classifiers=cls,SMOTE=True)"
   ]
  },
  {
   "cell_type": "code",
   "execution_count": 26,
   "metadata": {},
   "outputs": [
    {
     "name": "stdout",
     "output_type": "stream",
     "text": [
      "                      Accuracy  Precision   Recall   Specification     Mcc  \n",
      "AllFeatures_RF        0.779661  1.000000   0.235294    1.000000     0.423886\n",
      "AllFeatures_SVM       0.745763  0.571429   0.470588    0.857143     0.348896\n",
      "AllFeatures_CatBoost  0.847458  1.000000   0.470588    1.000000     0.622530\n",
      "AllFeatures_NB        0.864407  0.846154   0.647059    0.952381     0.655004\n",
      "AE_RF                 0.796610  0.727273   0.470588    0.928571     0.464172\n",
      "AE_SVM                0.711864  0.500000   0.352941    0.857143     0.236376\n",
      "AE_CatBoost           0.728814  0.533333   0.470588    0.833333     0.316110\n",
      "AE_NB                 0.745763  0.600000   0.352941    0.904762     0.311079\n"
     ]
    }
   ],
   "source": [
    "print(metric.metric_sum(dict_cm))"
   ]
  },
  {
   "cell_type": "code",
   "execution_count": null,
   "metadata": {},
   "outputs": [],
   "source": []
  },
  {
   "cell_type": "code",
   "execution_count": 27,
   "metadata": {},
   "outputs": [
    {
     "name": "stdout",
     "output_type": "stream",
     "text": [
      "             RF_Accuracy   RF_AUC   SVM_Accuracy   SVM_AUC  CatBoost_Accuracy  \\\n",
      "AllFeatures   0.556061    0.702698    0.556061    0.424444      0.524242        \n",
      "AE            0.607576    0.640714    0.624242    0.595238      0.590909        \n",
      "\n",
      "             CatBoost_AUC  NB_Accuracy   NB_AUC   \n",
      "AllFeatures    0.582540     0.610606    0.605000  \n",
      "AE             0.585714     0.659091    0.686825  \n"
     ]
    }
   ],
   "source": [
    "targetLabel=un_label\n",
    "dict_cm_un = RunML_continue.runClassifier_FScompare(data_subsets= data_subset,y= targetLabel,N=iter,classifiers=cls,SMOTE=True)"
   ]
  },
  {
   "cell_type": "code",
   "execution_count": 28,
   "metadata": {},
   "outputs": [
    {
     "name": "stdout",
     "output_type": "stream",
     "text": [
      "                      Accuracy  Precision   Recall   Specification     Mcc  \n",
      "AllFeatures_RF        0.559322  0.500000   0.230769    0.818182     0.060376\n",
      "AllFeatures_SVM       0.559322  0.500000   0.346154    0.727273     0.079171\n",
      "AllFeatures_CatBoost  0.525424  0.400000   0.153846    0.818182    -0.037014\n",
      "AllFeatures_NB        0.610169  0.551724   0.615385    0.606061     0.219913\n",
      "AE_RF                 0.610169  0.578947   0.423077    0.757576     0.191947\n",
      "AE_SVM                0.627119  0.590909   0.500000    0.727273     0.233334\n",
      "AE_CatBoost           0.593220  0.541667   0.500000    0.666667     0.168443\n",
      "AE_NB                 0.661017  0.600000   0.692308    0.636364     0.326397\n"
     ]
    }
   ],
   "source": [
    "print(metric.metric_sum(dict_cm_un))"
   ]
  },
  {
   "cell_type": "code",
   "execution_count": null,
   "metadata": {},
   "outputs": [],
   "source": []
  },
  {
   "cell_type": "code",
   "execution_count": 29,
   "metadata": {},
   "outputs": [
    {
     "name": "stdout",
     "output_type": "stream",
     "text": [
      "             RF_Accuracy   RF_AUC   SVM_Accuracy   SVM_AUC  CatBoost_Accuracy  \\\n",
      "AllFeatures   0.590909    0.457857    0.507576    0.471607      0.542424        \n",
      "AE            0.409091    0.329643    0.580303    0.527500      0.442424        \n",
      "\n",
      "             CatBoost_AUC  NB_Accuracy   NB_AUC   \n",
      "AllFeatures    0.436429     0.507576    0.516071  \n",
      "AE             0.419821     0.525758    0.443750  \n"
     ]
    }
   ],
   "source": [
    "targetLabel=duration_label\n",
    "dict_cm_dur = RunML_continue.runClassifier_FScompare(data_subsets= data_subset,y= targetLabel,N=iter,classifiers=cls,SMOTE=True)"
   ]
  },
  {
   "cell_type": "code",
   "execution_count": 30,
   "metadata": {},
   "outputs": [
    {
     "name": "stdout",
     "output_type": "stream",
     "text": [
      "                      Accuracy  Precision   Recall   Specification     Mcc  \n",
      "AllFeatures_RF        0.593220  0.333333   0.090909    0.891892    -0.027517\n",
      "AllFeatures_SVM       0.508475  0.230769   0.136364    0.729730    -0.156230\n",
      "AllFeatures_CatBoost  0.542373  0.222222   0.090909    0.810811    -0.132182\n",
      "AllFeatures_NB        0.508475  0.360000   0.409091    0.567568    -0.022842\n",
      "AE_RF                 0.406780  0.157895   0.136364    0.567568    -0.306407\n",
      "AE_SVM                0.576271  0.400000   0.272727    0.756757     0.032744\n",
      "AE_CatBoost           0.440678  0.238095   0.227273    0.567568    -0.207206\n",
      "AE_NB                 0.525424  0.400000   0.545455    0.513514     0.057039\n"
     ]
    }
   ],
   "source": [
    "print(metric.metric_sum(dict_cm_dur))"
   ]
  },
  {
   "cell_type": "code",
   "execution_count": null,
   "metadata": {},
   "outputs": [],
   "source": []
  },
  {
   "cell_type": "code",
   "execution_count": null,
   "metadata": {},
   "outputs": [],
   "source": []
  },
  {
   "cell_type": "code",
   "execution_count": null,
   "metadata": {},
   "outputs": [],
   "source": []
  }
 ],
 "metadata": {
  "kernelspec": {
   "display_name": "Python 3 (ipykernel)",
   "language": "python",
   "name": "python3"
  },
  "language_info": {
   "codemirror_mode": {
    "name": "ipython",
    "version": 3
   },
   "file_extension": ".py",
   "mimetype": "text/x-python",
   "name": "python",
   "nbconvert_exporter": "python",
   "pygments_lexer": "ipython3",
   "version": "3.12.7"
  }
 },
 "nbformat": 4,
 "nbformat_minor": 4
}
