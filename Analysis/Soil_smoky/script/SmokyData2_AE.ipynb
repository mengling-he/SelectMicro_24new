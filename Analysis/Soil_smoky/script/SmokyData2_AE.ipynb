{
 "cells": [
  {
   "cell_type": "markdown",
   "metadata": {},
   "source": [
    "First, load the data,in this notebook we are using the smokoy mountain data as the example. And will use basic AE to get the transformation of the data and do prediction using the same models."
   ]
  },
  {
   "cell_type": "code",
   "execution_count": 1,
   "metadata": {
    "metadata": {}
   },
   "outputs": [
    {
     "name": "stderr",
     "output_type": "stream",
     "text": [
      "2025-01-13 16:20:33.700593: I tensorflow/core/util/port.cc:153] oneDNN custom operations are on. You may see slightly different numerical results due to floating-point round-off errors from different computation orders. To turn them off, set the environment variable `TF_ENABLE_ONEDNN_OPTS=0`.\n",
      "2025-01-13 16:20:33.703150: I external/local_xla/xla/tsl/cuda/cudart_stub.cc:32] Could not find cuda drivers on your machine, GPU will not be used.\n",
      "2025-01-13 16:20:33.961652: I external/local_xla/xla/tsl/cuda/cudart_stub.cc:32] Could not find cuda drivers on your machine, GPU will not be used.\n",
      "2025-01-13 16:20:34.024252: E external/local_xla/xla/stream_executor/cuda/cuda_fft.cc:477] Unable to register cuFFT factory: Attempting to register factory for plugin cuFFT when one has already been registered\n",
      "WARNING: All log messages before absl::InitializeLog() is called are written to STDERR\n",
      "E0000 00:00:1736803234.214208  626068 cuda_dnn.cc:8310] Unable to register cuDNN factory: Attempting to register factory for plugin cuDNN when one has already been registered\n",
      "E0000 00:00:1736803234.222139  626068 cuda_blas.cc:1418] Unable to register cuBLAS factory: Attempting to register factory for plugin cuBLAS when one has already been registered\n",
      "2025-01-13 16:20:34.293288: I tensorflow/core/platform/cpu_feature_guard.cc:210] This TensorFlow binary is optimized to use available CPU instructions in performance-critical operations.\n",
      "To enable the following instructions: AVX2 AVX512F AVX512_VNNI FMA, in other operations, rebuild TensorFlow with the appropriate compiler flags.\n"
     ]
    }
   ],
   "source": [
    "import sys\n",
    "sys.path.append('../../../Code')\n",
    "import loadData \n",
    "import RunML\n",
    "import RunML_continue\n",
    "import FS\n",
    "import metric"
   ]
  },
  {
   "cell_type": "code",
   "execution_count": 2,
   "metadata": {},
   "outputs": [],
   "source": [
    "import pandas as pd\n",
    "import numpy as np\n",
    "import random\n",
    "from sklearn import svm\n",
    "import pickle\n",
    "import matplotlib.pyplot as plt"
   ]
  },
  {
   "cell_type": "code",
   "execution_count": 3,
   "metadata": {},
   "outputs": [
    {
     "name": "stdout",
     "output_type": "stream",
     "text": [
      "TensorFlow version: 2.18.0\n",
      "Num GPUs Available:  0\n"
     ]
    },
    {
     "name": "stderr",
     "output_type": "stream",
     "text": [
      "2025-01-13 16:20:36.737125: E external/local_xla/xla/stream_executor/cuda/cuda_driver.cc:152] failed call to cuInit: INTERNAL: CUDA error: Failed call to cuInit: UNKNOWN ERROR (303)\n"
     ]
    }
   ],
   "source": [
    "import tensorflow as tf\n",
    "print(\"TensorFlow version:\", tf.__version__)\n",
    "print(\"Num GPUs Available: \", len(tf.config.list_physical_devices('GPU')))"
   ]
  },
  {
   "cell_type": "markdown",
   "metadata": {},
   "source": [
    "### 1. Load the data and data preprocess\n",
    "After reading the data, convert the abundance matrix into relative abundance matrix; for the response variables, since we have multiple variables, organize them into an array with each variable as a column."
   ]
  },
  {
   "cell_type": "code",
   "execution_count": 4,
   "metadata": {},
   "outputs": [],
   "source": [
    "data,burn_label,un_label,duration_label,ASVs,df=loadData.loadSoilData(\"../data/count_table/merge_proportion_asv_smoky_moutain.csv\")"
   ]
  },
  {
   "cell_type": "code",
   "execution_count": 5,
   "metadata": {},
   "outputs": [],
   "source": [
    "data = FS.relative_abundance(data)"
   ]
  },
  {
   "cell_type": "markdown",
   "metadata": {},
   "source": [
    "### 2.AE\n"
   ]
  },
  {
   "cell_type": "code",
   "execution_count": 6,
   "metadata": {},
   "outputs": [
    {
     "name": "stdout",
     "output_type": "stream",
     "text": [
      "(41, 1768)\n",
      "(18, 1768)\n"
     ]
    }
   ],
   "source": [
    "data_train, data_test, y_train, y_test = RunML_continue.split_and_scale_data(data,burn_label)\n",
    "print(data_train.shape)\n",
    "print(data_test.shape)"
   ]
  },
  {
   "cell_type": "code",
   "execution_count": 7,
   "metadata": {},
   "outputs": [
    {
     "name": "stdout",
     "output_type": "stream",
     "text": [
      "latent dimension: 100, activation:tanh, opt:adam\n",
      "\u001b[1m1/1\u001b[0m \u001b[32m━━━━━━━━━━━━━━━━━━━━\u001b[0m\u001b[37m\u001b[0m \u001b[1m0s\u001b[0m 53ms/step\n",
      "\u001b[1m1/1\u001b[0m \u001b[32m━━━━━━━━━━━━━━━━━━━━\u001b[0m\u001b[37m\u001b[0m \u001b[1m0s\u001b[0m 46ms/step\n",
      "\u001b[1m2/2\u001b[0m \u001b[32m━━━━━━━━━━━━━━━━━━━━\u001b[0m\u001b[37m\u001b[0m \u001b[1m0s\u001b[0m 17ms/step\n",
      "\u001b[1m1/1\u001b[0m \u001b[32m━━━━━━━━━━━━━━━━━━━━\u001b[0m\u001b[37m\u001b[0m \u001b[1m0s\u001b[0m 29ms/step\n"
     ]
    }
   ],
   "source": [
    "AE_train, AE_test = RunML_continue.run_AE(data_train,data_test)"
   ]
  },
  {
   "cell_type": "code",
   "execution_count": null,
   "metadata": {},
   "outputs": [],
   "source": []
  },
  {
   "cell_type": "code",
   "execution_count": 8,
   "metadata": {},
   "outputs": [],
   "source": [
    "data_AE = pd.concat([AE_train, AE_test], axis=0).to_numpy()"
   ]
  },
  {
   "cell_type": "code",
   "execution_count": null,
   "metadata": {},
   "outputs": [],
   "source": []
  },
  {
   "cell_type": "code",
   "execution_count": 9,
   "metadata": {},
   "outputs": [],
   "source": [
    "iter =30\n",
    "cls = [\"RF\",\"SVM\", \"CatBoost\",\"NB\"]"
   ]
  },
  {
   "cell_type": "code",
   "execution_count": 10,
   "metadata": {},
   "outputs": [],
   "source": [
    "data_subset = {\"AllFeatures\":data, \n",
    "               \"AE\": data_AE\n",
    "              }"
   ]
  },
  {
   "cell_type": "code",
   "execution_count": 11,
   "metadata": {},
   "outputs": [
    {
     "name": "stdout",
     "output_type": "stream",
     "text": [
      "(59, 1768)\n",
      "(59, 100)\n"
     ]
    }
   ],
   "source": [
    "print(np.shape(data))\n",
    "print(np.shape(data_AE))"
   ]
  },
  {
   "cell_type": "markdown",
   "metadata": {},
   "source": [
    "The  function will print out the accuracy and AUC for each dataset using each classifier, and also will return the y_actual, y_predict, y_predprob for future use."
   ]
  },
  {
   "cell_type": "code",
   "execution_count": 12,
   "metadata": {},
   "outputs": [
    {
     "name": "stderr",
     "output_type": "stream",
     "text": [
      "TBB Warning: The number of workers is currently limited to 0. The request for 47 workers is ignored. Further requests for more workers will be silently ignored until the limit changes.\n",
      "\n"
     ]
    },
    {
     "name": "stdout",
     "output_type": "stream",
     "text": [
      "             RF_Accuracy    RF_AUC  SVM_Accuracy   SVM_AUC  CatBoost_Accuracy  \\\n",
      "AllFeatures     0.780303  0.922917      0.746970  0.843750           0.845455   \n",
      "AE              0.645455  0.569097      0.592424  0.588889           0.609091   \n",
      "\n",
      "             CatBoost_AUC  NB_Accuracy    NB_AUC  \n",
      "AllFeatures      0.887037     0.863636  0.801389  \n",
      "AE               0.586111     0.674242  0.601157  \n"
     ]
    }
   ],
   "source": [
    "targetLabel=burn_label\n",
    "dict_cm = RunML_continue.runClassifier_FScompare(data_subsets= data_subset,y= targetLabel,N=iter,classifiers=cls,SMOTE=True)"
   ]
  },
  {
   "cell_type": "code",
   "execution_count": 13,
   "metadata": {},
   "outputs": [
    {
     "name": "stdout",
     "output_type": "stream",
     "text": [
      "                      Accuracy  Precision    Recall  Specification       Mcc\n",
      "AllFeatures_RF        0.779661   1.000000  0.235294       1.000000  0.423886\n",
      "AllFeatures_SVM       0.745763   0.571429  0.470588       0.857143  0.348896\n",
      "AllFeatures_CatBoost  0.847458   1.000000  0.470588       1.000000  0.622530\n",
      "AllFeatures_NB        0.864407   0.846154  0.647059       0.952381  0.655004\n",
      "AE_RF                 0.644068   0.300000  0.176471       0.833333  0.011835\n",
      "AE_SVM                0.593220   0.333333  0.411765       0.666667  0.074189\n",
      "AE_CatBoost           0.610169   0.350000  0.411765       0.690476  0.097820\n",
      "AE_NB                 0.677966   0.333333  0.117647       0.904762  0.033578\n"
     ]
    }
   ],
   "source": [
    "print(metric.metric_sum(dict_cm))"
   ]
  },
  {
   "cell_type": "code",
   "execution_count": null,
   "metadata": {},
   "outputs": [],
   "source": []
  },
  {
   "cell_type": "code",
   "execution_count": 14,
   "metadata": {},
   "outputs": [
    {
     "name": "stdout",
     "output_type": "stream",
     "text": [
      "             RF_Accuracy    RF_AUC  SVM_Accuracy   SVM_AUC  CatBoost_Accuracy  \\\n",
      "AllFeatures     0.556061  0.702698      0.556061  0.424444           0.524242   \n",
      "AE              0.442424  0.409365      0.356061  0.715238           0.440909   \n",
      "\n",
      "             CatBoost_AUC  NB_Accuracy    NB_AUC  \n",
      "AllFeatures      0.582540     0.610606  0.605000  \n",
      "AE               0.375873     0.506061  0.440317  \n"
     ]
    }
   ],
   "source": [
    "targetLabel=un_label\n",
    "dict_cm_un = RunML_continue.runClassifier_FScompare(data_subsets= data_subset,y= targetLabel,N=iter,classifiers=cls,SMOTE=True)"
   ]
  },
  {
   "cell_type": "code",
   "execution_count": null,
   "metadata": {},
   "outputs": [],
   "source": []
  },
  {
   "cell_type": "code",
   "execution_count": null,
   "metadata": {},
   "outputs": [],
   "source": []
  },
  {
   "cell_type": "code",
   "execution_count": 15,
   "metadata": {},
   "outputs": [
    {
     "name": "stdout",
     "output_type": "stream",
     "text": [
      "             RF_Accuracy    RF_AUC  SVM_Accuracy   SVM_AUC  CatBoost_Accuracy  \\\n",
      "AllFeatures     0.590909  0.457857      0.507576  0.471607           0.542424   \n",
      "AE              0.454545  0.441250      0.527273  0.426964           0.424242   \n",
      "\n",
      "             CatBoost_AUC  NB_Accuracy    NB_AUC  \n",
      "AllFeatures      0.436429     0.507576  0.516071  \n",
      "AE               0.415179     0.490909  0.494107  \n"
     ]
    }
   ],
   "source": [
    "targetLabel=duration_label\n",
    "dict_cm_dur = RunML_continue.runClassifier_FScompare(data_subsets= data_subset,y= targetLabel,N=iter,classifiers=cls,SMOTE=True)"
   ]
  },
  {
   "cell_type": "code",
   "execution_count": null,
   "metadata": {},
   "outputs": [],
   "source": []
  },
  {
   "cell_type": "code",
   "execution_count": null,
   "metadata": {},
   "outputs": [],
   "source": []
  },
  {
   "cell_type": "code",
   "execution_count": null,
   "metadata": {},
   "outputs": [],
   "source": []
  },
  {
   "cell_type": "code",
   "execution_count": null,
   "metadata": {
    "scrolled": true
   },
   "outputs": [],
   "source": []
  },
  {
   "cell_type": "markdown",
   "metadata": {},
   "source": []
  },
  {
   "cell_type": "markdown",
   "metadata": {},
   "source": [
    "####  Model 2\n",
    "\n",
    "##### Annual/ Perennial\n",
    "For comparison, only use the selected features for Annual/ Perennial classification. \n",
    "\n",
    "Even though the performance of our method is still not as good as Lasso, but it gives us better prediction using only 19 features compared with the union selection which has 86 featues."
   ]
  },
  {
   "cell_type": "code",
   "execution_count": 16,
   "metadata": {},
   "outputs": [
    {
     "ename": "NameError",
     "evalue": "name 'weights' is not defined",
     "output_type": "error",
     "traceback": [
      "\u001b[0;31m---------------------------------------------------------------------------\u001b[0m",
      "\u001b[0;31mNameError\u001b[0m                                 Traceback (most recent call last)",
      "Cell \u001b[0;32mIn[16], line 1\u001b[0m\n\u001b[0;32m----> 1\u001b[0m indices_3 \u001b[38;5;241m=\u001b[39m np\u001b[38;5;241m.\u001b[39mwhere(\u001b[43mweights\u001b[49m[\u001b[38;5;241m2\u001b[39m,:] \u001b[38;5;241m>\u001b[39m stats\u001b[38;5;241m.\u001b[39mchi2\u001b[38;5;241m.\u001b[39mppf(\u001b[38;5;241m1\u001b[39m \u001b[38;5;241m-\u001b[39m \u001b[38;5;241m0.1\u001b[39m, \u001b[38;5;241m1\u001b[39m))[\u001b[38;5;241m0\u001b[39m]\n",
      "\u001b[0;31mNameError\u001b[0m: name 'weights' is not defined"
     ]
    }
   ],
   "source": [
    "indices_3 = np.where(weights[2,:] > stats.chi2.ppf(1 - 0.1, 1))[0]"
   ]
  },
  {
   "cell_type": "code",
   "execution_count": null,
   "metadata": {},
   "outputs": [],
   "source": [
    "indices_3_sort = sorted(indices_3, key=lambda col: weights[2,col], reverse=True)"
   ]
  },
  {
   "cell_type": "code",
   "execution_count": null,
   "metadata": {},
   "outputs": [],
   "source": []
  },
  {
   "cell_type": "code",
   "execution_count": null,
   "metadata": {},
   "outputs": [],
   "source": [
    "len(indices_3_sort)"
   ]
  },
  {
   "cell_type": "code",
   "execution_count": null,
   "metadata": {},
   "outputs": [],
   "source": [
    "X_FS_dur = data[:,indices_3_sort]"
   ]
  },
  {
   "cell_type": "code",
   "execution_count": null,
   "metadata": {},
   "outputs": [],
   "source": [
    "data_subset2 = {\"AllFeatures\":data, \n",
    "               \"SelectMicro\": X_FS_dur,\n",
    "               \"Lasso\":X_lasso_dur,\n",
    "               \"Lasso_finetune\":X_lasso_ft_dur,\n",
    "               \"Random\":data\n",
    "              }\n",
    "print(np.shape(data))\n",
    "print(np.shape(X_FS_dur))\n",
    "print(np.shape(X_lasso_dur))\n",
    "print(np.shape(X_lasso_ft_dur))"
   ]
  },
  {
   "cell_type": "code",
   "execution_count": null,
   "metadata": {},
   "outputs": [],
   "source": [
    "dict_cm_dur2 = RunML_continue.runClassifier_FScompare(data_subsets= data_subset2,y= duration_label,N=iter,classifiers=cls,SMOTE=True)"
   ]
  },
  {
   "cell_type": "markdown",
   "metadata": {},
   "source": [
    "##### burn\n",
    "Let's also try it on burn label (expected to have better performance than Lasso, but ......)\n",
    "\n",
    "So, we check the feature ratio for burn label."
   ]
  },
  {
   "cell_type": "code",
   "execution_count": null,
   "metadata": {},
   "outputs": [],
   "source": [
    "weights[0,:]\n",
    "indices_1 = np.where(weights[0,:] > stats.chi2.ppf(1 - 0.1, 1))[0]\n",
    "indices_1_sort = sorted(indices_1, key=lambda col: weights[0,col], reverse=True)\n",
    "len(indices_1_sort)\n",
    "\n",
    "X_FS_burn = data[:,indices_1_sort]\n",
    "X_lasso = data[:,xlabel_lasso_burn]"
   ]
  },
  {
   "cell_type": "code",
   "execution_count": null,
   "metadata": {},
   "outputs": [],
   "source": []
  },
  {
   "cell_type": "code",
   "execution_count": null,
   "metadata": {},
   "outputs": [],
   "source": [
    "data_subset3 = {\"AllFeatures\":data, \n",
    "               \"SelectMicro\": X_FS_burn,\n",
    "               \"Lasso\":X_lasso_burn,\n",
    "               \"Lasso_finetune\":X_lasso_ft_burn,\n",
    "               \"Random\":data\n",
    "              }\n",
    "print(np.shape(data))\n",
    "print(np.shape(X_FS_burn))\n",
    "print(np.shape(X_lasso))"
   ]
  },
  {
   "cell_type": "code",
   "execution_count": null,
   "metadata": {},
   "outputs": [],
   "source": [
    "dict_cm_burn2 = RunML_continue.runClassifier_FScompare(data_subsets= data_subset3,y= burn_label,N=iter,classifiers=cls,SMOTE=True)"
   ]
  },
  {
   "cell_type": "code",
   "execution_count": null,
   "metadata": {},
   "outputs": [],
   "source": [
    "targetLabel=burn_label\n",
    "print(set(targetLabel))\n",
    "selectedASV1 = [ASVs[i] for i in indices_1_sort]\n",
    "selectedASV1_lasso = [ASVs[i] for i in xlabel_lasso_burn]\n",
    "FS.plotPresenseRatio(X_FS_burn,targetLabel,selectedASV1,posLabel=\"Yes\",posText=\"Burned\",negText=\"Not Burned\",entries=len(selectedASV1))"
   ]
  },
  {
   "cell_type": "code",
   "execution_count": null,
   "metadata": {},
   "outputs": [],
   "source": [
    "FS.plotPresenseRatio(X_lasso,targetLabel,selectedASV1_lasso,posLabel=\"Yes\",posText=\"Burned\",negText=\"Not Burned\",entries=len(selectedASV1_lasso))\n"
   ]
  },
  {
   "cell_type": "code",
   "execution_count": null,
   "metadata": {},
   "outputs": [],
   "source": [
    "print(np.asarray(selectedASV1))\n",
    "print(np.asarray(selectedASV1_lasso))\n",
    "print(np.isin(selectedASV1_lasso, selectedASV1))"
   ]
  },
  {
   "cell_type": "code",
   "execution_count": null,
   "metadata": {},
   "outputs": [],
   "source": []
  },
  {
   "cell_type": "markdown",
   "metadata": {},
   "source": [
    "#### Model3\n",
    "To compare, also consider the union of the features selected by Lasso: the result shows that\n",
    "1. for burn label, lasso's RF performance is worse, SVM is much better\n",
    "2. for un_label,lasso's RF-accuracy SVM-AUC are better, RF-AUC and SVM-accuracy are worse.\n",
    "3. for dur label, lasso's RF performance is worse, SVM-accuracy is worse SVM-AUC is  better"
   ]
  },
  {
   "cell_type": "code",
   "execution_count": null,
   "metadata": {},
   "outputs": [],
   "source": [
    "# select the union of lasso feature selection\n",
    "xlabel_lasso_union = pd.concat([pd.Series(xlabel_lasso), pd.Series(xlabel_lasso_burn), pd.Series(xlabel_lasso_dur)]).drop_duplicates().reset_index(drop=True)\n",
    "len(xlabel_lasso_union)"
   ]
  },
  {
   "cell_type": "code",
   "execution_count": null,
   "metadata": {},
   "outputs": [],
   "source": [
    "X_lasso_union = data[:,xlabel_lasso_union]\n",
    "X_lasso_union.shape"
   ]
  },
  {
   "cell_type": "code",
   "execution_count": null,
   "metadata": {},
   "outputs": [],
   "source": [
    "data_subset = {\n",
    "    #\"AllFeatures\":data, \n",
    "            #   \"SelectMicro\": X_FS,\n",
    "               \"Lasso\":X_lasso_union\n",
    "              #, \"Random\":data\n",
    "              }\n",
    "\n",
    "print(np.shape(X_lasso_union))"
   ]
  },
  {
   "cell_type": "code",
   "execution_count": null,
   "metadata": {},
   "outputs": [],
   "source": [
    "for i in range(yList.shape[1]):\n",
    "    targetLabel=yList[:,i]\n",
    "    dict_cm_lasso = RunML_continue.runClassifier_FScompare(data_subsets= data_subset,y= targetLabel,N=iter,classifiers=cls)\n",
    "    for dataset_name, classifiers in dict_cm_lasso.items():\n",
    "        for classifier_name, labels in classifiers.items():\n",
    "            actual_labels = labels[0]\n",
    "            predicted_labels = labels[1]\n",
    "            metric.plot_confusion_matrices(actual_labels, predicted_labels,f\"{dataset_name} - {classifier_name}\")"
   ]
  },
  {
   "cell_type": "markdown",
   "metadata": {},
   "source": []
  },
  {
   "cell_type": "code",
   "execution_count": null,
   "metadata": {},
   "outputs": [],
   "source": []
  },
  {
   "cell_type": "code",
   "execution_count": null,
   "metadata": {},
   "outputs": [],
   "source": []
  },
  {
   "cell_type": "code",
   "execution_count": null,
   "metadata": {},
   "outputs": [],
   "source": []
  },
  {
   "cell_type": "code",
   "execution_count": null,
   "metadata": {},
   "outputs": [],
   "source": []
  },
  {
   "cell_type": "code",
   "execution_count": null,
   "metadata": {},
   "outputs": [],
   "source": []
  },
  {
   "cell_type": "code",
   "execution_count": null,
   "metadata": {},
   "outputs": [],
   "source": []
  },
  {
   "cell_type": "code",
   "execution_count": null,
   "metadata": {},
   "outputs": [],
   "source": []
  },
  {
   "cell_type": "code",
   "execution_count": null,
   "metadata": {},
   "outputs": [],
   "source": []
  },
  {
   "cell_type": "markdown",
   "metadata": {},
   "source": [
    "### SHARP value\n",
    "Compare the SHARP value of the significant features selected by our method and Lasso.(pending)"
   ]
  },
  {
   "cell_type": "code",
   "execution_count": null,
   "metadata": {},
   "outputs": [],
   "source": [
    "#df_X_FS = pd.DataFrame(X_FS,columns=[ASVs[i] for i in selectedOTU_index] )\n",
    "#df_X_FS.columns"
   ]
  },
  {
   "cell_type": "code",
   "execution_count": null,
   "metadata": {},
   "outputs": [],
   "source": [
    "#RunML_continue.sharp_value(df_X_FS,burn_label,classifier_name)"
   ]
  },
  {
   "cell_type": "code",
   "execution_count": null,
   "metadata": {
    "metadata": {}
   },
   "outputs": [],
   "source": [
    "#df_X_lasso = pd.DataFrame(X_lasso_union,columns=[ASVs[i] for i in xlabel_lasso_union] )\n",
    "#RunML_continue.sharp_value(df_X_lasso,burn_label,classifier_name)"
   ]
  },
  {
   "cell_type": "code",
   "execution_count": null,
   "metadata": {},
   "outputs": [],
   "source": []
  },
  {
   "cell_type": "markdown",
   "metadata": {},
   "source": [
    "### compare the first 15 index by their present ratio"
   ]
  },
  {
   "cell_type": "code",
   "execution_count": null,
   "metadata": {
    "metadata": {}
   },
   "outputs": [],
   "source": [
    "import seaborn as sns\n",
    "import numpy as np\n",
    "import matplotlib.pyplot as plt\n",
    "import matplotlib as mpl\n",
    "\n",
    "entries=15\n",
    "selectedOTU_index_15=selectedOTU_index[:entries]\n",
    "selectedASVs_15=[ASVs[i] for i in selectedOTU_index_15]\n",
    "\n",
    "X_FS_15=data[:,selectedOTU_index_15]\n",
    "\n",
    "\n",
    "targetLabel=burn_label\n",
    "print(set(targetLabel))\n",
    "FS.plotPresenseRatio(X_FS_15,burn_label,selectedASVs_15,posLabel=\"Yes\",posText=\"Burned\",negText=\"Not Burned\")\n",
    "\n",
    "targetLabel=un_label\n",
    "print(set(targetLabel))\n",
    "FS.plotPresenseRatio(X_FS_15,un_label,selectedASVs_15,posLabel=\"Natural\",posText=\"Natural\",negText=\"Urban\")\n",
    "\n",
    "\n",
    "targetLabel=duration_label\n",
    "print(set(targetLabel))\n",
    "FS.plotPresenseRatio(X_FS_15,duration_label,selectedASVs_15,posLabel=\"Annual\",posText=\"Annual\",negText=\"Perennial\")"
   ]
  },
  {
   "cell_type": "code",
   "execution_count": null,
   "metadata": {},
   "outputs": [],
   "source": [
    "selectedASVs=[ASVs[i] for i in selectedOTU_index]"
   ]
  },
  {
   "cell_type": "code",
   "execution_count": null,
   "metadata": {},
   "outputs": [],
   "source": [
    "print(np.asarray(selectedASVs))\n",
    "print(len(selectedASVs))"
   ]
  },
  {
   "cell_type": "code",
   "execution_count": null,
   "metadata": {},
   "outputs": [],
   "source": []
  },
  {
   "cell_type": "code",
   "execution_count": null,
   "metadata": {},
   "outputs": [],
   "source": []
  },
  {
   "cell_type": "code",
   "execution_count": null,
   "metadata": {},
   "outputs": [],
   "source": []
  },
  {
   "cell_type": "code",
   "execution_count": null,
   "metadata": {},
   "outputs": [],
   "source": []
  },
  {
   "cell_type": "code",
   "execution_count": null,
   "metadata": {},
   "outputs": [],
   "source": []
  },
  {
   "cell_type": "code",
   "execution_count": null,
   "metadata": {},
   "outputs": [],
   "source": []
  },
  {
   "cell_type": "markdown",
   "metadata": {},
   "source": [
    "### Negative Gini Impurity\n",
    "Gini Impurity is the probability of incorrectly classifying a randomly chosen element in the dataset if it were randomly labeled according to the class distribution in the dataset. It’s calculated as:\n",
    "\n",
    "$G = 1- \\sum_{i=1}^C p_i^2$\n",
    "\n",
    "where C is the number of classes. (which means it can be used to measure for multiple level classification)\n",
    "\n",
    "Here I will use the negative Gini Impurity to measure each OTU, if NG is large (1) which means the OTU only exist in one class, if NG value is small($1/c$) which means the OTU is evenly distributed among  the classes.\n",
    "\n",
    "$NG = \\sum_{i=1}^C p_i^2$"
   ]
  },
  {
   "cell_type": "code",
   "execution_count": null,
   "metadata": {},
   "outputs": [],
   "source": []
  },
  {
   "cell_type": "code",
   "execution_count": null,
   "metadata": {},
   "outputs": [],
   "source": []
  },
  {
   "cell_type": "code",
   "execution_count": null,
   "metadata": {},
   "outputs": [],
   "source": []
  },
  {
   "cell_type": "code",
   "execution_count": null,
   "metadata": {},
   "outputs": [],
   "source": []
  },
  {
   "cell_type": "code",
   "execution_count": null,
   "metadata": {},
   "outputs": [],
   "source": []
  },
  {
   "cell_type": "code",
   "execution_count": null,
   "metadata": {},
   "outputs": [],
   "source": []
  },
  {
   "cell_type": "code",
   "execution_count": null,
   "metadata": {},
   "outputs": [],
   "source": [
    "# NG for selected OTU\n",
    "NG_selected = metric.Neg_GINI(X_FS,yList)\n",
    "print(NG_selected.shape)\n",
    "# NG for Not selected OTU\n",
    "X_FS_none = np.delete(data, selectedOTU_index, axis=1)\n",
    "NG_noselected = metric.Neg_GINI(X_FS_none,yList)\n",
    "print(NG_noselected.shape)"
   ]
  },
  {
   "cell_type": "code",
   "execution_count": null,
   "metadata": {},
   "outputs": [],
   "source": []
  },
  {
   "cell_type": "code",
   "execution_count": null,
   "metadata": {},
   "outputs": [],
   "source": []
  },
  {
   "cell_type": "code",
   "execution_count": null,
   "metadata": {},
   "outputs": [],
   "source": []
  },
  {
   "cell_type": "code",
   "execution_count": null,
   "metadata": {},
   "outputs": [],
   "source": [
    "label_lasso = [xlabel_lasso_burn,xlabel_lasso,xlabel_lasso_dur]"
   ]
  },
  {
   "cell_type": "code",
   "execution_count": null,
   "metadata": {},
   "outputs": [],
   "source": []
  },
  {
   "cell_type": "code",
   "execution_count": null,
   "metadata": {},
   "outputs": [],
   "source": [
    "ng_lasso_list = []\n",
    "for i in range(len(y_index)):\n",
    "    X_lasso_ng = data[:,label_lasso[i]]\n",
    "    print(X_lasso_ng.shape)\n",
    "    X_lasso_none_ng = np.delete(data, label_lasso[i], axis=1)\n",
    "    print(X_lasso_none_ng.shape)\n",
    "    Ng1 = metric.Neg_GINI(X_lasso_ng,np.transpose(yList)[i])\n",
    "    Ng2 = metric.Neg_GINI(X_lasso_none_ng,np.transpose(yList)[i])\n",
    "    ng_lasso_list.append([Ng1,Ng2])\n"
   ]
  },
  {
   "cell_type": "code",
   "execution_count": null,
   "metadata": {},
   "outputs": [],
   "source": []
  },
  {
   "cell_type": "code",
   "execution_count": null,
   "metadata": {},
   "outputs": [],
   "source": []
  },
  {
   "cell_type": "code",
   "execution_count": null,
   "metadata": {},
   "outputs": [],
   "source": []
  },
  {
   "cell_type": "markdown",
   "metadata": {},
   "source": [
    "#### Compare lasso and SelectMicro"
   ]
  },
  {
   "cell_type": "code",
   "execution_count": null,
   "metadata": {},
   "outputs": [],
   "source": [
    "# Number of subplots\n",
    "num_plots = len(y_index)\n",
    "\n",
    "# Create a figure with a grid of subplots\n",
    "plt.figure(figsize=(4, 4 * num_plots))\n",
    "\n",
    "# Loop through each index and create a subplot\n",
    "for i in range(num_plots):\n",
    "    plt.subplot(num_plots, 1, i + 1)  # (nrows, ncols, index)\n",
    "    plt.boxplot([NG_selected[i, :], ng_lasso_list[i][0]], tick_labels=['SelectMicro', 'Lasso'])\n",
    "    plt.title(f'NG results of the selected OTU vs. non-selected OTUs - {y_index[i]}')\n",
    "    plt.ylabel('NG')\n",
    "    plt.grid(axis='y')\n",
    "    #print(len(NG_selected[i, :]))\n",
    "# Adjust layout\n",
    "plt.tight_layout()  # Adjusts the subplots to fit into the figure area.\n",
    "plt.show()  # Show all plots at once"
   ]
  },
  {
   "cell_type": "code",
   "execution_count": null,
   "metadata": {},
   "outputs": [],
   "source": [
    "# compare the selected and non select by our method\n",
    "for i in range(len(y_index)):\n",
    "    plt.figure(figsize=(4, 4))\n",
    "    plt.boxplot([NG_selected[i,:], NG_noselected[i,:]], tick_labels=['SelectMicro', 'Not selected'])\n",
    "    plt.title(f'NG results of the selected OTU vs. non selected OTUs by our method - {y_index[i]}')\n",
    "    plt.ylabel('NG')\n",
    "    plt.grid(axis='y')\n",
    "    \n",
    "# Show the plot\n",
    "plt.show()"
   ]
  },
  {
   "cell_type": "code",
   "execution_count": null,
   "metadata": {},
   "outputs": [],
   "source": [
    "# compare the selected and non select by lasso\n",
    "# Number of subplots\n",
    "num_plots = len(y_index)\n",
    "\n",
    "# Create a figure with a grid of subplots\n",
    "plt.figure(figsize=(4, 4 * num_plots))\n",
    "\n",
    "# Loop through each index and create a subplot\n",
    "for i in range(num_plots):\n",
    "    plt.subplot(num_plots, 1, i + 1)  # (nrows, ncols, index)\n",
    "    plt.boxplot([ng_lasso_list[i][0], ng_lasso_list[i][1]], tick_labels=['Lasso', 'Not selected'])\n",
    "    plt.title(f'NG results of the selected OTU vs. non-selected OTUs by Lasso - {y_index[i]}')\n",
    "    plt.ylabel('NG')\n",
    "    plt.grid(axis='y')\n",
    "# Adjust layout\n",
    "plt.tight_layout()  # Adjusts the subplots to fit into the figure area.\n",
    "plt.show()  # Show all plots at once"
   ]
  },
  {
   "cell_type": "code",
   "execution_count": null,
   "metadata": {},
   "outputs": [],
   "source": []
  },
  {
   "cell_type": "code",
   "execution_count": null,
   "metadata": {},
   "outputs": [],
   "source": []
  },
  {
   "cell_type": "code",
   "execution_count": null,
   "metadata": {},
   "outputs": [],
   "source": []
  },
  {
   "cell_type": "code",
   "execution_count": null,
   "metadata": {},
   "outputs": [],
   "source": []
  },
  {
   "cell_type": "code",
   "execution_count": null,
   "metadata": {},
   "outputs": [],
   "source": []
  },
  {
   "cell_type": "code",
   "execution_count": null,
   "metadata": {},
   "outputs": [],
   "source": []
  },
  {
   "cell_type": "code",
   "execution_count": null,
   "metadata": {},
   "outputs": [],
   "source": []
  },
  {
   "cell_type": "markdown",
   "metadata": {},
   "source": [
    "### Use LOOCV for fine tune model parameters and also the model's result"
   ]
  },
  {
   "cell_type": "code",
   "execution_count": null,
   "metadata": {},
   "outputs": [],
   "source": [
    "targetLabel=burn_label\n"
   ]
  },
  {
   "cell_type": "code",
   "execution_count": null,
   "metadata": {},
   "outputs": [],
   "source": []
  },
  {
   "cell_type": "code",
   "execution_count": null,
   "metadata": {},
   "outputs": [],
   "source": []
  },
  {
   "cell_type": "code",
   "execution_count": null,
   "metadata": {},
   "outputs": [],
   "source": []
  },
  {
   "cell_type": "code",
   "execution_count": null,
   "metadata": {},
   "outputs": [],
   "source": []
  },
  {
   "cell_type": "code",
   "execution_count": null,
   "metadata": {},
   "outputs": [],
   "source": []
  },
  {
   "cell_type": "code",
   "execution_count": null,
   "metadata": {},
   "outputs": [],
   "source": []
  },
  {
   "cell_type": "code",
   "execution_count": null,
   "metadata": {},
   "outputs": [],
   "source": []
  }
 ],
 "metadata": {
  "kernelspec": {
   "display_name": "Python 3 (ipykernel)",
   "language": "python",
   "name": "python3"
  },
  "language_info": {
   "codemirror_mode": {
    "name": "ipython",
    "version": 3
   },
   "file_extension": ".py",
   "mimetype": "text/x-python",
   "name": "python",
   "nbconvert_exporter": "python",
   "pygments_lexer": "ipython3",
   "version": "3.9.10"
  }
 },
 "nbformat": 4,
 "nbformat_minor": 4
}
