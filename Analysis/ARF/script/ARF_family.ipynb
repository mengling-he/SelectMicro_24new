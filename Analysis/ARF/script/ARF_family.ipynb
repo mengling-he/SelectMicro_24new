{
 "cells": [
  {
   "cell_type": "code",
   "execution_count": 1,
   "id": "d27cf9d8-8d7c-440d-8d5e-a14eb6fb688f",
   "metadata": {},
   "outputs": [],
   "source": [
    "import pandas as pd\n",
    "import numpy as np\n",
    "import random\n",
    "from sklearn.ensemble import RandomForestClassifier\n",
    "\n",
    "import matplotlib.pyplot as plt\n"
   ]
  },
  {
   "cell_type": "code",
   "execution_count": 2,
   "id": "24080c48-1dac-44e5-ad9c-efaa7fb322ca",
   "metadata": {},
   "outputs": [
    {
     "name": "stderr",
     "output_type": "stream",
     "text": [
      "2025-03-28 02:27:25.951827: I external/local_xla/xla/tsl/cuda/cudart_stub.cc:32] Could not find cuda drivers on your machine, GPU will not be used.\n",
      "2025-03-28 02:27:25.956589: I external/local_xla/xla/tsl/cuda/cudart_stub.cc:32] Could not find cuda drivers on your machine, GPU will not be used.\n",
      "2025-03-28 02:27:25.968159: E external/local_xla/xla/stream_executor/cuda/cuda_fft.cc:477] Unable to register cuFFT factory: Attempting to register factory for plugin cuFFT when one has already been registered\n",
      "WARNING: All log messages before absl::InitializeLog() is called are written to STDERR\n",
      "E0000 00:00:1743143245.986396 3103256 cuda_dnn.cc:8310] Unable to register cuDNN factory: Attempting to register factory for plugin cuDNN when one has already been registered\n",
      "E0000 00:00:1743143245.992058 3103256 cuda_blas.cc:1418] Unable to register cuBLAS factory: Attempting to register factory for plugin cuBLAS when one has already been registered\n",
      "2025-03-28 02:27:26.013681: I tensorflow/core/platform/cpu_feature_guard.cc:210] This TensorFlow binary is optimized to use available CPU instructions in performance-critical operations.\n",
      "To enable the following instructions: AVX2 AVX512F FMA, in other operations, rebuild TensorFlow with the appropriate compiler flags.\n",
      "/lustre/isaac24/scratch/mhe8/myenv/lib/python3.12/site-packages/tqdm/auto.py:21: TqdmWarning: IProgress not found. Please update jupyter and ipywidgets. See https://ipywidgets.readthedocs.io/en/stable/user_install.html\n",
      "  from .autonotebook import tqdm as notebook_tqdm\n"
     ]
    }
   ],
   "source": [
    "import sys\n",
    "sys.path.append('../../../Code')\n",
    "import loadData \n",
    "import RunML\n",
    "import FS\n",
    "import metric"
   ]
  },
  {
   "cell_type": "code",
   "execution_count": 3,
   "id": "23f59c06-5b79-4db3-84ed-989af2c52614",
   "metadata": {},
   "outputs": [
    {
     "ename": "FileNotFoundError",
     "evalue": "[Errno 2] No such file or directory: '../data/ARF_16S_ctb_family.csv'",
     "output_type": "error",
     "traceback": [
      "\u001b[31m---------------------------------------------------------------------------\u001b[39m",
      "\u001b[31mFileNotFoundError\u001b[39m                         Traceback (most recent call last)",
      "\u001b[36mCell\u001b[39m\u001b[36m \u001b[39m\u001b[32mIn[3]\u001b[39m\u001b[32m, line 2\u001b[39m\n\u001b[32m      1\u001b[39m ARF_16S_metadata = pd.read_csv(\u001b[33m'\u001b[39m\u001b[33m../data/ARF_16S_metadata.csv\u001b[39m\u001b[33m'\u001b[39m,index_col = \u001b[32m0\u001b[39m)\n\u001b[32m----> \u001b[39m\u001b[32m2\u001b[39m ARF_16S_ctb_family = \u001b[43mpd\u001b[49m\u001b[43m.\u001b[49m\u001b[43mread_csv\u001b[49m\u001b[43m(\u001b[49m\u001b[33;43m'\u001b[39;49m\u001b[33;43m../data/ARF_16S_ctb_family.csv\u001b[39;49m\u001b[33;43m'\u001b[39;49m\u001b[43m,\u001b[49m\u001b[43mindex_col\u001b[49m\u001b[43m \u001b[49m\u001b[43m=\u001b[49m\u001b[43m \u001b[49m\u001b[32;43m0\u001b[39;49m\u001b[43m)\u001b[49m\n",
      "\u001b[36mFile \u001b[39m\u001b[32m/lustre/isaac24/scratch/mhe8/myenv/lib/python3.12/site-packages/pandas/io/parsers/readers.py:1026\u001b[39m, in \u001b[36mread_csv\u001b[39m\u001b[34m(filepath_or_buffer, sep, delimiter, header, names, index_col, usecols, dtype, engine, converters, true_values, false_values, skipinitialspace, skiprows, skipfooter, nrows, na_values, keep_default_na, na_filter, verbose, skip_blank_lines, parse_dates, infer_datetime_format, keep_date_col, date_parser, date_format, dayfirst, cache_dates, iterator, chunksize, compression, thousands, decimal, lineterminator, quotechar, quoting, doublequote, escapechar, comment, encoding, encoding_errors, dialect, on_bad_lines, delim_whitespace, low_memory, memory_map, float_precision, storage_options, dtype_backend)\u001b[39m\n\u001b[32m   1013\u001b[39m kwds_defaults = _refine_defaults_read(\n\u001b[32m   1014\u001b[39m     dialect,\n\u001b[32m   1015\u001b[39m     delimiter,\n\u001b[32m   (...)\u001b[39m\u001b[32m   1022\u001b[39m     dtype_backend=dtype_backend,\n\u001b[32m   1023\u001b[39m )\n\u001b[32m   1024\u001b[39m kwds.update(kwds_defaults)\n\u001b[32m-> \u001b[39m\u001b[32m1026\u001b[39m \u001b[38;5;28;01mreturn\u001b[39;00m \u001b[43m_read\u001b[49m\u001b[43m(\u001b[49m\u001b[43mfilepath_or_buffer\u001b[49m\u001b[43m,\u001b[49m\u001b[43m \u001b[49m\u001b[43mkwds\u001b[49m\u001b[43m)\u001b[49m\n",
      "\u001b[36mFile \u001b[39m\u001b[32m/lustre/isaac24/scratch/mhe8/myenv/lib/python3.12/site-packages/pandas/io/parsers/readers.py:620\u001b[39m, in \u001b[36m_read\u001b[39m\u001b[34m(filepath_or_buffer, kwds)\u001b[39m\n\u001b[32m    617\u001b[39m _validate_names(kwds.get(\u001b[33m\"\u001b[39m\u001b[33mnames\u001b[39m\u001b[33m\"\u001b[39m, \u001b[38;5;28;01mNone\u001b[39;00m))\n\u001b[32m    619\u001b[39m \u001b[38;5;66;03m# Create the parser.\u001b[39;00m\n\u001b[32m--> \u001b[39m\u001b[32m620\u001b[39m parser = \u001b[43mTextFileReader\u001b[49m\u001b[43m(\u001b[49m\u001b[43mfilepath_or_buffer\u001b[49m\u001b[43m,\u001b[49m\u001b[43m \u001b[49m\u001b[43m*\u001b[49m\u001b[43m*\u001b[49m\u001b[43mkwds\u001b[49m\u001b[43m)\u001b[49m\n\u001b[32m    622\u001b[39m \u001b[38;5;28;01mif\u001b[39;00m chunksize \u001b[38;5;129;01mor\u001b[39;00m iterator:\n\u001b[32m    623\u001b[39m     \u001b[38;5;28;01mreturn\u001b[39;00m parser\n",
      "\u001b[36mFile \u001b[39m\u001b[32m/lustre/isaac24/scratch/mhe8/myenv/lib/python3.12/site-packages/pandas/io/parsers/readers.py:1620\u001b[39m, in \u001b[36mTextFileReader.__init__\u001b[39m\u001b[34m(self, f, engine, **kwds)\u001b[39m\n\u001b[32m   1617\u001b[39m     \u001b[38;5;28mself\u001b[39m.options[\u001b[33m\"\u001b[39m\u001b[33mhas_index_names\u001b[39m\u001b[33m\"\u001b[39m] = kwds[\u001b[33m\"\u001b[39m\u001b[33mhas_index_names\u001b[39m\u001b[33m\"\u001b[39m]\n\u001b[32m   1619\u001b[39m \u001b[38;5;28mself\u001b[39m.handles: IOHandles | \u001b[38;5;28;01mNone\u001b[39;00m = \u001b[38;5;28;01mNone\u001b[39;00m\n\u001b[32m-> \u001b[39m\u001b[32m1620\u001b[39m \u001b[38;5;28mself\u001b[39m._engine = \u001b[38;5;28;43mself\u001b[39;49m\u001b[43m.\u001b[49m\u001b[43m_make_engine\u001b[49m\u001b[43m(\u001b[49m\u001b[43mf\u001b[49m\u001b[43m,\u001b[49m\u001b[43m \u001b[49m\u001b[38;5;28;43mself\u001b[39;49m\u001b[43m.\u001b[49m\u001b[43mengine\u001b[49m\u001b[43m)\u001b[49m\n",
      "\u001b[36mFile \u001b[39m\u001b[32m/lustre/isaac24/scratch/mhe8/myenv/lib/python3.12/site-packages/pandas/io/parsers/readers.py:1880\u001b[39m, in \u001b[36mTextFileReader._make_engine\u001b[39m\u001b[34m(self, f, engine)\u001b[39m\n\u001b[32m   1878\u001b[39m     \u001b[38;5;28;01mif\u001b[39;00m \u001b[33m\"\u001b[39m\u001b[33mb\u001b[39m\u001b[33m\"\u001b[39m \u001b[38;5;129;01mnot\u001b[39;00m \u001b[38;5;129;01min\u001b[39;00m mode:\n\u001b[32m   1879\u001b[39m         mode += \u001b[33m\"\u001b[39m\u001b[33mb\u001b[39m\u001b[33m\"\u001b[39m\n\u001b[32m-> \u001b[39m\u001b[32m1880\u001b[39m \u001b[38;5;28mself\u001b[39m.handles = \u001b[43mget_handle\u001b[49m\u001b[43m(\u001b[49m\n\u001b[32m   1881\u001b[39m \u001b[43m    \u001b[49m\u001b[43mf\u001b[49m\u001b[43m,\u001b[49m\n\u001b[32m   1882\u001b[39m \u001b[43m    \u001b[49m\u001b[43mmode\u001b[49m\u001b[43m,\u001b[49m\n\u001b[32m   1883\u001b[39m \u001b[43m    \u001b[49m\u001b[43mencoding\u001b[49m\u001b[43m=\u001b[49m\u001b[38;5;28;43mself\u001b[39;49m\u001b[43m.\u001b[49m\u001b[43moptions\u001b[49m\u001b[43m.\u001b[49m\u001b[43mget\u001b[49m\u001b[43m(\u001b[49m\u001b[33;43m\"\u001b[39;49m\u001b[33;43mencoding\u001b[39;49m\u001b[33;43m\"\u001b[39;49m\u001b[43m,\u001b[49m\u001b[43m \u001b[49m\u001b[38;5;28;43;01mNone\u001b[39;49;00m\u001b[43m)\u001b[49m\u001b[43m,\u001b[49m\n\u001b[32m   1884\u001b[39m \u001b[43m    \u001b[49m\u001b[43mcompression\u001b[49m\u001b[43m=\u001b[49m\u001b[38;5;28;43mself\u001b[39;49m\u001b[43m.\u001b[49m\u001b[43moptions\u001b[49m\u001b[43m.\u001b[49m\u001b[43mget\u001b[49m\u001b[43m(\u001b[49m\u001b[33;43m\"\u001b[39;49m\u001b[33;43mcompression\u001b[39;49m\u001b[33;43m\"\u001b[39;49m\u001b[43m,\u001b[49m\u001b[43m \u001b[49m\u001b[38;5;28;43;01mNone\u001b[39;49;00m\u001b[43m)\u001b[49m\u001b[43m,\u001b[49m\n\u001b[32m   1885\u001b[39m \u001b[43m    \u001b[49m\u001b[43mmemory_map\u001b[49m\u001b[43m=\u001b[49m\u001b[38;5;28;43mself\u001b[39;49m\u001b[43m.\u001b[49m\u001b[43moptions\u001b[49m\u001b[43m.\u001b[49m\u001b[43mget\u001b[49m\u001b[43m(\u001b[49m\u001b[33;43m\"\u001b[39;49m\u001b[33;43mmemory_map\u001b[39;49m\u001b[33;43m\"\u001b[39;49m\u001b[43m,\u001b[49m\u001b[43m \u001b[49m\u001b[38;5;28;43;01mFalse\u001b[39;49;00m\u001b[43m)\u001b[49m\u001b[43m,\u001b[49m\n\u001b[32m   1886\u001b[39m \u001b[43m    \u001b[49m\u001b[43mis_text\u001b[49m\u001b[43m=\u001b[49m\u001b[43mis_text\u001b[49m\u001b[43m,\u001b[49m\n\u001b[32m   1887\u001b[39m \u001b[43m    \u001b[49m\u001b[43merrors\u001b[49m\u001b[43m=\u001b[49m\u001b[38;5;28;43mself\u001b[39;49m\u001b[43m.\u001b[49m\u001b[43moptions\u001b[49m\u001b[43m.\u001b[49m\u001b[43mget\u001b[49m\u001b[43m(\u001b[49m\u001b[33;43m\"\u001b[39;49m\u001b[33;43mencoding_errors\u001b[39;49m\u001b[33;43m\"\u001b[39;49m\u001b[43m,\u001b[49m\u001b[43m \u001b[49m\u001b[33;43m\"\u001b[39;49m\u001b[33;43mstrict\u001b[39;49m\u001b[33;43m\"\u001b[39;49m\u001b[43m)\u001b[49m\u001b[43m,\u001b[49m\n\u001b[32m   1888\u001b[39m \u001b[43m    \u001b[49m\u001b[43mstorage_options\u001b[49m\u001b[43m=\u001b[49m\u001b[38;5;28;43mself\u001b[39;49m\u001b[43m.\u001b[49m\u001b[43moptions\u001b[49m\u001b[43m.\u001b[49m\u001b[43mget\u001b[49m\u001b[43m(\u001b[49m\u001b[33;43m\"\u001b[39;49m\u001b[33;43mstorage_options\u001b[39;49m\u001b[33;43m\"\u001b[39;49m\u001b[43m,\u001b[49m\u001b[43m \u001b[49m\u001b[38;5;28;43;01mNone\u001b[39;49;00m\u001b[43m)\u001b[49m\u001b[43m,\u001b[49m\n\u001b[32m   1889\u001b[39m \u001b[43m\u001b[49m\u001b[43m)\u001b[49m\n\u001b[32m   1890\u001b[39m \u001b[38;5;28;01massert\u001b[39;00m \u001b[38;5;28mself\u001b[39m.handles \u001b[38;5;129;01mis\u001b[39;00m \u001b[38;5;129;01mnot\u001b[39;00m \u001b[38;5;28;01mNone\u001b[39;00m\n\u001b[32m   1891\u001b[39m f = \u001b[38;5;28mself\u001b[39m.handles.handle\n",
      "\u001b[36mFile \u001b[39m\u001b[32m/lustre/isaac24/scratch/mhe8/myenv/lib/python3.12/site-packages/pandas/io/common.py:873\u001b[39m, in \u001b[36mget_handle\u001b[39m\u001b[34m(path_or_buf, mode, encoding, compression, memory_map, is_text, errors, storage_options)\u001b[39m\n\u001b[32m    868\u001b[39m \u001b[38;5;28;01melif\u001b[39;00m \u001b[38;5;28misinstance\u001b[39m(handle, \u001b[38;5;28mstr\u001b[39m):\n\u001b[32m    869\u001b[39m     \u001b[38;5;66;03m# Check whether the filename is to be opened in binary mode.\u001b[39;00m\n\u001b[32m    870\u001b[39m     \u001b[38;5;66;03m# Binary mode does not support 'encoding' and 'newline'.\u001b[39;00m\n\u001b[32m    871\u001b[39m     \u001b[38;5;28;01mif\u001b[39;00m ioargs.encoding \u001b[38;5;129;01mand\u001b[39;00m \u001b[33m\"\u001b[39m\u001b[33mb\u001b[39m\u001b[33m\"\u001b[39m \u001b[38;5;129;01mnot\u001b[39;00m \u001b[38;5;129;01min\u001b[39;00m ioargs.mode:\n\u001b[32m    872\u001b[39m         \u001b[38;5;66;03m# Encoding\u001b[39;00m\n\u001b[32m--> \u001b[39m\u001b[32m873\u001b[39m         handle = \u001b[38;5;28;43mopen\u001b[39;49m\u001b[43m(\u001b[49m\n\u001b[32m    874\u001b[39m \u001b[43m            \u001b[49m\u001b[43mhandle\u001b[49m\u001b[43m,\u001b[49m\n\u001b[32m    875\u001b[39m \u001b[43m            \u001b[49m\u001b[43mioargs\u001b[49m\u001b[43m.\u001b[49m\u001b[43mmode\u001b[49m\u001b[43m,\u001b[49m\n\u001b[32m    876\u001b[39m \u001b[43m            \u001b[49m\u001b[43mencoding\u001b[49m\u001b[43m=\u001b[49m\u001b[43mioargs\u001b[49m\u001b[43m.\u001b[49m\u001b[43mencoding\u001b[49m\u001b[43m,\u001b[49m\n\u001b[32m    877\u001b[39m \u001b[43m            \u001b[49m\u001b[43merrors\u001b[49m\u001b[43m=\u001b[49m\u001b[43merrors\u001b[49m\u001b[43m,\u001b[49m\n\u001b[32m    878\u001b[39m \u001b[43m            \u001b[49m\u001b[43mnewline\u001b[49m\u001b[43m=\u001b[49m\u001b[33;43m\"\u001b[39;49m\u001b[33;43m\"\u001b[39;49m\u001b[43m,\u001b[49m\n\u001b[32m    879\u001b[39m \u001b[43m        \u001b[49m\u001b[43m)\u001b[49m\n\u001b[32m    880\u001b[39m     \u001b[38;5;28;01melse\u001b[39;00m:\n\u001b[32m    881\u001b[39m         \u001b[38;5;66;03m# Binary mode\u001b[39;00m\n\u001b[32m    882\u001b[39m         handle = \u001b[38;5;28mopen\u001b[39m(handle, ioargs.mode)\n",
      "\u001b[31mFileNotFoundError\u001b[39m: [Errno 2] No such file or directory: '../data/ARF_16S_ctb_family.csv'"
     ]
    }
   ],
   "source": [
    "\n",
    "ARF_16S_metadata = pd.read_csv('../data/ARF_16S_metadata.csv',index_col = 0)\n",
    "ARF_16S_ctb_family = pd.read_csv('../data/ARF_16S_ctb_family.csv',index_col = 0)"
   ]
  },
  {
   "cell_type": "code",
   "execution_count": null,
   "id": "11745113-218c-44cb-9108-bf10294c3fa9",
   "metadata": {},
   "outputs": [],
   "source": [
    "ARF_16S_metadata.head(3)"
   ]
  },
  {
   "cell_type": "code",
   "execution_count": null,
   "id": "bc9b346d-5924-4aad-a642-82590902d119",
   "metadata": {},
   "outputs": [],
   "source": [
    "ARF_16S_ctb_family"
   ]
  },
  {
   "cell_type": "code",
   "execution_count": null,
   "id": "073946dd-d8f6-4a95-b505-90f123bf797d",
   "metadata": {},
   "outputs": [],
   "source": [
    "featurs_family = ARF_16S_ctb_family.columns"
   ]
  },
  {
   "cell_type": "code",
   "execution_count": null,
   "id": "7ecea69b",
   "metadata": {},
   "outputs": [],
   "source": [
    "featurs_family"
   ]
  },
  {
   "cell_type": "code",
   "execution_count": null,
   "id": "0178b98c",
   "metadata": {},
   "outputs": [],
   "source": [
    "target_variable = ARF_16S_metadata['Phase']\n",
    "target_variable"
   ]
  },
  {
   "cell_type": "code",
   "execution_count": null,
   "id": "cc13fd80",
   "metadata": {},
   "outputs": [],
   "source": []
  },
  {
   "cell_type": "markdown",
   "id": "a3eded58",
   "metadata": {},
   "source": [
    "### Select feartures using SelectMicro"
   ]
  },
  {
   "cell_type": "code",
   "execution_count": null,
   "id": "091018de",
   "metadata": {},
   "outputs": [],
   "source": [
    "selectedresult=FS.SelectMicro_fun(ARF_16S_ctb_family,target_variable,p_cutoff = 0.05)\n",
    "    \n",
    "selectedresult.keys()"
   ]
  },
  {
   "cell_type": "code",
   "execution_count": null,
   "id": "b01e1509",
   "metadata": {},
   "outputs": [],
   "source": [
    "data = selectedresult['relative_abundance_data']\n",
    "\n",
    "\n",
    "selectedOTU_index= selectedresult['selected_indices']\n",
    "selectedASV = selectedresult['selected_columnames']\n",
    "X_FS = selectedresult['selected_data']\n"
   ]
  },
  {
   "cell_type": "code",
   "execution_count": null,
   "id": "93c1a6ee",
   "metadata": {},
   "outputs": [],
   "source": [
    "\n"
   ]
  },
  {
   "cell_type": "code",
   "execution_count": null,
   "id": "abac0b6a",
   "metadata": {},
   "outputs": [],
   "source": []
  },
  {
   "cell_type": "code",
   "execution_count": null,
   "id": "51eace4d",
   "metadata": {},
   "outputs": [],
   "source": []
  },
  {
   "cell_type": "code",
   "execution_count": null,
   "id": "8aa9d269",
   "metadata": {},
   "outputs": [],
   "source": []
  },
  {
   "cell_type": "code",
   "execution_count": null,
   "id": "a3628f39",
   "metadata": {},
   "outputs": [],
   "source": []
  },
  {
   "cell_type": "code",
   "execution_count": null,
   "id": "6b58185b",
   "metadata": {},
   "outputs": [],
   "source": []
  },
  {
   "cell_type": "code",
   "execution_count": null,
   "id": "66a4f656",
   "metadata": {},
   "outputs": [],
   "source": []
  },
  {
   "cell_type": "code",
   "execution_count": null,
   "id": "a197baea",
   "metadata": {},
   "outputs": [],
   "source": [
    "\n",
    "print(\"The response variable and its counts are:\")\n",
    "print(target_variable.value_counts())"
   ]
  },
  {
   "cell_type": "code",
   "execution_count": null,
   "id": "c33f5480",
   "metadata": {},
   "outputs": [],
   "source": [
    "print(f'The shape of the original dataset is ',np.shape(data))\n",
    "print(f'The shape of the SelectMicro dataset is ',np.shape(X_FS))\n"
   ]
  },
  {
   "cell_type": "code",
   "execution_count": null,
   "id": "cba8ac33",
   "metadata": {},
   "outputs": [],
   "source": [
    "#from sklearn.preprocessing import LabelEncoder\n",
    "#le = LabelEncoder()\n",
    "#y = le.fit_transform(target_variable)"
   ]
  },
  {
   "cell_type": "code",
   "execution_count": null,
   "id": "a6dfbf9c",
   "metadata": {},
   "outputs": [],
   "source": [
    "custom_phaseorder = ['Initial', 'BLOOM', 'CLIMAX', 'DECLINE', 'RECOVERY']\n",
    "custom_mapping = {category: i for i, category in enumerate(custom_phaseorder)}"
   ]
  },
  {
   "cell_type": "code",
   "execution_count": null,
   "id": "4a8a7f3c",
   "metadata": {},
   "outputs": [],
   "source": [
    "custom_mapping"
   ]
  },
  {
   "cell_type": "code",
   "execution_count": null,
   "id": "05ce0f20",
   "metadata": {},
   "outputs": [],
   "source": [
    "y = [custom_mapping[category] for category in target_variable]\n",
    "y = np.array(y)\n",
    "print(y)\n",
    "\n",
    "print(target_variable)"
   ]
  },
  {
   "cell_type": "code",
   "execution_count": null,
   "id": "bd4e662e",
   "metadata": {},
   "outputs": [],
   "source": []
  },
  {
   "cell_type": "code",
   "execution_count": null,
   "id": "aedd723c",
   "metadata": {},
   "outputs": [],
   "source": []
  },
  {
   "cell_type": "code",
   "execution_count": null,
   "id": "32362a15",
   "metadata": {},
   "outputs": [],
   "source": [
    "X_lasso_ft,selectedOTU_index_Lasso  = RunML.LassoFS_CV(data,y)\n",
    "\n",
    "X_FS_lasso_ft,xlabel_FS_lasso_ft0  = RunML.LassoFS_CV(X_FS,y)\n",
    "selectedOTU_index_FS_lasso = selectedOTU_index[xlabel_FS_lasso_ft0]\n",
    "\n",
    "data_subset = {\"AllFeatures\":data,\n",
    "               \"SelectMicro\": X_FS,\n",
    "               \"Lasso_finetune\":X_lasso_ft,\n",
    "               \"FS_Lassofinetune\":X_FS_lasso_ft\n",
    "              }"
   ]
  },
  {
   "cell_type": "code",
   "execution_count": null,
   "id": "c1811c9c",
   "metadata": {},
   "outputs": [],
   "source": [
    "print(f'The shape of the original dataset is ',np.shape(data))\n",
    "print(f'The shape of the SelectMicro dataset is ',np.shape(X_FS))\n",
    "print(f'The shape of the Lasso_finetune selected dataset is ',np.shape(X_lasso_ft))\n",
    "print(f'The shape of the FS_Lasso_finetune selected dataset is ',np.shape(X_FS_lasso_ft))\n"
   ]
  },
  {
   "cell_type": "code",
   "execution_count": null,
   "id": "057cb8b7",
   "metadata": {},
   "outputs": [],
   "source": [
    "for datatype, subset in data_subset.items():   \n",
    "    RunML.plot_dim_reduction(subset, y,method='PCA', datalabel=datatype)"
   ]
  },
  {
   "cell_type": "code",
   "execution_count": null,
   "id": "d2d783c2",
   "metadata": {},
   "outputs": [],
   "source": [
    "for datatype, subset in data_subset.items():   \n",
    "    RunML.plot_dim_reduction(subset, y,method='TSNE', datalabel=datatype)"
   ]
  },
  {
   "cell_type": "code",
   "execution_count": null,
   "id": "eb0a7506",
   "metadata": {},
   "outputs": [],
   "source": [
    "from sklearn.model_selection import StratifiedKFold\n",
    "from sklearn.metrics import auc, roc_auc_score, roc_curve, accuracy_score, precision_score, recall_score, f1_score, matthews_corrcoef, RocCurveDisplay, confusion_matrix, ConfusionMatrixDisplay\n",
    "import shap\n",
    "def RF_model_SCV_multi(X, y, plot=False,columnnames=None,SMOTE=False,k=5):\n",
    "     # Initialize the classifier\n",
    "   \n",
    "    clf = RandomForestClassifier(n_jobs=5, random_state=777)\n",
    "\n",
    "    # Set up 5-fold cross-validation\n",
    "    kf = StratifiedKFold(n_splits=k, shuffle=True, random_state=777)\n",
    "\n",
    "    # Lists to store the results\n",
    "    accuracies = []\n",
    "    roc_aucs = []\n",
    "    mcc_s = []\n",
    "    f_scores = []\n",
    "    y_true_all = []\n",
    "    \n",
    "    x_true_all = np.empty((0, X.shape[1]))  # Ensure correct number of columns\n",
    "    shap_values_all = np.empty((0, X.shape[1]))   # Store SHAP values for each fold\n",
    "    y_pred_all = []\n",
    "    y_prob_all = []\n",
    "    \n",
    "\n",
    "    for train_index, test_index in kf.split(X, y):\n",
    "        # Split the data\n",
    "        X_train, X_test = X[train_index], X[test_index]\n",
    "        y_train, y_test = y[train_index], y[test_index]\n",
    "\n",
    "        # Apply SMOTE if specified\n",
    "        if SMOTE:\n",
    "            X_train, y_train = RunML.perform_SMOTE(X_train, y_train)\n",
    "     \n",
    "        clf.fit(X_train, y_train)\n",
    "        y_pred = clf.predict(X_test)\n",
    "        y_prob = clf.predict_proba(X_test)## For multiclass, y_prob will have shape (n_samples, n_classes)\n",
    "\n",
    "        \n",
    "        # Evaluate the model\n",
    "        accuracy = accuracy_score(y_test, y_pred)\n",
    "        roc_auc = roc_auc_score(y_test, y_prob, multi_class='ovr', average='macro')\n",
    "        #mcc = metric.mcc_score(y_test,y_pred)\n",
    "        f_score = f1_score(y_test,y_pred, average='weighted')\n",
    "\n",
    "        explainer = shap.TreeExplainer(clf)\n",
    "        shap_values = explainer.shap_values(X_test)\n",
    "        #print(X_test.shape,shap_values.shape)\n",
    "        \n",
    "        accuracies.append(accuracy)\n",
    "        roc_aucs.append(roc_auc)\n",
    "        #mcc_s.append(mcc)\n",
    "        f_scores.append(f_score)\n",
    "        #shap_values_list.append(shap_values[:,:,0])\n",
    "        #shap_values_list.append(np.abs(pd.DataFrame(shap_values[:,:,0]).values).mean(0))\n",
    "        y_true_all.extend(y_test)# Using extend to add multiple elements\n",
    "        x_true_all = np.vstack((x_true_all, X_test))\n",
    "        shap_values_all = np.vstack((shap_values_all,shap_values[:, :, 0]))# save the SHAP of [0] in the result\n",
    "        y_pred_all.extend(y_pred)\n",
    "        y_prob_all.extend(y_prob.argmax(axis=1))  # For multiclass, take the class with the highest probability\n",
    "\n",
    "\n",
    "    result = {'mean_accuracy': np.mean(accuracies),\n",
    "              'std_accuracy':np.std(accuracies),\n",
    "              'mean_auc': np.mean(roc_aucs),\n",
    "              'std_auc':np.std(roc_aucs),\n",
    "              #'mean_mcc':np.mean(mcc_s),\n",
    "              'mean_f':np.mean(f_scores),\n",
    "              'y_true': y_true_all,\n",
    "              'y_pred':y_pred_all,\n",
    "              'y_pred_prob': y_prob_all,\n",
    "              'x_true':x_true_all,\n",
    "              'SHAP':shap_values_all}\n",
    "    if plot:\n",
    "        x_true_df = pd.DataFrame(x_true_all, columns=columnnames)\n",
    "        shap.summary_plot(shap_values_all, x_true_df)\n",
    "    return result"
   ]
  },
  {
   "cell_type": "code",
   "execution_count": null,
   "id": "4b49b8a0",
   "metadata": {},
   "outputs": [],
   "source": [
    "dict_cm = RF_model_SCV_multi(X_FS, y, plot=True,columnnames=selectedASV,SMOTE=True,k=5)"
   ]
  },
  {
   "cell_type": "code",
   "execution_count": null,
   "id": "1208150e",
   "metadata": {},
   "outputs": [],
   "source": []
  },
  {
   "cell_type": "code",
   "execution_count": null,
   "id": "a5212997",
   "metadata": {},
   "outputs": [],
   "source": [
    "dict_cm_full = RF_model_SCV_multi(data, y, plot=True,columnnames=featurs_family,SMOTE=True,k=5)\n"
   ]
  },
  {
   "cell_type": "code",
   "execution_count": null,
   "id": "37e304ed",
   "metadata": {},
   "outputs": [],
   "source": [
    "dict_cm_lasso = RF_model_SCV_multi(X_lasso_ft, y, plot=True,columnnames=featurs_family[selectedOTU_index_Lasso],SMOTE=True,k=5)\n"
   ]
  },
  {
   "cell_type": "code",
   "execution_count": null,
   "id": "8eaf3cc9",
   "metadata": {},
   "outputs": [],
   "source": [
    "dict_cm_fs_lasso = RF_model_SCV_multi(X_FS_lasso_ft, y, plot=True,columnnames=featurs_family[selectedOTU_index_FS_lasso],SMOTE=True,k=5)\n",
    "print(dict_cm_fs_lasso['mean_accuracy'],dict_cm_fs_lasso['mean_auc'],dict_cm_fs_lasso['mean_f'])"
   ]
  },
  {
   "cell_type": "code",
   "execution_count": null,
   "id": "f78cc78f",
   "metadata": {},
   "outputs": [],
   "source": [
    "print(f'The shape of the original dataset is ',np.shape(data))\n",
    "print(f'The shape of the SelectMicro dataset is ',np.shape(X_FS))\n",
    "print(f'The shape of the Lasso_finetune selected dataset is ',np.shape(X_lasso_ft))\n",
    "print(f'The shape of the FS_Lasso_finetune selected dataset is ',np.shape(X_FS_lasso_ft))\n"
   ]
  },
  {
   "cell_type": "code",
   "execution_count": null,
   "id": "6f93b7eb",
   "metadata": {},
   "outputs": [],
   "source": [
    "print(dict_cm_full['mean_accuracy'],dict_cm_full['mean_auc'],dict_cm_full['mean_f'])\n",
    "print(dict_cm['mean_accuracy'],dict_cm['mean_auc'],dict_cm['mean_f'])\n",
    "print(dict_cm_lasso['mean_accuracy'],dict_cm_lasso['mean_auc'],dict_cm_lasso['mean_f'])\n",
    "print(dict_cm_fs_lasso['mean_accuracy'],dict_cm_fs_lasso['mean_auc'],dict_cm_fs_lasso['mean_f'])"
   ]
  },
  {
   "cell_type": "code",
   "execution_count": null,
   "id": "35979e04",
   "metadata": {},
   "outputs": [],
   "source": []
  },
  {
   "cell_type": "code",
   "execution_count": null,
   "id": "d24e240f",
   "metadata": {},
   "outputs": [],
   "source": []
  }
 ],
 "metadata": {
  "kernelspec": {
   "display_name": "Python 3 (ipykernel)",
   "language": "python",
   "name": "python3"
  },
  "language_info": {
   "codemirror_mode": {
    "name": "ipython",
    "version": 3
   },
   "file_extension": ".py",
   "mimetype": "text/x-python",
   "name": "python",
   "nbconvert_exporter": "python",
   "pygments_lexer": "ipython3",
   "version": "3.12.7"
  }
 },
 "nbformat": 4,
 "nbformat_minor": 5
}
