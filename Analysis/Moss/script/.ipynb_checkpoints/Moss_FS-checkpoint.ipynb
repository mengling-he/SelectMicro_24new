{
 "cells": [
  {
   "attachments": {},
   "cell_type": "markdown",
   "metadata": {},
   "source": [
    "First, load the data,in this notebook we are using the Moss data:\n",
    "\n"
   ]
  },
  {
   "cell_type": "code",
   "execution_count": 1,
   "metadata": {},
   "outputs": [],
   "source": [
    "import sys\n",
    "sys.path.append('../../../Code')\n",
    "import loadData \n",
    "import RunML\n",
    "import RunML_continue\n",
    "import FS\n",
    "import metric"
   ]
  },
  {
   "cell_type": "code",
   "execution_count": 2,
   "metadata": {},
   "outputs": [],
   "source": [
    "import pandas as pd\n",
    "import numpy as np\n",
    "import random\n",
    "from sklearn.ensemble import RandomForestClassifier\n",
    "from sklearn.linear_model import LogisticRegression\n",
    "from sklearn import svm\n",
    "import pickle\n",
    "import matplotlib.pyplot as plt"
   ]
  },
  {
   "cell_type": "markdown",
   "metadata": {},
   "source": [
    "### 1. Load the data and data preprocess\n",
    "After reading the data, convert the abundance matrix into relative abundance matrix; "
   ]
  },
  {
   "cell_type": "code",
   "execution_count": 3,
   "metadata": {},
   "outputs": [
    {
     "data": {
      "text/html": [
       "<div>\n",
       "<style scoped>\n",
       "    .dataframe tbody tr th:only-of-type {\n",
       "        vertical-align: middle;\n",
       "    }\n",
       "\n",
       "    .dataframe tbody tr th {\n",
       "        vertical-align: top;\n",
       "    }\n",
       "\n",
       "    .dataframe thead th {\n",
       "        text-align: right;\n",
       "    }\n",
       "</style>\n",
       "<table border=\"1\" class=\"dataframe\">\n",
       "  <thead>\n",
       "    <tr style=\"text-align: right;\">\n",
       "      <th></th>\n",
       "      <th>Beijerinckiaceae</th>\n",
       "      <th>Mycobacteriaceae</th>\n",
       "      <th>Ktedonobacteraceae</th>\n",
       "      <th>Bryum argenteum var. argenteum</th>\n",
       "      <th>Burkholderiaceae</th>\n",
       "      <th>Micromonosporaceae</th>\n",
       "      <th>Opitutaceae</th>\n",
       "      <th>WD2101 soil group</th>\n",
       "      <th>Xanthobacteraceae</th>\n",
       "      <th>Chitinophagaceae</th>\n",
       "      <th>...</th>\n",
       "      <th>Marinifilaceae</th>\n",
       "      <th>Aerococcaceae</th>\n",
       "      <th>Acetobacterales Incertae Sedis</th>\n",
       "      <th>Bacteroidaceae</th>\n",
       "      <th>Hydrogenophilaceae</th>\n",
       "      <th>Arachis hypogaea var. vulgaris</th>\n",
       "      <th>Demequinaceae</th>\n",
       "      <th>Pseudohongiellaceae</th>\n",
       "      <th>Bacteroidetes vadinHA17</th>\n",
       "      <th>Thermoanaerobacteraceae</th>\n",
       "    </tr>\n",
       "  </thead>\n",
       "  <tbody>\n",
       "    <tr>\n",
       "      <th>Sp1</th>\n",
       "      <td>57.894737</td>\n",
       "      <td>31.578947</td>\n",
       "      <td>10.526316</td>\n",
       "      <td>0.000000</td>\n",
       "      <td>0.000000</td>\n",
       "      <td>0.000000</td>\n",
       "      <td>0.000000</td>\n",
       "      <td>0.000000</td>\n",
       "      <td>0.000000</td>\n",
       "      <td>0.000000</td>\n",
       "      <td>...</td>\n",
       "      <td>0.000000</td>\n",
       "      <td>0.000000</td>\n",
       "      <td>0.000000</td>\n",
       "      <td>0.000000</td>\n",
       "      <td>0.000000</td>\n",
       "      <td>0.000000</td>\n",
       "      <td>0.000000</td>\n",
       "      <td>0.000000</td>\n",
       "      <td>0.000000</td>\n",
       "      <td>0.000000</td>\n",
       "    </tr>\n",
       "    <tr>\n",
       "      <th>Sp2</th>\n",
       "      <td>1.448965</td>\n",
       "      <td>0.631692</td>\n",
       "      <td>0.039258</td>\n",
       "      <td>10.413990</td>\n",
       "      <td>6.381156</td>\n",
       "      <td>4.043540</td>\n",
       "      <td>4.025696</td>\n",
       "      <td>3.540328</td>\n",
       "      <td>3.404711</td>\n",
       "      <td>3.222698</td>\n",
       "      <td>...</td>\n",
       "      <td>0.000000</td>\n",
       "      <td>0.000000</td>\n",
       "      <td>0.000000</td>\n",
       "      <td>0.000000</td>\n",
       "      <td>0.000000</td>\n",
       "      <td>0.000000</td>\n",
       "      <td>0.000000</td>\n",
       "      <td>0.000000</td>\n",
       "      <td>0.000000</td>\n",
       "      <td>0.000000</td>\n",
       "    </tr>\n",
       "    <tr>\n",
       "      <th>Sp3</th>\n",
       "      <td>0.000000</td>\n",
       "      <td>0.000000</td>\n",
       "      <td>0.000000</td>\n",
       "      <td>0.000000</td>\n",
       "      <td>0.000000</td>\n",
       "      <td>0.000000</td>\n",
       "      <td>0.000000</td>\n",
       "      <td>0.000000</td>\n",
       "      <td>0.000000</td>\n",
       "      <td>0.000000</td>\n",
       "      <td>...</td>\n",
       "      <td>0.000000</td>\n",
       "      <td>0.000000</td>\n",
       "      <td>0.000000</td>\n",
       "      <td>0.000000</td>\n",
       "      <td>0.000000</td>\n",
       "      <td>0.000000</td>\n",
       "      <td>0.000000</td>\n",
       "      <td>0.000000</td>\n",
       "      <td>0.000000</td>\n",
       "      <td>0.000000</td>\n",
       "    </tr>\n",
       "    <tr>\n",
       "      <th>Sp4</th>\n",
       "      <td>1.247068</td>\n",
       "      <td>0.856460</td>\n",
       "      <td>0.017705</td>\n",
       "      <td>0.000000</td>\n",
       "      <td>4.564467</td>\n",
       "      <td>1.226043</td>\n",
       "      <td>1.406409</td>\n",
       "      <td>3.713540</td>\n",
       "      <td>6.305050</td>\n",
       "      <td>6.754304</td>\n",
       "      <td>...</td>\n",
       "      <td>0.000000</td>\n",
       "      <td>0.000000</td>\n",
       "      <td>0.000000</td>\n",
       "      <td>0.000000</td>\n",
       "      <td>0.000000</td>\n",
       "      <td>0.000000</td>\n",
       "      <td>0.000000</td>\n",
       "      <td>0.000000</td>\n",
       "      <td>0.000000</td>\n",
       "      <td>0.000000</td>\n",
       "    </tr>\n",
       "    <tr>\n",
       "      <th>Sp5</th>\n",
       "      <td>0.524455</td>\n",
       "      <td>1.700505</td>\n",
       "      <td>0.190711</td>\n",
       "      <td>0.131114</td>\n",
       "      <td>8.470738</td>\n",
       "      <td>2.789145</td>\n",
       "      <td>3.198379</td>\n",
       "      <td>5.602130</td>\n",
       "      <td>3.929437</td>\n",
       "      <td>3.579801</td>\n",
       "      <td>...</td>\n",
       "      <td>0.000000</td>\n",
       "      <td>0.000000</td>\n",
       "      <td>0.000000</td>\n",
       "      <td>0.000000</td>\n",
       "      <td>0.000000</td>\n",
       "      <td>0.000000</td>\n",
       "      <td>0.000000</td>\n",
       "      <td>0.000000</td>\n",
       "      <td>0.000000</td>\n",
       "      <td>0.000000</td>\n",
       "    </tr>\n",
       "    <tr>\n",
       "      <th>Sp6</th>\n",
       "      <td>5.468805</td>\n",
       "      <td>80.751917</td>\n",
       "      <td>0.000000</td>\n",
       "      <td>0.000000</td>\n",
       "      <td>5.992825</td>\n",
       "      <td>0.000000</td>\n",
       "      <td>0.014068</td>\n",
       "      <td>0.000000</td>\n",
       "      <td>0.274319</td>\n",
       "      <td>0.235633</td>\n",
       "      <td>...</td>\n",
       "      <td>0.000000</td>\n",
       "      <td>0.000000</td>\n",
       "      <td>0.000000</td>\n",
       "      <td>0.000000</td>\n",
       "      <td>0.000000</td>\n",
       "      <td>0.000000</td>\n",
       "      <td>0.000000</td>\n",
       "      <td>0.000000</td>\n",
       "      <td>0.000000</td>\n",
       "      <td>0.000000</td>\n",
       "    </tr>\n",
       "    <tr>\n",
       "      <th>Sp7</th>\n",
       "      <td>2.525957</td>\n",
       "      <td>1.713743</td>\n",
       "      <td>0.005582</td>\n",
       "      <td>0.018142</td>\n",
       "      <td>4.873283</td>\n",
       "      <td>0.117227</td>\n",
       "      <td>1.646757</td>\n",
       "      <td>6.127889</td>\n",
       "      <td>2.756224</td>\n",
       "      <td>1.773752</td>\n",
       "      <td>...</td>\n",
       "      <td>0.000000</td>\n",
       "      <td>0.000000</td>\n",
       "      <td>0.000000</td>\n",
       "      <td>0.000000</td>\n",
       "      <td>0.000000</td>\n",
       "      <td>0.000000</td>\n",
       "      <td>0.000000</td>\n",
       "      <td>0.000000</td>\n",
       "      <td>0.000000</td>\n",
       "      <td>0.000000</td>\n",
       "    </tr>\n",
       "    <tr>\n",
       "      <th>Sp8</th>\n",
       "      <td>2.184587</td>\n",
       "      <td>1.202563</td>\n",
       "      <td>1.198402</td>\n",
       "      <td>0.000000</td>\n",
       "      <td>17.023136</td>\n",
       "      <td>0.000000</td>\n",
       "      <td>0.890479</td>\n",
       "      <td>4.277630</td>\n",
       "      <td>5.629993</td>\n",
       "      <td>3.649301</td>\n",
       "      <td>...</td>\n",
       "      <td>0.000000</td>\n",
       "      <td>0.000000</td>\n",
       "      <td>0.000000</td>\n",
       "      <td>0.000000</td>\n",
       "      <td>0.000000</td>\n",
       "      <td>0.000000</td>\n",
       "      <td>0.000000</td>\n",
       "      <td>0.000000</td>\n",
       "      <td>0.000000</td>\n",
       "      <td>0.000000</td>\n",
       "    </tr>\n",
       "    <tr>\n",
       "      <th>Sp9</th>\n",
       "      <td>1.280438</td>\n",
       "      <td>0.458262</td>\n",
       "      <td>0.705364</td>\n",
       "      <td>0.000000</td>\n",
       "      <td>10.149160</td>\n",
       "      <td>4.834217</td>\n",
       "      <td>2.920298</td>\n",
       "      <td>4.506245</td>\n",
       "      <td>3.149429</td>\n",
       "      <td>3.037110</td>\n",
       "      <td>...</td>\n",
       "      <td>0.000000</td>\n",
       "      <td>0.000000</td>\n",
       "      <td>0.000000</td>\n",
       "      <td>0.000000</td>\n",
       "      <td>0.000000</td>\n",
       "      <td>0.000000</td>\n",
       "      <td>0.000000</td>\n",
       "      <td>0.000000</td>\n",
       "      <td>0.000000</td>\n",
       "      <td>0.000000</td>\n",
       "    </tr>\n",
       "    <tr>\n",
       "      <th>Sp10</th>\n",
       "      <td>7.142857</td>\n",
       "      <td>7.142857</td>\n",
       "      <td>4.545455</td>\n",
       "      <td>0.000000</td>\n",
       "      <td>0.000000</td>\n",
       "      <td>0.000000</td>\n",
       "      <td>0.000000</td>\n",
       "      <td>0.000000</td>\n",
       "      <td>0.000000</td>\n",
       "      <td>5.844156</td>\n",
       "      <td>...</td>\n",
       "      <td>0.000000</td>\n",
       "      <td>0.000000</td>\n",
       "      <td>0.000000</td>\n",
       "      <td>0.000000</td>\n",
       "      <td>0.000000</td>\n",
       "      <td>0.000000</td>\n",
       "      <td>0.000000</td>\n",
       "      <td>0.000000</td>\n",
       "      <td>0.000000</td>\n",
       "      <td>0.000000</td>\n",
       "    </tr>\n",
       "    <tr>\n",
       "      <th>Sp11</th>\n",
       "      <td>0.997030</td>\n",
       "      <td>0.735948</td>\n",
       "      <td>0.068108</td>\n",
       "      <td>9.724351</td>\n",
       "      <td>3.942713</td>\n",
       "      <td>1.772707</td>\n",
       "      <td>2.166222</td>\n",
       "      <td>2.079195</td>\n",
       "      <td>4.222714</td>\n",
       "      <td>5.223528</td>\n",
       "      <td>...</td>\n",
       "      <td>0.000000</td>\n",
       "      <td>0.000000</td>\n",
       "      <td>0.000000</td>\n",
       "      <td>0.000000</td>\n",
       "      <td>0.000000</td>\n",
       "      <td>0.000000</td>\n",
       "      <td>0.000000</td>\n",
       "      <td>0.000000</td>\n",
       "      <td>0.000000</td>\n",
       "      <td>0.000000</td>\n",
       "    </tr>\n",
       "    <tr>\n",
       "      <th>Sp12</th>\n",
       "      <td>0.683286</td>\n",
       "      <td>1.895930</td>\n",
       "      <td>0.198979</td>\n",
       "      <td>0.000000</td>\n",
       "      <td>3.525304</td>\n",
       "      <td>6.284727</td>\n",
       "      <td>0.551885</td>\n",
       "      <td>2.800721</td>\n",
       "      <td>5.984382</td>\n",
       "      <td>2.402763</td>\n",
       "      <td>...</td>\n",
       "      <td>0.000000</td>\n",
       "      <td>0.000000</td>\n",
       "      <td>0.000000</td>\n",
       "      <td>0.000000</td>\n",
       "      <td>0.000000</td>\n",
       "      <td>0.000000</td>\n",
       "      <td>0.000000</td>\n",
       "      <td>0.000000</td>\n",
       "      <td>0.000000</td>\n",
       "      <td>0.000000</td>\n",
       "    </tr>\n",
       "    <tr>\n",
       "      <th>Sp13</th>\n",
       "      <td>4.018762</td>\n",
       "      <td>2.288878</td>\n",
       "      <td>0.075826</td>\n",
       "      <td>10.765487</td>\n",
       "      <td>4.905747</td>\n",
       "      <td>0.617186</td>\n",
       "      <td>0.357968</td>\n",
       "      <td>2.331200</td>\n",
       "      <td>1.144439</td>\n",
       "      <td>1.518278</td>\n",
       "      <td>...</td>\n",
       "      <td>0.000000</td>\n",
       "      <td>0.000000</td>\n",
       "      <td>0.000000</td>\n",
       "      <td>0.000000</td>\n",
       "      <td>0.000000</td>\n",
       "      <td>0.000000</td>\n",
       "      <td>0.000000</td>\n",
       "      <td>0.000000</td>\n",
       "      <td>0.000000</td>\n",
       "      <td>0.000000</td>\n",
       "    </tr>\n",
       "    <tr>\n",
       "      <th>Sp14</th>\n",
       "      <td>4.194349</td>\n",
       "      <td>4.617800</td>\n",
       "      <td>0.040155</td>\n",
       "      <td>0.135066</td>\n",
       "      <td>10.947653</td>\n",
       "      <td>0.032854</td>\n",
       "      <td>0.178871</td>\n",
       "      <td>1.062276</td>\n",
       "      <td>0.741038</td>\n",
       "      <td>0.996569</td>\n",
       "      <td>...</td>\n",
       "      <td>0.054757</td>\n",
       "      <td>0.032854</td>\n",
       "      <td>0.032854</td>\n",
       "      <td>0.032854</td>\n",
       "      <td>0.032854</td>\n",
       "      <td>0.029203</td>\n",
       "      <td>0.029203</td>\n",
       "      <td>0.025553</td>\n",
       "      <td>0.025553</td>\n",
       "      <td>0.000000</td>\n",
       "    </tr>\n",
       "    <tr>\n",
       "      <th>Sp15</th>\n",
       "      <td>1.897887</td>\n",
       "      <td>2.090615</td>\n",
       "      <td>10.224414</td>\n",
       "      <td>0.000000</td>\n",
       "      <td>3.952569</td>\n",
       "      <td>0.133930</td>\n",
       "      <td>1.215170</td>\n",
       "      <td>7.830007</td>\n",
       "      <td>4.200830</td>\n",
       "      <td>0.852579</td>\n",
       "      <td>...</td>\n",
       "      <td>0.000000</td>\n",
       "      <td>0.000000</td>\n",
       "      <td>0.000000</td>\n",
       "      <td>0.000000</td>\n",
       "      <td>0.000000</td>\n",
       "      <td>0.000000</td>\n",
       "      <td>0.000000</td>\n",
       "      <td>0.000000</td>\n",
       "      <td>0.000000</td>\n",
       "      <td>0.016333</td>\n",
       "    </tr>\n",
       "    <tr>\n",
       "      <th>Sp16</th>\n",
       "      <td>20.714286</td>\n",
       "      <td>25.357143</td>\n",
       "      <td>0.000000</td>\n",
       "      <td>0.000000</td>\n",
       "      <td>5.000000</td>\n",
       "      <td>0.000000</td>\n",
       "      <td>0.000000</td>\n",
       "      <td>0.000000</td>\n",
       "      <td>0.000000</td>\n",
       "      <td>0.000000</td>\n",
       "      <td>...</td>\n",
       "      <td>0.000000</td>\n",
       "      <td>0.000000</td>\n",
       "      <td>0.000000</td>\n",
       "      <td>0.000000</td>\n",
       "      <td>0.000000</td>\n",
       "      <td>0.000000</td>\n",
       "      <td>0.000000</td>\n",
       "      <td>0.000000</td>\n",
       "      <td>0.000000</td>\n",
       "      <td>0.000000</td>\n",
       "    </tr>\n",
       "    <tr>\n",
       "      <th>Sp17</th>\n",
       "      <td>24.786325</td>\n",
       "      <td>15.384615</td>\n",
       "      <td>0.000000</td>\n",
       "      <td>0.000000</td>\n",
       "      <td>19.658120</td>\n",
       "      <td>0.000000</td>\n",
       "      <td>0.000000</td>\n",
       "      <td>0.000000</td>\n",
       "      <td>0.000000</td>\n",
       "      <td>2.350427</td>\n",
       "      <td>...</td>\n",
       "      <td>0.000000</td>\n",
       "      <td>0.000000</td>\n",
       "      <td>0.000000</td>\n",
       "      <td>0.000000</td>\n",
       "      <td>0.000000</td>\n",
       "      <td>0.000000</td>\n",
       "      <td>0.000000</td>\n",
       "      <td>0.000000</td>\n",
       "      <td>0.000000</td>\n",
       "      <td>0.000000</td>\n",
       "    </tr>\n",
       "  </tbody>\n",
       "</table>\n",
       "<p>17 rows × 328 columns</p>\n",
       "</div>"
      ],
      "text/plain": [
       "      Beijerinckiaceae  Mycobacteriaceae  Ktedonobacteraceae  \\\n",
       "Sp1          57.894737         31.578947           10.526316   \n",
       "Sp2           1.448965          0.631692            0.039258   \n",
       "Sp3           0.000000          0.000000            0.000000   \n",
       "Sp4           1.247068          0.856460            0.017705   \n",
       "Sp5           0.524455          1.700505            0.190711   \n",
       "Sp6           5.468805         80.751917            0.000000   \n",
       "Sp7           2.525957          1.713743            0.005582   \n",
       "Sp8           2.184587          1.202563            1.198402   \n",
       "Sp9           1.280438          0.458262            0.705364   \n",
       "Sp10          7.142857          7.142857            4.545455   \n",
       "Sp11          0.997030          0.735948            0.068108   \n",
       "Sp12          0.683286          1.895930            0.198979   \n",
       "Sp13          4.018762          2.288878            0.075826   \n",
       "Sp14          4.194349          4.617800            0.040155   \n",
       "Sp15          1.897887          2.090615           10.224414   \n",
       "Sp16         20.714286         25.357143            0.000000   \n",
       "Sp17         24.786325         15.384615            0.000000   \n",
       "\n",
       "      Bryum argenteum var. argenteum  Burkholderiaceae  Micromonosporaceae  \\\n",
       "Sp1                         0.000000          0.000000            0.000000   \n",
       "Sp2                        10.413990          6.381156            4.043540   \n",
       "Sp3                         0.000000          0.000000            0.000000   \n",
       "Sp4                         0.000000          4.564467            1.226043   \n",
       "Sp5                         0.131114          8.470738            2.789145   \n",
       "Sp6                         0.000000          5.992825            0.000000   \n",
       "Sp7                         0.018142          4.873283            0.117227   \n",
       "Sp8                         0.000000         17.023136            0.000000   \n",
       "Sp9                         0.000000         10.149160            4.834217   \n",
       "Sp10                        0.000000          0.000000            0.000000   \n",
       "Sp11                        9.724351          3.942713            1.772707   \n",
       "Sp12                        0.000000          3.525304            6.284727   \n",
       "Sp13                       10.765487          4.905747            0.617186   \n",
       "Sp14                        0.135066         10.947653            0.032854   \n",
       "Sp15                        0.000000          3.952569            0.133930   \n",
       "Sp16                        0.000000          5.000000            0.000000   \n",
       "Sp17                        0.000000         19.658120            0.000000   \n",
       "\n",
       "      Opitutaceae  WD2101 soil group  Xanthobacteraceae  Chitinophagaceae  \\\n",
       "Sp1      0.000000           0.000000           0.000000          0.000000   \n",
       "Sp2      4.025696           3.540328           3.404711          3.222698   \n",
       "Sp3      0.000000           0.000000           0.000000          0.000000   \n",
       "Sp4      1.406409           3.713540           6.305050          6.754304   \n",
       "Sp5      3.198379           5.602130           3.929437          3.579801   \n",
       "Sp6      0.014068           0.000000           0.274319          0.235633   \n",
       "Sp7      1.646757           6.127889           2.756224          1.773752   \n",
       "Sp8      0.890479           4.277630           5.629993          3.649301   \n",
       "Sp9      2.920298           4.506245           3.149429          3.037110   \n",
       "Sp10     0.000000           0.000000           0.000000          5.844156   \n",
       "Sp11     2.166222           2.079195           4.222714          5.223528   \n",
       "Sp12     0.551885           2.800721           5.984382          2.402763   \n",
       "Sp13     0.357968           2.331200           1.144439          1.518278   \n",
       "Sp14     0.178871           1.062276           0.741038          0.996569   \n",
       "Sp15     1.215170           7.830007           4.200830          0.852579   \n",
       "Sp16     0.000000           0.000000           0.000000          0.000000   \n",
       "Sp17     0.000000           0.000000           0.000000          2.350427   \n",
       "\n",
       "      ...  Marinifilaceae  Aerococcaceae  Acetobacterales Incertae Sedis  \\\n",
       "Sp1   ...        0.000000       0.000000                        0.000000   \n",
       "Sp2   ...        0.000000       0.000000                        0.000000   \n",
       "Sp3   ...        0.000000       0.000000                        0.000000   \n",
       "Sp4   ...        0.000000       0.000000                        0.000000   \n",
       "Sp5   ...        0.000000       0.000000                        0.000000   \n",
       "Sp6   ...        0.000000       0.000000                        0.000000   \n",
       "Sp7   ...        0.000000       0.000000                        0.000000   \n",
       "Sp8   ...        0.000000       0.000000                        0.000000   \n",
       "Sp9   ...        0.000000       0.000000                        0.000000   \n",
       "Sp10  ...        0.000000       0.000000                        0.000000   \n",
       "Sp11  ...        0.000000       0.000000                        0.000000   \n",
       "Sp12  ...        0.000000       0.000000                        0.000000   \n",
       "Sp13  ...        0.000000       0.000000                        0.000000   \n",
       "Sp14  ...        0.054757       0.032854                        0.032854   \n",
       "Sp15  ...        0.000000       0.000000                        0.000000   \n",
       "Sp16  ...        0.000000       0.000000                        0.000000   \n",
       "Sp17  ...        0.000000       0.000000                        0.000000   \n",
       "\n",
       "      Bacteroidaceae  Hydrogenophilaceae  Arachis hypogaea var. vulgaris  \\\n",
       "Sp1         0.000000            0.000000                        0.000000   \n",
       "Sp2         0.000000            0.000000                        0.000000   \n",
       "Sp3         0.000000            0.000000                        0.000000   \n",
       "Sp4         0.000000            0.000000                        0.000000   \n",
       "Sp5         0.000000            0.000000                        0.000000   \n",
       "Sp6         0.000000            0.000000                        0.000000   \n",
       "Sp7         0.000000            0.000000                        0.000000   \n",
       "Sp8         0.000000            0.000000                        0.000000   \n",
       "Sp9         0.000000            0.000000                        0.000000   \n",
       "Sp10        0.000000            0.000000                        0.000000   \n",
       "Sp11        0.000000            0.000000                        0.000000   \n",
       "Sp12        0.000000            0.000000                        0.000000   \n",
       "Sp13        0.000000            0.000000                        0.000000   \n",
       "Sp14        0.032854            0.032854                        0.029203   \n",
       "Sp15        0.000000            0.000000                        0.000000   \n",
       "Sp16        0.000000            0.000000                        0.000000   \n",
       "Sp17        0.000000            0.000000                        0.000000   \n",
       "\n",
       "      Demequinaceae  Pseudohongiellaceae  Bacteroidetes vadinHA17  \\\n",
       "Sp1        0.000000             0.000000                 0.000000   \n",
       "Sp2        0.000000             0.000000                 0.000000   \n",
       "Sp3        0.000000             0.000000                 0.000000   \n",
       "Sp4        0.000000             0.000000                 0.000000   \n",
       "Sp5        0.000000             0.000000                 0.000000   \n",
       "Sp6        0.000000             0.000000                 0.000000   \n",
       "Sp7        0.000000             0.000000                 0.000000   \n",
       "Sp8        0.000000             0.000000                 0.000000   \n",
       "Sp9        0.000000             0.000000                 0.000000   \n",
       "Sp10       0.000000             0.000000                 0.000000   \n",
       "Sp11       0.000000             0.000000                 0.000000   \n",
       "Sp12       0.000000             0.000000                 0.000000   \n",
       "Sp13       0.000000             0.000000                 0.000000   \n",
       "Sp14       0.029203             0.025553                 0.025553   \n",
       "Sp15       0.000000             0.000000                 0.000000   \n",
       "Sp16       0.000000             0.000000                 0.000000   \n",
       "Sp17       0.000000             0.000000                 0.000000   \n",
       "\n",
       "      Thermoanaerobacteraceae  \n",
       "Sp1                  0.000000  \n",
       "Sp2                  0.000000  \n",
       "Sp3                  0.000000  \n",
       "Sp4                  0.000000  \n",
       "Sp5                  0.000000  \n",
       "Sp6                  0.000000  \n",
       "Sp7                  0.000000  \n",
       "Sp8                  0.000000  \n",
       "Sp9                  0.000000  \n",
       "Sp10                 0.000000  \n",
       "Sp11                 0.000000  \n",
       "Sp12                 0.000000  \n",
       "Sp13                 0.000000  \n",
       "Sp14                 0.000000  \n",
       "Sp15                 0.016333  \n",
       "Sp16                 0.000000  \n",
       "Sp17                 0.000000  \n",
       "\n",
       "[17 rows x 328 columns]"
      ]
     },
     "execution_count": 3,
     "metadata": {},
     "output_type": "execute_result"
    }
   ],
   "source": [
    "df=pd.read_csv('../data/relative_abundance_df.csv',index_col = 0)\n",
    "df"
   ]
  },
  {
   "cell_type": "code",
   "execution_count": 4,
   "metadata": {
    "metadata": {}
   },
   "outputs": [
    {
     "name": "stdout",
     "output_type": "stream",
     "text": [
      "      NO.                           Moss name classification(30)  Week 4  \\\n",
      "0    sp.1             Brachythecium Rutabulum               Good      33   \n",
      "1    sp.2                  Platygyrium Repens                Bad       0   \n",
      "2    sp.3            Bryoandersonia illecebra               Good      10   \n",
      "3    sp.4                Aulacomnium Palustre                Bad       0   \n",
      "4    sp.5                   Entodon seductrix               Good       0   \n",
      "5    sp.6                    Hedwigia ciliata                Bad       0   \n",
      "6    sp.7                  Leucobryum glaucum                Bad       0   \n",
      "7    sp.8                   Sphagnum palustre                Bad       0   \n",
      "8    sp.9                      Bryum argentum                Bad       0   \n",
      "9   sp.10                Ceretodon purpureous                Bad       0   \n",
      "10  sp.11                 Atrichum angustatum               Good      55   \n",
      "11  sp.12                 Anomodon attenuates               Good       9   \n",
      "12  sp.13                  Bryum Caetspitcium                Bad       5   \n",
      "13  sp.14                          Sheet moss               Good       0   \n",
      "14  sp.15                        Haircap moss                Bad       7   \n",
      "15  sp.16                        Cushion moss               Good      20   \n",
      "16  sp.17  Claopodium rostratum (campus moss)               Good      41   \n",
      "\n",
      "    Week 5  Week 6  Week 7  Week 8  Week 10  Week 12  \n",
      "0       45      47      47      74       78       78  \n",
      "1        0       0       2       2        2        2  \n",
      "2       11      18      30      31       36       46  \n",
      "3        1       3       4       9        9        9  \n",
      "4        1       9      13      19       30       31  \n",
      "5        0       0       0       0        0        0  \n",
      "6        0       1       1       1        1        1  \n",
      "7        3       5       9      10       10       12  \n",
      "8        0       0       0       0        1        0  \n",
      "9        0       0       0       0        0        0  \n",
      "10      55      57      57      57       65       66  \n",
      "11      10      10       0       2       20       32  \n",
      "12       6      10      12      25       25       27  \n",
      "13       2       2      16      22       45       53  \n",
      "14       7      10      13      16       21       23  \n",
      "15      23      32      33      39       42       45  \n",
      "16      58      88      98      99      100      100  \n",
      "['Good' 'Bad' 'Good' 'Bad' 'Good' 'Bad' 'Bad' 'Bad' 'Bad' 'Bad' 'Good'\n",
      " 'Good' 'Bad' 'Good' 'Bad' 'Good' 'Good']\n",
      "Bad     9\n",
      "Good    8\n",
      "Name: count, dtype: int64\n"
     ]
    }
   ],
   "source": [
    "# target variable\n",
    "y_data = pd.read_excel('../data/rawdata/Moss-classification.xlsx') \n",
    "print(y_data)\n",
    "y = y_data.iloc[:,2].values\n",
    "print(y)\n",
    "print(pd.Series(y).value_counts())"
   ]
  },
  {
   "cell_type": "code",
   "execution_count": 31,
   "metadata": {},
   "outputs": [
    {
     "data": {
      "text/plain": [
       "Index(['Beijerinckiaceae', 'Mycobacteriaceae', 'Ktedonobacteraceae',\n",
       "       'Bryum argenteum var. argenteum', 'Burkholderiaceae',\n",
       "       'Micromonosporaceae', 'Opitutaceae', 'WD2101 soil group',\n",
       "       'Xanthobacteraceae', 'Chitinophagaceae',\n",
       "       ...\n",
       "       'Marinifilaceae', 'Aerococcaceae', 'Acetobacterales Incertae Sedis',\n",
       "       'Bacteroidaceae', 'Hydrogenophilaceae',\n",
       "       'Arachis hypogaea var. vulgaris', 'Demequinaceae',\n",
       "       'Pseudohongiellaceae', 'Bacteroidetes vadinHA17',\n",
       "       'Thermoanaerobacteraceae'],\n",
       "      dtype='object', length=328)"
      ]
     },
     "execution_count": 31,
     "metadata": {},
     "output_type": "execute_result"
    }
   ],
   "source": [
    "ASVs = df.columns\n",
    "ASVs"
   ]
  },
  {
   "cell_type": "code",
   "execution_count": null,
   "metadata": {},
   "outputs": [],
   "source": []
  },
  {
   "cell_type": "markdown",
   "metadata": {},
   "source": [
    "### 2. Kruskal-Wallis H-test\n",
    "The default p value of the function is 10%, the resulted index is ranked by its H statistics descendingly."
   ]
  },
  {
   "cell_type": "markdown",
   "metadata": {},
   "source": []
  },
  {
   "cell_type": "code",
   "execution_count": 17,
   "metadata": {},
   "outputs": [
    {
     "data": {
      "text/plain": [
       "dict_keys(['selected_data', 'selected_columnames', 'selected_indices', 'relative_abundance_data', 'H_score'])"
      ]
     },
     "execution_count": 17,
     "metadata": {},
     "output_type": "execute_result"
    }
   ],
   "source": [
    "select_result.keys()"
   ]
  },
  {
   "cell_type": "code",
   "execution_count": 28,
   "metadata": {},
   "outputs": [
    {
     "data": {
      "image/png": "[encoded data removed]",
      "text/plain": [
       "<Figure size 800x500 with 1 Axes>"
      ]
     },
     "metadata": {},
     "output_type": "display_data"
    }
   ],
   "source": [
    "select_result = FS.SelectMicro_fun(df,y)"
   ]
  },
  {
   "cell_type": "code",
   "execution_count": 18,
   "metadata": {
    "metadata": {}
   },
   "outputs": [
    {
     "name": "stdout",
     "output_type": "stream",
     "text": [
      "(17, 328)\n"
     ]
    }
   ],
   "source": [
    "# abundance matrix--> relative abundance matrix (relative by sample, and delete that below 1%)\n",
    "data=select_result['relative_abundance_data']\n",
    "print(np.shape(data))"
   ]
  },
  {
   "cell_type": "code",
   "execution_count": 19,
   "metadata": {},
   "outputs": [
    {
     "data": {
      "text/plain": [
       "array([[0.57894737, 0.31578947, 0.10526316, ..., 0.        , 0.        ,\n",
       "        0.        ],\n",
       "       [0.01448965, 0.        , 0.        , ..., 0.        , 0.        ,\n",
       "        0.        ],\n",
       "       [0.        , 0.        , 0.        , ..., 0.        , 0.        ,\n",
       "        0.        ],\n",
       "       ...,\n",
       "       [0.01897887, 0.02090615, 0.10224414, ..., 0.        , 0.        ,\n",
       "        0.        ],\n",
       "       [0.20714286, 0.25357143, 0.        , ..., 0.        , 0.        ,\n",
       "        0.        ],\n",
       "       [0.24786325, 0.15384615, 0.        , ..., 0.        , 0.        ,\n",
       "        0.        ]])"
      ]
     },
     "execution_count": 19,
     "metadata": {},
     "output_type": "execute_result"
    }
   ],
   "source": [
    "data"
   ]
  },
  {
   "cell_type": "markdown",
   "metadata": {},
   "source": []
  },
  {
   "cell_type": "code",
   "execution_count": 32,
   "metadata": {},
   "outputs": [],
   "source": [
    "#  H score for each OTU, the function will: 1. filter those below threshold (1%) to 0; 2. rank the data; calculate the H statistics\n",
    "weights=select_result['H_score']"
   ]
  },
  {
   "cell_type": "code",
   "execution_count": null,
   "metadata": {},
   "outputs": [],
   "source": []
  },
  {
   "cell_type": "markdown",
   "metadata": {},
   "source": []
  },
  {
   "cell_type": "code",
   "execution_count": 33,
   "metadata": {},
   "outputs": [
    {
     "name": "stdout",
     "output_type": "stream",
     "text": [
      "11\n"
     ]
    }
   ],
   "source": [
    "selectedOTU_index = select_result['selected_indices']\n",
    "eps = len(selectedOTU_index)\n",
    "\n",
    "print(eps)"
   ]
  },
  {
   "cell_type": "code",
   "execution_count": 24,
   "metadata": {},
   "outputs": [],
   "source": [
    "# the subset based on the method.\n",
    "X_FS = select_result['selected_data']"
   ]
  },
  {
   "cell_type": "code",
   "execution_count": 26,
   "metadata": {
    "metadata": {},
    "scrolled": true
   },
   "outputs": [
    {
     "name": "stdout",
     "output_type": "stream",
     "text": [
      "Index(['Acetobacteraceae', 'Solibacteraceae (Subgroup 3)', 'Pedosphaeraceae',\n",
      "       'Acidobacteriaceae (Subgroup 1)', 'Clostridiaceae 1', 'Isosphaeraceae',\n",
      "       'Pseudomonadaceae', 'Gemmataceae', 'WD2101 soil group',\n",
      "       'Acidothermaceae', 'Xanthomonadaceae'],\n",
      "      dtype='object')\n"
     ]
    }
   ],
   "source": [
    "ASVs_selected= select_result['selected_columnames']\n",
    "print(ASVs_selected)\n",
    "#plot the h statistics and cutoff descendingly\n",
    "# FS.plotWeightedIndex(weights,threshold=eps)"
   ]
  },
  {
   "cell_type": "code",
   "execution_count": null,
   "metadata": {},
   "outputs": [],
   "source": []
  },
  {
   "cell_type": "code",
   "execution_count": null,
   "metadata": {},
   "outputs": [],
   "source": []
  },
  {
   "cell_type": "markdown",
   "metadata": {},
   "source": [
    "### Model\n",
    "Prepare 4 datasets: full dataset, our selected dataset, Lasso selected  dataset(based on the target variable), randomly selected data (selected the same numer of variables as in our method)\n",
    "\n",
    "Use random forest and SVM as classifier, and will build both models for each response variable.\n",
    "\n",
    "For Lasso, the dataset will be determined by the response variable, so the lasso subset is different for the models for different response variables.\n",
    "\n",
    "For random selection, the  process will repeat iter=30 times to  find the mean accuracy and AUC\n",
    "\n",
    "SMOTE  is used (the data is not balanced, as we can see the performance is really bad especially for SVM model when not using SMOTE)"
   ]
  },
  {
   "cell_type": "code",
   "execution_count": 34,
   "metadata": {},
   "outputs": [],
   "source": [
    "iter =30\n",
    "cls = [\"RF\",\"SVM\"]"
   ]
  },
  {
   "cell_type": "code",
   "execution_count": 38,
   "metadata": {},
   "outputs": [
    {
     "name": "stdout",
     "output_type": "stream",
     "text": [
      "[14, 25, 51, 42, 108, 11, 113, 17, 7, 82, 37]\n"
     ]
    }
   ],
   "source": [
    "targetLabel=y\n",
    "print(selectedOTU_index)"
   ]
  },
  {
   "cell_type": "code",
   "execution_count": 36,
   "metadata": {},
   "outputs": [
    {
     "name": "stdout",
     "output_type": "stream",
     "text": [
      "[  0  14  25  32  58  62  76 108 148 153 168]\n"
     ]
    }
   ],
   "source": [
    "X_lasso,xlabel_lasso = RunML_continue.LassoFeatureSelection(data,targetLabel)\n",
    "print(xlabel_lasso)"
   ]
  },
  {
   "cell_type": "code",
   "execution_count": 39,
   "metadata": {},
   "outputs": [
    {
     "name": "stdout",
     "output_type": "stream",
     "text": [
      "Best alpha: 0.1\n",
      "[  0  14  25  32  56  58  76 108 113 153 168]\n"
     ]
    }
   ],
   "source": [
    "X_lasso_ft,xlabel_lasso_ft  = RunML_continue.LassoFS_CV(data,targetLabel)\n",
    "print(xlabel_lasso_ft)"
   ]
  },
  {
   "cell_type": "code",
   "execution_count": 40,
   "metadata": {},
   "outputs": [],
   "source": [
    "data_subset = {\"AllFeatures\":data, \n",
    "               \"SelectMicro\": X_FS,\n",
    "               \"Lasso\":X_lasso,\n",
    "               \"Lasso_finetune\":X_lasso_ft,\n",
    "               \"Random\":data\n",
    "              }"
   ]
  },
  {
   "cell_type": "code",
   "execution_count": 41,
   "metadata": {},
   "outputs": [
    {
     "name": "stdout",
     "output_type": "stream",
     "text": [
      "(17, 328)\n",
      "(17, 11)\n",
      "(17, 11)\n",
      "(17, 11)\n"
     ]
    }
   ],
   "source": [
    "print(np.shape(data))\n",
    "print(np.shape(X_FS))\n",
    "print(np.shape(X_lasso))\n",
    "print(np.shape(X_lasso_ft))"
   ]
  },
  {
   "cell_type": "code",
   "execution_count": null,
   "metadata": {},
   "outputs": [],
   "source": []
  },
  {
   "cell_type": "markdown",
   "metadata": {},
   "source": [
    "The  function will print out the accuracy and AUC for each dataset using each classifier, and also will return the y_actual, y_predict, y_predprob for future use."
   ]
  },
  {
   "cell_type": "code",
   "execution_count": 42,
   "metadata": {},
   "outputs": [
    {
     "name": "stdout",
     "output_type": "stream",
     "text": [
      "                RF_Accuracy    RF_AUC  SVM_Accuracy   SVM_AUC\n",
      "AllFeatures        0.533333  0.725000      0.600000  0.650000\n",
      "SelectMicro        0.700000  0.900000      0.600000  0.175000\n",
      "Lasso              0.766667  0.950000      0.600000  0.350000\n",
      "Lasso_finetune     0.833333  0.925000      0.600000  0.350000\n",
      "Random             0.577222  0.618333      0.488889  0.420833\n"
     ]
    }
   ],
   "source": [
    "dict_cm = RunML_continue.runClassifier_FScompare(data_subsets= data_subset,y= targetLabel,N=iter,classifiers=cls)"
   ]
  },
  {
   "cell_type": "code",
   "execution_count": null,
   "metadata": {},
   "outputs": [],
   "source": [
    "X_lasso_FS = data[:,[14,15,108]]\n",
    "print(np.shape(X_lasso_FS))\n",
    "data_subset2 = {\n",
    "               \"SelectMicro\": X_FS,\n",
    "               \"Lasso\":X_lasso,\n",
    "               \"SelectMicro_Lasso_intersection\": X_lasso_FS\n",
    "              }\n",
    "\n",
    "dict_cm2 = RunML_continue.runClassifier_FScompare(data_subsets= data_subset2,y= targetLabel,N=iter,classifiers=cls)"
   ]
  },
  {
   "cell_type": "code",
   "execution_count": null,
   "metadata": {},
   "outputs": [],
   "source": [
    "weights[xlabel_lasso]# check it's H"
   ]
  },
  {
   "cell_type": "code",
   "execution_count": null,
   "metadata": {},
   "outputs": [],
   "source": [
    "ASVs_selected_lasso = ASVs[xlabel_lasso]\n",
    "\n",
    "# Convert arrays to sets for easier operations\n",
    "set_FS = set(ASVs_selected)\n",
    "set_Lasso = set(ASVs_selected_lasso)\n",
    "\n",
    "# Items in both arrays (intersection)\n",
    "intersection = set_FS & set_Lasso\n",
    "\n",
    "# Items in array A but not in array B (difference)\n",
    "only_in_a = set_FS - set_Lasso\n",
    "\n",
    "# Items in array B but not in array A (difference)\n",
    "only_in_b = set_Lasso - set_FS\n",
    "\n",
    "# Print results\n",
    "print(\"Items in both selection:\", intersection)\n",
    "print(\"Items in array FS but not in Lasso:\", only_in_a)\n",
    "print(\"Items in Lasso but not in FS:\", only_in_b)"
   ]
  },
  {
   "cell_type": "code",
   "execution_count": null,
   "metadata": {},
   "outputs": [],
   "source": [
    "# do not use plotmacro_confusion_matrices (not for binary classification)\n",
    "for dataset_name, classifiers in dict_cm.items():\n",
    "        for classifier_name, labels in classifiers.items():\n",
    "            actual_labels = labels[0]\n",
    "            predicted_labels = labels[1]\n",
    "            metric.plot_confusion_matrices(actual_labels, predicted_labels,f\"{dataset_name} - {classifier_name}\")"
   ]
  },
  {
   "cell_type": "code",
   "execution_count": null,
   "metadata": {},
   "outputs": [],
   "source": [
    "# do not use plotmacro_confusion_matrices (not for binary classification)\n",
    "for dataset_name, classifiers in dict_cm2.items():\n",
    "        for classifier_name, labels in classifiers.items():\n",
    "            actual_labels = labels[0]\n",
    "            predicted_labels = labels[1]\n",
    "            metric.plot_confusion_matrices(actual_labels, predicted_labels,f\"{dataset_name} - {classifier_name}\")"
   ]
  },
  {
   "cell_type": "markdown",
   "metadata": {},
   "source": [
    "### compare the first 15 index by their present ratio"
   ]
  },
  {
   "cell_type": "code",
   "execution_count": 71,
   "metadata": {
    "metadata": {}
   },
   "outputs": [
    {
     "name": "stdout",
     "output_type": "stream",
     "text": [
      "Validation passed: Dimensions are correct.\n",
      "Good= 8, Bad = 9\n",
      "                               OTU  presence_pos  presence_neg\n",
      "0                 Acetobacteraceae         0.125      0.777778\n",
      "1     Solibacteraceae (Subgroup 3)         0.250      0.777778\n",
      "2                  Pedosphaeraceae         0.000      0.555556\n",
      "3   Acidobacteriaceae (Subgroup 1)         0.000      0.444444\n",
      "4                 Clostridiaceae 1         0.375      0.000000\n",
      "5                   Isosphaeraceae         0.250      0.777778\n",
      "6                 Pseudomonadaceae         0.500      0.111111\n",
      "7                      Gemmataceae         0.375      0.777778\n",
      "8                WD2101 soil group         0.500      0.777778\n",
      "9                  Acidothermaceae         0.000      0.333333\n",
      "10                Xanthomonadaceae         0.500      0.111111\n"
     ]
    },
    {
     "data": {
      "image/png": "[encoded data removed]",
      "text/plain": [
       "<Figure size 1000x500 with 2 Axes>"
      ]
     },
     "metadata": {},
     "output_type": "display_data"
    }
   ],
   "source": [
    "FS.plotPresenseRatio(X_FS,targetLabel,ASVs_selected,posLabel=\"Good\",posText=\"Good\",negText=\"Bad\")"
   ]
  },
  {
   "cell_type": "code",
   "execution_count": 45,
   "metadata": {},
   "outputs": [
    {
     "name": "stdout",
     "output_type": "stream",
     "text": [
      "Validation passed: Dimensions are correct.\n",
      "8 9\n",
      "                             OTU  presence_pos  presence_neg\n",
      "0               Beijerinckiaceae         0.500      1.000000\n",
      "1               Acetobacteraceae         0.125      0.777778\n",
      "2   Solibacteraceae (Subgroup 3)         0.250      0.777778\n",
      "3             Pseudonocardiaceae         0.250      0.000000\n",
      "4                Spirochaetaceae         0.500      0.333333\n",
      "5     Rhizobiales Incertae Sedis         0.250      0.111111\n",
      "6                        SC-I-84         0.125      0.000000\n",
      "7               Clostridiaceae 1         0.375      0.000000\n",
      "8              Dysgonomonadaceae         0.250      0.000000\n",
      "9                 Rubritaleaceae         0.000      0.111111\n",
      "10              Cloacimonadaceae         0.000      0.111111\n"
     ]
    },
    {
     "data": {
      "image/png": "[encoded data removed]",
      "text/plain": [
       "<Figure size 1000x500 with 2 Axes>"
      ]
     },
     "metadata": {},
     "output_type": "display_data"
    },
    {
     "name": "stdout",
     "output_type": "stream",
     "text": [
      "Validation passed: Dimensions are correct.\n",
      "8 9\n",
      "                             OTU  presence_pos  presence_neg\n",
      "0               Beijerinckiaceae         0.500      1.000000\n",
      "1               Acetobacteraceae         0.125      0.777778\n",
      "2   Solibacteraceae (Subgroup 3)         0.250      0.777778\n",
      "3             Pseudonocardiaceae         0.250      0.000000\n",
      "4                   JG30-KF-CM45         0.250      0.000000\n",
      "5                Spirochaetaceae         0.500      0.333333\n",
      "6                        SC-I-84         0.125      0.000000\n",
      "7               Clostridiaceae 1         0.375      0.000000\n",
      "8               Pseudomonadaceae         0.500      0.111111\n",
      "9                 Rubritaleaceae         0.000      0.111111\n",
      "10              Cloacimonadaceae         0.000      0.111111\n"
     ]
    },
    {
     "data": {
      "image/png": "[encoded data removed]",
      "text/plain": [
       "<Figure size 1000x500 with 2 Axes>"
      ]
     },
     "metadata": {},
     "output_type": "display_data"
    }
   ],
   "source": [
    "ASVs_selected_lasso = ASVs[xlabel_lasso]\n",
    "FS.plotPresenseRatio(X_lasso,targetLabel,ASVs_selected_lasso,posLabel=\"Good\",posText=\"Good\",negText=\"Bad\")\n",
    "ASVs_selected_lasso_ft = ASVs[xlabel_lasso_ft]\n",
    "FS.plotPresenseRatio(X_lasso_ft,targetLabel,ASVs_selected_lasso_ft,posLabel=\"Good\",posText=\"Good\",negText=\"Bad\")"
   ]
  },
  {
   "cell_type": "code",
   "execution_count": null,
   "metadata": {},
   "outputs": [],
   "source": []
  },
  {
   "cell_type": "code",
   "execution_count": null,
   "metadata": {},
   "outputs": [],
   "source": [
    "df_FS = pd.DataFrame(X_FS)\n",
    "df_FS.columns = ASVs_selected\n",
    "df_FS.index = y\n"
   ]
  },
  {
   "cell_type": "code",
   "execution_count": null,
   "metadata": {},
   "outputs": [],
   "source": [
    "df_lasso=pd.DataFrame(X_lasso)\n",
    "df_lasso.columns = ASVs_selected_lasso\n",
    "df_lasso.index = y\n",
    "\n",
    "# Sort DataFrame by index\n",
    "df_sorted = df_lasso.sort_index()\n",
    "\n",
    "#print(\"\\nSorted DataFrame by index:\")\n",
    "#print(df_sorted)"
   ]
  },
  {
   "cell_type": "code",
   "execution_count": null,
   "metadata": {},
   "outputs": [],
   "source": []
  },
  {
   "cell_type": "code",
   "execution_count": null,
   "metadata": {},
   "outputs": [],
   "source": [
    "weights[xlabel_lasso]# check it's H"
   ]
  },
  {
   "cell_type": "code",
   "execution_count": null,
   "metadata": {},
   "outputs": [],
   "source": [
    "unique_groups = np.unique(y)\n",
    "for i in range(len(xlabel_lasso)):\n",
    "    test = [data[y == group,xlabel_lasso[i]] for group in unique_groups]\n",
    "    print(stats.kruskal(*test))"
   ]
  },
  {
   "cell_type": "markdown",
   "metadata": {},
   "source": [
    "### Negative Gini Impurity\n",
    "Gini Impurity is the probability of incorrectly classifying a randomly chosen element in the dataset if it were randomly labeled according to the class distribution in the dataset. It’s calculated as:\n",
    "\n",
    "$G = 1- \\sum_{i=1}^C p_i^2$\n",
    "\n",
    "where C is the number of classes. (which means it can be used to measure for multiple level classification)\n",
    "\n",
    "Here I will use the negative Gini Impurity to measure each OTU, if NG is large (1) which means the OTU only exist in one class, if NG value is small($1/c$) which means the OTU is evenly distributed among  the classes.\n",
    "\n",
    "$NG = \\sum_{i=1}^C p_i^2$"
   ]
  },
  {
   "cell_type": "code",
   "execution_count": null,
   "metadata": {},
   "outputs": [],
   "source": [
    "# NG for selected OTU\n",
    "NG_selected = metric.Neg_GINI(X_FS,y)\n",
    "print(NG_selected.shape)\n",
    "# NG for Not selected OTU\n",
    "X_FS_none = np.delete(data, selectedOTU_index, axis=1)\n",
    "NG_noselected = metric.Neg_GINI(X_FS_none,y)\n",
    "print(NG_noselected.shape)"
   ]
  },
  {
   "cell_type": "code",
   "execution_count": null,
   "metadata": {},
   "outputs": [],
   "source": [
    "X_lasso = data[:,xlabel_lasso]\n",
    "print(X_lasso.shape)\n",
    "X_lasso_none = np.delete(data, xlabel_lasso, axis=1)\n",
    "print(X_lasso_none.shape)\n",
    "Ng1 = metric.Neg_GINI(X_lasso,y)\n",
    "Ng2 = metric.Neg_GINI(X_lasso_none,y)\n",
    "ng_lasso=[Ng1,Ng2]\n"
   ]
  },
  {
   "cell_type": "code",
   "execution_count": null,
   "metadata": {},
   "outputs": [],
   "source": [
    "NG_selected"
   ]
  },
  {
   "cell_type": "code",
   "execution_count": null,
   "metadata": {},
   "outputs": [],
   "source": [
    "ng_lasso[0]"
   ]
  },
  {
   "cell_type": "markdown",
   "metadata": {},
   "source": [
    "#### Compare lasso and SelectMicro"
   ]
  },
  {
   "cell_type": "code",
   "execution_count": null,
   "metadata": {},
   "outputs": [],
   "source": [
    "plt.boxplot([NG_selected, ng_lasso[0]], tick_labels=['SelectMicro', 'Lasso'])\n",
    "plt.title(f'NG results of the selected OTU vs. non-selected OTUs')\n",
    "plt.ylabel('NG')\n",
    "plt.grid(axis='y')\n",
    "#print(len(NG_selected[i, :]))\n",
    "# Adjust layout\n",
    "plt.tight_layout()  # Adjusts the subplots to fit into the figure area.\n",
    "plt.show()  # Show all plots at once\n",
    "# the median of Lasso is 1"
   ]
  },
  {
   "cell_type": "code",
   "execution_count": null,
   "metadata": {},
   "outputs": [],
   "source": [
    "# compare the selected and non select by our method\n",
    "\n",
    "plt.boxplot([NG_selected, NG_noselected], tick_labels=['SelectMicro', 'Not selected'])\n",
    "plt.title(f'NG results of the selected OTU vs. non selected OTUs by our method')\n",
    "plt.ylabel('NG')\n",
    "plt.grid(axis='y')\n",
    "\n",
    "# Show the plot\n",
    "plt.show()"
   ]
  },
  {
   "cell_type": "code",
   "execution_count": null,
   "metadata": {},
   "outputs": [],
   "source": [
    "# compare the selected and non select by lasso\n",
    "\n",
    "plt.boxplot([ng_lasso[0], ng_lasso[1]], tick_labels=['Lasso', 'Not selected'])\n",
    "plt.title(f'NG results of the selected OTU vs. non-selected OTUs by Lasso')\n",
    "plt.ylabel('NG')\n",
    "plt.grid(axis='y')\n",
    "# Adjust layout\n",
    "plt.tight_layout()  # Adjusts the subplots to fit into the figure area.\n",
    "plt.show()  # Show all plots at once"
   ]
  }
 ],
 "metadata": {
  "kernelspec": {
   "display_name": "Python 3 (ipykernel)",
   "language": "python",
   "name": "python3"
  },
  "language_info": {
   "codemirror_mode": {
    "name": "ipython",
    "version": 3
   },
   "file_extension": ".py",
   "mimetype": "text/x-python",
   "name": "python",
   "nbconvert_exporter": "python",
   "pygments_lexer": "ipython3",
   "version": "3.9.10"
  }
 },
 "nbformat": 4,
 "nbformat_minor": 4
}
