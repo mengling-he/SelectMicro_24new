{
 "cells": [
  {
   "cell_type": "code",
   "execution_count": 1,
   "id": "32fcb680-0e3c-4a24-af00-86b47490c7e9",
   "metadata": {},
   "outputs": [],
   "source": [
    "import xgboost as xgb"
   ]
  },
  {
   "cell_type": "code",
   "execution_count": 2,
   "id": "b3e59954-d69b-4647-8dfc-59e486a7829c",
   "metadata": {},
   "outputs": [
    {
     "ename": "ImportError",
     "evalue": "cannot import name 'compute' from 'cliffs_delta' (/lustre/isaac/scratch/mhe8/myenv/lib/python3.9/site-packages/cliffs_delta/__init__.py)",
     "output_type": "error",
     "traceback": [
      "\u001b[0;31m---------------------------------------------------------------------------\u001b[0m",
      "\u001b[0;31mImportError\u001b[0m                               Traceback (most recent call last)",
      "Cell \u001b[0;32mIn[2], line 1\u001b[0m\n\u001b[0;32m----> 1\u001b[0m \u001b[38;5;28;01mfrom\u001b[39;00m \u001b[38;5;21;01mcliffs_delta\u001b[39;00m \u001b[38;5;28;01mimport\u001b[39;00m compute \u001b[38;5;28;01mas\u001b[39;00m cliffs_delta_compute\n",
      "\u001b[0;31mImportError\u001b[0m: cannot import name 'compute' from 'cliffs_delta' (/lustre/isaac/scratch/mhe8/myenv/lib/python3.9/site-packages/cliffs_delta/__init__.py)"
     ]
    }
   ],
   "source": []
  }
 ],
 "metadata": {
  "kernelspec": {
   "display_name": "Python 3 (ipykernel)",
   "language": "python",
   "name": "python3"
  },
  "language_info": {
   "codemirror_mode": {
    "name": "ipython",
    "version": 3
   },
   "file_extension": ".py",
   "mimetype": "text/x-python",
   "name": "python",
   "nbconvert_exporter": "python",
   "pygments_lexer": "ipython3",
   "version": "3.9.10"
  }
 },
 "nbformat": 4,
 "nbformat_minor": 5
}
