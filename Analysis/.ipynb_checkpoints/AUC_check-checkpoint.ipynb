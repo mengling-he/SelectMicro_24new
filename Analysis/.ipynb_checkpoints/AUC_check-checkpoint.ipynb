{
 "cells": [
  {
   "cell_type": "code",
   "execution_count": 4,
   "id": "e7496144-e577-40f0-a171-a71191d402b3",
   "metadata": {},
   "outputs": [],
   "source": [
    "from sklearn.metrics import roc_auc_score\n",
    "\n",
    "# Example data\n",
    "y_true = [0, 1, 1, 0, 1,0]\n",
    "y_pred_prob = [0.1, 0.9, 0.8, 0.4, 0.7,0.7]\n"
   ]
  },
  {
   "cell_type": "code",
   "execution_count": 5,
   "id": "294fc1f6-7f1f-4972-beae-c6d5bd091028",
   "metadata": {},
   "outputs": [],
   "source": [
    "import numpy as np\n",
    "from sklearn.metrics import roc_auc_score\n",
    "from scipy.stats import norm\n",
    "\n",
    "# Function to calculate AUC variance using DeLong's method\n",
    "def delong_roc_variance(y_true, y_scores):\n",
    "    \"\"\"\n",
    "    Calculate the variance of the AUC using DeLong's method.\n",
    "    \"\"\"\n",
    "    from sklearn.utils import check_consistent_length\n",
    "    from sklearn.utils.validation import column_or_1d\n",
    "    from scipy.stats import mannwhitneyu\n",
    "    \n",
    "    y_true = column_or_1d(y_true)\n",
    "    y_scores = column_or_1d(y_scores)\n",
    "    check_consistent_length(y_true, y_scores)\n",
    "    \n",
    "    positive_scores = y_scores[y_true == 1]\n",
    "    negative_scores = y_scores[y_true == 0]\n",
    "    m, n = len(positive_scores), len(negative_scores)\n",
    "    \n",
    "    U, _ = mannwhitneyu(positive_scores, negative_scores)\n",
    "    auc = U / (m * n)  # Calculate AUC\n",
    "    \n",
    "    V10 = np.var([1 if x > y else 0 for x in positive_scores for y in negative_scores])\n",
    "    V01 = np.var([1 if x < y else 0 for x in positive_scores for y in negative_scores])\n",
    "    \n",
    "    variance = (V10 / m) + (V01 / n)\n",
    "    return auc, variance"
   ]
  },
  {
   "cell_type": "code",
   "execution_count": 11,
   "id": "3c5ff64d-c1e9-4efa-8c89-a2ffd0815723",
   "metadata": {},
   "outputs": [],
   "source": [
    "def delong_auc_variance(y_true, y_pred_prob):\n",
    "    \"\"\"\n",
    "    Compute AUC and its variance using DeLong's method.\n",
    "\n",
    "    Parameters:\n",
    "        y_true (list or array): True labels (0 or 1).\n",
    "        y_pred_prob (list or array): Predicted probabilities.\n",
    "\n",
    "    Returns:\n",
    "        auc (float): Area under the ROC curve.\n",
    "        var_auc (float): Variance of the AUC.\n",
    "    \"\"\"\n",
    "    # Separate positive and negative scores\n",
    "    positive_scores = y_pred_prob[y_true == 1]\n",
    "    negative_scores = y_pred_prob[y_true == 0]\n",
    "    \n",
    "    # Number of positives and negatives\n",
    "    n_positives = len(positive_scores)\n",
    "    n_negatives = len(negative_scores)\n",
    "    \n",
    "    # Compute AUC\n",
    "    auc = roc_auc_score(y_true, y_pred_prob)\n",
    "\n",
    "    # Compute rank sum for positive scores\n",
    "    all_scores = np.concatenate([positive_scores, negative_scores])\n",
    "    ranks = np.argsort(np.argsort(all_scores)) + 1\n",
    "    positive_ranks = ranks[:n_positives]\n",
    "\n",
    "    # Compute U-statistics\n",
    "    U_positive = np.sum(positive_ranks) / n_positives\n",
    "    U_negative = (n_positives + n_negatives + 1) / 2\n",
    "\n",
    "    # Compute variance components\n",
    "    sigma_positive_squared = np.sum((positive_ranks - U_positive) ** 2) / (n_positives - 1)\n",
    "    sigma_negative_squared = np.sum((ranks[n_positives:] - U_negative) ** 2) / (n_negatives - 1)\n",
    "\n",
    "    # Compute variance of AUC\n",
    "    var_auc = sigma_positive_squared / n_positives + sigma_negative_squared / n_negatives\n",
    "\n",
    "    return auc, var_auc"
   ]
  },
  {
   "cell_type": "code",
   "execution_count": 6,
   "id": "9cebfcfd-353b-45ec-ada9-2a287ea3ce67",
   "metadata": {},
   "outputs": [
    {
     "name": "stdout",
     "output_type": "stream",
     "text": [
      "AUC: 0.9444444444444444\n"
     ]
    }
   ],
   "source": [
    "\n",
    "# Calculate AUC\n",
    "auc = roc_auc_score(y_true, y_pred_prob)\n",
    "print(f\"AUC: {auc}\")"
   ]
  },
  {
   "cell_type": "code",
   "execution_count": 12,
   "id": "59189ff7-3347-4cc5-8fd7-e7e909d8d98c",
   "metadata": {},
   "outputs": [
    {
     "name": "stdout",
     "output_type": "stream",
     "text": [
      "AUC: 0.944\n",
      "Variance: 0.032922\n",
      "Standard Error (SE): 0.181444\n"
     ]
    }
   ],
   "source": [
    "auc, var_auc = delong_roc_variance(y_true, y_pred_prob)\n",
    "std_auc = np.sqrt(var_auc)\n",
    "\n",
    "# Print AUC and its standard error\n",
    "print(f\"AUC: {auc:.3f}\")\n",
    "print(f\"Variance: {var_auc:.6f}\")\n",
    "print(f\"Standard Error (SE): {std_auc:.6f}\")"
   ]
  },
  {
   "cell_type": "code",
   "execution_count": 15,
   "id": "518ff044-6a83-431c-a460-5838e0cf648a",
   "metadata": {},
   "outputs": [],
   "source": [
    "# Compute 95% confidence interval\n",
    "z = norm.ppf(0.975)  # 1.96 for 95% CI\n",
    "lower_ci = auc - z * std_auc\n",
    "upper_ci = auc + z * std_auc"
   ]
  },
  {
   "cell_type": "code",
   "execution_count": 16,
   "id": "bec9c8c7-4a2c-409e-b309-dd2df1cc7d1a",
   "metadata": {},
   "outputs": [
    {
     "name": "stdout",
     "output_type": "stream",
     "text": [
      "95% Confidence Interval: [0.588821357307014, 1.3000675315818748]\n"
     ]
    }
   ],
   "source": [
    "print(f\"95% Confidence Interval: [{lower_ci}, {upper_ci}]\")"
   ]
  },
  {
   "cell_type": "code",
   "execution_count": null,
   "id": "e0ec798a-8eea-497c-a6f8-6a4d1e47d6d2",
   "metadata": {},
   "outputs": [],
   "source": []
  },
  {
   "cell_type": "code",
   "execution_count": null,
   "id": "689dc5b0-cf18-416a-bb1f-61ea2cd85916",
   "metadata": {},
   "outputs": [],
   "source": []
  },
  {
   "cell_type": "code",
   "execution_count": null,
   "id": "0bcf45c0-3520-4f88-901a-a2870d9470d9",
   "metadata": {},
   "outputs": [],
   "source": []
  },
  {
   "cell_type": "code",
   "execution_count": 17,
   "id": "cfd2cb83-7bca-4935-85f6-3e48e8437a87",
   "metadata": {},
   "outputs": [
    {
     "ename": "NameError",
     "evalue": "name 'xgb' is not defined",
     "output_type": "error",
     "traceback": [
      "\u001b[0;31m---------------------------------------------------------------------------\u001b[0m",
      "\u001b[0;31mNameError\u001b[0m                                 Traceback (most recent call last)",
      "Cell \u001b[0;32mIn[17], line 4\u001b[0m\n\u001b[1;32m      1\u001b[0m params \u001b[38;5;241m=\u001b[39m {\u001b[38;5;124m\"\u001b[39m\u001b[38;5;124mobjective\u001b[39m\u001b[38;5;124m\"\u001b[39m: \u001b[38;5;124m\"\u001b[39m\u001b[38;5;124mmulti:softprob\u001b[39m\u001b[38;5;124m\"\u001b[39m, \u001b[38;5;124m\"\u001b[39m\u001b[38;5;124mtree_method\u001b[39m\u001b[38;5;124m\"\u001b[39m: \u001b[38;5;124m\"\u001b[39m\u001b[38;5;124mgpu_hist\u001b[39m\u001b[38;5;124m\"\u001b[39m, \u001b[38;5;124m\"\u001b[39m\u001b[38;5;124mnum_class\u001b[39m\u001b[38;5;124m\"\u001b[39m: \u001b[38;5;241m5\u001b[39m}\n\u001b[1;32m      2\u001b[0m n \u001b[38;5;241m=\u001b[39m \u001b[38;5;241m1000\u001b[39m\n\u001b[0;32m----> 4\u001b[0m results \u001b[38;5;241m=\u001b[39m \u001b[43mxgb\u001b[49m\u001b[38;5;241m.\u001b[39mcv(\n\u001b[1;32m      5\u001b[0m    params, dtrain_clf,\n\u001b[1;32m      6\u001b[0m    num_boost_round\u001b[38;5;241m=\u001b[39mn,\n\u001b[1;32m      7\u001b[0m    nfold\u001b[38;5;241m=\u001b[39m\u001b[38;5;241m5\u001b[39m,\n\u001b[1;32m      8\u001b[0m    metrics\u001b[38;5;241m=\u001b[39m[\u001b[38;5;124m\"\u001b[39m\u001b[38;5;124mmlogloss\u001b[39m\u001b[38;5;124m\"\u001b[39m, \u001b[38;5;124m\"\u001b[39m\u001b[38;5;124mauc\u001b[39m\u001b[38;5;124m\"\u001b[39m, \u001b[38;5;124m\"\u001b[39m\u001b[38;5;124mmerror\u001b[39m\u001b[38;5;124m\"\u001b[39m],\n\u001b[1;32m      9\u001b[0m )\n",
      "\u001b[0;31mNameError\u001b[0m: name 'xgb' is not defined"
     ]
    }
   ],
   "source": [
    "params = {\"objective\": \"multi:softprob\", \"tree_method\": \"gpu_hist\", \"num_class\": 5}\n",
    "n = 1000\n",
    "\n",
    "results = xgb.cv(\n",
    "   params, dtrain_clf,\n",
    "   num_boost_round=n,\n",
    "   nfold=5,\n",
    "   metrics=[\"mlogloss\", \"auc\", \"merror\"],\n",
    ")"
   ]
  },
  {
   "cell_type": "code",
   "execution_count": null,
   "id": "89cb3f06-a28a-4cb4-bf1c-670802a5bdf6",
   "metadata": {},
   "outputs": [],
   "source": []
  }
 ],
 "metadata": {
  "kernelspec": {
   "display_name": "Python 3 (ipykernel)",
   "language": "python",
   "name": "python3"
  },
  "language_info": {
   "codemirror_mode": {
    "name": "ipython",
    "version": 3
   },
   "file_extension": ".py",
   "mimetype": "text/x-python",
   "name": "python",
   "nbconvert_exporter": "python",
   "pygments_lexer": "ipython3",
   "version": "3.9.10"
  }
 },
 "nbformat": 4,
 "nbformat_minor": 5
}
