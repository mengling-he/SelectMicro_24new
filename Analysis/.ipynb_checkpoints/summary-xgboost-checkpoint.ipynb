{
 "cells": [
  {
   "cell_type": "code",
   "execution_count": null,
   "id": "1ca61778-fa05-4fe1-974f-0d96ec1117d2",
   "metadata": {},
   "outputs": [],
   "source": [
    "import os\n",
    "import pandas as pd\n",
    "import numpy as np\n",
    "import seaborn as sns\n",
    "import scipy.stats as st\n",
    "import matplotlib.pyplot as plt\n",
    "from matplotlib.lines import Line2D\n",
    "import sys\n",
    "sys.path.append('../Code')\n",
    "import metric\n"
   ]
  },
  {
   "cell_type": "code",
   "execution_count": null,
   "id": "be4f58c2-cf6a-4fe2-ba07-4a6002d8bb9f",
   "metadata": {},
   "outputs": [],
   "source": [
    "summary_data_xg = {'Smocky_Burn':{'SelectMicro':[56,0.778788,0.854282 ,0.856754 ],\n",
    "                              'Lasso':[14,0.793939,0.881366,0.865673],\n",
    "                              'SelectMicrro_Lasso':[15,\t0.793939,0.881366,0.865673]},\n",
    "                'Smocky_urban':{'SelectMicro':[29,0.540909,\t0.603175,0.628039],\n",
    "                              'Lasso':[11, 0.659091,\t0.662381,0.755392 ],\n",
    "                              'SelectMicrro_Lasso':[14,\t0.662121,0.696786,0.760556 ]},\n",
    "                'Smocky_Annual':{'SelectMicro':[19,0.727273,0.696786,0.806302],\n",
    "                              'Lasso':[7,0.712121,0.686071,0.804035 ],\n",
    "                              'SelectMicrro_Lasso':[12,\t0.727273,0.661071,0.815789 ]},\n",
    "                   'Moss':{'SelectMicro':[11,0.700000,0.750,0.753333],\n",
    "                              'Lasso':[11,0.700000,0.775,0.753333 ],\n",
    "                              'SelectMicrro_Lasso':[4,\t0.700000,0.750,0.753333]},\n",
    "               }"
   ]
  },
  {
   "cell_type": "code",
   "execution_count": null,
   "id": "d9a9573b-31cd-4280-99fe-326774ec619c",
   "metadata": {},
   "outputs": [],
   "source": [
    "# Convert to DataFrame\n",
    "for datatype, subset in summary_data_xg.items():\n",
    "    df = pd.DataFrame(subset).T\n",
    "    df.columns=['Number','ACC','AUC','F1']\n",
    "    print(datatype)\n",
    "    print(df)"
   ]
  },
  {
   "cell_type": "code",
   "execution_count": null,
   "id": "5a1a8067-8efa-46d5-8b80-3c9c7b21eaa3",
   "metadata": {},
   "outputs": [],
   "source": [
    "metric.plotcompare(summary_data_xg,metric='AUC')\n",
    "metric.plotcompare(summary_data_xg)\n",
    "metric.plotcompare(summary_data_xg,metric='F')"
   ]
  },
  {
   "cell_type": "code",
   "execution_count": null,
   "id": "51adde00-ca28-4622-93ff-aad685c915ff",
   "metadata": {
    "scrolled": true
   },
   "outputs": [],
   "source": []
  },
  {
   "cell_type": "code",
   "execution_count": null,
   "id": "68a8d365-7f5c-4bba-8320-e17e423d47fc",
   "metadata": {},
   "outputs": [],
   "source": [
    "summary_xg_PMI = {'PMI_OTU':{'SelectMicro':[241,0.835000,0.884921,0.837586],\n",
    "                              'Lasso':[9,0.860833,0.907540, 0.879453],\n",
    "                              'SelectMicrro_Lasso':[9,\t0.860833 ,0.904365,0.879453]},\n",
    "                  \n",
    "                  'PMI_order':{'SelectMicro':[110, 0.885833 ,0.887698,0.889664 ],\n",
    "                              'Lasso':[23,0.847500,0.911111,0.864810],\n",
    "                              'SelectMicrro_Lasso':[20,\t0.847500,0.907540,0.864810]},\n",
    "                  \n",
    "                   'PMI_class':{'SelectMicro':[63,0.809167,0.896429,0.826190],\n",
    "                              'Lasso':[19,0.784167,0.913492,0.802188],\n",
    "                              'SelectMicrro_Lasso':[18,\t0.821667,0.905556,0.831624]},\n",
    "                   \n",
    "                   'PMI_phylum':{'SelectMicro':[23,0.757500, 0.896825,0.765938],\n",
    "                              'Lasso':[8, 0.719167 ,0.877381,0.740391  ],\n",
    "                              'SelectMicrro_Lasso':[8,\t0.719167 ,0.874206,0.740391]}\n",
    "                 }\n",
    "\n",
    "# Convert to DataFrame\n",
    "for datatype, subset in summary_xg_PMI.items():\n",
    "    df = pd.DataFrame(subset).T\n",
    "    df.columns=['Number','ACC','AUC','F1']\n",
    "    print(datatype)\n",
    "    print(df)\n",
    "\n",
    "metric.plotcompare(summary_xg_PMI)\n",
    "metric.plotcompare(summary_xg_PMI,metric='AUC')\n",
    "metric.plotcompare(summary_xg_PMI,metric='F')"
   ]
  }
 ],
 "metadata": {
  "kernelspec": {
   "display_name": "Python 3 (ipykernel)",
   "language": "python",
   "name": "python3"
  },
  "language_info": {
   "codemirror_mode": {
    "name": "ipython",
    "version": 3
   },
   "file_extension": ".py",
   "mimetype": "text/x-python",
   "name": "python",
   "nbconvert_exporter": "python",
   "pygments_lexer": "ipython3",
   "version": "3.9.10"
  }
 },
 "nbformat": 4,
 "nbformat_minor": 5
}
