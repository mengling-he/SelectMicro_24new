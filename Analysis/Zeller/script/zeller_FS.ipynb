{
 "cells": [
  {
   "cell_type": "markdown",
   "id": "6c9ebe87-9a49-4b9b-b218-b0c0f2af29e4",
   "metadata": {},
   "source": [
    "This dataset is from R package \"lefser\":The ZellerG_2014 dataset contains microbiome count data for CRC patients and controls. It was for curatedMetagenomicData using the script in the package directory \"data-raw\". source https://pubmed.ncbi.nlm.nih.gov/25432777/"
   ]
  },
  {
   "cell_type": "markdown",
   "id": "fe7db925-5552-4447-a79d-6fb0c118cffa",
   "metadata": {},
   "source": [
    "The result is from sbatch script: there are also ROC curve and SHAP plot (show the largest 20 features)"
   ]
  },
  {
   "cell_type": "markdown",
   "id": "b82ca814-a589-4382-bbc6-697c40717212",
   "metadata": {},
   "source": [
    "|          | number      | Random Forest   | Accuracy       | F1             | MCC            | AUC            |\n",
    "|----------------|----------------------|--------|----------------|----------------|----------------|----------------|\n",
    "|AllFeatures    | 1585  | |0.487 (0.109) |0.472 (0.095)| 0.165 (0.173) |0.643 (0.064) |\n",
    "| SelectMicro| 34  | |0.567 (0.093) |0.569 (0.093) | 0.320 (0.148) |0.682 (0.094)|\n",
    "| Lasso_finetune    |19 | | 0.568 (0.080)|0.560 (0.081) |0.300 (0.127) |0.670 (0.060) |\n",
    "| FS_Lasso_finetune |   20 |  | 0.512 (0.099)|0.509 (0.096)|0.218 (0.157)|0.664 (0.085) |\n",
    "\n",
    "\n",
    "\n",
    "|          | number      | Random Forest   | Accuracy       | F1             | MCC            | AUC            |\n",
    "|----------------|----------------------|--------|----------------|----------------|----------------|----------------|\n",
    "|AllFeatures    | 1585  | |0.482 (0.075) |0.475 (0.068)| 0.160 (0.103)|0.623 (0.041)|\n",
    "| SelectMicro| 34  | |0.492 (0.121)| 0.491 (0.117)| 0.195 (0.178)| 0.634 (0.077)|\n",
    "| Lasso_finetune    |19 | | 0.543 (0.091)|0.529 (0.090)| 0.250 (0.136)| 0.669 (0.081)|\n",
    "| FS_Lasso_finetune |   20 |  | 0.477 (0.056)| 0.474 (0.051)|0.165 (0.081)|0.629 (0.048) |\n",
    "\n",
    "\n",
    "|          | number      | SVM   | Accuracy       | F1             | MCC            | AUC            |\n",
    "|----------------|----------------------|--------|----------------|----------------|----------------|----------------|\n",
    "|AllFeatures    | 1585  | |0.492 (0.082)| 0.497 (0.075)| 0.220 (0.115)| 0.654 (0.069)|\n",
    "| SelectMicro| 34  | |0.497 (0.079)| 0.501 (0.064)| 0.242 (0.111)|0.665 (0.098)|\n",
    "| Lasso_finetune    |19 | | 0.492 (0.076)|0.498 (0.078)|0.217 (0.132)| 0.665 (0.109)|\n",
    "| FS_Lasso_finetune |   20 |  |0.492 (0.091)| 0.499 (0.087)| 0.216 (0.143)| 0.657 (0.093) |\n",
    "\n",
    "\n",
    "\n",
    "|          | number      | NB   | Accuracy       | F1             | MCC            | AUC            |\n",
    "|----------------|----------------------|--------|----------------|----------------|----------------|----------------|\n",
    "|AllFeatures    | 1585  | |0.336 (0.063)|0.315 (0.082)|0.099 (0.077)| 0.567 (0.039)|\n",
    "| SelectMicro| 34  | |0.342 (0.085)|0.286 (0.116)|nan (nan)|0.679 (0.076)|\n",
    "| Lasso_finetune    |19 | | 0.518 (0.029)| 0.456 (0.050)| 0.230 (0.080)| 0.686 (0.046)|\n",
    "| FS_Lasso_finetune |   20 |  |0.352 (0.051)| 0.320 (0.071)| 0.182 (0.061)| 0.668 (0.080)|"
   ]
  },
  {
   "cell_type": "code",
   "execution_count": 1,
   "id": "7166523c-bfe1-4ac0-96f4-ad16c7773220",
   "metadata": {},
   "outputs": [
    {
     "name": "stderr",
     "output_type": "stream",
     "text": [
      "2025-04-09 17:55:39.471068: I tensorflow/core/util/port.cc:153] oneDNN custom operations are on. You may see slightly different numerical results due to floating-point round-off errors from different computation orders. To turn them off, set the environment variable `TF_ENABLE_ONEDNN_OPTS=0`.\n",
      "2025-04-09 17:55:39.475977: I external/local_xla/xla/tsl/cuda/cudart_stub.cc:32] Could not find cuda drivers on your machine, GPU will not be used.\n",
      "2025-04-09 17:55:40.175784: I external/local_xla/xla/tsl/cuda/cudart_stub.cc:32] Could not find cuda drivers on your machine, GPU will not be used.\n",
      "2025-04-09 17:55:40.186729: E external/local_xla/xla/stream_executor/cuda/cuda_fft.cc:477] Unable to register cuFFT factory: Attempting to register factory for plugin cuFFT when one has already been registered\n",
      "WARNING: All log messages before absl::InitializeLog() is called are written to STDERR\n",
      "E0000 00:00:1744235740.204927 2168467 cuda_dnn.cc:8310] Unable to register cuDNN factory: Attempting to register factory for plugin cuDNN when one has already been registered\n",
      "E0000 00:00:1744235740.210179 2168467 cuda_blas.cc:1418] Unable to register cuBLAS factory: Attempting to register factory for plugin cuBLAS when one has already been registered\n",
      "2025-04-09 17:55:42.189118: I tensorflow/core/platform/cpu_feature_guard.cc:210] This TensorFlow binary is optimized to use available CPU instructions in performance-critical operations.\n",
      "To enable the following instructions: AVX2 AVX512F AVX512_VNNI FMA, in other operations, rebuild TensorFlow with the appropriate compiler flags.\n",
      "/lustre/isaac24/scratch/mhe8/myenv/lib/python3.12/site-packages/tqdm/auto.py:21: TqdmWarning: IProgress not found. Please update jupyter and ipywidgets. See https://ipywidgets.readthedocs.io/en/stable/user_install.html\n",
      "  from .autonotebook import tqdm as notebook_tqdm\n"
     ]
    }
   ],
   "source": [
    "import sys\n",
    "sys.path.append('../../../Code')\n",
    "import RunML\n",
    "import FS\n",
    "import metric\n",
    "\n",
    "import pandas as pd\n",
    "import numpy as np\n",
    "import random"
   ]
  },
  {
   "cell_type": "code",
   "execution_count": 2,
   "id": "560f4324-deff-496e-bd0f-40079cfe4d9b",
   "metadata": {},
   "outputs": [],
   "source": [
    "data0 = pd.read_csv('../data/features_table_update.csv',index_col=0)"
   ]
  },
  {
   "cell_type": "code",
   "execution_count": 3,
   "id": "9a45f93c-f3e5-4716-904b-14ff9fada13d",
   "metadata": {},
   "outputs": [
    {
     "name": "stdout",
     "output_type": "stream",
     "text": [
      "Index(['CCIS00146684ST-4-0', 'CCIS00281083ST-3-0', 'CCIS02124300ST-4-0',\n",
      "       'CCIS02379307ST-4-0', 'CCIS02856720ST-4-0', 'CCIS03473770ST-4-0',\n",
      "       'CCIS03857607ST-4-0', 'CCIS05314658ST-4-0', 'CCIS06260551ST-3-0',\n",
      "       'CCIS07277498ST-4-0',\n",
      "       ...\n",
      "       'CCMD88272491ST-21-0', 'CCMD90311071ST-21-0', 'CCMD93344354ST-21-0',\n",
      "       'CCMD95433940ST-21-0', 'CCMD96553385ST-21-0', 'MMPU29365221ST',\n",
      "       'MMPU68403337ST', 'MMPU72854103ST', 'MMPU84450604ST', 'MMPU99077057ST'],\n",
      "      dtype='object', length=199)\n",
      "(199, 1585)\n"
     ]
    }
   ],
   "source": [
    "print(data0.index)\n",
    "print(data0.shape)"
   ]
  },
  {
   "cell_type": "code",
   "execution_count": 4,
   "id": "a30e328b-bc8b-4b47-8b16-276bc6b53bf3",
   "metadata": {},
   "outputs": [],
   "source": [
    "cols_name = data0.columns"
   ]
  },
  {
   "cell_type": "code",
   "execution_count": 5,
   "id": "1cd97ad1-2f65-4c29-8814-0a6800587271",
   "metadata": {},
   "outputs": [
    {
     "name": "stdout",
     "output_type": "stream",
     "text": [
      "Index(['k__Bacteria', 'k__Viruses', 'k__Bacteria|p__Firmicutes',\n",
      "       'k__Bacteria|p__Bacteroidetes', 'k__Bacteria|p__Actinobacteria',\n",
      "       'k__Bacteria|p__Verrucomicrobia', 'k__Bacteria|p__Proteobacteria',\n",
      "       'k__Viruses|p__Viruses_noname',\n",
      "       'k__Bacteria|p__Candidatus_Saccharibacteria',\n",
      "       'k__Bacteria|p__Firmicutes|c__Clostridia',\n",
      "       ...\n",
      "       'k__Bacteria|p__Proteobacteria|c__Gammaproteobacteria|o__Pseudomonadales|f__Moraxellaceae|g__Enhydrobacter',\n",
      "       'k__Bacteria|p__Proteobacteria|c__Gammaproteobacteria|o__Pseudomonadales|f__Moraxellaceae|g__Enhydrobacter|s__Enhydrobacter_aerosaccus',\n",
      "       'k__Bacteria|p__Proteobacteria|c__Gammaproteobacteria|o__Pseudomonadales|f__Moraxellaceae|g__Enhydrobacter|s__Enhydrobacter_aerosaccus|t__GCF_000175915',\n",
      "       'k__Bacteria|p__Bacteroidetes|c__Bacteroidia|o__Bacteroidales|f__Bacteroidaceae|g__Bacteroides|s__Bacteroides_sp_2_2_4',\n",
      "       'k__Bacteria|p__Bacteroidetes|c__Bacteroidia|o__Bacteroidales|f__Bacteroidaceae|g__Bacteroides|s__Bacteroides_pyogenes',\n",
      "       'k__Bacteria|p__Bacteroidetes|c__Bacteroidia|o__Bacteroidales|f__Bacteroidaceae|g__Bacteroides|s__Bacteroides_sp_2_2_4|t__GCF_000157055',\n",
      "       'k__Bacteria|p__Bacteroidetes|c__Bacteroidia|o__Bacteroidales|f__Bacteroidaceae|g__Bacteroides|s__Bacteroides_pyogenes|t__GCF_000466505',\n",
      "       'k__Bacteria|p__Proteobacteria|c__Betaproteobacteria|o__Burkholderiales|f__Sutterellaceae|g__Sutterella|s__Sutterella_wadsworthensis|t__GCF_000411515',\n",
      "       'k__Bacteria|p__Proteobacteria|c__Betaproteobacteria|o__Burkholderiales|f__Comamonadaceae|g__Variovorax',\n",
      "       'k__Bacteria|p__Proteobacteria|c__Betaproteobacteria|o__Burkholderiales|f__Comamonadaceae|g__Variovorax|s__Variovorax_unclassified'],\n",
      "      dtype='object', length=1585)\n"
     ]
    }
   ],
   "source": [
    "print(cols_name)"
   ]
  },
  {
   "cell_type": "code",
   "execution_count": 6,
   "id": "2335b204-584e-4601-9c55-016fca623a31",
   "metadata": {},
   "outputs": [],
   "source": [
    "cols_name = np.array([x.split(\"|\")[-1] for x in cols_name])"
   ]
  },
  {
   "cell_type": "code",
   "execution_count": 7,
   "id": "f620d14f-e0b7-4d7e-8667-07154d114e32",
   "metadata": {},
   "outputs": [
    {
     "name": "stdout",
     "output_type": "stream",
     "text": [
      "['k__Bacteria' 'k__Viruses' 'p__Firmicutes' 'p__Bacteroidetes'\n",
      " 'p__Actinobacteria']\n"
     ]
    }
   ],
   "source": [
    "print(cols_name[:5])"
   ]
  },
  {
   "cell_type": "code",
   "execution_count": 8,
   "id": "1fe18129-f780-4287-a0de-24785ba973df",
   "metadata": {},
   "outputs": [],
   "source": [
    "data = pd.DataFrame(FS.relative_abundance(data0), columns=cols_name)"
   ]
  },
  {
   "cell_type": "code",
   "execution_count": null,
   "id": "2826e9ef-85b8-4eeb-9ca7-be08916892da",
   "metadata": {},
   "outputs": [],
   "source": []
  },
  {
   "cell_type": "code",
   "execution_count": 9,
   "id": "9a5ff774-70e3-4895-a033-19c97d4df4b9",
   "metadata": {},
   "outputs": [
    {
     "name": "stdout",
     "output_type": "stream",
     "text": [
      "(199, 22)\n",
      "Index(['subjectID', 'body_site', 'antibiotics_current_use', 'study_condition',\n",
      "       'disease', 'disease_subtype', 'age', 'age_category', 'gender', 'BMI',\n",
      "       'country', 'non_westernized', 'DNA_extraction_kit', 'number_reads',\n",
      "       'number_bases', 'minimum_read_length', 'median_read_length', 'tnm',\n",
      "       'ajcc', 'fobt', 'curator', 'NCBI_accession'],\n",
      "      dtype='object')\n"
     ]
    }
   ],
   "source": [
    "meta_2 = pd.read_csv('../data/meta_data.csv',index_col=0)\n",
    "print(meta_2.shape)\n",
    "print(meta_2.columns)"
   ]
  },
  {
   "cell_type": "code",
   "execution_count": 10,
   "id": "0fb6dd23-dd2d-48ab-baf9-0f389099e80e",
   "metadata": {},
   "outputs": [
    {
     "name": "stdout",
     "output_type": "stream",
     "text": [
      "study_condition\n",
      "CRC        91\n",
      "control    66\n",
      "adenoma    42\n",
      "Name: count, dtype: int64\n",
      "disease\n",
      "CRC        91\n",
      "healthy    66\n",
      "adenoma    42\n",
      "Name: count, dtype: int64\n"
     ]
    }
   ],
   "source": [
    "print(meta_2['study_condition'].value_counts())\n",
    "print(meta_2['disease'].value_counts())"
   ]
  },
  {
   "cell_type": "markdown",
   "id": "08477ab5-748a-474c-be21-75de7c475745",
   "metadata": {},
   "source": [
    "CRC – Colorectal Cancer\n",
    "\n",
    "Adenoma – Precancerous polyps (Benign growths in the colon that can develop into cancer if not treated.In studies: Considered an intermediate risk group—not cancer, but not healthy either.\n",
    "Important for early detection models.)"
   ]
  },
  {
   "cell_type": "code",
   "execution_count": null,
   "id": "b9283b48-899a-4350-92bc-8eda0ae4cc8b",
   "metadata": {},
   "outputs": [],
   "source": []
  },
  {
   "cell_type": "code",
   "execution_count": 11,
   "id": "75f83cdf-06ca-49d6-a82b-1149e519c47b",
   "metadata": {},
   "outputs": [
    {
     "data": {
      "text/plain": [
       "True"
      ]
     },
     "execution_count": 11,
     "metadata": {},
     "output_type": "execute_result"
    }
   ],
   "source": [
    "# check the index of meta data and count table\n",
    "data0.index.equals(meta_2.index)"
   ]
  },
  {
   "cell_type": "code",
   "execution_count": null,
   "id": "3bd736ba-6c30-4291-bb52-5979f596fb61",
   "metadata": {},
   "outputs": [],
   "source": []
  },
  {
   "cell_type": "code",
   "execution_count": 12,
   "id": "c4899bb4-ab29-4344-9f19-8435f8de714f",
   "metadata": {},
   "outputs": [],
   "source": [
    "y = meta_2['disease']"
   ]
  },
  {
   "cell_type": "code",
   "execution_count": 13,
   "id": "86e6ebc2-12ee-443d-8993-958c902559ba",
   "metadata": {},
   "outputs": [
    {
     "data": {
      "text/plain": [
       "disease\n",
       "CRC        91\n",
       "healthy    66\n",
       "adenoma    42\n",
       "Name: count, dtype: int64"
      ]
     },
     "execution_count": 13,
     "metadata": {},
     "output_type": "execute_result"
    }
   ],
   "source": [
    "y.value_counts()"
   ]
  },
  {
   "cell_type": "code",
   "execution_count": 14,
   "id": "bfd8f519-697a-4a3c-a8b9-be6c19128b65",
   "metadata": {},
   "outputs": [],
   "source": [
    "custom_order = ['healthy', 'adenoma', 'CRC']\n",
    "custom_mapping = {category: i for i, category in enumerate(custom_order)}\n",
    "\n",
    "target_variable = [custom_mapping[category] for category in y]\n",
    "target_variable = np.array(target_variable)"
   ]
  },
  {
   "cell_type": "code",
   "execution_count": 15,
   "id": "acc9f6da-f92e-48db-aa1b-1b3d43744c67",
   "metadata": {},
   "outputs": [
    {
     "data": {
      "image/png": "[encoded data removed]",
      "text/plain": [
       "<Figure size 800x500 with 1 Axes>"
      ]
     },
     "metadata": {},
     "output_type": "display_data"
    }
   ],
   "source": [
    "# 2. calculating H score for each OTU\n",
    "selectedresult=FS.SelectMicro_fun(data,target_variable,p_cutoff = 0.05)"
   ]
  },
  {
   "cell_type": "code",
   "execution_count": 16,
   "id": "f8724cc3-1190-4612-b02d-cbf75436feba",
   "metadata": {},
   "outputs": [],
   "source": [
    "selectedOTU_index= selectedresult['selected_indices']\n",
    "X_FS = selectedresult['selected_df']"
   ]
  },
  {
   "cell_type": "code",
   "execution_count": 17,
   "id": "a1d5207d-60b1-4f87-a1ae-ed23ac90db62",
   "metadata": {},
   "outputs": [
    {
     "ename": "AttributeError",
     "evalue": "module 'FS' has no attribute 'calculate_dunn_tests_general'",
     "output_type": "error",
     "traceback": [
      "\u001b[31m---------------------------------------------------------------------------\u001b[39m",
      "\u001b[31mAttributeError\u001b[39m                            Traceback (most recent call last)",
      "\u001b[36mCell\u001b[39m\u001b[36m \u001b[39m\u001b[32mIn[17]\u001b[39m\u001b[32m, line 1\u001b[39m\n\u001b[32m----> \u001b[39m\u001b[32m1\u001b[39m dunn_results, summary = \u001b[43mFS\u001b[49m\u001b[43m.\u001b[49m\u001b[43mcalculate_dunn_tests_general\u001b[49m(\n\u001b[32m      2\u001b[39m     X_FS,\n\u001b[32m      3\u001b[39m     target_variable,\n\u001b[32m      4\u001b[39m     p_threshold=\u001b[32m0.05\u001b[39m\n\u001b[32m      5\u001b[39m )\n",
      "\u001b[31mAttributeError\u001b[39m: module 'FS' has no attribute 'calculate_dunn_tests_general'"
     ]
    }
   ],
   "source": [
    "dunn_results, summary = FS.calculate_dunn_tests_general(\n",
    "    X_FS,\n",
    "    target_variable,\n",
    "    p_threshold=0.05\n",
    ")"
   ]
  },
  {
   "cell_type": "code",
   "execution_count": null,
   "id": "89f67aaa-0e41-41e7-84a8-049320cb3b84",
   "metadata": {},
   "outputs": [],
   "source": []
  },
  {
   "cell_type": "code",
   "execution_count": null,
   "id": "84bea012-1ffa-4b74-944d-e9445bafdb20",
   "metadata": {},
   "outputs": [],
   "source": []
  },
  {
   "cell_type": "code",
   "execution_count": null,
   "id": "72411810-1be3-4903-acee-61ec5759fece",
   "metadata": {},
   "outputs": [],
   "source": []
  },
  {
   "cell_type": "code",
   "execution_count": null,
   "id": "1e8cc093-e00e-4ece-8640-f4e45890c7b2",
   "metadata": {},
   "outputs": [],
   "source": [
    "X_lasso_ft0,selectedOTU_index_Lasso  = RunML.LassoFS_CV(np.array(data),target_variable)\n",
    "X_lasso_ft = pd.DataFrame(X_lasso_ft0, columns=cols_name[selectedOTU_index_Lasso])\n",
    "\n",
    "X_FS_lasso_ft0,xlabel_FS_lasso_ft0  = RunML.LassoFS_CV(np.array(X_FS),target_variable)\n",
    "selectedOTU_index_FS_lasso = selectedOTU_index[xlabel_FS_lasso_ft0]\n",
    "X_FS_lasso_ft = pd.DataFrame(X_FS_lasso_ft0, columns=cols_name[selectedOTU_index_FS_lasso])\n",
    "\n",
    "data_subset = {\"AllFeatures\":data,\n",
    "               \"SelectMicro\": X_FS,\n",
    "               \"Lasso_finetune\":X_lasso_ft,\n",
    "               \"FS_Lassofinetune\":X_FS_lasso_ft\n",
    "              }"
   ]
  },
  {
   "cell_type": "code",
   "execution_count": null,
   "id": "54aafd3a-e608-44c7-99d2-08b55caf9b5c",
   "metadata": {},
   "outputs": [],
   "source": [
    "print(f'The shape of the original dataset is ',np.shape(data))\n",
    "print(f'The shape of the SelectMicro dataset is ',np.shape(X_FS))\n",
    "print(f'The shape of the Lasso_finetune selected dataset is ',np.shape(X_lasso_ft))\n",
    "print(f'The shape of the FS_Lasso_finetune selected dataset is ',np.shape(X_FS_lasso_ft))\n"
   ]
  },
  {
   "cell_type": "code",
   "execution_count": null,
   "id": "de34cf79-fca3-45ec-958e-1e79e7ed9faf",
   "metadata": {},
   "outputs": [],
   "source": [
    "# Compute correlation matrix\n",
    "import matplotlib.pyplot as plt\n",
    "import seaborn as sns\n",
    "corr = X_FS.corr(numeric_only=True)\n",
    "\n",
    "# Plot heatmap\n",
    "plt.figure(figsize=(10, 8))\n",
    "sns.heatmap(corr, annot=False, cmap='coolwarm', fmt=\".2f\", square=True, linewidths=0.5,cbar=True, xticklabels=False, yticklabels=False)\n",
    "plt.title(\"Correlation Heatmap\")\n",
    "plt.tight_layout()\n",
    "plt.show()"
   ]
  },
  {
   "cell_type": "code",
   "execution_count": null,
   "id": "d1542b73-b21e-48c7-9ea5-9551ea804e8a",
   "metadata": {},
   "outputs": [],
   "source": [
    "print(f'The selected features of the SelectMicro dataset is ',X_FS.columns)\n",
    "print(f'The selected features of the Lasso_finetune selected dataset is ',X_lasso_ft.columns)\n",
    "print(f'The selected features of the FS_Lasso_finetune selected dataset is ',X_FS_lasso_ft.columns)\n"
   ]
  }
 ],
 "metadata": {
  "kernelspec": {
   "display_name": "Python 3 (ipykernel)",
   "language": "python",
   "name": "python3"
  },
  "language_info": {
   "codemirror_mode": {
    "name": "ipython",
    "version": 3
   },
   "file_extension": ".py",
   "mimetype": "text/x-python",
   "name": "python",
   "nbconvert_exporter": "python",
   "pygments_lexer": "ipython3",
   "version": "3.12.7"
  }
 },
 "nbformat": 4,
 "nbformat_minor": 5
}
