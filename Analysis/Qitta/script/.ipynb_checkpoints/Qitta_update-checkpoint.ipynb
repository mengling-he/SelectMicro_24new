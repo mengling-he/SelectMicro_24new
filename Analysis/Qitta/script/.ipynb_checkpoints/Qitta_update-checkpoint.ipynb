{
 "cells": [
  {
   "cell_type": "markdown",
   "metadata": {},
   "source": [
    "First, load the data,in this notebook we are using the Qitta data from the paper \"Machine learning–based feature selection to search stable microbial biomarkers: application to inflammatory bowel disease\". \n"
   ]
  },
  {
   "cell_type": "markdown",
   "metadata": {},
   "source": [
    "There are 3 datasets, in this work they will be combined together at species and genus level."
   ]
  },
  {
   "cell_type": "markdown",
   "metadata": {},
   "source": [
    "These 3 datasets comes from :\n",
    "1) 96 sampels: Lloyd-Price J, Arze C, Ananthakrishnan AN, et al. Multi-omics of the gut microbial ecosystem in inflammatory bowel diseases. Nature 2019\n",
    "2) 836 samples: Flores GE, Caporaso JG, Henley JB, et al. Temporal variability is a personalized feature of the human microbiome. Genome Biol 2014\n",
    "3) 637 samples: Halfvarson J, Brislawn CJ, Lamendella R, et al. Dynamics of the human gut microbiome in inflammatory bowel disease. Nat Microbiol 2017"
   ]
  },
  {
   "cell_type": "code",
   "execution_count": 1,
   "metadata": {
    "metadata": {}
   },
   "outputs": [
    {
     "name": "stderr",
     "output_type": "stream",
     "text": [
      "2025-05-05 14:25:08.701833: I tensorflow/core/util/port.cc:153] oneDNN custom operations are on. You may see slightly different numerical results due to floating-point round-off errors from different computation orders. To turn them off, set the environment variable `TF_ENABLE_ONEDNN_OPTS=0`.\n",
      "2025-05-05 14:25:08.705506: I external/local_xla/xla/tsl/cuda/cudart_stub.cc:32] Could not find cuda drivers on your machine, GPU will not be used.\n",
      "2025-05-05 14:25:09.384313: I external/local_xla/xla/tsl/cuda/cudart_stub.cc:32] Could not find cuda drivers on your machine, GPU will not be used.\n",
      "2025-05-05 14:25:09.395018: E external/local_xla/xla/stream_executor/cuda/cuda_fft.cc:477] Unable to register cuFFT factory: Attempting to register factory for plugin cuFFT when one has already been registered\n",
      "WARNING: All log messages before absl::InitializeLog() is called are written to STDERR\n",
      "E0000 00:00:1746469509.412000  539689 cuda_dnn.cc:8310] Unable to register cuDNN factory: Attempting to register factory for plugin cuDNN when one has already been registered\n",
      "E0000 00:00:1746469509.417205  539689 cuda_blas.cc:1418] Unable to register cuBLAS factory: Attempting to register factory for plugin cuBLAS when one has already been registered\n",
      "2025-05-05 14:25:10.781329: I tensorflow/core/platform/cpu_feature_guard.cc:210] This TensorFlow binary is optimized to use available CPU instructions in performance-critical operations.\n",
      "To enable the following instructions: AVX2 AVX512F AVX512_VNNI FMA, in other operations, rebuild TensorFlow with the appropriate compiler flags.\n",
      "/lustre/isaac24/scratch/mhe8/myenv/lib/python3.12/site-packages/tqdm/auto.py:21: TqdmWarning: IProgress not found. Please update jupyter and ipywidgets. See https://ipywidgets.readthedocs.io/en/stable/user_install.html\n",
      "  from .autonotebook import tqdm as notebook_tqdm\n"
     ]
    }
   ],
   "source": [
    "import sys\n",
    "sys.path.append('../../../Code')\n",
    "import loadData \n",
    "import RunML\n",
    "import FS\n",
    "import metric\n",
    "\n"
   ]
  },
  {
   "cell_type": "code",
   "execution_count": 2,
   "metadata": {},
   "outputs": [],
   "source": [
    "import pandas as pd\n",
    "import numpy as np\n",
    "import random\n",
    "from sklearn.ensemble import RandomForestClassifier\n",
    "from sklearn.linear_model import LogisticRegression\n",
    "from sklearn import svm\n",
    "from sklearn.preprocessing import LabelEncoder\n",
    "import matplotlib.pyplot as plt\n",
    "from sklearn.decomposition import PCA\n",
    "from sklearn.manifold import TSNE\n",
    "from sklearn.preprocessing import StandardScaler\n",
    "import seaborn as sns\n",
    "import pickle"
   ]
  },
  {
   "cell_type": "code",
   "execution_count": 39,
   "metadata": {},
   "outputs": [],
   "source": [
    "total_features_species = pd.read_csv('../data/final_combine/features_species_withname_update.csv',index_col = 0)\n",
    "total_features_genus = pd.read_csv('../data/final_combine/features_genus_withname_update.csv',index_col = 0)\n",
    "meta_2= pd.read_csv('../data/final_combine/meta_update.csv',index_col = 0)"
   ]
  },
  {
   "cell_type": "code",
   "execution_count": 40,
   "metadata": {
    "metadata": {}
   },
   "outputs": [
    {
     "name": "stdout",
     "output_type": "stream",
     "text": [
      "(1569, 283)\n",
      "(1569, 220)\n"
     ]
    }
   ],
   "source": [
    "print(total_features_species.shape)\n",
    "print(total_features_genus.shape)"
   ]
  },
  {
   "cell_type": "code",
   "execution_count": 41,
   "metadata": {},
   "outputs": [],
   "source": [
    "#print(total_features_species)"
   ]
  },
  {
   "cell_type": "code",
   "execution_count": 42,
   "metadata": {},
   "outputs": [],
   "source": [
    "genus_name = total_features_genus.columns\n",
    "species_name = total_features_species.columns"
   ]
  },
  {
   "cell_type": "code",
   "execution_count": 43,
   "metadata": {},
   "outputs": [
    {
     "name": "stdout",
     "output_type": "stream",
     "text": [
      "ibd\n",
      "nonIBD    867\n",
      "UC        366\n",
      "CD        336\n",
      "Name: count, dtype: int64\n"
     ]
    }
   ],
   "source": [
    "y_label = meta_2['ibd']\n",
    "print(pd.Series(y_label).value_counts())"
   ]
  },
  {
   "cell_type": "code",
   "execution_count": 47,
   "metadata": {},
   "outputs": [],
   "source": [
    "custom_order = ['nonIBD', 'CD', 'UC']\n",
    "custom_mapping = {category: i for i, category in enumerate(custom_order)}\n",
    "target_variable_1 = [custom_mapping[category] for category in y_label]\n",
    "target_variable_1 = np.array(target_variable)"
   ]
  },
  {
   "cell_type": "code",
   "execution_count": 48,
   "metadata": {},
   "outputs": [],
   "source": [
    "y = total_label['ibd'].replace({'CD': 'IBD', 'UC': 'IBD'})\n",
    "y.value_counts()\n",
    "\n",
    "le = LabelEncoder()\n",
    "target_variable_2= le.fit_transform(y)\n"
   ]
  },
  {
   "cell_type": "code",
   "execution_count": 49,
   "metadata": {},
   "outputs": [
    {
     "name": "stdout",
     "output_type": "stream",
     "text": [
      "0\n",
      "1    867\n",
      "0    702\n",
      "Name: count, dtype: int64\n",
      "0\n",
      "0    867\n",
      "2    366\n",
      "1    336\n",
      "Name: count, dtype: int64\n"
     ]
    }
   ],
   "source": [
    "print(pd.DataFrame(target_variable_2).value_counts())\n",
    "y.value_counts()\n",
    "print(pd.DataFrame(target_variable_1).value_counts())\n",
    "print(pd.DataFrame(y_label).value_counts())"
   ]
  },
  {
   "cell_type": "markdown",
   "metadata": {},
   "source": [
    "### 2. Calculating H score for each OTU"
   ]
  },
  {
   "cell_type": "code",
   "execution_count": 24,
   "metadata": {},
   "outputs": [],
   "source": [
    "taxlabels = ['Species','Genus']\n",
    "feature_df_list = [total_features_species,total_features_genus]"
   ]
  },
  {
   "cell_type": "code",
   "execution_count": null,
   "metadata": {},
   "outputs": [],
   "source": [
    "feature_df = feature_df_list[0]\n",
    "target_variable = target_variable_1\n",
    "\n",
    "\n",
    "cols_name = feature_df.columns\n",
    "data = pd.DataFrame(FS.relative_abundance(feature_df),columns = cols_name)\n",
    "\n",
    "selectedresult_strict=FS.SelectMicro_fun(data,target_variable,p_cutoff = 0.05)\n",
    "X_FS_strict = selectedresult_strict['selected_df']\n",
    "\n",
    "selectedresult=FS.SelectMicro_fun(data,target_variable,p_cutoff = 0.10)\n",
    "selectedOTU_index= selectedresult['selected_indices']\n",
    "X_FS = selectedresult['selected_df']\n",
    "\n",
    "# Lasso\n",
    "X_lasso_ft0,selectedOTU_index_Lasso  = RunML.LassoFS_CV_classification(np.array(data),target_variable)\n",
    "X_lasso_ft = pd.DataFrame(X_lasso_ft0, columns=cols_name[selectedOTU_index_Lasso])\n",
    "#print(f\"Number of features selected by Lasso {X_lasso_ft.shape[1]}\")\n",
    "\n",
    "# SelectMicro+Lasso\n",
    "X_FS_lasso_ft0,xlabel_FS_lasso_ft0  = RunML.LassoFS_CV_classification(np.array(X_FS),target_variable)\n",
    "selectedOTU_index_FS_lasso = selectedOTU_index[xlabel_FS_lasso_ft0]\n",
    "X_FS_lasso_ft = pd.DataFrame(X_FS_lasso_ft0, columns=cols_name[selectedOTU_index_FS_lasso])\n",
    "#print(f\"Number of features selected by SelectMicro_Lasso {X_FS_lasso_ft.shape[1]}\")\n",
    "\n",
    "# final data subset\n",
    "data_subset = {\"AllFeatures\":data,\n",
    "               \"SelectMicro_strict\": X_FS_strict,\n",
    "               \"SelectMicro\": X_FS,\n",
    "               \"Lasso_finetune\":X_lasso_ft,\n",
    "               \"FS_Lassofinetune\":X_FS_lasso_ft\n",
    "              }\n",
    "print(f'The shape of the original dataset is ',np.shape(data))\n",
    "print(f'The shape of the SelectMicro_strict dataset is ',np.shape(X_FS_strict))\n",
    "print(f'The shape of the SelectMicro dataset is ',np.shape(X_FS))\n",
    "print(f'The shape of the Lasso_finetune selected dataset is ',np.shape(X_lasso_ft))\n",
    "print(f'The shape of the FS_Lasso_finetune selected dataset is ',np.shape(X_FS_lasso_ft))\n",
    "\n",
    "    "
   ]
  },
  {
   "cell_type": "code",
   "execution_count": null,
   "metadata": {},
   "outputs": [],
   "source": []
  },
  {
   "cell_type": "code",
   "execution_count": null,
   "metadata": {},
   "outputs": [],
   "source": []
  },
  {
   "cell_type": "code",
   "execution_count": null,
   "metadata": {},
   "outputs": [],
   "source": []
  },
  {
   "cell_type": "code",
   "execution_count": null,
   "metadata": {
    "metadata": {}
   },
   "outputs": [],
   "source": [
    "group = pd.DataFrame({'Disease': y_label})\n",
    "\n",
    "for datatype, subset in data_subset.items():\n",
    "    subset.index = meta_2.index\n",
    "    metric.plot_heatmap(subset,group)"
   ]
  },
  {
   "cell_type": "markdown",
   "metadata": {},
   "source": [
    "\"Bacterioides\" \n",
    "\n",
    "\"Porphyromonas\", \"WAL_1855D\",\"Corynebacterium \"\n",
    "\n",
    "Ruminococcus is opposed \n"
   ]
  },
  {
   "cell_type": "code",
   "execution_count": null,
   "metadata": {},
   "outputs": [],
   "source": [
    "# Create histogram with response variable as hue\n",
    "# Combine into a DataFrame\n",
    "# Combine into a DataFrame\n",
    "data_Porphyromonas = pd.DataFrame({'feature': total_features_genus['g__Porphyromonas'], 'response': y})\n",
    "plt.figure(figsize=(6, 4))\n",
    "sns.histplot(data=data_Porphyromonas, x='feature', hue='response', multiple='stack', kde=True, bins=5, palette='Set2')\n",
    "\n",
    "# Add labels\n",
    "plt.xlabel(\"Feature Value\")\n",
    "plt.ylabel(\"Count\")\n",
    "plt.title(\"Histogram of Feature by Response Category\")\n",
    "\n",
    "# Show plot\n",
    "plt.show()"
   ]
  },
  {
   "cell_type": "code",
   "execution_count": null,
   "metadata": {},
   "outputs": [],
   "source": [
    "max(total_features_genus['g__Porphyromonas'])"
   ]
  },
  {
   "cell_type": "code",
   "execution_count": null,
   "metadata": {},
   "outputs": [],
   "source": []
  },
  {
   "cell_type": "code",
   "execution_count": null,
   "metadata": {},
   "outputs": [],
   "source": []
  },
  {
   "cell_type": "code",
   "execution_count": null,
   "metadata": {},
   "outputs": [],
   "source": []
  },
  {
   "cell_type": "code",
   "execution_count": null,
   "metadata": {},
   "outputs": [],
   "source": []
  },
  {
   "cell_type": "code",
   "execution_count": null,
   "metadata": {},
   "outputs": [],
   "source": [
    "data_Ruminococcus = pd.DataFrame({'feature': data_subset_list[1]['SelectMicro']['g__Ruminococcus'], 'response': y})\n",
    "plt.figure(figsize=(12, 8))\n",
    "sns.histplot(data=data_Ruminococcus, x='feature', hue='response', multiple='dodge',bins=100, palette='Set2')\n",
    "\n",
    "# Add labels\n",
    "plt.xlabel(\"Feature Value\")\n",
    "plt.ylabel(\"Count\")\n",
    "plt.title(\"Histogram of Feature by Response Category\")\n",
    "\n",
    "# Show plot\n",
    "plt.show()"
   ]
  },
  {
   "cell_type": "markdown",
   "metadata": {},
   "source": [
    "### Modeling"
   ]
  },
  {
   "cell_type": "code",
   "execution_count": null,
   "metadata": {},
   "outputs": [],
   "source": []
  },
  {
   "cell_type": "code",
   "execution_count": null,
   "metadata": {},
   "outputs": [],
   "source": []
  },
  {
   "cell_type": "code",
   "execution_count": null,
   "metadata": {},
   "outputs": [],
   "source": []
  },
  {
   "cell_type": "markdown",
   "metadata": {
    "metadata": {}
   },
   "source": [
    "\n"
   ]
  },
  {
   "cell_type": "code",
   "execution_count": null,
   "metadata": {
    "metadata": {}
   },
   "outputs": [],
   "source": [
    "# plot the family \n",
    "for datatype, subset in data_subset_list[0].items():   \n",
    "    RunML.plot_dim_reduction(subset, y, method='PCA',datalabel=datatype)"
   ]
  },
  {
   "cell_type": "code",
   "execution_count": null,
   "metadata": {},
   "outputs": [],
   "source": [
    "# plot the genus \n",
    "for datatype, subset in data_subset_list[1].items():    \n",
    "     RunML.plot_dim_reduction(subset, y, method='PCA',datalabel=datatype)"
   ]
  },
  {
   "cell_type": "code",
   "execution_count": null,
   "metadata": {},
   "outputs": [],
   "source": []
  },
  {
   "cell_type": "code",
   "execution_count": null,
   "metadata": {},
   "outputs": [],
   "source": []
  },
  {
   "cell_type": "code",
   "execution_count": null,
   "metadata": {},
   "outputs": [],
   "source": []
  },
  {
   "cell_type": "code",
   "execution_count": null,
   "metadata": {},
   "outputs": [],
   "source": []
  },
  {
   "cell_type": "code",
   "execution_count": null,
   "metadata": {},
   "outputs": [],
   "source": []
  },
  {
   "cell_type": "code",
   "execution_count": null,
   "metadata": {
    "metadata": {}
   },
   "outputs": [],
   "source": []
  },
  {
   "cell_type": "code",
   "execution_count": null,
   "metadata": {},
   "outputs": [],
   "source": []
  },
  {
   "cell_type": "markdown",
   "metadata": {},
   "source": [
    "## compare the first 15 index"
   ]
  },
  {
   "cell_type": "code",
   "execution_count": null,
   "metadata": {
    "metadata": {}
   },
   "outputs": [],
   "source": [
    "import seaborn as sns\n",
    "import numpy as np\n",
    "import matplotlib.pyplot as plt\n",
    "import matplotlib as mpl\n",
    "# the   df with the largest H statistics features\n",
    "entries=15\n",
    "selectedOTU_index_15=selectedOTU_index[:entries]\n",
    "X_FS_15=data[:,selectedOTU_index_15]\n",
    "df=pd.DataFrame(data=X_FS_15)\n"
   ]
  },
  {
   "cell_type": "code",
   "execution_count": null,
   "metadata": {},
   "outputs": [],
   "source": [
    "# the column names of the featues\n",
    "ASVs = cols_name\n",
    "selectedASVs=[ASVs[i] for i in selectedOTU_index_15]"
   ]
  },
  {
   "cell_type": "code",
   "execution_count": null,
   "metadata": {},
   "outputs": [],
   "source": []
  },
  {
   "cell_type": "code",
   "execution_count": null,
   "metadata": {},
   "outputs": [],
   "source": [
    "print(set(targetLabel))\n",
    "RunML.plotPresenseRatio(X_FS_15,targetLabel,selectedASVs,posLabel=\"IBD\",posText=\"IBD\",negText=\"nonIBD\",entries=entries)"
   ]
  },
  {
   "cell_type": "code",
   "execution_count": null,
   "metadata": {},
   "outputs": [],
   "source": [
    "selectedASV_lasso = [cols_name[i] for i in xlabel_lasso]\n",
    "RunML.plotPresenseRatio(X_lasso,targetLabel,selectedASV_lasso,posLabel=\"IBD\",posText=\"IBD\",negText=\"nonIBD\",entries=len(selectedASV_lasso))"
   ]
  },
  {
   "cell_type": "code",
   "execution_count": null,
   "metadata": {},
   "outputs": [],
   "source": [
    "selectedASVs"
   ]
  },
  {
   "cell_type": "code",
   "execution_count": null,
   "metadata": {},
   "outputs": [],
   "source": [
    "qitta_combine[['Diagnosis','X4414821']].value_counts()"
   ]
  },
  {
   "cell_type": "code",
   "execution_count": null,
   "metadata": {},
   "outputs": [],
   "source": [
    "selectedASV_lasso"
   ]
  },
  {
   "cell_type": "code",
   "execution_count": null,
   "metadata": {},
   "outputs": [],
   "source": []
  }
 ],
 "metadata": {
  "kernelspec": {
   "display_name": "Python 3 (ipykernel)",
   "language": "python",
   "name": "python3"
  },
  "language_info": {
   "codemirror_mode": {
    "name": "ipython",
    "version": 3
   },
   "file_extension": ".py",
   "mimetype": "text/x-python",
   "name": "python",
   "nbconvert_exporter": "python",
   "pygments_lexer": "ipython3",
   "version": "3.12.7"
  }
 },
 "nbformat": 4,
 "nbformat_minor": 4
}
