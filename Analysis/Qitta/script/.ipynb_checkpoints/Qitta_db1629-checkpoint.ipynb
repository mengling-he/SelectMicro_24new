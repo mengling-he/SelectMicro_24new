{
 "cells": [
  {
   "cell_type": "markdown",
   "metadata": {},
   "source": [
    "First, load the data,in this notebook we are using the second Qitta data from the paper \"Machine learning–based feature selection to search stable microbial biomarkers: application to inflammatory bowel disease\". The data has been preprocessed in R (refer to the r script in iCloud/UTK/GRA-UTK/SelectMicro/MLonMicrobiome)."
   ]
  },
  {
   "cell_type": "markdown",
   "metadata": {},
   "source": [
    "2) 836 samples: Flores GE, Caporaso JG, Henley JB, et al. Temporal variability is a personalized feature of the human microbiome. Genome Biol 2014"
   ]
  },
  {
   "cell_type": "markdown",
   "metadata": {},
   "source": [
    "this notebook is for testing multiple classes, it worked for featur selection, but the code for ML part should  be edit."
   ]
  },
  {
   "cell_type": "code",
   "execution_count": 1,
   "metadata": {
    "metadata": {}
   },
   "outputs": [
    {
     "name": "stderr",
     "output_type": "stream",
     "text": [
      "2025-04-07 16:42:37.779662: I external/local_xla/xla/tsl/cuda/cudart_stub.cc:32] Could not find cuda drivers on your machine, GPU will not be used.\n",
      "2025-04-07 16:42:38.651662: I external/local_xla/xla/tsl/cuda/cudart_stub.cc:32] Could not find cuda drivers on your machine, GPU will not be used.\n",
      "2025-04-07 16:42:38.668744: E external/local_xla/xla/stream_executor/cuda/cuda_fft.cc:477] Unable to register cuFFT factory: Attempting to register factory for plugin cuFFT when one has already been registered\n",
      "WARNING: All log messages before absl::InitializeLog() is called are written to STDERR\n",
      "E0000 00:00:1744058558.689764  639909 cuda_dnn.cc:8310] Unable to register cuDNN factory: Attempting to register factory for plugin cuDNN when one has already been registered\n",
      "E0000 00:00:1744058558.696250  639909 cuda_blas.cc:1418] Unable to register cuBLAS factory: Attempting to register factory for plugin cuBLAS when one has already been registered\n",
      "2025-04-07 16:42:41.485344: I tensorflow/core/platform/cpu_feature_guard.cc:210] This TensorFlow binary is optimized to use available CPU instructions in performance-critical operations.\n",
      "To enable the following instructions: AVX2 AVX512F FMA, in other operations, rebuild TensorFlow with the appropriate compiler flags.\n",
      "/lustre/isaac24/scratch/mhe8/myenv/lib/python3.12/site-packages/tqdm/auto.py:21: TqdmWarning: IProgress not found. Please update jupyter and ipywidgets. See https://ipywidgets.readthedocs.io/en/stable/user_install.html\n",
      "  from .autonotebook import tqdm as notebook_tqdm\n"
     ]
    }
   ],
   "source": [
    "import sys\n",
    "sys.path.append('../../../Code')\n",
    "import loadData \n",
    "import RunML\n",
    "import FS\n",
    "import metric\n",
    "\n",
    "import pandas as pd\n",
    "import numpy as np\n",
    "import random\n",
    "from sklearn.ensemble import RandomForestClassifier\n",
    "from sklearn.linear_model import LogisticRegression\n",
    "from sklearn import svm\n",
    "import pickle"
   ]
  },
  {
   "cell_type": "code",
   "execution_count": 2,
   "metadata": {},
   "outputs": [],
   "source": [
    "qitta_2 = pd.read_csv('../data/features_genus_db1629.csv',index_col=0)"
   ]
  },
  {
   "cell_type": "code",
   "execution_count": 3,
   "metadata": {
    "metadata": {}
   },
   "outputs": [
    {
     "name": "stdout",
     "output_type": "stream",
     "text": [
      "(637, 220)\n"
     ]
    }
   ],
   "source": [
    "print(qitta_2.shape)"
   ]
  },
  {
   "cell_type": "code",
   "execution_count": 4,
   "metadata": {},
   "outputs": [],
   "source": [
    "meta_2 = pd.read_csv('../data/meta_genus_db1629.csv',index_col=0)"
   ]
  },
  {
   "cell_type": "code",
   "execution_count": 5,
   "metadata": {},
   "outputs": [],
   "source": [
    "# 1. abundance matrix--> relative abundance matrix\n",
    "cols_name = qitta_2.columns\n",
    "data = FS.relative_abundance(qitta_2)"
   ]
  },
  {
   "cell_type": "code",
   "execution_count": 6,
   "metadata": {},
   "outputs": [
    {
     "name": "stdout",
     "output_type": "stream",
     "text": [
      "     g__Neisseria  g__Blautia  g__Turicibacter  f__Peptostreptococcaceae  \\\n",
      "0             0.0    0.023283              0.0                       0.0   \n",
      "1             0.0    0.045551              0.0                       0.0   \n",
      "2             0.0    0.035033              0.0                       0.0   \n",
      "3             0.0    0.026943              0.0                       0.0   \n",
      "4             0.0    0.038353              0.0                       0.0   \n",
      "..            ...         ...              ...                       ...   \n",
      "632           0.0    0.076923              0.0                       0.0   \n",
      "633           0.0    0.000000              0.0                       0.0   \n",
      "634           0.0    0.000000              0.0                       0.0   \n",
      "635           0.0    0.050000              0.0                       0.0   \n",
      "636           0.0    0.000000              0.0                       0.0   \n",
      "\n",
      "     f__Burkholderiaceae  g__Aggregatibacter  g__Serratia  g__Sutterella  \\\n",
      "0                    0.0                 0.0          0.0            0.0   \n",
      "1                    0.0                 0.0          0.0            0.0   \n",
      "2                    0.0                 0.0          0.0            0.0   \n",
      "3                    0.0                 0.0          0.0            0.0   \n",
      "4                    0.0                 0.0          0.0            0.0   \n",
      "..                   ...                 ...          ...            ...   \n",
      "632                  0.0                 0.0          0.0            0.0   \n",
      "633                  0.0                 0.0          0.0            0.0   \n",
      "634                  0.0                 0.0          0.0            0.0   \n",
      "635                  0.0                 0.0          0.0            0.0   \n",
      "636                  0.0                 0.0          0.0            0.0   \n",
      "\n",
      "     g__Fusobacterium  g__Gardnerella  ...  f__Pseudomonadaceae  g__Bilophila  \\\n",
      "0                 0.0             0.0  ...                  0.0           0.0   \n",
      "1                 0.0             0.0  ...                  0.0           0.0   \n",
      "2                 0.0             0.0  ...                  0.0           0.0   \n",
      "3                 0.0             0.0  ...                  0.0           0.0   \n",
      "4                 0.0             0.0  ...                  0.0           0.0   \n",
      "..                ...             ...  ...                  ...           ...   \n",
      "632               0.0             0.0  ...                  0.0           0.0   \n",
      "633               0.0             0.0  ...                  0.0           0.0   \n",
      "634               0.0             0.0  ...                  0.0           0.0   \n",
      "635               0.0             0.0  ...                  0.0           0.0   \n",
      "636               0.0             0.0  ...                  0.0           0.0   \n",
      "\n",
      "     o__YS2  g__Butyricicoccus  g__Gallibacterium  f__Comamonadaceae  \\\n",
      "0       0.0                0.0                0.0                0.0   \n",
      "1       0.0                0.0                0.0                0.0   \n",
      "2       0.0                0.0                0.0                0.0   \n",
      "3       0.0                0.0                0.0                0.0   \n",
      "4       0.0                0.0                0.0                0.0   \n",
      "..      ...                ...                ...                ...   \n",
      "632     0.0                0.0                0.0                0.0   \n",
      "633     0.0                0.0                0.0                0.0   \n",
      "634     0.0                0.0                0.0                0.0   \n",
      "635     0.0                0.0                0.0                0.0   \n",
      "636     0.0                0.0                0.0                0.0   \n",
      "\n",
      "     g__Hydrogenophaga  g__Peptoniphilus  f__EtOH8  g__Lactobacillus  \n",
      "0                  0.0               0.0       0.0               0.0  \n",
      "1                  0.0               0.0       0.0               0.0  \n",
      "2                  0.0               0.0       0.0               0.0  \n",
      "3                  0.0               0.0       0.0               0.0  \n",
      "4                  0.0               0.0       0.0               0.0  \n",
      "..                 ...               ...       ...               ...  \n",
      "632                0.0               0.0       0.0               0.0  \n",
      "633                0.0               0.0       0.0               0.0  \n",
      "634                0.0               0.0       0.0               0.0  \n",
      "635                0.0               0.0       0.0               0.0  \n",
      "636                0.0               0.0       0.0               0.0  \n",
      "\n",
      "[637 rows x 220 columns]\n",
      "(637, 220)\n"
     ]
    }
   ],
   "source": [
    "print(pd.DataFrame(data, columns=cols_name))\n",
    "print(np.shape(data))"
   ]
  },
  {
   "cell_type": "code",
   "execution_count": null,
   "metadata": {},
   "outputs": [],
   "source": []
  },
  {
   "cell_type": "code",
   "execution_count": 7,
   "metadata": {},
   "outputs": [],
   "source": [
    "y = meta_2['ibd']"
   ]
  },
  {
   "cell_type": "code",
   "execution_count": 8,
   "metadata": {},
   "outputs": [
    {
     "data": {
      "text/plain": [
       "{'CD', 'UC', 'nonIBD'}"
      ]
     },
     "execution_count": 8,
     "metadata": {},
     "output_type": "execute_result"
    }
   ],
   "source": [
    "set(y)\n",
    "# nonIBD: Individuals without IBD (healthy controls).\n",
    "# CD: Crohn’s Disease.\n",
    "# UC: Ulcerative Colitis."
   ]
  },
  {
   "cell_type": "code",
   "execution_count": 9,
   "metadata": {},
   "outputs": [
    {
     "data": {
      "text/plain": [
       "ibd\n",
       "UC        324\n",
       "CD        251\n",
       "nonIBD     62\n",
       "Name: count, dtype: int64"
      ]
     },
     "execution_count": 9,
     "metadata": {},
     "output_type": "execute_result"
    }
   ],
   "source": [
    "pd.Series(y).value_counts()"
   ]
  },
  {
   "cell_type": "code",
   "execution_count": null,
   "metadata": {},
   "outputs": [],
   "source": []
  },
  {
   "cell_type": "markdown",
   "metadata": {},
   "source": [
    "Perform sigle lable feature selection, this is done by calculating Kruskal-Wallis H-test on each OTU for each environmental factor, each OTU/ASV is given a weighted h score."
   ]
  },
  {
   "cell_type": "code",
   "execution_count": 10,
   "metadata": {
    "metadata": {}
   },
   "outputs": [
    {
     "data": {
      "text/plain": [
       "dict_keys(['selected_df', 'selected_indices', 'relative_abundance_data', 'H_score'])"
      ]
     },
     "execution_count": 10,
     "metadata": {},
     "output_type": "execute_result"
    },
    {
     "data": {
      "image/png": "[encoded data removed]",
      "text/plain": [
       "<Figure size 800x500 with 1 Axes>"
      ]
     },
     "metadata": {},
     "output_type": "display_data"
    }
   ],
   "source": [
    "# 2. calculating H score for each OTU\n",
    "selectedresult=FS.SelectMicro_fun(pd.DataFrame(data, columns=cols_name),y,p_cutoff = 0.05)\n",
    "\n",
    "selectedresult.keys()"
   ]
  },
  {
   "cell_type": "code",
   "execution_count": 11,
   "metadata": {},
   "outputs": [],
   "source": [
    "data2 = selectedresult['relative_abundance_data']\n",
    "selectedOTU_index= selectedresult['selected_indices']\n",
    "X_FS = selectedresult['selected_df']\n",
    "#selectedASV = X_FS.columns\n"
   ]
  },
  {
   "cell_type": "code",
   "execution_count": 12,
   "metadata": {
    "metadata": {}
   },
   "outputs": [
    {
     "data": {
      "text/plain": [
       "array([[0.        , 0.02328316, 0.        , ..., 0.        , 0.        ,\n",
       "        0.        ],\n",
       "       [0.        , 0.04555099, 0.        , ..., 0.        , 0.        ,\n",
       "        0.        ],\n",
       "       [0.        , 0.03503292, 0.        , ..., 0.        , 0.        ,\n",
       "        0.        ],\n",
       "       ...,\n",
       "       [0.        , 0.        , 0.        , ..., 0.        , 0.        ,\n",
       "        0.        ],\n",
       "       [0.        , 0.05      , 0.        , ..., 0.        , 0.        ,\n",
       "        0.        ],\n",
       "       [0.        , 0.        , 0.        , ..., 0.        , 0.        ,\n",
       "        0.        ]])"
      ]
     },
     "execution_count": 12,
     "metadata": {},
     "output_type": "execute_result"
    }
   ],
   "source": [
    "data2"
   ]
  },
  {
   "cell_type": "code",
   "execution_count": null,
   "metadata": {},
   "outputs": [],
   "source": []
  },
  {
   "cell_type": "code",
   "execution_count": 13,
   "metadata": {},
   "outputs": [],
   "source": [
    "custom_order = ['nonIBD', 'CD', 'UC']\n",
    "custom_mapping = {category: i for i, category in enumerate(custom_order)}"
   ]
  },
  {
   "cell_type": "code",
   "execution_count": 14,
   "metadata": {},
   "outputs": [],
   "source": [
    "target_variable = [custom_mapping[category] for category in y]\n",
    "target_variable = np.array(target_variable)"
   ]
  },
  {
   "cell_type": "code",
   "execution_count": 15,
   "metadata": {},
   "outputs": [
    {
     "name": "stdout",
     "output_type": "stream",
     "text": [
      "Best alpha: 0.05\n",
      "Best alpha: 0.05\n"
     ]
    }
   ],
   "source": [
    "X_lasso_ft0,selectedOTU_index_Lasso  = RunML.LassoFS_CV(data2,target_variable)\n",
    "X_lasso_ft = pd.DataFrame(X_lasso_ft0, columns=cols_name[selectedOTU_index_Lasso])\n",
    "\n",
    "X_FS_lasso_ft0,xlabel_FS_lasso_ft0  = RunML.LassoFS_CV(np.array(X_FS),target_variable)\n",
    "selectedOTU_index_FS_lasso = selectedOTU_index[xlabel_FS_lasso_ft0]\n",
    "X_FS_lasso_ft = pd.DataFrame(X_FS_lasso_ft0, columns=cols_name[selectedOTU_index_FS_lasso])\n",
    "\n",
    "data_subset = {\"AllFeatures\":data2,\n",
    "               \"SelectMicro\": X_FS,\n",
    "               \"Lasso_finetune\":X_lasso_ft,\n",
    "               \"FS_Lassofinetune\":X_FS_lasso_ft\n",
    "              }"
   ]
  },
  {
   "cell_type": "code",
   "execution_count": 16,
   "metadata": {},
   "outputs": [
    {
     "name": "stdout",
     "output_type": "stream",
     "text": [
      "The shape of the original dataset is  (637, 220)\n",
      "The shape of the SelectMicro dataset is  (637, 45)\n",
      "The shape of the Lasso_finetune selected dataset is  (637, 15)\n",
      "The shape of the FS_Lasso_finetune selected dataset is  (637, 14)\n"
     ]
    }
   ],
   "source": [
    "print(f'The shape of the original dataset is ',np.shape(data))\n",
    "print(f'The shape of the SelectMicro dataset is ',np.shape(X_FS))\n",
    "print(f'The shape of the Lasso_finetune selected dataset is ',np.shape(X_lasso_ft))\n",
    "print(f'The shape of the FS_Lasso_finetune selected dataset is ',np.shape(X_FS_lasso_ft))\n"
   ]
  },
  {
   "cell_type": "code",
   "execution_count": 17,
   "metadata": {},
   "outputs": [],
   "source": [
    "import pandas as pd\n",
    "import seaborn as sns\n",
    "import matplotlib.pyplot as plt\n",
    "from sklearn.preprocessing import StandardScaler\n",
    "\n",
    "def plot_class_grouped_heatmap(df, labels, scale=False, class_color_map=None, figsize=(12, 8), show_legend=True):\n",
    "    labels = pd.Series(labels, name='Class')  # Ensure it's a pandas Series with name\n",
    "    # Optional feature scaling\n",
    "    if scale:\n",
    "        df = pd.DataFrame(StandardScaler().fit_transform(df), \n",
    "                          columns=df.columns, index=df.index)\n",
    "\n",
    "    # Sort the data by class\n",
    "    sorted_indices = labels.argsort()\n",
    "    df_sorted = df.iloc[sorted_indices]\n",
    "    labels_sorted = labels.iloc[sorted_indices]\n",
    "\n",
    "    # Default class color map if none provided\n",
    "    if class_color_map is None:\n",
    "        unique_classes = sorted(labels.unique())\n",
    "        palette = sns.color_palette(\"Set2\", len(unique_classes))\n",
    "        class_color_map = {cls: color for cls, color in zip(unique_classes, palette)}\n",
    "        print(class_color_map)\n",
    "\n",
    "    # Map class labels to colors\n",
    "    row_colors = labels_sorted.map(class_color_map)\n",
    "\n",
    "    # Create the clustermap (no clustering, just ordering)\n",
    "    g = sns.clustermap(df_sorted,\n",
    "                       row_cluster=False,\n",
    "                       col_cluster=False,\n",
    "                       row_colors=row_colors,\n",
    "                       cmap='viridis',\n",
    "                       yticklabels=False,\n",
    "                       figsize=figsize)\n",
    "\n",
    "    # Optional legend\n",
    "    if show_legend:\n",
    "        for label in class_color_map:\n",
    "            g.ax_row_dendrogram.bar(0, 0, color=class_color_map[label],\n",
    "                                    label=str(label), linewidth=0)\n",
    "        g.ax_row_dendrogram.legend(loc=\"center left\", bbox_to_anchor=(1.0, 0.5), title=\"Class\")\n",
    "\n",
    "    plt.subplots_adjust(right=0.85)  # Make space for legend\n",
    "    g.fig.suptitle(\"Heatmap of Features Grouped by Class\", y=1.02)\n",
    "    plt.show()"
   ]
  },
  {
   "cell_type": "code",
   "execution_count": 18,
   "metadata": {},
   "outputs": [],
   "source": [
    "X_FS_st = pd.DataFrame(StandardScaler().fit_transform(X_FS), \n",
    "                          columns=X_FS.columns, index=X_FS.index)"
   ]
  },
  {
   "cell_type": "code",
   "execution_count": 19,
   "metadata": {},
   "outputs": [
    {
     "data": {
      "text/html": [
       "<div>\n",
       "<style scoped>\n",
       "    .dataframe tbody tr th:only-of-type {\n",
       "        vertical-align: middle;\n",
       "    }\n",
       "\n",
       "    .dataframe tbody tr th {\n",
       "        vertical-align: top;\n",
       "    }\n",
       "\n",
       "    .dataframe thead th {\n",
       "        text-align: right;\n",
       "    }\n",
       "</style>\n",
       "<table border=\"1\" class=\"dataframe\">\n",
       "  <thead>\n",
       "    <tr style=\"text-align: right;\">\n",
       "      <th></th>\n",
       "      <th>f__Ruminococcaceae</th>\n",
       "      <th>f__Enterobacteriaceae</th>\n",
       "      <th>g__Prevotella</th>\n",
       "      <th>g__Faecalibacterium</th>\n",
       "      <th>g__Veillonella</th>\n",
       "      <th>g__Ruminococcus_feature_57</th>\n",
       "      <th>o__Clostridiales</th>\n",
       "      <th>g__Bacteroides</th>\n",
       "      <th>g__Oscillospira</th>\n",
       "      <th>g__Catenibacterium</th>\n",
       "      <th>...</th>\n",
       "      <th>g__Listeria</th>\n",
       "      <th>o__Thiohalorhabdales</th>\n",
       "      <th>g__Odoribacter</th>\n",
       "      <th>g__Lachnospira</th>\n",
       "      <th>g__Clostridium_feature_39</th>\n",
       "      <th>g__Streptococcus</th>\n",
       "      <th>g__Alistipes</th>\n",
       "      <th>g__Roseburia</th>\n",
       "      <th>f__Erysipelotrichaceae</th>\n",
       "      <th>g__Succiniclasticum</th>\n",
       "    </tr>\n",
       "  </thead>\n",
       "  <tbody>\n",
       "    <tr>\n",
       "      <th>0</th>\n",
       "      <td>2.100995</td>\n",
       "      <td>-0.333153</td>\n",
       "      <td>-0.473449</td>\n",
       "      <td>1.268173</td>\n",
       "      <td>-0.178093</td>\n",
       "      <td>1.956056</td>\n",
       "      <td>0.352514</td>\n",
       "      <td>-0.839290</td>\n",
       "      <td>1.689028</td>\n",
       "      <td>-0.078382</td>\n",
       "      <td>...</td>\n",
       "      <td>-0.116779</td>\n",
       "      <td>-0.039653</td>\n",
       "      <td>-0.119537</td>\n",
       "      <td>-0.408493</td>\n",
       "      <td>-0.210693</td>\n",
       "      <td>-0.232776</td>\n",
       "      <td>-0.100635</td>\n",
       "      <td>-0.257046</td>\n",
       "      <td>-0.264125</td>\n",
       "      <td>-0.097475</td>\n",
       "    </tr>\n",
       "    <tr>\n",
       "      <th>1</th>\n",
       "      <td>2.143487</td>\n",
       "      <td>-0.333153</td>\n",
       "      <td>-0.473449</td>\n",
       "      <td>-0.528966</td>\n",
       "      <td>-0.178093</td>\n",
       "      <td>-0.106029</td>\n",
       "      <td>1.312935</td>\n",
       "      <td>-1.129012</td>\n",
       "      <td>-0.400314</td>\n",
       "      <td>-0.078382</td>\n",
       "      <td>...</td>\n",
       "      <td>-0.116779</td>\n",
       "      <td>-0.039653</td>\n",
       "      <td>-0.119537</td>\n",
       "      <td>-0.408493</td>\n",
       "      <td>-0.210693</td>\n",
       "      <td>0.647341</td>\n",
       "      <td>-0.100635</td>\n",
       "      <td>-0.257046</td>\n",
       "      <td>2.864956</td>\n",
       "      <td>-0.097475</td>\n",
       "    </tr>\n",
       "    <tr>\n",
       "      <th>2</th>\n",
       "      <td>0.492439</td>\n",
       "      <td>-0.333153</td>\n",
       "      <td>-0.473449</td>\n",
       "      <td>0.413327</td>\n",
       "      <td>-0.178093</td>\n",
       "      <td>-0.174181</td>\n",
       "      <td>0.376410</td>\n",
       "      <td>0.127135</td>\n",
       "      <td>-0.400314</td>\n",
       "      <td>-0.078382</td>\n",
       "      <td>...</td>\n",
       "      <td>-0.116779</td>\n",
       "      <td>-0.039653</td>\n",
       "      <td>-0.119537</td>\n",
       "      <td>0.972703</td>\n",
       "      <td>-0.210693</td>\n",
       "      <td>-0.232776</td>\n",
       "      <td>-0.100635</td>\n",
       "      <td>-0.257046</td>\n",
       "      <td>-0.264125</td>\n",
       "      <td>-0.097475</td>\n",
       "    </tr>\n",
       "    <tr>\n",
       "      <th>3</th>\n",
       "      <td>1.042827</td>\n",
       "      <td>-0.333153</td>\n",
       "      <td>-0.398731</td>\n",
       "      <td>-0.305427</td>\n",
       "      <td>-0.178093</td>\n",
       "      <td>0.112280</td>\n",
       "      <td>1.407230</td>\n",
       "      <td>-0.961201</td>\n",
       "      <td>0.910413</td>\n",
       "      <td>-0.078382</td>\n",
       "      <td>...</td>\n",
       "      <td>-0.116779</td>\n",
       "      <td>-0.039653</td>\n",
       "      <td>-0.119537</td>\n",
       "      <td>-0.408493</td>\n",
       "      <td>-0.210693</td>\n",
       "      <td>-0.232776</td>\n",
       "      <td>-0.100635</td>\n",
       "      <td>-0.257046</td>\n",
       "      <td>-0.264125</td>\n",
       "      <td>-0.097475</td>\n",
       "    </tr>\n",
       "    <tr>\n",
       "      <th>4</th>\n",
       "      <td>0.139007</td>\n",
       "      <td>-0.333153</td>\n",
       "      <td>-0.473449</td>\n",
       "      <td>-0.955197</td>\n",
       "      <td>-0.178093</td>\n",
       "      <td>0.643862</td>\n",
       "      <td>1.143645</td>\n",
       "      <td>-1.233858</td>\n",
       "      <td>-0.400314</td>\n",
       "      <td>-0.078382</td>\n",
       "      <td>...</td>\n",
       "      <td>-0.116779</td>\n",
       "      <td>-0.039653</td>\n",
       "      <td>-0.119537</td>\n",
       "      <td>-0.408493</td>\n",
       "      <td>-0.210693</td>\n",
       "      <td>-0.232776</td>\n",
       "      <td>-0.100635</td>\n",
       "      <td>-0.257046</td>\n",
       "      <td>5.167620</td>\n",
       "      <td>-0.097475</td>\n",
       "    </tr>\n",
       "    <tr>\n",
       "      <th>...</th>\n",
       "      <td>...</td>\n",
       "      <td>...</td>\n",
       "      <td>...</td>\n",
       "      <td>...</td>\n",
       "      <td>...</td>\n",
       "      <td>...</td>\n",
       "      <td>...</td>\n",
       "      <td>...</td>\n",
       "      <td>...</td>\n",
       "      <td>...</td>\n",
       "      <td>...</td>\n",
       "      <td>...</td>\n",
       "      <td>...</td>\n",
       "      <td>...</td>\n",
       "      <td>...</td>\n",
       "      <td>...</td>\n",
       "      <td>...</td>\n",
       "      <td>...</td>\n",
       "      <td>...</td>\n",
       "      <td>...</td>\n",
       "      <td>...</td>\n",
       "    </tr>\n",
       "    <tr>\n",
       "      <th>632</th>\n",
       "      <td>-0.950295</td>\n",
       "      <td>-0.333153</td>\n",
       "      <td>-0.109886</td>\n",
       "      <td>-0.955197</td>\n",
       "      <td>-0.178093</td>\n",
       "      <td>-0.590878</td>\n",
       "      <td>0.738670</td>\n",
       "      <td>-0.911018</td>\n",
       "      <td>-0.400314</td>\n",
       "      <td>-0.078382</td>\n",
       "      <td>...</td>\n",
       "      <td>-0.116779</td>\n",
       "      <td>-0.039653</td>\n",
       "      <td>-0.119537</td>\n",
       "      <td>-0.408493</td>\n",
       "      <td>-0.210693</td>\n",
       "      <td>-0.232776</td>\n",
       "      <td>-0.100635</td>\n",
       "      <td>-0.257046</td>\n",
       "      <td>-0.264125</td>\n",
       "      <td>-0.097475</td>\n",
       "    </tr>\n",
       "    <tr>\n",
       "      <th>633</th>\n",
       "      <td>-0.950295</td>\n",
       "      <td>0.223254</td>\n",
       "      <td>0.156726</td>\n",
       "      <td>-0.955197</td>\n",
       "      <td>3.331833</td>\n",
       "      <td>-0.590878</td>\n",
       "      <td>-0.764714</td>\n",
       "      <td>0.330767</td>\n",
       "      <td>-0.400314</td>\n",
       "      <td>-0.078382</td>\n",
       "      <td>...</td>\n",
       "      <td>-0.116779</td>\n",
       "      <td>-0.039653</td>\n",
       "      <td>-0.119537</td>\n",
       "      <td>-0.408493</td>\n",
       "      <td>-0.210693</td>\n",
       "      <td>-0.232776</td>\n",
       "      <td>-0.100635</td>\n",
       "      <td>-0.257046</td>\n",
       "      <td>-0.264125</td>\n",
       "      <td>-0.097475</td>\n",
       "    </tr>\n",
       "    <tr>\n",
       "      <th>634</th>\n",
       "      <td>-0.299497</td>\n",
       "      <td>0.648742</td>\n",
       "      <td>-0.195431</td>\n",
       "      <td>-0.955197</td>\n",
       "      <td>-0.178093</td>\n",
       "      <td>0.746306</td>\n",
       "      <td>-0.764714</td>\n",
       "      <td>0.140847</td>\n",
       "      <td>-0.400314</td>\n",
       "      <td>-0.078382</td>\n",
       "      <td>...</td>\n",
       "      <td>-0.116779</td>\n",
       "      <td>-0.039653</td>\n",
       "      <td>-0.119537</td>\n",
       "      <td>-0.408493</td>\n",
       "      <td>-0.210693</td>\n",
       "      <td>-0.232776</td>\n",
       "      <td>-0.100635</td>\n",
       "      <td>-0.257046</td>\n",
       "      <td>-0.264125</td>\n",
       "      <td>-0.097475</td>\n",
       "    </tr>\n",
       "    <tr>\n",
       "      <th>635</th>\n",
       "      <td>-0.397117</td>\n",
       "      <td>2.587986</td>\n",
       "      <td>-0.237133</td>\n",
       "      <td>-0.955197</td>\n",
       "      <td>-0.178093</td>\n",
       "      <td>2.250639</td>\n",
       "      <td>-0.276115</td>\n",
       "      <td>-0.436035</td>\n",
       "      <td>-0.400314</td>\n",
       "      <td>-0.078382</td>\n",
       "      <td>...</td>\n",
       "      <td>-0.116779</td>\n",
       "      <td>-0.039653</td>\n",
       "      <td>-0.119537</td>\n",
       "      <td>-0.408493</td>\n",
       "      <td>3.036518</td>\n",
       "      <td>1.270923</td>\n",
       "      <td>-0.100635</td>\n",
       "      <td>-0.257046</td>\n",
       "      <td>-0.264125</td>\n",
       "      <td>-0.097475</td>\n",
       "    </tr>\n",
       "    <tr>\n",
       "      <th>636</th>\n",
       "      <td>2.737559</td>\n",
       "      <td>-0.333153</td>\n",
       "      <td>-0.473449</td>\n",
       "      <td>5.149990</td>\n",
       "      <td>-0.178093</td>\n",
       "      <td>-0.590878</td>\n",
       "      <td>-0.764714</td>\n",
       "      <td>-1.283554</td>\n",
       "      <td>-0.400314</td>\n",
       "      <td>-0.078382</td>\n",
       "      <td>...</td>\n",
       "      <td>-0.116779</td>\n",
       "      <td>-0.039653</td>\n",
       "      <td>-0.119537</td>\n",
       "      <td>-0.408493</td>\n",
       "      <td>-0.210693</td>\n",
       "      <td>-0.232776</td>\n",
       "      <td>-0.100635</td>\n",
       "      <td>-0.257046</td>\n",
       "      <td>-0.264125</td>\n",
       "      <td>-0.097475</td>\n",
       "    </tr>\n",
       "  </tbody>\n",
       "</table>\n",
       "<p>637 rows × 45 columns</p>\n",
       "</div>"
      ],
      "text/plain": [
       "     f__Ruminococcaceae  f__Enterobacteriaceae  g__Prevotella  \\\n",
       "0              2.100995              -0.333153      -0.473449   \n",
       "1              2.143487              -0.333153      -0.473449   \n",
       "2              0.492439              -0.333153      -0.473449   \n",
       "3              1.042827              -0.333153      -0.398731   \n",
       "4              0.139007              -0.333153      -0.473449   \n",
       "..                  ...                    ...            ...   \n",
       "632           -0.950295              -0.333153      -0.109886   \n",
       "633           -0.950295               0.223254       0.156726   \n",
       "634           -0.299497               0.648742      -0.195431   \n",
       "635           -0.397117               2.587986      -0.237133   \n",
       "636            2.737559              -0.333153      -0.473449   \n",
       "\n",
       "     g__Faecalibacterium  g__Veillonella  g__Ruminococcus_feature_57  \\\n",
       "0               1.268173       -0.178093                    1.956056   \n",
       "1              -0.528966       -0.178093                   -0.106029   \n",
       "2               0.413327       -0.178093                   -0.174181   \n",
       "3              -0.305427       -0.178093                    0.112280   \n",
       "4              -0.955197       -0.178093                    0.643862   \n",
       "..                   ...             ...                         ...   \n",
       "632            -0.955197       -0.178093                   -0.590878   \n",
       "633            -0.955197        3.331833                   -0.590878   \n",
       "634            -0.955197       -0.178093                    0.746306   \n",
       "635            -0.955197       -0.178093                    2.250639   \n",
       "636             5.149990       -0.178093                   -0.590878   \n",
       "\n",
       "     o__Clostridiales  g__Bacteroides  g__Oscillospira  g__Catenibacterium  \\\n",
       "0            0.352514       -0.839290         1.689028           -0.078382   \n",
       "1            1.312935       -1.129012        -0.400314           -0.078382   \n",
       "2            0.376410        0.127135        -0.400314           -0.078382   \n",
       "3            1.407230       -0.961201         0.910413           -0.078382   \n",
       "4            1.143645       -1.233858        -0.400314           -0.078382   \n",
       "..                ...             ...              ...                 ...   \n",
       "632          0.738670       -0.911018        -0.400314           -0.078382   \n",
       "633         -0.764714        0.330767        -0.400314           -0.078382   \n",
       "634         -0.764714        0.140847        -0.400314           -0.078382   \n",
       "635         -0.276115       -0.436035        -0.400314           -0.078382   \n",
       "636         -0.764714       -1.283554        -0.400314           -0.078382   \n",
       "\n",
       "     ...  g__Listeria  o__Thiohalorhabdales  g__Odoribacter  g__Lachnospira  \\\n",
       "0    ...    -0.116779             -0.039653       -0.119537       -0.408493   \n",
       "1    ...    -0.116779             -0.039653       -0.119537       -0.408493   \n",
       "2    ...    -0.116779             -0.039653       -0.119537        0.972703   \n",
       "3    ...    -0.116779             -0.039653       -0.119537       -0.408493   \n",
       "4    ...    -0.116779             -0.039653       -0.119537       -0.408493   \n",
       "..   ...          ...                   ...             ...             ...   \n",
       "632  ...    -0.116779             -0.039653       -0.119537       -0.408493   \n",
       "633  ...    -0.116779             -0.039653       -0.119537       -0.408493   \n",
       "634  ...    -0.116779             -0.039653       -0.119537       -0.408493   \n",
       "635  ...    -0.116779             -0.039653       -0.119537       -0.408493   \n",
       "636  ...    -0.116779             -0.039653       -0.119537       -0.408493   \n",
       "\n",
       "     g__Clostridium_feature_39  g__Streptococcus  g__Alistipes  g__Roseburia  \\\n",
       "0                    -0.210693         -0.232776     -0.100635     -0.257046   \n",
       "1                    -0.210693          0.647341     -0.100635     -0.257046   \n",
       "2                    -0.210693         -0.232776     -0.100635     -0.257046   \n",
       "3                    -0.210693         -0.232776     -0.100635     -0.257046   \n",
       "4                    -0.210693         -0.232776     -0.100635     -0.257046   \n",
       "..                         ...               ...           ...           ...   \n",
       "632                  -0.210693         -0.232776     -0.100635     -0.257046   \n",
       "633                  -0.210693         -0.232776     -0.100635     -0.257046   \n",
       "634                  -0.210693         -0.232776     -0.100635     -0.257046   \n",
       "635                   3.036518          1.270923     -0.100635     -0.257046   \n",
       "636                  -0.210693         -0.232776     -0.100635     -0.257046   \n",
       "\n",
       "     f__Erysipelotrichaceae  g__Succiniclasticum  \n",
       "0                 -0.264125            -0.097475  \n",
       "1                  2.864956            -0.097475  \n",
       "2                 -0.264125            -0.097475  \n",
       "3                 -0.264125            -0.097475  \n",
       "4                  5.167620            -0.097475  \n",
       "..                      ...                  ...  \n",
       "632               -0.264125            -0.097475  \n",
       "633               -0.264125            -0.097475  \n",
       "634               -0.264125            -0.097475  \n",
       "635               -0.264125            -0.097475  \n",
       "636               -0.264125            -0.097475  \n",
       "\n",
       "[637 rows x 45 columns]"
      ]
     },
     "execution_count": 19,
     "metadata": {},
     "output_type": "execute_result"
    }
   ],
   "source": [
    "X_FS_st"
   ]
  },
  {
   "cell_type": "code",
   "execution_count": 20,
   "metadata": {},
   "outputs": [
    {
     "data": {
      "image/png": "[encoded data removed]",
      "text/plain": [
       "<Figure size 1000x800 with 2 Axes>"
      ]
     },
     "metadata": {},
     "output_type": "display_data"
    }
   ],
   "source": [
    "# Compute correlation matrix\n",
    "corr = X_FS.corr(numeric_only=True)\n",
    "\n",
    "# Plot heatmap\n",
    "plt.figure(figsize=(10, 8))\n",
    "sns.heatmap(corr, annot=False, cmap='coolwarm', fmt=\".2f\", square=True, linewidths=0.5)\n",
    "plt.title(\"Correlation Heatmap\")\n",
    "plt.tight_layout()\n",
    "plt.show()"
   ]
  },
  {
   "cell_type": "markdown",
   "metadata": {},
   "source": [
    "The result is from sbatch script:"
   ]
  },
  {
   "cell_type": "markdown",
   "metadata": {},
   "source": [
    "|                  | number      | Random Forest   | Accuracy       | F1             | MCC            | AUC            |\n",
    "|----------------|----------------------|--------|----------------|----------------|----------------|----------------|\n",
    "|AllFeatures    | 220  | |0.736 (0.040)  |0.731 (0.046)|0.533 (0.080) |0.867 (0.032) |\n",
    "| SelectMicro| 45  | |0.736 (0.043) |0.731 (0.047) | 0.540 (0.079) |0.880 (0.018) |\n",
    "| Lasso_finetune    |15  | | 0.670 (0.030)|0.670 (0.032) |0.420 (0.065) |0.809 (0.033) |\n",
    "| FS_Lasso_finetune |   14 |  | 0.661 (0.022) |0.660 (0.024) |0.408 (0.056) |0.808 (0.027) |"
   ]
  },
  {
   "cell_type": "code",
   "execution_count": null,
   "metadata": {},
   "outputs": [],
   "source": []
  },
  {
   "cell_type": "code",
   "execution_count": null,
   "metadata": {},
   "outputs": [],
   "source": []
  },
  {
   "cell_type": "code",
   "execution_count": null,
   "metadata": {},
   "outputs": [],
   "source": []
  },
  {
   "cell_type": "code",
   "execution_count": null,
   "metadata": {},
   "outputs": [],
   "source": []
  },
  {
   "cell_type": "code",
   "execution_count": null,
   "metadata": {},
   "outputs": [],
   "source": []
  },
  {
   "cell_type": "code",
   "execution_count": null,
   "metadata": {},
   "outputs": [],
   "source": []
  },
  {
   "cell_type": "code",
   "execution_count": null,
   "metadata": {},
   "outputs": [],
   "source": []
  },
  {
   "cell_type": "code",
   "execution_count": null,
   "metadata": {},
   "outputs": [],
   "source": []
  },
  {
   "cell_type": "code",
   "execution_count": null,
   "metadata": {},
   "outputs": [],
   "source": []
  },
  {
   "cell_type": "code",
   "execution_count": null,
   "metadata": {},
   "outputs": [],
   "source": []
  },
  {
   "cell_type": "code",
   "execution_count": null,
   "metadata": {
    "metadata": {}
   },
   "outputs": [],
   "source": [
    "\n"
   ]
  },
  {
   "cell_type": "code",
   "execution_count": null,
   "metadata": {},
   "outputs": [],
   "source": []
  },
  {
   "cell_type": "code",
   "execution_count": null,
   "metadata": {
    "metadata": {}
   },
   "outputs": [],
   "source": []
  },
  {
   "cell_type": "code",
   "execution_count": null,
   "metadata": {},
   "outputs": [],
   "source": []
  },
  {
   "cell_type": "code",
   "execution_count": null,
   "metadata": {},
   "outputs": [],
   "source": []
  },
  {
   "cell_type": "code",
   "execution_count": null,
   "metadata": {},
   "outputs": [],
   "source": []
  },
  {
   "cell_type": "code",
   "execution_count": null,
   "metadata": {},
   "outputs": [],
   "source": []
  },
  {
   "cell_type": "code",
   "execution_count": null,
   "metadata": {},
   "outputs": [],
   "source": []
  },
  {
   "cell_type": "code",
   "execution_count": null,
   "metadata": {},
   "outputs": [],
   "source": []
  },
  {
   "cell_type": "code",
   "execution_count": null,
   "metadata": {
    "metadata": {}
   },
   "outputs": [],
   "source": []
  },
  {
   "cell_type": "code",
   "execution_count": null,
   "metadata": {},
   "outputs": [],
   "source": []
  },
  {
   "cell_type": "code",
   "execution_count": null,
   "metadata": {},
   "outputs": [],
   "source": []
  },
  {
   "cell_type": "code",
   "execution_count": null,
   "metadata": {},
   "outputs": [],
   "source": []
  },
  {
   "cell_type": "code",
   "execution_count": null,
   "metadata": {},
   "outputs": [],
   "source": []
  }
 ],
 "metadata": {
  "kernelspec": {
   "display_name": "Python 3 (ipykernel)",
   "language": "python",
   "name": "python3"
  },
  "language_info": {
   "codemirror_mode": {
    "name": "ipython",
    "version": 3
   },
   "file_extension": ".py",
   "mimetype": "text/x-python",
   "name": "python",
   "nbconvert_exporter": "python",
   "pygments_lexer": "ipython3",
   "version": "3.12.7"
  }
 },
 "nbformat": 4,
 "nbformat_minor": 4
}
