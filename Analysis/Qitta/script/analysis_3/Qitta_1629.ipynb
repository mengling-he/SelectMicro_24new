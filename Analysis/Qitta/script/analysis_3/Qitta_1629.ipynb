{
 "cells": [
  {
   "cell_type": "markdown",
   "metadata": {},
   "source": [
    "First, load the data,in this notebook we are using the second Qitta data from the paper \"Machine learning–based feature selection to search stable microbial biomarkers: application to inflammatory bowel disease\". The data has been preprocessed in R (refer to the r script in iCloud/UTK/GRA-UTK/SelectMicro/MLonMicrobiome)."
   ]
  },
  {
   "cell_type": "markdown",
   "metadata": {},
   "source": [
    "2) 637 samples: Halfvarson J, Brislawn CJ, Lamendella R, et al. Dynamics of the human gut microbiome in inflammatory bowel disease. Nat Microbiol 2017"
   ]
  },
  {
   "cell_type": "markdown",
   "metadata": {},
   "source": [
    "The result is from sbatch script (no fine tune):"
   ]
  },
  {
   "cell_type": "markdown",
   "metadata": {},
   "source": [
    "|                  | number      | Random Forest   | Accuracy       | F1             | MCC            | AUC            |\n",
    "|----------------|----------------------|--------|----------------|----------------|----------------|----------------|\n",
    "|AllFeatures    | 400  | |0.757 (0.040)| 0.750 (0.046)| 0.574 (0.079)| 0.887 (0.029)|\n",
    "| SelectMicro| 57  | |0.744 (0.048)| 0.740 (0.053)| 0.565 (0.100)| 0.889 (0.025) |\n",
    "| Lasso_finetune    |78  | | 0.757 (0.043)| 0.752 (0.048)| 0.589 (0.081)| 0.882 (0.032)|\n",
    "| FS_Lasso_finetune |   56 |  |0.730 (0.044)| 0.727 (0.048)| 0.546 (0.071)| 0.890 (0.016) |\n",
    "| SelectMicro_0.1| 65  | |0.741 (0.032)| 0.737 (0.037)| 0.563 (0.065)| 0.885 (0.023)|\n",
    "| Lasso_finetune update (lower C)   |59  | | 0.750 (0.049)| 0.747 (0.054)| 0.575 (0.094)| 0.888 (0.032) |\n",
    "| FS0.1_Lasso_finetune |   44 |  |0.722 (0.052)| 0.720 (0.054)|0.529 (0.097)| 0.884 (0.028)|\n",
    "\n",
    "\n",
    "|                  | number      | XGboost   | Accuracy       | F1             | MCC            | AUC            |\n",
    "|----------------|----------------------|--------|----------------|----------------|----------------|----------------|\n",
    "|AllFeatures    | 400  | |0.721 (0.044)| 0.719 (0.045)| 0.519 (0.071)| 0.871 (0.023) |\n",
    "| SelectMicro| 57  | |0.719 (0.046)| 0.717 (0.048)| 0.524 (0.072)| 0.878 (0.016) |\n",
    "| Lasso_finetune    |78  | |  0.708 (0.044)| 0.705 (0.047)| 0.498 (0.082)| 0.871 (0.027) |\n",
    "| FS_Lasso_finetune |   56 |  | 0.714 (0.045)| 0.712 (0.047)| 0.518 (0.072)| 0.880 (0.017)|\n",
    "| SelectMicro_0.1| 65  | |0.721 (0.034)| 0.718 (0.038)| 0.527 (0.062)| 0.873 (0.021)|\n",
    "| Lasso_finetune update (lower C)   |59  | | 0.717 (0.038)|0.715 (0.040)| 0.526 (0.070)| 0.872 (0.023)|\n",
    "| FS0.1_Lasso_finetune |   44 |  |0.722 (0.045)| 0.719 (0.047)| 0.531 (0.089)| 0.874 (0.020)|\n",
    "\n",
    "\n"
   ]
  },
  {
   "cell_type": "markdown",
   "metadata": {},
   "source": [
    "for binary classification of CD and nonIBD, the results is: \n",
    "\n",
    "Compared with Lasso, while they have the same accuracy, SelectMicro can predict more true nonIBD which has far less samples compared to CD.\n"
   ]
  },
  {
   "cell_type": "code",
   "execution_count": null,
   "metadata": {
    "metadata": {}
   },
   "outputs": [],
   "source": [
    "import sys\n",
    "sys.path.append('/lustre/isaac24/scratch/mhe8/SelectMicro_24/Code')\n",
    "import loadData \n",
    "import RunML\n",
    "import FS\n",
    "import metric\n",
    "\n",
    "import pandas as pd\n",
    "import numpy as np\n",
    "import random\n",
    "from sklearn.ensemble import RandomForestClassifier\n",
    "from sklearn.linear_model import LogisticRegression\n",
    "from sklearn import svm\n",
    "\n",
    "import scikit_posthocs as sp\n",
    "import itertools\n",
    "import os\n",
    "import seaborn as sns\n",
    "import matplotlib.pyplot as plt"
   ]
  },
  {
   "cell_type": "code",
   "execution_count": null,
   "metadata": {},
   "outputs": [],
   "source": []
  },
  {
   "cell_type": "code",
   "execution_count": null,
   "metadata": {},
   "outputs": [],
   "source": [
    "count_db1269 = pd.read_csv('../../data/species/data_filtered99/features_db1629.csv',index_col=0)"
   ]
  },
  {
   "cell_type": "code",
   "execution_count": null,
   "metadata": {},
   "outputs": [],
   "source": [
    "meta_db1269 = pd.read_csv('../../data/species/data_filtered99/meta_db1629.csv',index_col=0)\n",
    "tax_db1269 = pd.read_csv('../../data/species/data_filtered99/tax_db1629.csv',index_col=0)\n",
    "tax_db1269.index = tax_db1269.index.astype(str)"
   ]
  },
  {
   "cell_type": "code",
   "execution_count": null,
   "metadata": {
    "metadata": {}
   },
   "outputs": [],
   "source": [
    "print(count_db1269.shape)"
   ]
  },
  {
   "cell_type": "code",
   "execution_count": null,
   "metadata": {},
   "outputs": [],
   "source": [
    "# 1. abundance matrix--> relative abundance matrix\n",
    "cols_name = count_db1269.columns\n",
    "data = pd.DataFrame(FS.relative_abundance(count_db1269), columns=cols_name)"
   ]
  },
  {
   "cell_type": "code",
   "execution_count": null,
   "metadata": {},
   "outputs": [],
   "source": [
    "y = meta_db1269['ibd']"
   ]
  },
  {
   "cell_type": "code",
   "execution_count": null,
   "metadata": {},
   "outputs": [],
   "source": [
    "set(y)\n",
    "# nonIBD: Individuals without IBD (healthy controls).\n",
    "# CD: Crohn’s Disease.\n",
    "# UC: Ulcerative Colitis."
   ]
  },
  {
   "cell_type": "code",
   "execution_count": null,
   "metadata": {},
   "outputs": [],
   "source": [
    "pd.Series(y).value_counts()"
   ]
  },
  {
   "cell_type": "code",
   "execution_count": null,
   "metadata": {},
   "outputs": [],
   "source": []
  },
  {
   "cell_type": "markdown",
   "metadata": {},
   "source": [
    "Perform sigle lable feature selection, this is done by calculating Kruskal-Wallis H-test on each OTU for each environmental factor, each OTU/ASV is given a weighted h score."
   ]
  },
  {
   "cell_type": "code",
   "execution_count": null,
   "metadata": {
    "metadata": {}
   },
   "outputs": [],
   "source": [
    "# 2. calculating H score for each OTU\n",
    "selectedresult=FS.SelectMicro_fun(data,y,p_cutoff = 0.05)\n",
    "\n",
    "selectedresult.keys()"
   ]
  },
  {
   "cell_type": "code",
   "execution_count": null,
   "metadata": {},
   "outputs": [],
   "source": [
    "selectedOTU_index= selectedresult['selected_indices']\n",
    "X_FS = selectedresult['selected_df']\n"
   ]
  },
  {
   "cell_type": "code",
   "execution_count": null,
   "metadata": {
    "metadata": {}
   },
   "outputs": [],
   "source": [
    "selected_tax_FS = tax_db1269.loc[X_FS.columns,'Rank']\n",
    "print(selected_tax_FS)"
   ]
  },
  {
   "cell_type": "code",
   "execution_count": null,
   "metadata": {},
   "outputs": [],
   "source": []
  },
  {
   "cell_type": "code",
   "execution_count": null,
   "metadata": {},
   "outputs": [],
   "source": []
  },
  {
   "cell_type": "code",
   "execution_count": null,
   "metadata": {},
   "outputs": [],
   "source": []
  },
  {
   "cell_type": "code",
   "execution_count": null,
   "metadata": {},
   "outputs": [],
   "source": [
    "# Compute correlation matrix\n",
    "corr = X_FS.corr(numeric_only=True)\n",
    "\n",
    "# Plot heatmap\n",
    "plt.figure(figsize=(10, 8))\n",
    "sns.heatmap(corr, annot=False, cmap='coolwarm', fmt=\".2f\", square=True, linewidths=0.5)\n",
    "plt.title(\"Correlation Heatmap\")\n",
    "plt.tight_layout()\n",
    "plt.show()"
   ]
  },
  {
   "cell_type": "code",
   "execution_count": null,
   "metadata": {},
   "outputs": [],
   "source": []
  },
  {
   "cell_type": "code",
   "execution_count": null,
   "metadata": {},
   "outputs": [],
   "source": [
    "custom_order = ['nonIBD', 'CD', 'UC']\n",
    "custom_mapping = {category: i for i, category in enumerate(custom_order)}\n",
    "target_variable = [custom_mapping[category] for category in y]\n",
    "target_variable = np.array(target_variable)"
   ]
  },
  {
   "cell_type": "code",
   "execution_count": null,
   "metadata": {},
   "outputs": [],
   "source": []
  },
  {
   "cell_type": "code",
   "execution_count": null,
   "metadata": {},
   "outputs": [],
   "source": [
    "X_lasso_ft0,selectedOTU_index_Lasso  = RunML.LassoFS_CV(np.array(data),target_variable)\n",
    "X_lasso_ft = pd.DataFrame(X_lasso_ft0, columns=cols_name[selectedOTU_index_Lasso])\n",
    "\n",
    "X_FS_lasso_ft0,xlabel_FS_lasso_ft0  = RunML.LassoFS_CV(np.array(X_FS),target_variable)\n",
    "selectedOTU_index_FS_lasso = selectedOTU_index[xlabel_FS_lasso_ft0]\n",
    "X_FS_lasso_ft = pd.DataFrame(X_FS_lasso_ft0, columns=cols_name[selectedOTU_index_FS_lasso])\n",
    "\n",
    "data_subset = {\"AllFeatures\":data,\n",
    "               \"SelectMicro\": X_FS,\n",
    "               \"Lasso_finetune\":X_lasso_ft,\n",
    "               \"FS_Lassofinetune\":X_FS_lasso_ft\n",
    "              }"
   ]
  },
  {
   "cell_type": "code",
   "execution_count": null,
   "metadata": {},
   "outputs": [],
   "source": [
    "print(f'The shape of the original dataset is ',np.shape(data))\n",
    "print(f'The shape of the SelectMicro dataset is ',np.shape(X_FS))\n",
    "print(f'The shape of the Lasso_finetune selected dataset is ',np.shape(X_lasso_ft))\n",
    "print(f'The shape of the FS_Lasso_finetune selected dataset is ',np.shape(X_FS_lasso_ft))\n",
    "\n",
    "for datatype, subset in data_subset.items():\n",
    "            print(f\"Analysis for {datatype}\")\n",
    "            RunModel.RF_model_SCV_multi(subset, target_variable,SMOTE=True,k=5)\n"
   ]
  },
  {
   "cell_type": "code",
   "execution_count": null,
   "metadata": {},
   "outputs": [],
   "source": []
  },
  {
   "cell_type": "code",
   "execution_count": null,
   "metadata": {},
   "outputs": [],
   "source": [
    "group = pd.DataFrame({'Disease': y})\n",
    "group.index = meta_db1269.index\n",
    "group = group.loc[count_db1269.index]# align disease based on index of count matrix\n",
    "\n",
    "for datatype, subset in data_subset.items():\n",
    "    subset.index = count_db1269.index\n",
    "    metric.plot_heatmap(subset,group)"
   ]
  },
  {
   "cell_type": "code",
   "execution_count": null,
   "metadata": {},
   "outputs": [],
   "source": []
  },
  {
   "cell_type": "markdown",
   "metadata": {},
   "source": []
  },
  {
   "cell_type": "code",
   "execution_count": null,
   "metadata": {},
   "outputs": [],
   "source": [
    "for datatype, subset in data_subset.items():\n",
    "    if datatype != \"AllFeatures\":\n",
    "        print(datatype)\n",
    "        FS.plotPresenseRatio(np.array(subset),y,subset.columns,posLabel=\"nonIBD\",posText=\"nonIBD\",negText=\"IBD\")"
   ]
  },
  {
   "cell_type": "code",
   "execution_count": null,
   "metadata": {},
   "outputs": [],
   "source": []
  },
  {
   "cell_type": "code",
   "execution_count": null,
   "metadata": {},
   "outputs": [],
   "source": []
  },
  {
   "cell_type": "code",
   "execution_count": null,
   "metadata": {},
   "outputs": [],
   "source": [
    "dunn_results, summary = FS.calculate_dunn_tests_pair(\n",
    "    X_FS,\n",
    "    target_variable,\n",
    "    p_threshold=0.05\n",
    ")"
   ]
  },
  {
   "cell_type": "code",
   "execution_count": null,
   "metadata": {},
   "outputs": [],
   "source": [
    "# Set pandas to display all rows\n",
    "pd.set_option('display.max_rows', None)\n",
    "# Assuming your dataframe is named df\n",
    "print(summary)\n",
    "# Optionally, reset back to default if needed\n",
    "pd.reset_option('display.max_rows')\n",
    "\n",
    "subset = summary[summary['Group1'] == 1]['Feature'].unique()\n",
    "subset= subset.tolist()\n",
    "dunn_feature = tax_db1269.loc[tax_db1269.index.isin(subset),'Rank']\n",
    "print(dunn_feature)\n"
   ]
  },
  {
   "cell_type": "markdown",
   "metadata": {},
   "source": [
    "### plot for a feature\n",
    "\n"
   ]
  },
  {
   "cell_type": "code",
   "execution_count": null,
   "metadata": {},
   "outputs": [],
   "source": [
    "plt.figure(figsize=(6, 5))\n",
    "sns.heatmap(dunn_results[\"4426438\"].astype(float), annot=True, cmap='coolwarm', fmt=\".4f\", cbar_kws={'label': 'p-value'})\n",
    "plt.title(f\"Dunn's Test P-values: 4426438\")\n",
    "plt.tight_layout()\n",
    "#plt.savefig(os.path.join(output_diry, f\"{column}_dunn_heatmap.png\"))\n",
    "plt.show()"
   ]
  },
  {
   "cell_type": "code",
   "execution_count": null,
   "metadata": {},
   "outputs": [],
   "source": [
    "\n"
   ]
  },
  {
   "cell_type": "code",
   "execution_count": null,
   "metadata": {
    "metadata": {}
   },
   "outputs": [],
   "source": [
    "# select some of the features\n",
    "for feature in subset:\n",
    "    df_dunntest_x = X_FS[[feature]].copy()\n",
    "    df_dunntest_x['Group'] = y.values\n",
    "    plt.figure(figsize=(6, 5))\n",
    "    sns.boxplot(data=df_dunntest_x, x='Group', y=feature, hue='Group', palette='Set2', legend=False)\n",
    "    sns.stripplot(data=df_dunntest_x, x='Group', y=feature, color='black', alpha=0.3, jitter=True)\n",
    "    plt.ylabel(\"Relative abundance\")  # Replace with your desired title\n",
    "    plt.title(f\"{dunn_feature.loc[feature]}\")\n",
    "    plt.tight_layout()\n",
    "    plt.show()\n",
    "    print(summary.loc[summary['Feature']==feature,:])\n",
    "\n"
   ]
  },
  {
   "cell_type": "code",
   "execution_count": null,
   "metadata": {},
   "outputs": [],
   "source": []
  },
  {
   "cell_type": "code",
   "execution_count": null,
   "metadata": {},
   "outputs": [],
   "source": []
  },
  {
   "cell_type": "code",
   "execution_count": null,
   "metadata": {},
   "outputs": [],
   "source": []
  },
  {
   "cell_type": "code",
   "execution_count": null,
   "metadata": {},
   "outputs": [],
   "source": []
  },
  {
   "cell_type": "code",
   "execution_count": null,
   "metadata": {},
   "outputs": [],
   "source": []
  },
  {
   "cell_type": "code",
   "execution_count": null,
   "metadata": {},
   "outputs": [],
   "source": []
  },
  {
   "cell_type": "code",
   "execution_count": null,
   "metadata": {
    "metadata": {}
   },
   "outputs": [],
   "source": []
  },
  {
   "cell_type": "code",
   "execution_count": null,
   "metadata": {},
   "outputs": [],
   "source": []
  },
  {
   "cell_type": "code",
   "execution_count": null,
   "metadata": {},
   "outputs": [],
   "source": []
  },
  {
   "cell_type": "code",
   "execution_count": null,
   "metadata": {},
   "outputs": [],
   "source": []
  },
  {
   "cell_type": "code",
   "execution_count": null,
   "metadata": {},
   "outputs": [],
   "source": []
  }
 ],
 "metadata": {
  "kernelspec": {
   "display_name": "Python 3 (ipykernel)",
   "language": "python",
   "name": "python3"
  },
  "language_info": {
   "codemirror_mode": {
    "name": "ipython",
    "version": 3
   },
   "file_extension": ".py",
   "mimetype": "text/x-python",
   "name": "python",
   "nbconvert_exporter": "python",
   "pygments_lexer": "ipython3",
   "version": "3.12.7"
  }
 },
 "nbformat": 4,
 "nbformat_minor": 4
}
