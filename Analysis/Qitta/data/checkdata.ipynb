{
 "cells": [
  {
   "cell_type": "code",
   "execution_count": 2,
   "id": "5fc85adf-29da-4b40-9310-f067d9e3e2bf",
   "metadata": {},
   "outputs": [],
   "source": [
    "import numpy as np\n"
   ]
  },
  {
   "cell_type": "code",
   "execution_count": 4,
   "id": "2869f5ac-2e15-4669-804c-f2054883aaa9",
   "metadata": {},
   "outputs": [
    {
     "name": "stdout",
     "output_type": "stream",
     "text": [
      "[1. 1. 1. ... 0. 0. 0.]\n"
     ]
    },
    {
     "data": {
      "text/plain": [
       "1569"
      ]
     },
     "execution_count": 4,
     "metadata": {},
     "output_type": "execute_result"
    }
   ],
   "source": [
    "arr = np.load('total_label.npy')\n",
    "print(arr)\n",
    "len(arr)"
   ]
  },
  {
   "cell_type": "code",
   "execution_count": 5,
   "id": "61d2d36a-65a9-444a-b42e-f95520e1030e",
   "metadata": {},
   "outputs": [
    {
     "name": "stdout",
     "output_type": "stream",
     "text": [
      "[[0.00000000e+00 2.76392155e+01 1.15906388e+00 ... 0.00000000e+00\n",
      "  0.00000000e+00 6.50858946e+00]\n",
      " [0.00000000e+00 1.01775964e+01 3.11559073e-01 ... 0.00000000e+00\n",
      "  0.00000000e+00 0.00000000e+00]\n",
      " [0.00000000e+00 3.48283938e+02 4.66368386e+02 ... 0.00000000e+00\n",
      "  6.86138571e-02 1.02920786e+00]\n",
      " ...\n",
      " [0.00000000e+00 6.75603952e+02 0.00000000e+00 ... 0.00000000e+00\n",
      "  0.00000000e+00 1.59944143e-01]\n",
      " [0.00000000e+00 1.41702513e+03 0.00000000e+00 ... 0.00000000e+00\n",
      "  0.00000000e+00 0.00000000e+00]\n",
      " [0.00000000e+00 1.22953634e+03 8.10238114e-02 ... 0.00000000e+00\n",
      "  0.00000000e+00 5.51324025e-02]]\n"
     ]
    },
    {
     "data": {
      "text/plain": [
       "(1569, 220)"
      ]
     },
     "execution_count": 5,
     "metadata": {},
     "output_type": "execute_result"
    }
   ],
   "source": [
    "arr = np.load('total_features_genus.npy')\n",
    "print(arr)\n",
    "arr.shape"
   ]
  },
  {
   "cell_type": "code",
   "execution_count": 6,
   "id": "549d8a3e-754c-4e26-8a55-ea51ed0d9625",
   "metadata": {},
   "outputs": [
    {
     "name": "stdout",
     "output_type": "stream",
     "text": [
      "[[0.00000000e+00 2.73776273e+01 2.27323259e+00 ... 0.00000000e+00\n",
      "  9.88361996e-02 6.62202537e+00]\n",
      " [0.00000000e+00 9.49663099e+00 5.10571559e-01 ... 0.00000000e+00\n",
      "  0.00000000e+00 0.00000000e+00]\n",
      " [0.00000000e+00 3.47664336e+02 3.94624672e-01 ... 7.89249345e-02\n",
      "  0.00000000e+00 1.10494908e+00]\n",
      " ...\n",
      " [0.00000000e+00 0.00000000e+00 0.00000000e+00 ... 0.00000000e+00\n",
      "  0.00000000e+00 0.00000000e+00]\n",
      " [0.00000000e+00 0.00000000e+00 0.00000000e+00 ... 0.00000000e+00\n",
      "  0.00000000e+00 0.00000000e+00]\n",
      " [0.00000000e+00 0.00000000e+00 0.00000000e+00 ... 0.00000000e+00\n",
      "  0.00000000e+00 0.00000000e+00]]\n"
     ]
    },
    {
     "data": {
      "text/plain": [
       "(1569, 283)"
      ]
     },
     "execution_count": 6,
     "metadata": {},
     "output_type": "execute_result"
    }
   ],
   "source": [
    "arr = np.load('total_features_species.npy')\n",
    "print(arr)\n",
    "arr.shape"
   ]
  }
 ],
 "metadata": {
  "kernelspec": {
   "display_name": "Python 3 (ipykernel)",
   "language": "python",
   "name": "python3"
  },
  "language_info": {
   "codemirror_mode": {
    "name": "ipython",
    "version": 3
   },
   "file_extension": ".py",
   "mimetype": "text/x-python",
   "name": "python",
   "nbconvert_exporter": "python",
   "pygments_lexer": "ipython3",
   "version": "3.12.7"
  }
 },
 "nbformat": 4,
 "nbformat_minor": 5
}
